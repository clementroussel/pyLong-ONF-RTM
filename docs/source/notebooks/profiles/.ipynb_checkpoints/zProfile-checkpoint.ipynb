{
 "cells": [
  {
   "cell_type": "markdown",
   "id": "5c3fc3b5-3e21-4844-90d5-19fedb2923e4",
   "metadata": {},
   "source": [
    "# zProfile\n",
    "\n",
    "> An instance of **zProfile** class represents an altimetric longitudinal profile."
   ]
  },
  {
   "cell_type": "markdown",
   "id": "9cc570c4-921f-4feb-9dc5-331d11ecfdb9",
   "metadata": {},
   "source": [
    "## Table of contents"
   ]
  },
  {
   "cell_type": "markdown",
   "id": "d11963ad-6ac9-49ef-88ff-1650a7d70734",
   "metadata": {},
   "source": [
    "- [Import zProfile class](#Import-zProfile-class)"
   ]
  },
  {
   "cell_type": "markdown",
   "id": "544c267e-58dd-4821-97e2-53c6a5d5f2ed",
   "metadata": {},
   "source": [
    "- [Constructor](#Constructor)    "
   ]
  },
  {
   "cell_type": "markdown",
   "id": "7d3cf690-7fe9-4760-a3db-0546e2dd867c",
   "metadata": {},
   "source": [
    "- [Attributes](#Attributes)"
   ]
  },
  {
   "cell_type": "markdown",
   "id": "1046544c-64cf-42fb-a6c0-3993bb4c50fd",
   "metadata": {},
   "source": [
    "- [Methods](#Methods)\n",
    "    - [add point](#add-point)\n",
    "    - [area](#area)\n",
    "    - [copy style](#copy-style)\n",
    "    - [duplicate](#duplicate)\n",
    "    - [export](#export)\n",
    "    - [export style](#export-style)\n",
    "    - [from dbf](#from-dbf)\n",
    "    - [from shp](#from-shp)\n",
    "    - [from txt](#from-txt)\n",
    "    - [import style](#import-style)\n",
    "    - [interpolate](#interpolate)\n",
    "    - [intersect](#intersect)\n",
    "    - [length](#length)\n",
    "    - [listing](#listing)\n",
    "    - [merge](#merge)\n",
    "    - [new point](#new-point)\n",
    "    - [plot](#plot)\n",
    "    - [remove point](#remove-point)\n",
    "    - [resample](#resample)\n",
    "    - [reverse](#reverse)\n",
    "    - [scale](#scale)\n",
    "    - [simplify](#simplify)\n",
    "    - [solve](#solve)\n",
    "    - [substract](#substract)\n",
    "    - [translate](#translate)\n",
    "    - [truncate](#truncate)"
   ]
  },
  {
   "cell_type": "markdown",
   "id": "ebf33b5c-610e-431e-bce9-6e7001bd5134",
   "metadata": {},
   "source": [
    "- [Examples](#Examples)\n",
    "    - [example 1](#example-1)"
   ]
  },
  {
   "cell_type": "markdown",
   "id": "f566752d-d5ef-45b4-8a50-b39a635209a6",
   "metadata": {},
   "source": [
    "## Import zProfile class"
   ]
  },
  {
   "cell_type": "code",
   "execution_count": 1,
   "id": "ebba653e-7e8b-4dde-9e60-3953ad4363c6",
   "metadata": {},
   "outputs": [
    {
     "name": "stdout",
     "output_type": "stream",
     "text": [
      "SQLalchemy is not installed. No support for SQL output.\n"
     ]
    }
   ],
   "source": [
    "from pyLong.profiles.zprofile import zProfile"
   ]
  },
  {
   "cell_type": "markdown",
   "id": "9bd0df0b-6bec-4e9d-8a3c-357308f1cc95",
   "metadata": {},
   "source": [
    "## Constructor"
   ]
  },
  {
   "cell_type": "code",
   "execution_count": 2,
   "id": "4d0944b5-7228-4078-92e4-89fdc661ce9e",
   "metadata": {},
   "outputs": [],
   "source": [
    "zprofile = zProfile()"
   ]
  },
  {
   "cell_type": "markdown",
   "id": "5b9e0250-53c3-4299-a518-f6c9bcd4f81a",
   "metadata": {},
   "source": [
    "## Attributes"
   ]
  },
  {
   "cell_type": "markdown",
   "id": "4a0fe67b-b8af-431a-9c32-ab162b88558a",
   "metadata": {},
   "source": [
    "| attribute        |  type      | setter | comment |\n",
    "| :---             | :----:     | :----: | :----   |\n",
    "| `name`           | `str`      | yes    |         |\n",
    "| `label`          | `str`      | yes    |         |\n",
    "| `xz`             | `list`     | yes    |         |\n",
    "| `line_style`     | `str`      | yes    |         |\n",
    "| `line_color`     | `str`      | yes    |         |\n",
    "| `line_thickness` | `float`    | yes    | must be positive |\n",
    "| `marker_style`   | `str`      | yes    |         |\n",
    "| `marker_color`   | `str`      | yes    |         |\n",
    "| `marker_size`    | `float`    | yes    | must be positive |\n",
    "| `opacity`        | `float` | yes    | must be between 0 and 1 |\n",
    "| `order`          | `int`   | yes    | must be positive |\n",
    "| `visible`        | `bool`  | yes    |         |"
   ]
  },
  {
   "cell_type": "markdown",
   "id": "82d85f5e-554c-4c44-a489-25c328fd85ba",
   "metadata": {},
   "source": [
    "## Methods"
   ]
  },
  {
   "cell_type": "markdown",
   "id": "7be60690-a82b-4b1a-8cf5-ef97032bf13e",
   "metadata": {
    "tags": []
   },
   "source": [
    "### add point\n",
    "```python\n",
    "zProfile.add_point(self, point)\n",
    "```"
   ]
  },
  {
   "cell_type": "code",
   "execution_count": 3,
   "id": "d531caaa-975b-45df-8489-b7e02a0eae6e",
   "metadata": {},
   "outputs": [
    {
     "name": "stdout",
     "output_type": "stream",
     "text": [
      "Help on function add_point in module pyLong.profiles.zprofile:\n",
      "\n",
      "add_point(self, point)\n",
      "    add a point\n",
      "    \n",
      "    arguments:\n",
      "    - point: (x, z) - tuple\n",
      "        - x: distance (m) - int | float\n",
      "        - z: altitude (m) - int | float\n",
      "    \n",
      "    returns:\n",
      "    - True if success\n",
      "    - False else\n",
      "    \n",
      "    examples:\n",
      "    >>> zprofile.add_point((550., 1100.))\n",
      "\n"
     ]
    }
   ],
   "source": [
    "help(zProfile.add_point)"
   ]
  },
  {
   "cell_type": "markdown",
   "id": "29cb3996-bfa1-4152-a723-6afba8c249d3",
   "metadata": {},
   "source": [
    "### area\n",
    "```python\n",
    "zProfile.area(self, kind=\"below\")\n",
    "```"
   ]
  },
  {
   "cell_type": "code",
   "execution_count": 4,
   "id": "6c06ed44-c5a0-493a-9a98-87c5b90d50ed",
   "metadata": {},
   "outputs": [
    {
     "name": "stdout",
     "output_type": "stream",
     "text": [
      "Help on function area in module pyLong.profiles.zprofile:\n",
      "\n",
      "area(self, kind='below')\n",
      "    calculate the area below or above the profile\n",
      "    \n",
      "    arguments:\n",
      "    - kind: \"below\" | \"above\" - str\n",
      "    \n",
      "    returns:\n",
      "    - area: area (m2) - float\n",
      "    or\n",
      "    - None - NoneType\n",
      "    \n",
      "    examples:\n",
      "    >>> area = zprofile.area()\n",
      "    >>> area = zprofile.area(kind=\"above\")\n",
      "\n"
     ]
    }
   ],
   "source": [
    "help(zProfile.area)"
   ]
  },
  {
   "cell_type": "markdown",
   "id": "4e66107e-7408-441a-bbf9-ab7d1c6966a4",
   "metadata": {},
   "source": [
    "### copy style\n",
    "```python\n",
    "zProfile.copy_style(self, zprofile)\n",
    "```"
   ]
  },
  {
   "cell_type": "code",
   "execution_count": 5,
   "id": "de086fee-082b-4a86-a147-9fcabe31336e",
   "metadata": {
    "tags": []
   },
   "outputs": [
    {
     "name": "stdout",
     "output_type": "stream",
     "text": [
      "Help on function copy_style in module pyLong.profiles.zprofile:\n",
      "\n",
      "copy_style(self, zprofile)\n",
      "    copy the style of a profile\n",
      "    \n",
      "    arguments:\n",
      "    - zprofile: profile whose style is to be copied - zProfile\n",
      "    \n",
      "    returns:\n",
      "    - True if success - bool\n",
      "    - False else - bool\n",
      "    \n",
      "    examples:\n",
      "    >>> new_zprofile.copy_style(zprofile)\n",
      "\n"
     ]
    }
   ],
   "source": [
    "help(zProfile.copy_style)"
   ]
  },
  {
   "cell_type": "markdown",
   "id": "dd7249cd-20cb-4a49-b726-b4785f4301c5",
   "metadata": {
    "tags": []
   },
   "source": [
    "### duplicate\n",
    "```python\n",
    "zProfile.duplicate(self)\n",
    "```"
   ]
  },
  {
   "cell_type": "code",
   "execution_count": 6,
   "id": "adc835e3-e297-48ae-8637-00b19395bcaf",
   "metadata": {
    "tags": []
   },
   "outputs": [
    {
     "name": "stdout",
     "output_type": "stream",
     "text": [
      "Help on function duplicate in module pyLong.profiles.zprofile:\n",
      "\n",
      "duplicate(self)\n",
      "    duplicate the profile\n",
      "    \n",
      "    returns:\n",
      "    - new_zprofile: duplicated profile - zProfile\n",
      "    \n",
      "    examples:\n",
      "    >>> new_zprofile = zprofile.duplicate()\n",
      "\n"
     ]
    }
   ],
   "source": [
    "help(zProfile.duplicate)"
   ]
  },
  {
   "cell_type": "markdown",
   "id": "0332c330-814b-4904-b801-438eb98acbf9",
   "metadata": {},
   "source": [
    "### export\n",
    "```python\n",
    "zProfile.export(self, filename, delimiter=\"\\t\", separator=\".\", decimals=3, reverse=False, header=[\"X\", \"Z\"])\n",
    "```"
   ]
  },
  {
   "cell_type": "code",
   "execution_count": 7,
   "id": "f5811310-63ef-4e64-81c7-c618f8abb159",
   "metadata": {},
   "outputs": [
    {
     "name": "stdout",
     "output_type": "stream",
     "text": [
      "Help on function export in module pyLong.profiles.zprofile:\n",
      "\n",
      "export(self, filename, delimiter='\\t', separator='.', decimals=3, reverse=False, header=['X', 'Z'])\n",
      "    export profile points\n",
      "    \n",
      "    arguments:\n",
      "    - filename: file path - str\n",
      "    - delimiter: columns delimiter \"\\t\" | \" \" | \";\" | \",\" - str\n",
      "    - separator: decimal separator \".\" | \";\" - str\n",
      "    - decimals: number of decimals to export - int\n",
      "    - reverse: if True, export from end to start - bool\n",
      "    - header: header, empty list for no header - list of str\n",
      "    \n",
      "    returns:\n",
      "    - True if success - bool\n",
      "    - False else - bool\n",
      "    \n",
      "    examples:\n",
      "    >>> zprofile.export(\"profile.txt\")\n",
      "    >>> zprofile.export(\"profile.txt\", delimiter=\";\", separator=\".\", decimals=2, header=[])\n",
      "\n"
     ]
    }
   ],
   "source": [
    "help(zProfile.export)"
   ]
  },
  {
   "cell_type": "markdown",
   "id": "9d786456-421a-45b7-9641-ff5dde230aab",
   "metadata": {
    "tags": []
   },
   "source": [
    "### export style\n",
    "```python\n",
    "zProfile.export_style(self, filename)\n",
    "```"
   ]
  },
  {
   "cell_type": "code",
   "execution_count": 8,
   "id": "a43d370a-b0fa-4c8b-8a43-c7f02ff6afab",
   "metadata": {},
   "outputs": [
    {
     "name": "stdout",
     "output_type": "stream",
     "text": [
      "Help on function export_style in module pyLong.profiles.zprofile:\n",
      "\n",
      "export_style(self, filename)\n",
      "    export profile style to a .json file\n",
      "    \n",
      "    arguments:\n",
      "    - filename: .json file path - str\n",
      "    \n",
      "    returns:\n",
      "    - True if success - bool\n",
      "    - False else - bool\n",
      "    \n",
      "    examples:\n",
      "    >>> zprofile.export_style(\"style.json\")\n",
      "\n"
     ]
    }
   ],
   "source": [
    "help(zProfile.export_style)"
   ]
  },
  {
   "cell_type": "markdown",
   "id": "e1b3c272-a3a9-4d4a-be08-d466c1be02ba",
   "metadata": {},
   "source": [
    "### from dbf\n",
    "```python\n",
    "zProfile.from_dbf(self, filename, x_field=\"dist\", z_field=\"Z\")\n",
    "```"
   ]
  },
  {
   "cell_type": "code",
   "execution_count": 9,
   "id": "99e277a1-c7a2-4f55-b0b1-2773a472caec",
   "metadata": {},
   "outputs": [
    {
     "name": "stdout",
     "output_type": "stream",
     "text": [
      "Help on function from_dbf in module pyLong.profiles.zprofile:\n",
      "\n",
      "from_dbf(self, filename, x_field='dist', z_field='Z')\n",
      "    import points from a .dbf file\n",
      "    \n",
      "    arguments:\n",
      "    - filename: .dbf file path - str\n",
      "    - x_field: distance field name - str\n",
      "    - z_field: altitude field name - str\n",
      "    \n",
      "    returns:\n",
      "    - True if success - bool\n",
      "    - False else - bool\n",
      "    \n",
      "    examples:\n",
      "    >>> zprofile.from_dbf(\"profile.dbf\")\n",
      "    >>> zprofile.from_dbf(\"profile.dbf\", x_field=\"X\", z_field=\"Z\")\n",
      "\n"
     ]
    }
   ],
   "source": [
    "help(zProfile.from_dbf)"
   ]
  },
  {
   "cell_type": "markdown",
   "id": "e4f0ea5b-54e6-4dae-b8f5-05f0c07c276d",
   "metadata": {},
   "source": [
    "### from shp\n",
    "```python\n",
    "zProfile.from_shp(self, filename)\n",
    "```"
   ]
  },
  {
   "cell_type": "code",
   "execution_count": 10,
   "id": "bc1566dd-7cba-4ca0-9e9a-2a463f54854c",
   "metadata": {},
   "outputs": [
    {
     "name": "stdout",
     "output_type": "stream",
     "text": [
      "Help on function from_shp in module pyLong.profiles.zprofile:\n",
      "\n",
      "from_shp(self, filename)\n",
      "    import points from a .shp file\n",
      "    \n",
      "    arguments:\n",
      "    - filename: .shp file path - str\n",
      "    \n",
      "    returns:\n",
      "    - True if success - bool\n",
      "    - False else - bool\n",
      "    \n",
      "    examples:\n",
      "    >>> zprofile.from_shp(\"profile.shp\")\n",
      "\n"
     ]
    }
   ],
   "source": [
    "help(zProfile.from_shp)"
   ]
  },
  {
   "cell_type": "markdown",
   "id": "8ad47cf5-637d-403a-9141-1dea3a410db9",
   "metadata": {},
   "source": [
    "### from txt\n",
    "```python\n",
    "zProfile.from_txt(self, filename, x_field=\"X\", z_field=\"Z\", delimiter=\"\\t\", decimal=\".\")\n",
    "```"
   ]
  },
  {
   "cell_type": "code",
   "execution_count": 11,
   "id": "903140a5-6996-441b-9944-3983385e77d4",
   "metadata": {},
   "outputs": [
    {
     "name": "stdout",
     "output_type": "stream",
     "text": [
      "Help on function from_txt in module pyLong.profiles.zprofile:\n",
      "\n",
      "from_txt(self, filename, x_field='X', z_field='Z', delimiter='\\t', decimal='.')\n",
      "    import points from a .txt file\n",
      "    \n",
      "    arguments:\n",
      "    - filename: .txt file path - str\n",
      "    - x_field: distance field name - str\n",
      "    - z_field: altitude field name - str\n",
      "    - delimiter: column delimiter \"\\t\" | \" \" | \";\" | \",\" - str\n",
      "    - decimal: decimal separator \".\" |\",\" - str\n",
      "    \n",
      "    returns:\n",
      "    - True if success - bool\n",
      "    - False else - bool\n",
      "    \n",
      "    examples:\n",
      "    >>> zprofile.from_txt(\"profile.txt\")\n",
      "    >>> zprofile.from_txt(\"profile.txt\", x_field=\"dist\", z_field=\"altitude\", delimiter=\";\", decimal=\",\")\n",
      "\n"
     ]
    }
   ],
   "source": [
    "help(zProfile.from_txt)"
   ]
  },
  {
   "cell_type": "markdown",
   "id": "0d15365e-cbc8-4989-aad0-c43820103ab7",
   "metadata": {},
   "source": [
    "### import style\n",
    "```python\n",
    "zProfile.import_style(filename)\n",
    "```"
   ]
  },
  {
   "cell_type": "code",
   "execution_count": 12,
   "id": "670adc43-86a2-42e5-bf41-4f90d0314582",
   "metadata": {},
   "outputs": [
    {
     "name": "stdout",
     "output_type": "stream",
     "text": [
      "Help on function import_style in module pyLong.profiles.zprofile:\n",
      "\n",
      "import_style(self, filename)\n",
      "    import profile style from a .json file\n",
      "    \n",
      "    arguments:\n",
      "    - filename: .json file path - str\n",
      "    \n",
      "    returns:\n",
      "    - True if success - bool\n",
      "    - False else - bool\n",
      "    \n",
      "    examples:\n",
      "    >>> zprofile.import_style(\"style.json\")\n",
      "\n"
     ]
    }
   ],
   "source": [
    "help(zProfile.import_style)"
   ]
  },
  {
   "cell_type": "markdown",
   "id": "2f5fe579-ab46-4f92-9e79-5855c9fa1594",
   "metadata": {
    "tags": []
   },
   "source": [
    "### interpolate\n",
    "```python\n",
    "zProfile.interpolate(self, x)\n",
    "```"
   ]
  },
  {
   "cell_type": "code",
   "execution_count": 13,
   "id": "1da97278-4973-4bbe-afdd-3b22ff50841a",
   "metadata": {},
   "outputs": [
    {
     "name": "stdout",
     "output_type": "stream",
     "text": [
      "Help on function interpolate in module pyLong.profiles.zprofile:\n",
      "\n",
      "interpolate(self, x)\n",
      "    interpolate the profile\n",
      "    \n",
      "    arguments:\n",
      "    - x: distance (m) - int | float\n",
      "    \n",
      "    returns:\n",
      "    - z: interpolated altitude (m) - float\n",
      "    or\n",
      "    - None - NoneType\n",
      "    \n",
      "    examples:\n",
      "    >>> z = zprofile.interpolate(x=150.)\n",
      "\n"
     ]
    }
   ],
   "source": [
    "help(zProfile.interpolate)"
   ]
  },
  {
   "cell_type": "markdown",
   "id": "f71c97e9-b90e-4d5b-8b1a-e7dfc862ca1b",
   "metadata": {},
   "source": [
    "### intersect\n",
    "```python\n",
    "zProfile.intersect(self, zprofile)\n",
    "```"
   ]
  },
  {
   "cell_type": "code",
   "execution_count": 14,
   "id": "11d7fb43-d19c-49d2-87da-e9b7f46b34c7",
   "metadata": {},
   "outputs": [
    {
     "name": "stdout",
     "output_type": "stream",
     "text": [
      "Help on function intersect in module pyLong.profiles.zprofile:\n",
      "\n",
      "intersect(self, zprofile)\n",
      "    calculate the intersections with another profile\n",
      "    \n",
      "    arguments:\n",
      "    - zprofile: profile - zProfile\n",
      "    \n",
      "    returns:\n",
      "    - intersections: intersections - list\n",
      "    or\n",
      "    - None - NoneType\n",
      "    \n",
      "    examples:\n",
      "    >>> intersections = zprofile.intersect(new_zprofile)\n",
      "\n"
     ]
    }
   ],
   "source": [
    "help(zProfile.intersect)"
   ]
  },
  {
   "cell_type": "markdown",
   "id": "2dd82553-d25a-48ca-8ad4-e35048728b8f",
   "metadata": {
    "tags": []
   },
   "source": [
    "### length\n",
    "```python\n",
    "zProfile.length(self, dim=\"2D\")\n",
    "```"
   ]
  },
  {
   "cell_type": "code",
   "execution_count": 15,
   "id": "75bdcfe1-efdb-4880-b013-0106421a2287",
   "metadata": {},
   "outputs": [
    {
     "name": "stdout",
     "output_type": "stream",
     "text": [
      "Help on function length in module pyLong.profiles.zprofile:\n",
      "\n",
      "length(self, dim='2D')\n",
      "    calculate the profile length\n",
      "    \n",
      "    arguments:\n",
      "    - dim: \"2D\" for plan length or \"3D\" for actual length - str\n",
      "    \n",
      "    returns:\n",
      "    - plan length (m) - float\n",
      "    or\n",
      "    - actual length (m) - float\n",
      "    or\n",
      "    - None - NoneType\n",
      "    \n",
      "    examples:\n",
      "    >>> length_2d = zprofile.length()\n",
      "    >>> length_3d = zprofile.length(dim=\"3D\")\n",
      "\n"
     ]
    }
   ],
   "source": [
    "help(zProfile.length)"
   ]
  },
  {
   "cell_type": "markdown",
   "id": "027d68c3-91b8-4f02-9197-ba51ba3bee39",
   "metadata": {
    "tags": []
   },
   "source": [
    "### listing\n",
    "```python\n",
    "zProfile.listing(self, decimals=3)\n",
    "```"
   ]
  },
  {
   "cell_type": "code",
   "execution_count": 16,
   "id": "e75925e4-6f4a-423d-85f1-ad6cddd7bb92",
   "metadata": {},
   "outputs": [
    {
     "name": "stdout",
     "output_type": "stream",
     "text": [
      "Help on function listing in module pyLong.profiles.zprofile:\n",
      "\n",
      "listing(self, decimals=3)\n",
      "    print the list of points\n",
      "    \n",
      "    arguments:\n",
      "    - decimals: number of decimals to print - int\n",
      "    \n",
      "    returns:\n",
      "    - None - NoneType\n",
      "    \n",
      "    examples:\n",
      "    >>> zprofile.listing()\n",
      "    >>> zprofile.listing(decimals=2)\n",
      "\n"
     ]
    }
   ],
   "source": [
    "help(zProfile.listing)"
   ]
  },
  {
   "cell_type": "markdown",
   "id": "2f6e5661-9427-4e16-81d9-e8578b9b8f2a",
   "metadata": {},
   "source": [
    "### merge\n",
    "```python\n",
    "zProfile.__add__(self, zprofile)\n",
    "```"
   ]
  },
  {
   "cell_type": "code",
   "execution_count": 17,
   "id": "881b3eaf-ef4a-4446-b7ce-543e29f987fd",
   "metadata": {},
   "outputs": [
    {
     "name": "stdout",
     "output_type": "stream",
     "text": [
      "Help on function __add__ in module pyLong.profiles.zprofile:\n",
      "\n",
      "__add__(self, zprofile)\n",
      "    merge two profiles\n",
      "    \n",
      "    examples:\n",
      "    >>> zprofile = zprofile_1 + zprofile_2\n",
      "    \n",
      "    returns:\n",
      "    - zprofile: merged profile - zProfile\n",
      "    or\n",
      "    - None - NoneType\n",
      "\n"
     ]
    }
   ],
   "source": [
    "help(zProfile.__add__)"
   ]
  },
  {
   "cell_type": "markdown",
   "id": "c03243cf-76dc-4c09-8c68-99070e487c6b",
   "metadata": {
    "tags": []
   },
   "source": [
    "### new point\n",
    "```python\n",
    "zProfile.new_point(i, method, **kwargs)\n",
    "```"
   ]
  },
  {
   "cell_type": "code",
   "execution_count": 18,
   "id": "2660cf69-c666-448f-8f18-6ebc9373288f",
   "metadata": {},
   "outputs": [
    {
     "name": "stdout",
     "output_type": "stream",
     "text": [
      "Help on function new_point in module pyLong.profiles.zprofile:\n",
      "\n",
      "new_point(self, i, method, **kwargs)\n",
      "    calculate a new point\n",
      "    \n",
      "    arguments:\n",
      "    - i: index of the reference point from which the new one will be determined - int\n",
      "    - method: \"dX + dZ\" | \"slope + X\" | \"slope + dX\" | \"slope + Z\" | \"slope + dZ\" - str\n",
      "    - X: distance (m) - int | float\n",
      "    - Z: altitude (m) - int | float\n",
      "    - dX: signed distance variation (m) - int | float\n",
      "    - dZ: signed altitude variation (m) - int | float\n",
      "    - slope: signed slope in the counterclockwise direction - int | float\n",
      "    - slope_unit: slope unit \"radian\" | \"degree\" | \"percent\" - str\n",
      "    \n",
      "    returns:\n",
      "    - x, z: distance, altitude of the new point - int | float, int | float\n",
      "    or\n",
      "    - None, None - NoneType, NoneType\n",
      "    \n",
      "    examples:\n",
      "    >>> x, z = zprofile.new_point(i=2, method=\"dX + dZ\", dX=5, dZ=10)\n",
      "    >>> x, z = zprofile.new_point(i=1, method=\"slope + X\", X=150, slope=45, slope_unit=\"degree\")\n",
      "    >>> x, z = zprofile.new_point(i=1, method=\"slope + dZ\", dZ=10, slope=100, slope_unit=\"percent\")\n",
      "\n"
     ]
    }
   ],
   "source": [
    "help(zProfile.new_point)"
   ]
  },
  {
   "cell_type": "markdown",
   "id": "837860e2-c117-493a-99c5-65b3ac19f488",
   "metadata": {},
   "source": [
    "### plot\n",
    "```python\n",
    "zProfile.plot(self, ax)\n",
    "```"
   ]
  },
  {
   "cell_type": "code",
   "execution_count": 19,
   "id": "df440120-86a4-46e0-a2c0-80175efe79a4",
   "metadata": {},
   "outputs": [
    {
     "name": "stdout",
     "output_type": "stream",
     "text": [
      "Help on function plot in module pyLong.profiles.zprofile:\n",
      "\n",
      "plot(self, ax)\n",
      "    plot profile on a matplotlib subplot\n",
      "    \n",
      "    arguments:\n",
      "    - ax: matplotlib subplot - matplotlib.axes._subplots.AxesSubplot\n",
      "    \n",
      "    returns:\n",
      "    - None - NoneType\n",
      "    \n",
      "    examples:\n",
      "    >>> from matplotlib import pyplot as plt\n",
      "    >>> fig, ax = plt.subplots()\n",
      "    >>> zprofile.plot(ax)\n",
      "    >>> plt.show()\n",
      "\n"
     ]
    }
   ],
   "source": [
    "help(zProfile.plot)"
   ]
  },
  {
   "cell_type": "markdown",
   "id": "747aa359-388c-4df8-8c3a-808c18e89819",
   "metadata": {
    "tags": []
   },
   "source": [
    "### remove point\n",
    "```python\n",
    "zProfile.remove_point(self, i)\n",
    "```"
   ]
  },
  {
   "cell_type": "code",
   "execution_count": 20,
   "id": "3b3893d4-22a3-40f9-9dd4-f70864da1278",
   "metadata": {},
   "outputs": [
    {
     "name": "stdout",
     "output_type": "stream",
     "text": [
      "Help on function remove_point in module pyLong.profiles.zprofile:\n",
      "\n",
      "remove_point(self, i)\n",
      "    remove point i\n",
      "    \n",
      "    arguments:\n",
      "    - i: index of point to remove - int\n",
      "    \n",
      "    returns:\n",
      "    - True if success\n",
      "    - False else\n",
      "    \n",
      "    examples:\n",
      "    >>> zprofile.remove_point(1)\n",
      "\n"
     ]
    }
   ],
   "source": [
    "help(zProfile.remove_point)"
   ]
  },
  {
   "cell_type": "markdown",
   "id": "87bbe17c-6b5f-4995-b213-21b2533ad36f",
   "metadata": {
    "tags": []
   },
   "source": [
    "### resample\n",
    "```python\n",
    "zProfile.resample(self, d)\n",
    "```"
   ]
  },
  {
   "cell_type": "code",
   "execution_count": 21,
   "id": "08fdabbf-23cf-44c7-a1d1-bcf561c93c8f",
   "metadata": {},
   "outputs": [
    {
     "name": "stdout",
     "output_type": "stream",
     "text": [
      "Help on function resample in module pyLong.profiles.zprofile:\n",
      "\n",
      "resample(self, d)\n",
      "    resample the profile\n",
      "    \n",
      "    arguments:\n",
      "    - d: distance (m) - int | float\n",
      "    \n",
      "    returns:\n",
      "    - new_zprofile: resampled profile - zProfile\n",
      "    or\n",
      "    - None - NoneType\n",
      "    \n",
      "    examples:\n",
      "    >>> new_zprofile = zprofile.resample(d=10.)\n",
      "\n"
     ]
    }
   ],
   "source": [
    "help(zProfile.resample)"
   ]
  },
  {
   "cell_type": "markdown",
   "id": "8d381bd9-7cc4-4eba-a21e-cfe8ddb53783",
   "metadata": {
    "tags": []
   },
   "source": [
    "### reverse\n",
    "```python\n",
    "zProfile.reverse(self, zprofile)\n",
    "```"
   ]
  },
  {
   "cell_type": "code",
   "execution_count": 22,
   "id": "e3a73245-198a-42f7-b0d1-ba4b22f62858",
   "metadata": {},
   "outputs": [
    {
     "name": "stdout",
     "output_type": "stream",
     "text": [
      "Help on function reverse in module pyLong.profiles.zprofile:\n",
      "\n",
      "reverse(self, zprofile)\n",
      "    reverse the profile according to a reference profile\n",
      "    \n",
      "    arguments:\n",
      "    - zprofile: reference profile to perform the reversing - zProfile\n",
      "    \n",
      "    returns:\n",
      "    - new_zprofile: reversed profile - zProfile\n",
      "    or\n",
      "    - None - NoneType\n",
      "    \n",
      "    examples:\n",
      "    >>> new_zprofile = zprofile.reverse(zprofile)\n",
      "\n"
     ]
    }
   ],
   "source": [
    "help(zProfile.reverse)"
   ]
  },
  {
   "cell_type": "markdown",
   "id": "30a88e1a-d603-4ac9-886d-78df9f581106",
   "metadata": {},
   "source": [
    "### scale\n",
    "```python\n",
    "zProfile.scale(self, Lx=1., Lz=1.)\n",
    "```"
   ]
  },
  {
   "cell_type": "code",
   "execution_count": 23,
   "id": "173f2d0e-d452-47fd-be16-0b9866af38d3",
   "metadata": {},
   "outputs": [
    {
     "name": "stdout",
     "output_type": "stream",
     "text": [
      "Help on function scale in module pyLong.profiles.zprofile:\n",
      "\n",
      "scale(self, Lx=1.0, Lz=1.0)\n",
      "    scale the profile along X- and/or Z-axis\n",
      "    \n",
      "    arguments:\n",
      "    - Lx: scale factor - int | float\n",
      "    - Lz: scale factor - int | float\n",
      "    \n",
      "    returns:\n",
      "    - new_zprofile: scaled profile - zProfile\n",
      "    or\n",
      "    - None - NoneType\n",
      "    \n",
      "    examples:\n",
      "    >>> new_zprofile = zprofile.scale(Lz=2.)\n",
      "    >>> new_zprofile = zprofile.scale(Lx=0.995, Lz=1.005)\n",
      "\n"
     ]
    }
   ],
   "source": [
    "help(zProfile.scale)"
   ]
  },
  {
   "cell_type": "markdown",
   "id": "241c0013-fd0d-4b28-b798-90f393fc82db",
   "metadata": {},
   "source": [
    "### simplify\n",
    "```python\n",
    "zProfile.simplify(self, **kwargs)\n",
    "```"
   ]
  },
  {
   "cell_type": "code",
   "execution_count": 24,
   "id": "798eb903-4c2b-4505-a634-2f27a4fbb51c",
   "metadata": {},
   "outputs": [
    {
     "name": "stdout",
     "output_type": "stream",
     "text": [
      "Help on function simplify in module pyLong.profiles.zprofile:\n",
      "\n",
      "simplify(self, **kwargs)\n",
      "    simplify the profile geometry\n",
      "    \n",
      "    arguments:\n",
      "    - method: \"vw\" | \"rdp\" - str\n",
      "    - if method=\"vw\":\n",
      "        - ratio: percentage of points to keep - int | float\n",
      "        or\n",
      "        - number: number of points to keep - int\n",
      "        or\n",
      "        - threshold: threshold area to be respected - int | float\n",
      "    - if method=\"rdp\":\n",
      "        - epsilon: threshold value - int | float\n",
      "        and\n",
      "        - algo: \"iter\" | \"rec\" - str\n",
      "    \n",
      "    returns:\n",
      "    - xz, stats - simplified points, statistics - list, dict\n",
      "    or\n",
      "    - None, None - NoneType, NoneType\n",
      "    \n",
      "    examples:\n",
      "    >>> xz, stats = zprofile.simplify(method=\"vw\", ratio=0.5)\n",
      "    >>> xz, stats = zprofile.simplify(method=\"rdp\", epsilon=1., algo=\"iter\")\n",
      "    \n",
      "    references:\n",
      "    - VisvalingamWyatt algorithm: https://pypi.org/project/visvalingamwyatt/\n",
      "    - Ramer-Douglas-Peucker algorithm: https://rdp.readthedocs.io/en/latest/\n",
      "\n"
     ]
    }
   ],
   "source": [
    "help(zProfile.simplify)"
   ]
  },
  {
   "cell_type": "markdown",
   "id": "996f8b60-5366-415c-a037-e6d335561c38",
   "metadata": {},
   "source": [
    "### solve\n",
    "```python\n",
    "zProfile.solve(self, z, x0)\n",
    "```"
   ]
  },
  {
   "cell_type": "code",
   "execution_count": 25,
   "id": "cd32a3a7-b147-4b3a-a21a-1ae75cc96d72",
   "metadata": {
    "tags": []
   },
   "outputs": [
    {
     "name": "stdout",
     "output_type": "stream",
     "text": [
      "Help on function solve in module pyLong.profiles.zprofile:\n",
      "\n",
      "solve(self, z, x0)\n",
      "    try to find the distance x associated to the altitude z\n",
      "    \n",
      "    arguments:\n",
      "    - z: altitude (m) - int | float\n",
      "    - x0: initial distance guess (m) - int | float\n",
      "    \n",
      "    returns:\n",
      "    - x: distance (m) - int | float\n",
      "    or\n",
      "    - None - NoneType\n",
      "    \n",
      "    examples:\n",
      "    >>> zprofile.solve(1050, 525)\n",
      "\n"
     ]
    }
   ],
   "source": [
    "help(zProfile.solve)"
   ]
  },
  {
   "cell_type": "markdown",
   "id": "15047614-30bf-4632-bd4c-6345e17e0406",
   "metadata": {},
   "source": [
    "### substract\n",
    "```python\n",
    "zProfile.__sub__(self, zprofile)\n",
    "```"
   ]
  },
  {
   "cell_type": "code",
   "execution_count": 26,
   "id": "29f46860-55f2-4427-af03-deaf5c271254",
   "metadata": {},
   "outputs": [
    {
     "name": "stdout",
     "output_type": "stream",
     "text": [
      "Help on function __sub__ in module pyLong.profiles.zprofile:\n",
      "\n",
      "__sub__(self, zprofile)\n",
      "    substract two profiles\n",
      "    \n",
      "    examples:\n",
      "    >>> differences = zprofile_1 - zprofile_2\n",
      "    \n",
      "    returns:\n",
      "    - differences: signed differences - list\n",
      "    or\n",
      "    - None - NoneType\n",
      "\n"
     ]
    }
   ],
   "source": [
    "help(zProfile.__sub__)"
   ]
  },
  {
   "cell_type": "markdown",
   "id": "0e0576b6-1b54-4981-b65b-2a67b46a7db4",
   "metadata": {
    "tags": []
   },
   "source": [
    "### translate\n",
    "```python\n",
    "zProfile.translate(self, dx=0., dz=0.)\n",
    "```"
   ]
  },
  {
   "cell_type": "code",
   "execution_count": 27,
   "id": "a56c5775-faec-4505-9a74-4387af37da75",
   "metadata": {},
   "outputs": [
    {
     "name": "stdout",
     "output_type": "stream",
     "text": [
      "Help on function translate in module pyLong.profiles.zprofile:\n",
      "\n",
      "translate(self, dx=0.0, dz=0.0)\n",
      "    translate the profile along X- and/or Z-axis\n",
      "    \n",
      "    arguments:\n",
      "    - dx: distance (m) - int | float\n",
      "    - dz: distance (m) - int | float\n",
      "    \n",
      "    returns:\n",
      "    - new_zprofile: translated profile - zProfile\n",
      "    or\n",
      "    - None - NoneType\n",
      "    \n",
      "    examples:\n",
      "    >>> new_zprofile = zprofile.translate(dx=100.)\n",
      "    >>> new_zprofile = zprofile.translate(dz=50.)\n",
      "    >>> new_zprofile = zprofile.translate(dx=20., dz=-10.)\n",
      "\n"
     ]
    }
   ],
   "source": [
    "help(zProfile.translate)"
   ]
  },
  {
   "cell_type": "markdown",
   "id": "90c04d24-c66b-48fb-ae21-69a58055617c",
   "metadata": {
    "tags": []
   },
   "source": [
    "### truncate\n",
    "```python\n",
    "zProfile.truncate(self, **kwargs)\n",
    "```"
   ]
  },
  {
   "cell_type": "code",
   "execution_count": 28,
   "id": "6d46b60f-e58b-41d6-9672-6346b794aa00",
   "metadata": {},
   "outputs": [
    {
     "name": "stdout",
     "output_type": "stream",
     "text": [
      "Help on function truncate in module pyLong.profiles.zprofile:\n",
      "\n",
      "truncate(self, **kwargs)\n",
      "    truncate the profile\n",
      "    \n",
      "    arguments:\n",
      "    - indexes = (i_start, i_end) - tuple\n",
      "        - i_start: start index - int\n",
      "        - i_end: end index - int\n",
      "    or\n",
      "    - distances = (x_start, x_end) - tuple\n",
      "        - x_start: start distance - int | float\n",
      "        - x_end: end distance - int | float\n",
      "    \n",
      "    returns:\n",
      "    - new_zprofile: truncated profile - zProfile\n",
      "    or\n",
      "    - None - NoneType\n",
      "    \n",
      "    examples:\n",
      "    >>> new_zprofile = zprofile.truncate(indexes=(10, 20))\n",
      "    >>> new_zprofile = zprofile.truncate(distances=(50., 1000.))\n",
      "\n"
     ]
    }
   ],
   "source": [
    "help(zProfile.truncate)"
   ]
  },
  {
   "cell_type": "markdown",
   "id": "53630d25-ac93-46ff-8d0a-0d261a6d0e17",
   "metadata": {},
   "source": [
    "## Examples"
   ]
  },
  {
   "cell_type": "markdown",
   "id": "e61e1cf6-b895-4ba1-8959-6d4412bdec55",
   "metadata": {},
   "source": [
    "### example 1"
   ]
  },
  {
   "cell_type": "code",
   "execution_count": 29,
   "id": "5e5aca8d-a13a-40b5-b84a-cfc140ca6fc2",
   "metadata": {},
   "outputs": [
    {
     "data": {
      "image/png": "[encoded data removed]",
      "text/plain": [
       "<Figure size 500x500 with 1 Axes>"
      ]
     },
     "metadata": {},
     "output_type": "display_data"
    }
   ],
   "source": [
    "from matplotlib import pyplot as plt\n",
    "\n",
    "from pyLong.profiles.zprofile import zProfile\n",
    "\n",
    "zprofile = zProfile()\n",
    "zprofile.name = \"an altimetric profile\"\n",
    "zprofile.label = \"profile\"\n",
    "zprofile.xz = [(0., 41.33),\n",
    "               (195.11, 109.78),\n",
    "               (448.87, 319.91),\n",
    "               (569.56, 529.48),\n",
    "               (854.21, 763.56),\n",
    "               (1000., 948.42)]\n",
    "zprofile.line_style = \"dash-dotted\"\n",
    "zprofile.line_color = \"Green\"\n",
    "zprofile.line_thickness = 1.5\n",
    "zprofile.marker_style = \"square\"\n",
    "zprofile.marker_color = \"Black\"\n",
    "zprofile.marker_size = 4.\n",
    "zprofile.opacity = 1.\n",
    "zprofile.order = 1\n",
    "zprofile.visible = True\n",
    "\n",
    "fig, ax = plt.subplots(figsize=(5, 5))\n",
    "ax.set_xlim((-50., 1050.))\n",
    "ax.set_ylim((0., 1000.))\n",
    "ax.set_aspect(\"equal\")\n",
    "\n",
    "zprofile.plot(ax)\n",
    "\n",
    "ax.legend(loc=\"best\")\n",
    "plt.tight_layout()\n",
    "plt.show()"
   ]
  }
 ],
 "metadata": {
  "kernelspec": {
   "display_name": "Python 3 (ipykernel)",
   "language": "python",
   "name": "python3"
  },
  "language_info": {
   "codemirror_mode": {
    "name": "ipython",
    "version": 3
   },
   "file_extension": ".py",
   "mimetype": "text/x-python",
   "name": "python",
   "nbconvert_exporter": "python",
   "pygments_lexer": "ipython3",
   "version": "3.9.15"
  },
  "toc-autonumbering": false
 },
 "nbformat": 4,
 "nbformat_minor": 5
}
