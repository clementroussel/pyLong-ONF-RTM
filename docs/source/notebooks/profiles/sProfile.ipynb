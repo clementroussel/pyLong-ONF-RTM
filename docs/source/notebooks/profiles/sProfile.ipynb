{
 "cells": [
  {
   "cell_type": "code",
   "execution_count": 1,
   "id": "e9884f8b-8c4a-4b90-8255-d9d8f2edddf4",
   "metadata": {},
   "outputs": [
    {
     "name": "stdout",
     "output_type": "stream",
     "text": [
      "SQLalchemy is not installed. No support for SQL output.\n"
     ]
    }
   ],
   "source": [
    "from pyLong.profiles.zprofile import zProfile"
   ]
  },
  {
   "cell_type": "markdown",
   "id": "130ca8f4-5141-4236-bf88-2cbce0548f6a",
   "metadata": {},
   "source": [
    "# sProfile\n",
    "\n",
    "> An instance of **sProfile** class represents a slope longitudinal profile."
   ]
  },
  {
   "cell_type": "markdown",
   "id": "66aee91e-113d-4048-bc9f-758239bb69e5",
   "metadata": {},
   "source": [
    "## Table of contents"
   ]
  },
  {
   "cell_type": "markdown",
   "id": "0d16b623-406f-4eba-bccc-54acfb789e85",
   "metadata": {},
   "source": [
    "- [Import sProfile class](#Import-sProfile-class)"
   ]
  },
  {
   "cell_type": "markdown",
   "id": "d7062403-1f27-40a6-b903-7404b33c6849",
   "metadata": {},
   "source": [
    "- [Constructor](#Constructor)    "
   ]
  },
  {
   "cell_type": "markdown",
   "id": "c36ffca8-a0f1-4885-bd75-269498102f3d",
   "metadata": {},
   "source": [
    "- [Attributes](#Attributes)"
   ]
  },
  {
   "cell_type": "markdown",
   "id": "3d971a9f-60e1-4a82-8f54-e39cb1e28978",
   "metadata": {},
   "source": [
    "- [Methods](#Methods)\n",
    "    - [copy style](#copy-style)\n",
    "    - [duplicate](#duplicate)\n",
    "    - [export style](#export-style)\n",
    "    - [import style](#import-style)\n",
    "    - [listing](#listing)\n",
    "    - [mean](#mean)\n",
    "    - [plot](#plot)\n",
    "    - [slopes](#slopes)\n",
    "    - [update_xzs](#update_xzs)"
   ]
  },
  {
   "cell_type": "markdown",
   "id": "d862c8d9-f1f3-4f8b-b922-d4c87567e442",
   "metadata": {},
   "source": [
    "- [Examples](#Examples)\n",
    "    - [example 1](#example-1)\n",
    "    - [example 2](#example-2)"
   ]
  },
  {
   "cell_type": "markdown",
   "id": "785e3841-db6d-41c7-9126-d24d0ed7acea",
   "metadata": {},
   "source": [
    "## Import sProfile class"
   ]
  },
  {
   "cell_type": "code",
   "execution_count": 2,
   "id": "01557884-cce9-402f-baad-2befde9ad00e",
   "metadata": {},
   "outputs": [],
   "source": [
    "from pyLong.profiles.sprofile import sProfile"
   ]
  },
  {
   "cell_type": "markdown",
   "id": "40d64db5-e37f-49e8-b5cb-608f61ca40b3",
   "metadata": {},
   "source": [
    "## Constructor"
   ]
  },
  {
   "cell_type": "code",
   "execution_count": 3,
   "id": "d47dcecc-02b7-46c6-830d-61049103d394",
   "metadata": {},
   "outputs": [],
   "source": [
    "sprofile = sProfile()"
   ]
  },
  {
   "cell_type": "markdown",
   "id": "5745c2c7-a312-4720-9238-8f5872871783",
   "metadata": {},
   "source": [
    "## Attributes"
   ]
  },
  {
   "cell_type": "markdown",
   "id": "80da6070-24bd-492e-9fa2-fe29bac59496",
   "metadata": {},
   "source": [
    "| attribute             |  type      | setter | comment |\n",
    "| :---                  | :----:     | :----: | :----   |\n",
    "| `name`                | `str`      | yes    |         |\n",
    "| `label`               | `str`      | yes    |         |\n",
    "| `zprofile`            | `zProfile` | yes    |         |\n",
    "| `xzs`                 | `list`     | no     |         |\n",
    "| `change_sign`         | `bool`     | yes    |         |\n",
    "| `marker_style`        | `str`      | yes    |         |\n",
    "| `marker_color`        | `str`      | yes    |         |\n",
    "| `marker_size`         | `float`    | yes    | must be positive |\n",
    "| `value_color`         | `str`      | yes    |         |\n",
    "| `value_size`          | `float`    | yes    | must be positive |\n",
    "| `value_shift`         | `float`    | yes    |         |\n",
    "| `value_shift_percent` | `float`    | yes    |         |\n",
    "| `value_shift_degree`  | `float`    | yes    |         |\n",
    "| `opacity`             | `float` | yes    | must be between 0 and 1 |\n",
    "| `order`               | `int`   | yes    | must be positive |\n",
    "| `marker_visible`      | `bool`  | yes    |         |\n",
    "| `value_visible`       | `bool`  | yes    |         |"
   ]
  },
  {
   "cell_type": "markdown",
   "id": "43cade26-3258-442e-b26f-6511f7fc66bd",
   "metadata": {},
   "source": [
    "## Methods"
   ]
  },
  {
   "cell_type": "markdown",
   "id": "efdbb432-0708-4c0b-8096-9f03e42bce82",
   "metadata": {},
   "source": [
    "### copy style\n",
    "```python\n",
    "sProfile.copy_style(self, sprofile)\n",
    "```"
   ]
  },
  {
   "cell_type": "code",
   "execution_count": 4,
   "id": "070f7d71-4c0d-41c7-9224-37eaae68e10c",
   "metadata": {
    "tags": []
   },
   "outputs": [
    {
     "name": "stdout",
     "output_type": "stream",
     "text": [
      "Help on function copy_style in module pyLong.profiles.sprofile:\n",
      "\n",
      "copy_style(self, sprofile)\n",
      "    copy the style of a slope profile\n",
      "    \n",
      "    arguments:\n",
      "    - sprofile: slope profile whose style is to be copied - sProfile\n",
      "    \n",
      "    returns:\n",
      "    - True if success - bool\n",
      "    - False else - bool\n",
      "    \n",
      "    examples:\n",
      "    >>> new_sprofile.copy_style(sprofile)\n",
      "\n"
     ]
    }
   ],
   "source": [
    "help(sProfile.copy_style)"
   ]
  },
  {
   "cell_type": "markdown",
   "id": "93c598f5-71ef-4a87-b0f2-c1b3a11971e4",
   "metadata": {
    "tags": []
   },
   "source": [
    "### duplicate\n",
    "```python\n",
    "sProfile.duplicate(self)\n",
    "```"
   ]
  },
  {
   "cell_type": "code",
   "execution_count": 5,
   "id": "83bad88f-cdc5-4dac-8702-bdfce68a4f74",
   "metadata": {
    "tags": []
   },
   "outputs": [
    {
     "name": "stdout",
     "output_type": "stream",
     "text": [
      "Help on function duplicate in module pyLong.profiles.sprofile:\n",
      "\n",
      "duplicate(self)\n",
      "    duplicate the profile\n",
      "    \n",
      "    returns:\n",
      "    - new_sprofile: duplicated profile - sProfile\n",
      "    \n",
      "    examples:\n",
      "    >>> new_sprofile = sprofile.duplicate()\n",
      "\n"
     ]
    }
   ],
   "source": [
    "help(sProfile.duplicate)"
   ]
  },
  {
   "cell_type": "markdown",
   "id": "f84abec6-1427-4155-b847-f5431257043a",
   "metadata": {
    "tags": []
   },
   "source": [
    "### export style\n",
    "```python\n",
    "sProfile.export_style(self, filename)\n",
    "```"
   ]
  },
  {
   "cell_type": "code",
   "execution_count": 6,
   "id": "3543c40b-ffc8-4342-a57a-b558aa910528",
   "metadata": {},
   "outputs": [
    {
     "name": "stdout",
     "output_type": "stream",
     "text": [
      "Help on function export_style in module pyLong.profiles.sprofile:\n",
      "\n",
      "export_style(self, filename)\n",
      "    export profile style to a .json file\n",
      "    \n",
      "    arguments:\n",
      "    - filename: .json file path - str\n",
      "    \n",
      "    returns:\n",
      "    - True if success - bool\n",
      "    - False else - bool\n",
      "    \n",
      "    examples:\n",
      "    >>> sprofile.export_style(\"style.json\")\n",
      "\n"
     ]
    }
   ],
   "source": [
    "help(sProfile.export_style)"
   ]
  },
  {
   "cell_type": "markdown",
   "id": "37782f9b-0a8c-49fb-8f7d-5a740a14084c",
   "metadata": {},
   "source": [
    "### import style\n",
    "```python\n",
    "sProfile.import_style(filename)\n",
    "```"
   ]
  },
  {
   "cell_type": "code",
   "execution_count": 7,
   "id": "fb046c8e-0b97-4dca-a185-904613989392",
   "metadata": {},
   "outputs": [
    {
     "name": "stdout",
     "output_type": "stream",
     "text": [
      "Help on function import_style in module pyLong.profiles.sprofile:\n",
      "\n",
      "import_style(self, filename)\n",
      "    import profile style from a .json file\n",
      "    \n",
      "    arguments:\n",
      "    - filename: .json file path - str\n",
      "    \n",
      "    returns:\n",
      "    - True if success - bool\n",
      "    - False else - bool\n",
      "    \n",
      "    examples:\n",
      "    >>> sprofile.import_style(\"style.json\")\n",
      "\n"
     ]
    }
   ],
   "source": [
    "help(sProfile.import_style)"
   ]
  },
  {
   "cell_type": "markdown",
   "id": "93c482fe-f9fc-4092-96ef-75f72c93747e",
   "metadata": {
    "tags": []
   },
   "source": [
    "### listing\n",
    "```python\n",
    "sProfile.listing(self, xz_decimals=3, slope_decimals=3)\n",
    "```"
   ]
  },
  {
   "cell_type": "code",
   "execution_count": 8,
   "id": "6c1d05ff-9b8a-4f93-9dc3-0f9452f83bee",
   "metadata": {},
   "outputs": [
    {
     "name": "stdout",
     "output_type": "stream",
     "text": [
      "Help on function listing in module pyLong.profiles.sprofile:\n",
      "\n",
      "listing(self, unit='%', xz_decimals=3, slope_decimals=3)\n",
      "    print the list of points\n",
      "    \n",
      "    arguments:\n",
      "    - unit: slope unit \"%\" | \"°\" - str\n",
      "    - xz_decimals: number of decimals to print for distance and altitude values - int\n",
      "    - slope_decimals: number of decimals to print for slope values - int\n",
      "    \n",
      "    returns:\n",
      "    - None - NoneType\n",
      "    \n",
      "    examples:\n",
      "    >>> sprofile.listing()\n",
      "    >>> sprofile.listing(unit=\"°\", xz_decimals=2, slope_decimals=1)\n",
      "\n"
     ]
    }
   ],
   "source": [
    "help(sProfile.listing)"
   ]
  },
  {
   "cell_type": "markdown",
   "id": "72062bb5-4966-4c8b-bee2-10dd6f6b3c4d",
   "metadata": {},
   "source": [
    "### mean\n",
    "```python\n",
    "sProfile.mean(self, unit=\"%\")\n",
    "```"
   ]
  },
  {
   "cell_type": "code",
   "execution_count": 9,
   "id": "eca47fee-d0e0-48f9-914a-56446d84e68a",
   "metadata": {},
   "outputs": [
    {
     "name": "stdout",
     "output_type": "stream",
     "text": [
      "Help on function mean in module pyLong.profiles.sprofile:\n",
      "\n",
      "mean(self, unit='%')\n",
      "    calculate the mean slope\n",
      "    \n",
      "    arguments:\n",
      "    - unit: slope unit \"%\" | \"°\" - str\n",
      "    \n",
      "    returns:\n",
      "    - mean_slope: mean slope - float\n",
      "    or\n",
      "    - None - NoneType\n",
      "    \n",
      "    examples:\n",
      "    >>> mean_slope = sprofile.mean()\n",
      "    >>> mean_slope = sprofile.mean(unit=\"°\")\n",
      "\n"
     ]
    }
   ],
   "source": [
    "help(sProfile.mean)"
   ]
  },
  {
   "cell_type": "markdown",
   "id": "1861dab5-a5cb-49c0-b469-6688a2cbca30",
   "metadata": {},
   "source": [
    "### plot\n",
    "```python\n",
    "sProfile.plot(self, ax, unit=\"%\", twin_ax=None, decimals=1, change_sign=False)\n",
    "```"
   ]
  },
  {
   "cell_type": "code",
   "execution_count": 10,
   "id": "040cce75-064d-4628-b410-ea6913b1cde6",
   "metadata": {},
   "outputs": [
    {
     "name": "stdout",
     "output_type": "stream",
     "text": [
      "Help on function plot in module pyLong.profiles.sprofile:\n",
      "\n",
      "plot(self, ax, unit='%', twin_ax=None, decimals=1)\n",
      "    plot profile on a matplotlib subplot\n",
      "    \n",
      "    arguments:\n",
      "    - ax: matplotlib subplot - matplotlib.axes._subplots.AxesSubplot\n",
      "    - unit: slope unit \"%\" | \"°\" - str\n",
      "    - twin_ax: secondary axis - matplotlib.axes._subplots.AxesSubplot\n",
      "    - decimals: number of decimals to plot - int\n",
      "    \n",
      "    returns:\n",
      "    - None - NoneType\n",
      "    \n",
      "    examples:\n",
      "    >>> from matplotlib import pyplot as plt\n",
      "    >>> fig, ax = plt.subplots()\n",
      "    >>> sprofile.plot(ax)\n",
      "    >>> plt.show()\n",
      "\n"
     ]
    }
   ],
   "source": [
    "help(sProfile.plot)"
   ]
  },
  {
   "cell_type": "markdown",
   "id": "31b4e0c0-c8c7-4bcb-94d5-42719208abf4",
   "metadata": {},
   "source": [
    "### slopes\n",
    "```python\n",
    "sProfile.slopes(self, unit=\"%\")\n",
    "```"
   ]
  },
  {
   "cell_type": "code",
   "execution_count": 11,
   "id": "fd07b24f-ce75-4e83-8cef-af6eb0fb517c",
   "metadata": {},
   "outputs": [
    {
     "name": "stdout",
     "output_type": "stream",
     "text": [
      "Help on function slopes in module pyLong.profiles.sprofile:\n",
      "\n",
      "slopes(self, unit='%')\n",
      "    calculate slopes in percent or degree\n",
      "    \n",
      "    arguments:\n",
      "    - unit: slope unit \"%\" | \"°\" - str\n",
      "    \n",
      "    returns:\n",
      "    - slopes: calculated slopes - list\n",
      "    or\n",
      "    - None - NoneType\n",
      "    \n",
      "    examples:\n",
      "    >>> slopes = sprofile.slopes()\n",
      "    >>> slopes = sprofile.slopes(unit=\"°\")\n",
      "\n"
     ]
    }
   ],
   "source": [
    "help(sProfile.slopes)"
   ]
  },
  {
   "cell_type": "markdown",
   "id": "f0ce1262-2f6b-4ef6-b3ce-ccf7dbc29a29",
   "metadata": {},
   "source": [
    "### update_xzs\n",
    "```python\n",
    "sProfile.update_xzs(self)\n",
    "```"
   ]
  },
  {
   "cell_type": "code",
   "execution_count": 12,
   "id": "e063b8ac-4d08-44bc-8fa9-d7d225b72413",
   "metadata": {},
   "outputs": [
    {
     "name": "stdout",
     "output_type": "stream",
     "text": [
      "Help on function update_xzs in module pyLong.profiles.sprofile:\n",
      "\n",
      "update_xzs(self)\n",
      "    update profile data\n",
      "    \n",
      "    returns:\n",
      "    - None - NoneType\n",
      "    \n",
      "    examples:\n",
      "    >>> sprofile.update_xzs()\n",
      "\n"
     ]
    }
   ],
   "source": [
    "help(sProfile.update_xzs)"
   ]
  },
  {
   "cell_type": "markdown",
   "id": "de185511-3d57-477f-92c4-e61e383e45ea",
   "metadata": {},
   "source": [
    "## Examples"
   ]
  },
  {
   "cell_type": "markdown",
   "id": "e4384ef5-4b7e-485c-bbc7-1b237275db03",
   "metadata": {},
   "source": [
    "### example 1"
   ]
  },
  {
   "cell_type": "code",
   "execution_count": 13,
   "id": "7ac8caa0-e3e2-4db2-affd-fe1f89a9d6a2",
   "metadata": {},
   "outputs": [
    {
     "data": {
      "image/png": "[encoded data removed]",
      "text/plain": [
       "<Figure size 500x500 with 1 Axes>"
      ]
     },
     "metadata": {},
     "output_type": "display_data"
    }
   ],
   "source": [
    "from matplotlib import pyplot as plt\n",
    "\n",
    "from pyLong.profiles.zprofile import zProfile\n",
    "from pyLong.profiles.sprofile import sProfile\n",
    "\n",
    "zprofile = zProfile()\n",
    "zprofile.name = \"an altimetric profile\"\n",
    "zprofile.label = \"profile\"\n",
    "zprofile.xz = [(0., 41.33),\n",
    "               (195.11, 109.78),\n",
    "               (448.87, 319.91),\n",
    "               (569.56, 529.48),\n",
    "               (854.21, 763.56),\n",
    "               (1000., 948.42)]\n",
    "zprofile.line_style = \"dash-dotted\"\n",
    "zprofile.line_color = \"Green\"\n",
    "zprofile.line_thickness = 1.5\n",
    "zprofile.marker_style = \"square\"\n",
    "zprofile.marker_color = \"Black\"\n",
    "zprofile.marker_size = 4.\n",
    "zprofile.opacity = 1.\n",
    "zprofile.order = 1\n",
    "zprofile.visible = True\n",
    "\n",
    "sprofile = sProfile()\n",
    "sprofile.name = \"a slope profile\"\n",
    "sprofile.label = \"slope\"\n",
    "sprofile.zprofile = zprofile\n",
    "sprofile.change_sign = False\n",
    "sprofile.marker_style = \"vertical line\"\n",
    "sprofile.marker_color = \"Crimson\"\n",
    "sprofile.marker_size = 10.\n",
    "sprofile.value_color = \"Black\"\n",
    "sprofile.value_size = 11.\n",
    "sprofile.value_shift = 50.\n",
    "sprofile.opacity = 1.\n",
    "sprofile.order = 1\n",
    "sprofile.marker_visible = True\n",
    "sprofile.value_visible = True\n",
    "\n",
    "fig, ax = plt.subplots(figsize=(5, 5))\n",
    "ax.set_xlim((-50., 1050.))\n",
    "ax.set_ylim((0., 1000.))\n",
    "ax.set_aspect(\"equal\")\n",
    "\n",
    "zprofile.plot(ax)\n",
    "sprofile.plot(ax, unit=\"%\")\n",
    "\n",
    "ax.legend(loc=\"best\")\n",
    "plt.tight_layout()\n",
    "plt.show()"
   ]
  },
  {
   "cell_type": "markdown",
   "id": "b98edb34-1064-455c-ba5d-113725bf143f",
   "metadata": {},
   "source": [
    "### example 2"
   ]
  },
  {
   "cell_type": "code",
   "execution_count": 14,
   "id": "eeb6a0f8-feef-4fb4-a05d-e2c0778b2e6f",
   "metadata": {},
   "outputs": [
    {
     "data": {
      "image/png": "[encoded data removed]",
      "text/plain": [
       "<Figure size 500x500 with 2 Axes>"
      ]
     },
     "metadata": {},
     "output_type": "display_data"
    }
   ],
   "source": [
    "from matplotlib import pyplot as plt\n",
    "\n",
    "from pyLong.profiles.zprofile import zProfile\n",
    "from pyLong.profiles.sprofile import sProfile\n",
    "\n",
    "zprofile = zProfile()\n",
    "zprofile.name = \"an altimetric profile\"\n",
    "zprofile.label = \"profile\"\n",
    "zprofile.xz = [(0., 41.33),\n",
    "               (195.11, 109.78),\n",
    "               (448.87, 319.91),\n",
    "               (569.56, 529.48),\n",
    "               (854.21, 763.56),\n",
    "               (1000., 948.42)]\n",
    "zprofile.line_style = \"dash-dotted\"\n",
    "zprofile.line_color = \"Green\"\n",
    "zprofile.line_thickness = 1.5\n",
    "zprofile.marker_style = \"square\"\n",
    "zprofile.marker_color = \"Black\"\n",
    "zprofile.marker_size = 4.\n",
    "zprofile.opacity = 1.\n",
    "zprofile.order = 1\n",
    "zprofile.visible = True\n",
    "\n",
    "sprofile = sProfile()\n",
    "sprofile.name = \"a slope profile\"\n",
    "sprofile.label = \"slope\"\n",
    "sprofile.zprofile = zprofile\n",
    "sprofile.change_sign = False\n",
    "sprofile.marker_style = \"cross\"\n",
    "sprofile.marker_color = \"Dark Blue\"\n",
    "sprofile.marker_size = 5.\n",
    "sprofile.value_color = \"Dark Blue\"\n",
    "sprofile.value_size = 11.\n",
    "sprofile.value_shift_percent = -8.\n",
    "sprofile.opacity = 1.\n",
    "sprofile.order = 1\n",
    "sprofile.marker_visible = True\n",
    "sprofile.value_visible = True\n",
    "\n",
    "fig, ax = plt.subplots(figsize=(5, 5))\n",
    "ax.set_xlim((-50., 1050.))\n",
    "ax.set_ylim((0., 1000.))\n",
    "ax.set_aspect(\"equal\")\n",
    "secondary_ax = ax.twinx()\n",
    "secondary_ax.set_ylim((0., 200.))\n",
    "\n",
    "zprofile.plot(ax)\n",
    "sprofile.plot(ax, unit=\"%\", twin_ax=secondary_ax)\n",
    "\n",
    "ax.legend(loc=\"best\")\n",
    "plt.tight_layout()\n",
    "plt.show()"
   ]
  }
 ],
 "metadata": {
  "kernelspec": {
   "display_name": "Python 3 (ipykernel)",
   "language": "python",
   "name": "python3"
  },
  "language_info": {
   "codemirror_mode": {
    "name": "ipython",
    "version": 3
   },
   "file_extension": ".py",
   "mimetype": "text/x-python",
   "name": "python",
   "nbconvert_exporter": "python",
   "pygments_lexer": "ipython3",
   "version": "3.9.15"
  }
 },
 "nbformat": 4,
 "nbformat_minor": 5
}
