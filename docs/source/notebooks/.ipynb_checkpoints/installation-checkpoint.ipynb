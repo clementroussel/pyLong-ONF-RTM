{
 "cells": [
  {
   "cell_type": "markdown",
   "id": "849d392a-17cd-401f-a1d2-80acd95fa6b5",
   "metadata": {},
   "source": [
    "# Installation"
   ]
  },
  {
   "cell_type": "markdown",
   "id": "5727d43c-093b-4759-9680-5bbde6dde2d7",
   "metadata": {},
   "source": [
    "To install the **pyLong** package, activate your working virtual environment (using Python >= 3.9) then use the Python pip module as follows:\n",
    "```bash\n",
    "pip install long-profile\n",
    "```"
   ]
  },
  {
   "cell_type": "markdown",
   "id": "29795711-74d3-43cd-aedb-9103fda3db33",
   "metadata": {},
   "source": [
    "To check the installation, execute the following instructions in a Python interpreter:"
   ]
  },
  {
   "cell_type": "code",
   "execution_count": 1,
   "id": "9ed5dd55-4959-45a7-a044-b9237f4479a3",
   "metadata": {},
   "outputs": [],
   "source": [
    "import pyLong"
   ]
  },
  {
   "cell_type": "code",
   "execution_count": 2,
   "id": "e159411b-1191-4135-98ee-c2f16950bfa3",
   "metadata": {
    "tags": []
   },
   "outputs": [
    {
     "data": {
      "text/plain": [
       "'ONF-RTM'"
      ]
     },
     "execution_count": 2,
     "metadata": {},
     "output_type": "execute_result"
    }
   ],
   "source": [
    "pyLong.__authors__"
   ]
  },
  {
   "cell_type": "code",
   "execution_count": 3,
   "id": "a97c2a75-3b94-43f2-9c42-95c8f7054b64",
   "metadata": {
    "tags": []
   },
   "outputs": [
    {
     "data": {
      "text/plain": [
       "'GPL-3.0'"
      ]
     },
     "execution_count": 3,
     "metadata": {},
     "output_type": "execute_result"
    }
   ],
   "source": [
    "pyLong.__license__"
   ]
  },
  {
   "cell_type": "code",
   "execution_count": 4,
   "id": "1cd5f48d-e5e1-4fdd-a5cc-e87c16510e04",
   "metadata": {
    "tags": []
   },
   "outputs": [
    {
     "data": {
      "text/plain": [
       "'pylong.rtfd.io'"
      ]
     },
     "execution_count": 4,
     "metadata": {},
     "output_type": "execute_result"
    }
   ],
   "source": [
    "pyLong.__url__"
   ]
  },
  {
   "cell_type": "markdown",
   "id": "c13a8a96-3040-4129-9bab-e384ba2c00a3",
   "metadata": {},
   "source": [
    "You can also check the **pyLong** package version with the instruction:\n",
    "```python\n",
    ">>> pyLong.__version__\n",
    "```"
   ]
  }
 ],
 "metadata": {
  "kernelspec": {
   "display_name": "Python 3 (ipykernel)",
   "language": "python",
   "name": "python3"
  },
  "language_info": {
   "codemirror_mode": {
    "name": "ipython",
    "version": 3
   },
   "file_extension": ".py",
   "mimetype": "text/x-python",
   "name": "python",
   "nbconvert_exporter": "python",
   "pygments_lexer": "ipython3",
   "version": "3.9.15"
  }
 },
 "nbformat": 4,
 "nbformat_minor": 5
}
