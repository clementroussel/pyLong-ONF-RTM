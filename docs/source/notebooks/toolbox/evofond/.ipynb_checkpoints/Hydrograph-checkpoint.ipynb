{
 "cells": [
  {
   "cell_type": "code",
   "execution_count": 1,
   "id": "8fd732c9-a4f6-4c71-822c-75822a7fbb97",
   "metadata": {},
   "outputs": [],
   "source": [
    "# ignore these two following instructions...\n",
    "import os\n",
    "os.chdir(\"../../../../../src/main/python/\")"
   ]
  },
  {
   "cell_type": "markdown",
   "id": "27f55aef-e3f3-4a34-aed2-b6e11c973fb0",
   "metadata": {},
   "source": [
    "# Hydrograph class"
   ]
  },
  {
   "cell_type": "markdown",
   "id": "c43c4312-9ec8-4e20-a313-a461148edae0",
   "metadata": {},
   "source": [
    "## Table of contents"
   ]
  },
  {
   "cell_type": "markdown",
   "id": "526a3d3b-e861-43c2-b11c-45b715d371ec",
   "metadata": {},
   "source": [
    "- [Import Hydrograph class](#Import-Hydrograph-class)"
   ]
  },
  {
   "cell_type": "markdown",
   "id": "3aec3d4f-a0c7-4d10-b466-2da7a0190917",
   "metadata": {},
   "source": [
    "- [Constructor](#Constructor)    "
   ]
  },
  {
   "cell_type": "markdown",
   "id": "8be4ca95-f421-4bf8-aa9a-26465278efee",
   "metadata": {},
   "source": [
    "- [Attributes](#Attributes)"
   ]
  },
  {
   "cell_type": "markdown",
   "id": "4efb6d03-2244-4695-bfda-4589cbdccba5",
   "metadata": {},
   "source": [
    "- [Methods](#Methods)\n",
    "    - [area](#area)\n",
    "    - [copy style](#copy-style)\n",
    "    - [duplicate](#duplicate)\n",
    "    - [export](#export)\n",
    "    - [export style](#export-style)\n",
    "    - [from lavabre](#from-lavabre)\n",
    "    - [from txt](#from-txt)\n",
    "    - [import style](#import-style)\n",
    "    - [interpolate](#interpolate)\n",
    "    - [plot](#plot)\n",
    "    - [resample](#resample)\n",
    "    - [reverse](#reverse)"
   ]
  },
  {
   "cell_type": "markdown",
   "id": "e7eabbb3-9f72-45a4-bedc-4b081d163777",
   "metadata": {},
   "source": [
    "- [Examples](#Examples)\n",
    "    - [example 1](#example-1)"
   ]
  },
  {
   "cell_type": "markdown",
   "id": "72a09886-ea99-41e4-b7f7-98a394902cf8",
   "metadata": {},
   "source": [
    "## Import Hydrograph class"
   ]
  },
  {
   "cell_type": "code",
   "execution_count": 2,
   "id": "c5177011-94b7-42fa-ad93-623fc83f037f",
   "metadata": {},
   "outputs": [],
   "source": [
    "from pyLong.toolbox.evofond.hydrograph import Hydrograph"
   ]
  },
  {
   "cell_type": "markdown",
   "id": "c3862e66-dc7b-4768-92d8-24cccac7726d",
   "metadata": {},
   "source": [
    "## Constructor"
   ]
  },
  {
   "cell_type": "code",
   "execution_count": 3,
   "id": "eca9e2dc-1d81-422a-b689-8a4c76130a1a",
   "metadata": {},
   "outputs": [],
   "source": [
    "hydrograph = Hydrograph()"
   ]
  },
  {
   "cell_type": "markdown",
   "id": "19d4b576-c0e3-4e67-8923-0819009393fd",
   "metadata": {},
   "source": [
    "## Attributes"
   ]
  },
  {
   "cell_type": "markdown",
   "id": "b6175eb0-5cc5-448a-a2dc-3a8da2f7381d",
   "metadata": {},
   "source": [
    "| attribute        |  type      | setter | comment |\n",
    "| :---             | :----:     | :----: | :----   |\n",
    "| `name`           | `str`      | yes    |         |"
   ]
  },
  {
   "cell_type": "markdown",
   "id": "faffdfce-e61c-4fd0-a332-bf47799c6c39",
   "metadata": {},
   "source": [
    "## Methods"
   ]
  },
  {
   "cell_type": "markdown",
   "id": "141d7b8f-7800-4d63-a7b2-5853f7076d55",
   "metadata": {},
   "source": [
    "### area\n",
    "```python\n",
    "Hydrograph.area(self)\n",
    "```"
   ]
  },
  {
   "cell_type": "code",
   "execution_count": 4,
   "id": "fc5cd4fe-ab12-41ca-afa4-db1537e2f798",
   "metadata": {},
   "outputs": [
    {
     "name": "stdout",
     "output_type": "stream",
     "text": [
      "Help on function area in module pyLong.toolbox.evofond.hydrograph:\n",
      "\n",
      "area(self)\n",
      "    calculate the area below the hydrograph\n",
      "    \n",
      "    returns:\n",
      "    - area: area (m3) - float\n",
      "    or\n",
      "    - None - NoneType\n",
      "    \n",
      "    examples:\n",
      "    >>> area = hydrograph.area()\n",
      "\n"
     ]
    }
   ],
   "source": [
    "help(Hydrograph.area)"
   ]
  },
  {
   "cell_type": "markdown",
   "id": "c422fdd5-f4c9-4509-8808-aa1ba807a67e",
   "metadata": {},
   "source": [
    "### copy style\n",
    "```python\n",
    "Hydrograph.copy_style(self, hydrograph)\n",
    "```"
   ]
  },
  {
   "cell_type": "code",
   "execution_count": 5,
   "id": "77318866-ab7c-485a-8332-0e3466a6d219",
   "metadata": {},
   "outputs": [
    {
     "name": "stdout",
     "output_type": "stream",
     "text": [
      "Help on function copy_style in module pyLong.toolbox.evofond.hydrograph:\n",
      "\n",
      "copy_style(self, hydrograph)\n",
      "    copy the style of a hydrograph\n",
      "    \n",
      "    arguments:\n",
      "    - hydrograph: hydrograph whose style is to be copied - Hydrograph\n",
      "    \n",
      "    returns:\n",
      "    - True if success - bool\n",
      "    - False else - bool\n",
      "    \n",
      "    examples:\n",
      "    >>> new_hydrograph.copy_style(hydrograph)\n",
      "\n"
     ]
    }
   ],
   "source": [
    "help(Hydrograph.copy_style)"
   ]
  },
  {
   "cell_type": "markdown",
   "id": "0b415485-3d24-4793-8360-d3831688e6fc",
   "metadata": {},
   "source": [
    "### duplicate\n",
    "```python\n",
    "Hydrograph.duplicate(self)\n",
    "```"
   ]
  },
  {
   "cell_type": "code",
   "execution_count": 6,
   "id": "7734823d-8c0a-4b81-87a2-c29054ffe641",
   "metadata": {},
   "outputs": [
    {
     "name": "stdout",
     "output_type": "stream",
     "text": [
      "Help on function duplicate in module pyLong.toolbox.evofond.hydrograph:\n",
      "\n",
      "duplicate(self)\n",
      "    duplicate the hydrograph\n",
      "    \n",
      "    returns:\n",
      "    - new_hydrograph: duplicated hydrograph - Hydrograph\n",
      "    \n",
      "    examples:\n",
      "    >>> new_hydrograph = hydrograph.duplicate()\n",
      "\n"
     ]
    }
   ],
   "source": [
    "help(Hydrograph.duplicate)"
   ]
  },
  {
   "cell_type": "markdown",
   "id": "2febef97-0dcb-4064-8239-63b9f9d4cab1",
   "metadata": {},
   "source": [
    "### export\n",
    "```python\n",
    "Hydrograph.export(self, filename, delimiter=\"\\t\", separator=\".\", decimals=3, reverse=False, header=[\"time\", \"discharge\"]) \n",
    "```"
   ]
  },
  {
   "cell_type": "code",
   "execution_count": 7,
   "id": "354863ce-7319-46aa-aa03-d7de586827d3",
   "metadata": {},
   "outputs": [
    {
     "name": "stdout",
     "output_type": "stream",
     "text": [
      "Help on function export in module pyLong.toolbox.evofond.hydrograph:\n",
      "\n",
      "export(self, filename, delimiter='\\t', separator='.', decimals=3, reverse=False, header=['t', 'Q'])\n",
      "    export hydrograph data\n",
      "    \n",
      "    arguments:\n",
      "    - filename: file path - str\n",
      "    - delimiter: columns delimiter \"\\t\" | \" \" | \";\" | \",\" - str\n",
      "    - separator: decimal separator \".\" | \";\" - str\n",
      "    - decimals: number of decimals to export - int\n",
      "    - reverse: if True, export from end to start - bool\n",
      "    - header: header, empty list for no header - list of str\n",
      "    \n",
      "    returns:\n",
      "    - True if success - bool\n",
      "    - False else - bool\n",
      "    \n",
      "    examples:\n",
      "    >>> hydrograph.export(\"hydrograph.txt\")\n",
      "    >>> hydrograph.export(\"hydrograph.txt\", delimiter=\";\", separator=\".\", decimals=2, header=[])\n",
      "\n"
     ]
    }
   ],
   "source": [
    "help(Hydrograph.export)"
   ]
  },
  {
   "cell_type": "markdown",
   "id": "93b958f3-89f4-4a1d-a1c8-2930207a73de",
   "metadata": {},
   "source": [
    "### export style\n",
    "```python\n",
    "Hydrograph.export_style(self, filename)\n",
    "```"
   ]
  },
  {
   "cell_type": "code",
   "execution_count": 8,
   "id": "9019db6e-5434-4cac-97da-3eb0bd3d8a1c",
   "metadata": {},
   "outputs": [
    {
     "name": "stdout",
     "output_type": "stream",
     "text": [
      "Help on function export_style in module pyLong.toolbox.evofond.hydrograph:\n",
      "\n",
      "export_style(self, filename)\n",
      "    export hydrograph style to a .json file\n",
      "    \n",
      "    arguments:\n",
      "    - filename: .json file path - str\n",
      "    \n",
      "    returns:\n",
      "    - True if success - bool\n",
      "    - False else - bool\n",
      "    \n",
      "    examples:\n",
      "    >>> hydrograph.export_style(\"style.json\")\n",
      "\n"
     ]
    }
   ],
   "source": [
    "help(Hydrograph.export_style)"
   ]
  },
  {
   "cell_type": "markdown",
   "id": "2a00c05e-a695-44bb-9a18-8b4ac65311a8",
   "metadata": {},
   "source": [
    "### from lavabre\n",
    "```python\n",
    "Hydrograph.from_lavabre(self, duration, discharge_max, discharge_min, peak, order, dt=(0., 0., 1.))\n",
    "```\n",
    "\n",
    "$$\\boxed{Q(t) = Q_{min} + (Q_{max} - Q_{min}) \\times \\frac{2 \\left(\\frac{t}{t_{peak}}\\right)^{\\alpha}}{1 + \\left(\\frac{t}{t_{peak}}\\right)^{2\\alpha}}}$$"
   ]
  },
  {
   "cell_type": "code",
   "execution_count": 9,
   "id": "13a189d5-5b1d-4951-ae3d-0fbb1c898012",
   "metadata": {},
   "outputs": [
    {
     "name": "stdout",
     "output_type": "stream",
     "text": [
      "Help on function from_lavabre in module pyLong.toolbox.evofond.hydrograph:\n",
      "\n",
      "from_lavabre(self, duration, discharge_max, discharge_min, peak, order, dt=(0.0, 0.0, 1.0))\n",
      "    calculate a hydrograph from Lavabre formula\n",
      "    \n",
      "    arguments:\n",
      "    - duration: duration (h, m, s) - tuple\n",
      "        - h: hours - int | float\n",
      "        - m: minutes - int | float\n",
      "        - s: seconds - int | float\n",
      "    - discharge_max: maximum discharge (m3/s) - int | float\n",
      "    - discharge_min: minimum discharge (m3/s) - int | float\n",
      "    - peak: flood peak time (h, m, s) - tuple\n",
      "        - h: hours - int | float\n",
      "        - m: minutes - int | float\n",
      "        - s: seconds - int | float\n",
      "    - order: polynomial order of Lavabre formula - int\n",
      "    - dt: time step (h, m, s) - tuple\n",
      "        - h: hours - int | float\n",
      "        - m: minutes - int | float\n",
      "        - s: seconds - int | float\n",
      "    \n",
      "    examples:\n",
      "    >>> hydrograph.from_lavabre((12., 0., 0.), 10., 2., (3., 30., 0.), 2)\n",
      "    >>> hydrograph.from_lavabre((6., 30., 0.), 20., 5., (1., 0., 0.), 2, (0., 0., 30.))\n",
      "\n"
     ]
    }
   ],
   "source": [
    "help(Hydrograph.from_lavabre)"
   ]
  },
  {
   "cell_type": "markdown",
   "id": "da049463-52b0-4c01-a31e-8f0749eeeada",
   "metadata": {},
   "source": [
    "### from txt\n",
    "```python\n",
    "Hydrograph.from_txt(self, filename, time_field=\"t\", discharge_field=\"Q\", delimiter=\"\\t\", decimal=\".\")\n",
    "```"
   ]
  },
  {
   "cell_type": "code",
   "execution_count": 10,
   "id": "e1bff607-ccc2-4867-8b79-0292235180f8",
   "metadata": {},
   "outputs": [
    {
     "name": "stdout",
     "output_type": "stream",
     "text": [
      "Help on function from_txt in module pyLong.toolbox.evofond.hydrograph:\n",
      "\n",
      "from_txt(self, filename, time_field='t', discharge_field='Q', delimiter='\\t', decimal='.')\n",
      "    import data from a .txt file\n",
      "    \n",
      "    arguments:\n",
      "    - filename: .txt file path - str\n",
      "    - time_field: time field name - str\n",
      "    - discharge_field: discharge field name - str\n",
      "    - delimiter: column delimiter \"\\t\" | \" \" | \";\" | \",\" - str\n",
      "    - decimal: decimal separator \".\" |\",\" - str\n",
      "    \n",
      "    returns:\n",
      "    - True if success - bool\n",
      "    - False else - bool\n",
      "    \n",
      "    examples:\n",
      "    >>> hydrograph.from_txt(\"hydrograph.txt\")\n",
      "    >>> hydrograph.from_txt(\"hydrograph.txt\", time_field=\"time\", discharge_field=\"discharge\", delimiter=\";\", decimal=\",\")\n",
      "\n"
     ]
    }
   ],
   "source": [
    "help(Hydrograph.from_txt)"
   ]
  },
  {
   "cell_type": "markdown",
   "id": "25856c67-b97f-4cc2-8e92-52c1042dec61",
   "metadata": {},
   "source": [
    "### import style\n",
    "```python\n",
    "Hydrograph.import_style(self, filename)\n",
    "```"
   ]
  },
  {
   "cell_type": "code",
   "execution_count": 11,
   "id": "4d884852-1616-47d9-b82f-d2d457fe7c53",
   "metadata": {},
   "outputs": [
    {
     "name": "stdout",
     "output_type": "stream",
     "text": [
      "Help on function import_style in module pyLong.toolbox.evofond.hydrograph:\n",
      "\n",
      "import_style(self, filename)\n",
      "    import hydrograph style from a .json file\n",
      "    \n",
      "    arguments:\n",
      "    - filename: .json file path - str\n",
      "    \n",
      "    returns:\n",
      "    - True if success - bool\n",
      "    - False else - bool\n",
      "    \n",
      "    examples:\n",
      "    >>> hydrograph.import_style(\"style.json\")\n",
      "\n"
     ]
    }
   ],
   "source": [
    "help(Hydrograph.import_style)"
   ]
  },
  {
   "cell_type": "markdown",
   "id": "d0a6d57e-5335-477d-a490-6f3079cd0eb2",
   "metadata": {},
   "source": [
    "### interpolate\n",
    "```python\n",
    "Hydrograph.interpolate(self, t)\n",
    "```"
   ]
  },
  {
   "cell_type": "code",
   "execution_count": 12,
   "id": "d2d49c45-9cc9-4753-88eb-4999c6303b92",
   "metadata": {},
   "outputs": [
    {
     "name": "stdout",
     "output_type": "stream",
     "text": [
      "Help on function interpolate in module pyLong.toolbox.evofond.hydrograph:\n",
      "\n",
      "interpolate(self, t)\n",
      "    interpolate the hydrograph\n",
      "    \n",
      "    arguments:\n",
      "    - t: time (h, m, s) - tupe\n",
      "        - h: hours - int | float\n",
      "        - m: minutes - int | float\n",
      "        - s: seconds - int | float\n",
      "    \n",
      "    returns:\n",
      "    - q: interpolated discharge (m3/s) - float\n",
      "    or\n",
      "    - None - NoneType\n",
      "    \n",
      "    examples:\n",
      "    >>> q = hydrograph.interpolate(t=(1., 25., 15.))\n",
      "\n"
     ]
    }
   ],
   "source": [
    "help(Hydrograph.interpolate)"
   ]
  },
  {
   "cell_type": "markdown",
   "id": "22b84100-577a-4e23-a42d-1f910831ff31",
   "metadata": {},
   "source": [
    "### plot\n",
    "```python\n",
    "Hydrograph.plot(self, ax)\n",
    "```"
   ]
  },
  {
   "cell_type": "code",
   "execution_count": 13,
   "id": "0f21b503-29b8-4cb7-bbbe-921f6040d935",
   "metadata": {},
   "outputs": [
    {
     "name": "stdout",
     "output_type": "stream",
     "text": [
      "Help on function plot in module pyLong.toolbox.evofond.hydrograph:\n",
      "\n",
      "plot(self, ax)\n",
      "    plot hydrograph on a matplotlib subplot\n",
      "    \n",
      "    arguments:\n",
      "    - ax: matplotlib subplot - matplotlib.axes._subplots.AxesSubplot\n",
      "    \n",
      "    returns:\n",
      "    - None - NoneType\n",
      "    \n",
      "    examples:\n",
      "    >>> from matplotlib import pyplot as plt\n",
      "    >>> fig, ax = plt.subplots()\n",
      "    >>> hydrograph.plot(ax)\n",
      "    >>> plt.show()\n",
      "\n"
     ]
    }
   ],
   "source": [
    "help(Hydrograph.plot)"
   ]
  },
  {
   "cell_type": "markdown",
   "id": "475323e7-1df8-4f14-87b9-1c60da0f2fed",
   "metadata": {},
   "source": [
    "### resample\n",
    "```python\n",
    "Hydrograph.resample(self, dt)\n",
    "```"
   ]
  },
  {
   "cell_type": "code",
   "execution_count": 14,
   "id": "3eb8b039-afab-4f1b-959d-30debe81e344",
   "metadata": {},
   "outputs": [
    {
     "name": "stdout",
     "output_type": "stream",
     "text": [
      "Help on function resample in module pyLong.toolbox.evofond.hydrograph:\n",
      "\n",
      "resample(self, dt)\n",
      "    resample the hydrograph\n",
      "    \n",
      "    arguments:\n",
      "    - dt: duration (h, m, s) - tuple\n",
      "        - h: hours - int | float\n",
      "        - m: minutes - int | float\n",
      "        - s: seconds - int | float\n",
      "    \n",
      "    returns:\n",
      "    - new_hydrograph: resampled hydrograph - Hydrograph\n",
      "    or\n",
      "    - None - NoneType\n",
      "    \n",
      "    examples:\n",
      "    >>> new_hydrograph = hydrograph.resample(dt=(0., 1., 0.))\n",
      "\n"
     ]
    }
   ],
   "source": [
    "help(Hydrograph.resample)"
   ]
  },
  {
   "cell_type": "markdown",
   "id": "b04aa0de-8b9b-4856-91a0-e8a7dcaf9d0f",
   "metadata": {},
   "source": [
    "## Examples"
   ]
  },
  {
   "cell_type": "markdown",
   "id": "7d24c881-f7ac-4322-8f3e-aad0d8dbdbf5",
   "metadata": {},
   "source": [
    "### example 1"
   ]
  },
  {
   "cell_type": "code",
   "execution_count": 15,
   "id": "9a6eab6e-9996-4596-9d1d-792f9e81fcac",
   "metadata": {},
   "outputs": [
    {
     "data": {
      "image/png": "[encoded data removed]",
      "text/plain": [
       "<Figure size 500x500 with 1 Axes>"
      ]
     },
     "metadata": {},
     "output_type": "display_data"
    }
   ],
   "source": [
    "from matplotlib import pyplot as plt\n",
    "\n",
    "from pyLong.toolbox.evofond.hydrograph import Hydrograph\n",
    "\n",
    "hydrograph = Hydrograph()\n",
    "hydrograph.name = \"a hydrograph\"\n",
    "hydrograph.label = \"Lavabre hydrograph\"\n",
    "hydrograph.line_style = \"solid\"\n",
    "hydrograph.line_color = \"Black\"\n",
    "hydrograph.line_thickness = 1.\n",
    "hydrograph.marker_style = \"none\"\n",
    "hydrograph.color_marker = \"None\"\n",
    "hydrograph.marker_size = 0.\n",
    "hydrograph.opacity = 1.\n",
    "hydrograph.order = 1\n",
    "hydrograph.visible = True\n",
    "\n",
    "hydrograph.from_lavabre(duration=(1., 0., 0.),\n",
    "                        discharge_max=50.,\n",
    "                        discharge_min=5.,\n",
    "                        peak=(0., 10., 0.),\n",
    "                        order=2,\n",
    "                        dt=(0., 0., 30.))\n",
    "\n",
    "fig, ax = plt.subplots(figsize=(5, 5))\n",
    "ax.set_xlim((-200., 3800.))\n",
    "ax.set_ylim((0., 55.))\n",
    "\n",
    "hydrograph.plot(ax)\n",
    "\n",
    "ax.legend(loc=\"best\")\n",
    "plt.tight_layout()\n",
    "plt.show()"
   ]
  }
 ],
 "metadata": {
  "kernelspec": {
   "display_name": "Python 3 (ipykernel)",
   "language": "python",
   "name": "python3"
  },
  "language_info": {
   "codemirror_mode": {
    "name": "ipython",
    "version": 3
   },
   "file_extension": ".py",
   "mimetype": "text/x-python",
   "name": "python",
   "nbconvert_exporter": "python",
   "pygments_lexer": "ipython3",
   "version": "3.9.16"
  }
 },
 "nbformat": 4,
 "nbformat_minor": 5
}
