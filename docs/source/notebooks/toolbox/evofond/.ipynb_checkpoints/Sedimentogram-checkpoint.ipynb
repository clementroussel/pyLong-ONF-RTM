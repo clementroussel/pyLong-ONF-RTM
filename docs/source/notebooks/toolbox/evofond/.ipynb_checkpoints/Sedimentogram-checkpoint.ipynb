{
 "cells": [
  {
   "cell_type": "code",
   "execution_count": 1,
   "id": "55a88598-5dd2-430b-9608-041e5d54b4c1",
   "metadata": {},
   "outputs": [],
   "source": [
    "# ignore these two following instructions...\n",
    "import os\n",
    "os.chdir(\"../../../../../src/main/python/\")"
   ]
  },
  {
   "cell_type": "markdown",
   "id": "5e9c52cb-00cf-46cc-b4ce-039c74e911cc",
   "metadata": {},
   "source": [
    "# Sedimentogram class"
   ]
  },
  {
   "cell_type": "markdown",
   "id": "7900d2c4-1fe6-4a78-b565-67a11b963b0a",
   "metadata": {},
   "source": [
    "## Table of contents"
   ]
  },
  {
   "cell_type": "markdown",
   "id": "51242553-82ef-447b-aecc-dcd0ca0357e4",
   "metadata": {},
   "source": [
    "- [Import Sedimentogram class](#Import-Sedimentogram-class)"
   ]
  },
  {
   "cell_type": "markdown",
   "id": "5bb69774-410c-45b3-b477-ff7dcbc3f00e",
   "metadata": {},
   "source": [
    "- [Constructor](#Constructor)    "
   ]
  },
  {
   "cell_type": "markdown",
   "id": "2583853f-751d-4204-b91e-1ff886addf12",
   "metadata": {},
   "source": [
    "- [Attributes](#Attributes)"
   ]
  },
  {
   "cell_type": "markdown",
   "id": "dda0b93e-fa00-4e09-a102-a2a040c2f0df",
   "metadata": {},
   "source": [
    "- [Methods](#Methods)\n",
    "    - [duplicate](#duplicate)\n",
    "    - [from law](#from-law)\n",
    "    - [from txt](#from-txt)\n",
    "    - [plot](#plot)\n",
    "    - [resample](#resample)\n",
    "    - [reverse](#reverse)"
   ]
  },
  {
   "cell_type": "markdown",
   "id": "3c5575e3-7d3d-4366-8be5-6e7df62a7c9b",
   "metadata": {},
   "source": [
    "- [Examples](#Examples)\n",
    "    - [example 1](#example-1)"
   ]
  },
  {
   "cell_type": "markdown",
   "id": "11d22829-1a6d-49ae-a1c9-2599d4f82795",
   "metadata": {},
   "source": [
    "## Import Sedimentogram class"
   ]
  },
  {
   "cell_type": "code",
   "execution_count": 2,
   "id": "35a05fae-ffe0-47b2-9645-5a8832d9f01a",
   "metadata": {},
   "outputs": [],
   "source": [
    "from pyLong.toolbox.evofond.sedimentogram import Sedimentogram"
   ]
  },
  {
   "cell_type": "markdown",
   "id": "23e4cc2f-64fe-45c1-bb67-0e9b2840bef3",
   "metadata": {},
   "source": [
    "## Constructor"
   ]
  },
  {
   "cell_type": "code",
   "execution_count": 3,
   "id": "412644cb-b354-4b70-b6da-f5b02ba4972d",
   "metadata": {},
   "outputs": [],
   "source": [
    "sedimentogram = Sedimentogram()"
   ]
  },
  {
   "cell_type": "markdown",
   "id": "f57f4cb3-315a-45e4-9988-f8d6a0277b02",
   "metadata": {},
   "source": [
    "## Attributes"
   ]
  },
  {
   "cell_type": "markdown",
   "id": "faee82d0-0a33-44e8-b8e5-afebfa974997",
   "metadata": {},
   "source": [
    "| attribute      |  type          | setter | comment |\n",
    "| :---           | :----:         | :----: | :----   |\n",
    "| `name`         | `str`          | yes    |         |\n",
    "| `width`        | `float`        | yes    | $b$ (m), must be positive |\n",
    "| `slope`        | `float`        | yes    | $s$ (m/m), must be positive |\n",
    "| `law`          | `str`          | yes    |         |\n",
    "| `hydrograph`   | `Hydrograph`   | yes    |         |\n",
    "| `granulometry` | `Granulometry` | yes    |         |"
   ]
  },
  {
   "cell_type": "markdown",
   "id": "88d26873-e4bf-4255-a280-6aa944078cb8",
   "metadata": {},
   "source": [
    "## Methods"
   ]
  },
  {
   "cell_type": "code",
   "execution_count": null,
   "id": "3cbc8b6c-0032-4952-8974-c0af06a39a72",
   "metadata": {},
   "outputs": [],
   "source": []
  }
 ],
 "metadata": {
  "kernelspec": {
   "display_name": "Python 3 (ipykernel)",
   "language": "python",
   "name": "python3"
  },
  "language_info": {
   "codemirror_mode": {
    "name": "ipython",
    "version": 3
   },
   "file_extension": ".py",
   "mimetype": "text/x-python",
   "name": "python",
   "nbconvert_exporter": "python",
   "pygments_lexer": "ipython3",
   "version": "3.9.16"
  }
 },
 "nbformat": 4,
 "nbformat_minor": 5
}
