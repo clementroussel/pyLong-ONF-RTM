{
 "cells": [
  {
   "cell_type": "code",
   "execution_count": 2,
   "id": "68bcd801-3e8f-44f7-be2e-ec9504459f1d",
   "metadata": {},
   "outputs": [],
   "source": [
    "# ignore these two following instructions...\n",
    "import os\n",
    "os.chdir(\"../../../../../../src/main/python/\")"
   ]
  },
  {
   "cell_type": "markdown",
   "id": "c0762c9c-9717-4284-8677-0fecefa3d6f4",
   "metadata": {},
   "source": [
    "# TrapezoidalSection class"
   ]
  },
  {
   "cell_type": "markdown",
   "id": "6307839d-365b-4811-9c14-2e83e27d85e5",
   "metadata": {},
   "source": [
    "## Table of contents"
   ]
  },
  {
   "cell_type": "markdown",
   "id": "d2379246-3058-414b-9857-9cdc2dc46040",
   "metadata": {},
   "source": [
    "- [Import TrapezoidalSection class](#Import-TrapezoidalSection-class)"
   ]
  },
  {
   "cell_type": "markdown",
   "id": "364d5c78-bdd9-49fa-9082-119030de2db0",
   "metadata": {},
   "source": [
    "- [Constructor](#Constructor)    "
   ]
  },
  {
   "cell_type": "markdown",
   "id": "fa61e109-fd17-4bf3-945a-3be24d118a1f",
   "metadata": {},
   "source": [
    "- [Attributes](#Attributes)"
   ]
  },
  {
   "cell_type": "markdown",
   "id": "33ee52cb-4f09-4af6-8258-a402833feaab",
   "metadata": {},
   "source": [
    "- [Methods](#Methods)"
   ]
  },
  {
   "cell_type": "markdown",
   "id": "f916e461-77e9-4f66-8c69-449067f58496",
   "metadata": {},
   "source": [
    "- [Examples](#Examples)\n",
    "    - [example 1](#example-1)"
   ]
  },
  {
   "cell_type": "markdown",
   "id": "aad19adb-8ba0-4f97-bbea-ed3804b54c33",
   "metadata": {},
   "source": [
    "## Import TrapezoidalSection class"
   ]
  },
  {
   "cell_type": "code",
   "execution_count": 3,
   "id": "a5c52bdf-f495-4d14-911f-d9ca1c6a8219",
   "metadata": {
    "tags": []
   },
   "outputs": [],
   "source": [
    "from pyLong.toolbox.evofond.sections.trapezoidal_section import TrapezoidalSection"
   ]
  },
  {
   "cell_type": "markdown",
   "id": "426ad54e-d659-4b10-80ef-42e8481cd1ce",
   "metadata": {},
   "source": [
    "## Constructor"
   ]
  },
  {
   "cell_type": "code",
   "execution_count": 4,
   "id": "499c22fe-b96c-4312-8100-ecc995baec6a",
   "metadata": {
    "tags": []
   },
   "outputs": [],
   "source": [
    "section = TrapezoidalSection()"
   ]
  },
  {
   "cell_type": "markdown",
   "id": "b67c5feb-8bb7-4d3e-8d6f-bc288c0f2e7a",
   "metadata": {},
   "source": [
    "## Attributes"
   ]
  },
  {
   "cell_type": "markdown",
   "id": "2427382d-0f94-4732-8047-339d09cca211",
   "metadata": {},
   "source": [
    "| attribute          |  type      | setter | comment |\n",
    "| :---               | :----:     | :----: |  :---   |\n",
    "| `name`             | `str`      | yes    |         |\n",
    "| `xz`               | `tuple`    | yes    |         |\n",
    "| `x`                | `float`    | yes    |         |\n",
    "| `z`                | `float`    | yes    |         |\n",
    "| `water_height`     | `float`    | yes    | $h$, must be positive |\n",
    "| `width`            | `float`    | yes    | $b$, must be positive |\n",
    "| `left_batter`      | `float`    | yes    | $m_l$, must be positive |\n",
    "| `right_batter`     | `float`    | yes    | $m_r$, must be positive |\n",
    "| `top_width`        | `float`    | no     | $T$     |\n",
    "| `area`             | `float`    | no     | $A$     |\n",
    "| `wetted_perimeter` | `float`    | no     | $P$     |\n",
    "| `hydraulic_radius` | `float`    | no     | $R_h$   |\n",
    "| `hydraulic_depth`  | `float`    | no     | $D$     |"
   ]
  },
  {
   "cell_type": "markdown",
   "id": "bddbce7b-a005-4666-b023-d64ea6545fc2",
   "metadata": {},
   "source": [
    "### Top witdh\n",
    "\n",
    "$$T = b + h \\times (m_l + m_r)$$"
   ]
  },
  {
   "cell_type": "markdown",
   "id": "65cb1989-113a-4480-aae0-890dc99ca9c0",
   "metadata": {},
   "source": [
    "### Area\n",
    "\n",
    "$$A = b \\times h + \\frac{h^2}{2} \\times (m_l + m_r)$$"
   ]
  },
  {
   "cell_type": "markdown",
   "id": "4ac7a68a-1cdd-46d6-bb92-ae21a0120f3f",
   "metadata": {},
   "source": [
    "### Wetted perimeter\n",
    "\n",
    "$$P = b + h \\times  \\left(\\sqrt{1 + m_l^2} + \\sqrt{1 + m_r^2}\\right)$$"
   ]
  },
  {
   "cell_type": "markdown",
   "id": "249ed659-2f34-4de1-a6e2-4006b78f9b7e",
   "metadata": {},
   "source": [
    "### Hydraulic radius\n",
    "\n",
    "$$R_h = \\frac{A}{P}$$"
   ]
  },
  {
   "cell_type": "markdown",
   "id": "1acbf883-c8f6-48db-a129-915b1e71771d",
   "metadata": {},
   "source": [
    "### Hydraulic depth\n",
    "\n",
    "$$D = \\frac{A}{T}$$"
   ]
  }
 ],
 "metadata": {
  "kernelspec": {
   "display_name": "Python 3 (ipykernel)",
   "language": "python",
   "name": "python3"
  },
  "language_info": {
   "codemirror_mode": {
    "name": "ipython",
    "version": 3
   },
   "file_extension": ".py",
   "mimetype": "text/x-python",
   "name": "python",
   "nbconvert_exporter": "python",
   "pygments_lexer": "ipython3",
   "version": "3.9.16"
  }
 },
 "nbformat": 4,
 "nbformat_minor": 5
}
