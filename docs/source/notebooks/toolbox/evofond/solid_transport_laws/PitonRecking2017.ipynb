{
 "cells": [
  {
   "cell_type": "code",
   "execution_count": 2,
   "id": "f21c48ab-f111-42da-a49a-eda192806719",
   "metadata": {
    "tags": []
   },
   "outputs": [],
   "source": [
    "# ignore these two following instructions...\n",
    "import os\n",
    "os.chdir(\"../../../../../../src/main/python/\")"
   ]
  },
  {
   "cell_type": "markdown",
   "id": "a3c24ef5-fcd3-4d83-89b9-bb08821a4ecc",
   "metadata": {},
   "source": [
    "# PitonRecking2017 class"
   ]
  },
  {
   "cell_type": "markdown",
   "id": "67693d4f-a871-4362-986d-4a2d6adfc1e8",
   "metadata": {},
   "source": [
    "- [Import PitonRecking2017 class](#Import-PitonRecking2017-class)"
   ]
  },
  {
   "cell_type": "markdown",
   "id": "6ad1aff3-a876-4932-9935-db82832746fe",
   "metadata": {},
   "source": [
    "- [Constructor](#Constructor)"
   ]
  },
  {
   "cell_type": "markdown",
   "id": "383b7055-1fa8-4bd2-b026-cbd9e2920b57",
   "metadata": {},
   "source": [
    "- [Attributes](#Attributes)"
   ]
  },
  {
   "cell_type": "markdown",
   "id": "6befb08c-a0b3-4031-8cfd-306ec6ee56ed",
   "metadata": {},
   "source": [
    "- [Methods](#Methods)\n",
    "    - [run](#run)"
   ]
  },
  {
   "cell_type": "markdown",
   "id": "dbefdb11-a987-4171-a93d-2bca0ccaf631",
   "metadata": {},
   "source": [
    "## Import PitonRecking2017 class"
   ]
  },
  {
   "cell_type": "code",
   "execution_count": 3,
   "id": "e3657b0a-c2e1-4119-af10-75f5ec268a72",
   "metadata": {
    "tags": []
   },
   "outputs": [],
   "source": [
    "from pyLong.toolbox.evofond.solid_transport_laws import PitonRecking2017"
   ]
  },
  {
   "cell_type": "markdown",
   "id": "13bb2852-b574-451b-b16a-b2fa65d6b7ed",
   "metadata": {},
   "source": [
    "## Constructor"
   ]
  },
  {
   "cell_type": "code",
   "execution_count": 4,
   "id": "8383ee1d-90aa-460c-a734-c25c3d786efc",
   "metadata": {},
   "outputs": [],
   "source": [
    "piton_recking_2017 = PitonRecking2017()"
   ]
  },
  {
   "cell_type": "markdown",
   "id": "9a643bf6-c7ca-48c9-85e3-6ec5a083dafd",
   "metadata": {},
   "source": [
    "## Attributes"
   ]
  },
  {
   "cell_type": "markdown",
   "id": "a041950a-5f6f-4c12-a9dd-8d420a180f47",
   "metadata": {},
   "source": [
    "| attribute        |  type      | setter | comment |\n",
    "| :---             | :----:     | :----: | :----   |\n",
    "| `name`           | `str`      | no     |         |"
   ]
  },
  {
   "cell_type": "markdown",
   "id": "28420077-6ab9-48b4-8a33-c6eca9292f5f",
   "metadata": {},
   "source": [
    "## Methods"
   ]
  },
  {
   "cell_type": "markdown",
   "id": "04046a3b-c9e1-4305-81c4-07f48e36021e",
   "metadata": {},
   "source": [
    "### run\n",
    "```python\n",
    "PitonRecking2017.run(self)\n",
    "```"
   ]
  },
  {
   "cell_type": "code",
   "execution_count": 5,
   "id": "9e24bebb-1236-4e24-881d-2cd632915681",
   "metadata": {
    "tags": []
   },
   "outputs": [
    {
     "name": "stdout",
     "output_type": "stream",
     "text": [
      "Help on function run in module pyLong.toolbox.evofond.solid_transport_laws:\n",
      "\n",
      "run(self)\n",
      "\n"
     ]
    }
   ],
   "source": [
    "help(PitonRecking2017.run)"
   ]
  }
 ],
 "metadata": {
  "kernelspec": {
   "display_name": "Python 3 (ipykernel)",
   "language": "python",
   "name": "python3"
  },
  "language_info": {
   "codemirror_mode": {
    "name": "ipython",
    "version": 3
   },
   "file_extension": ".py",
   "mimetype": "text/x-python",
   "name": "python",
   "nbconvert_exporter": "python",
   "pygments_lexer": "ipython3",
   "version": "3.9.16"
  }
 },
 "nbformat": 4,
 "nbformat_minor": 5
}
