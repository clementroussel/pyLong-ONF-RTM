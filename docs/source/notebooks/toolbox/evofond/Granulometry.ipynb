{
 "cells": [
  {
   "cell_type": "code",
   "execution_count": 1,
   "id": "07d3e9d3-a28e-4af9-8080-061cf0d5c71a",
   "metadata": {},
   "outputs": [],
   "source": [
    "# ignore these two following instructions...\n",
    "import os\n",
    "os.chdir(\"../../../../../src/main/python/\")"
   ]
  },
  {
   "cell_type": "markdown",
   "id": "5cb39256-0604-46c6-b746-2e1b759d58c0",
   "metadata": {},
   "source": [
    "# Granulometry class"
   ]
  },
  {
   "cell_type": "markdown",
   "id": "47d8774c-9709-4691-9e9d-ae4f9468c86f",
   "metadata": {},
   "source": [
    "## Table of contents"
   ]
  },
  {
   "cell_type": "markdown",
   "id": "f7ee2638-12c6-4920-acff-b56d08e240c9",
   "metadata": {},
   "source": [
    "- [Import Granulometry class](#Import-Granulometry-class)"
   ]
  },
  {
   "cell_type": "markdown",
   "id": "fdb9c02d-3ef2-45a9-b9df-2e6c2aa30c40",
   "metadata": {},
   "source": [
    "- [Constructor](#Constructor)    "
   ]
  },
  {
   "cell_type": "markdown",
   "id": "097fcb46-0115-49a9-a42a-c0eb94c592b1",
   "metadata": {},
   "source": [
    "- [Attributes](#Attributes)"
   ]
  },
  {
   "cell_type": "markdown",
   "id": "d8c34a24-1371-4a21-82c3-605a665aa943",
   "metadata": {},
   "source": [
    "- [Methods](#Methods)\n",
    "    - [duplicate](#duplicate)\n",
    "    - [gradation](#gradation)"
   ]
  },
  {
   "cell_type": "markdown",
   "id": "83a5e968-50f4-41b0-9a82-534eb5cbe98f",
   "metadata": {},
   "source": [
    "- [Examples](#Examples)\n",
    "    - [example 1](#example-1)"
   ]
  },
  {
   "cell_type": "markdown",
   "id": "d508d4b3-7108-4ec4-ad66-af2228c9d63a",
   "metadata": {},
   "source": [
    "## Import Granulometry class"
   ]
  },
  {
   "cell_type": "code",
   "execution_count": 2,
   "id": "24700791-be4d-4040-9838-de9fa59fba85",
   "metadata": {},
   "outputs": [],
   "source": [
    "from pyLong.toolbox.evofond.granulometry import Granulometry"
   ]
  },
  {
   "cell_type": "markdown",
   "id": "1def44de-c467-480f-a15c-e18f4c73ac10",
   "metadata": {},
   "source": [
    "## Constructor"
   ]
  },
  {
   "cell_type": "code",
   "execution_count": 3,
   "id": "9c2eba37-fda3-4204-8192-bdf8b8f3fac2",
   "metadata": {},
   "outputs": [],
   "source": [
    "granulometry = Granulometry()"
   ]
  },
  {
   "cell_type": "markdown",
   "id": "8c75e6e3-55bf-4c0d-b9d3-d6e4c7e18df6",
   "metadata": {},
   "source": [
    "## Attributes"
   ]
  },
  {
   "cell_type": "markdown",
   "id": "172d608b-8abd-4580-8971-cdbe35f05b7e",
   "metadata": {},
   "source": [
    "| attribute        |  type      | setter | comment |\n",
    "| :---             | :----:     | :----: | :----   |\n",
    "| `name`           | `str`      | yes    |         |\n",
    "| `data`           | `dict`     | no     |         |"
   ]
  },
  {
   "cell_type": "markdown",
   "id": "66020f1c-0e16-49e3-bb12-dc335c4f38fb",
   "metadata": {},
   "source": [
    "## Methods"
   ]
  },
  {
   "cell_type": "markdown",
   "id": "fbc132e9-2acf-4b2b-a5ba-786ec1a2eff3",
   "metadata": {},
   "source": [
    "### duplicate\n",
    "```python\n",
    "Granulometry.duplicate(self)\n",
    "```"
   ]
  },
  {
   "cell_type": "code",
   "execution_count": 4,
   "id": "c14dc5d3-f009-4c08-a89f-164fc4cc983e",
   "metadata": {},
   "outputs": [
    {
     "name": "stdout",
     "output_type": "stream",
     "text": [
      "Help on function duplicate in module pyLong.toolbox.evofond.granulometry:\n",
      "\n",
      "duplicate(self)\n",
      "    duplicate the granulometry\n",
      "    \n",
      "    returns:\n",
      "    - new_granulometry: duplicated granulometry - Granulometry\n",
      "    \n",
      "    examples:\n",
      "    >>> new_granulometry = granulometry.duplicate()\n",
      "\n"
     ]
    }
   ],
   "source": [
    "help(Granulometry.duplicate)"
   ]
  },
  {
   "cell_type": "markdown",
   "id": "1bcb7844-272c-4826-8752-e12641814183",
   "metadata": {},
   "source": [
    "### gradation\n",
    "```python\n",
    "Granulometry.gradation(self)\n",
    "```\n",
    "\n",
    "$$Gr = 0.5 \\times \\left(\\frac{d_{84}}{d_{50}} + \\frac{d_{50}}{d_{16}}\\right)$$"
   ]
  },
  {
   "cell_type": "code",
   "execution_count": 5,
   "id": "3d6c6d99-d573-4e92-a330-83e74663d64e",
   "metadata": {
    "tags": []
   },
   "outputs": [
    {
     "name": "stdout",
     "output_type": "stream",
     "text": [
      "Help on function gradation in module pyLong.toolbox.evofond.granulometry:\n",
      "\n",
      "gradation(self)\n",
      "    calculate gradation value\n",
      "    \n",
      "    returns:\n",
      "    - Gr: gradation value - float\n",
      "    or\n",
      "    - None - NoneType\n",
      "    \n",
      "    examples:\n",
      "    >>> Gr = granulometry.gradation()\n",
      "\n"
     ]
    }
   ],
   "source": [
    "help(Granulometry.gradation)"
   ]
  }
 ],
 "metadata": {
  "kernelspec": {
   "display_name": "Python 3 (ipykernel)",
   "language": "python",
   "name": "python3"
  },
  "language_info": {
   "codemirror_mode": {
    "name": "ipython",
    "version": 3
   },
   "file_extension": ".py",
   "mimetype": "text/x-python",
   "name": "python",
   "nbconvert_exporter": "python",
   "pygments_lexer": "ipython3",
   "version": "3.9.16"
  }
 },
 "nbformat": 4,
 "nbformat_minor": 5
}
