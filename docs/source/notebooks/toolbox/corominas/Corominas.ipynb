{
 "cells": [
  {
   "cell_type": "markdown",
   "id": "14204bee-3d98-4255-882f-c8fe836107bc",
   "metadata": {
    "tags": []
   },
   "source": [
    "# Corominas"
   ]
  },
  {
   "cell_type": "markdown",
   "id": "160a7351-3eaf-4b68-97c5-59c2c867231e",
   "metadata": {},
   "source": [
    "## Table of contents"
   ]
  },
  {
   "cell_type": "markdown",
   "id": "325248d7-929a-47b1-9c1f-06a3e505e0fd",
   "metadata": {},
   "source": [
    "- [Import Corominas class](#Import-Corominas-class)"
   ]
  },
  {
   "cell_type": "markdown",
   "id": "c6902501-6616-4b9c-83fa-eb014dcf4d44",
   "metadata": {},
   "source": [
    "- [Constructor](#Constructor)"
   ]
  },
  {
   "cell_type": "markdown",
   "id": "c004cbe2-f4fc-4463-8637-6146ad5a63ba",
   "metadata": {},
   "source": [
    "- [Attributes](#Attributes)"
   ]
  },
  {
   "cell_type": "markdown",
   "id": "a998306d-f2a9-40a5-94cf-2487b850e2e3",
   "metadata": {},
   "source": [
    "- [Methods](#Methods)\n",
    "    - [area](#area)\n",
    "    - [copy style](#copy-style)\n",
    "    - [export](#export)\n",
    "    - [export style](#export-style)\n",
    "    - [import style](#import-style)\n",
    "    - [interpolate](#interpolate)\n",
    "    - [intersect](#intersect)\n",
    "    - [length](#length)\n",
    "    - [listing](#listing)\n",
    "    - [plot](#plot)\n",
    "    - [run](#run)"
   ]
  },
  {
   "cell_type": "markdown",
   "id": "886e8b86-674a-413e-b7c9-b92096af22a1",
   "metadata": {},
   "source": [
    "- [Examples](#Examples)\n",
    "    - [example 1](#example-1)"
   ]
  },
  {
   "cell_type": "markdown",
   "id": "1d1ab860-7220-46dd-9cb8-0f3f9d00dc15",
   "metadata": {},
   "source": [
    "## Import Corominas class"
   ]
  },
  {
   "cell_type": "code",
   "execution_count": 1,
   "id": "376efe27-bbd1-4bc0-a484-0d4f7562abd5",
   "metadata": {},
   "outputs": [
    {
     "name": "stdout",
     "output_type": "stream",
     "text": [
      "SQLalchemy is not installed. No support for SQL output.\n"
     ]
    }
   ],
   "source": [
    "from pyLong.toolbox.corominas import Corominas"
   ]
  },
  {
   "cell_type": "markdown",
   "id": "d3e737b3-8a02-4300-89ab-8b8ecba74266",
   "metadata": {},
   "source": [
    "## Constructor"
   ]
  },
  {
   "cell_type": "code",
   "execution_count": 2,
   "id": "710e9e79-d91e-46d9-a46e-2d7d15358f8e",
   "metadata": {},
   "outputs": [],
   "source": [
    "corominas = Corominas()"
   ]
  },
  {
   "cell_type": "markdown",
   "id": "517f3f14-fe85-440b-9032-07164293ad40",
   "metadata": {},
   "source": [
    "## Attributes"
   ]
  },
  {
   "cell_type": "markdown",
   "id": "9349724a-1ed4-4772-b848-4a1a19c7d0b7",
   "metadata": {},
   "source": [
    "| attribute        |  type      | setter | comment |\n",
    "| :---             | :----:     | :----: | :----   |\n",
    "| `name`           | `str`      | yes    |         |\n",
    "| `results`        | `dict`     | no     |         |\n",
    "| `label`          | `str`      | yes    |         |\n",
    "| `xz`             | `list`     | no     |         |\n",
    "| `line_style`     | `str`      | yes    |         |\n",
    "| `line_color`     | `str`      | yes    |         |\n",
    "| `line_thickness` | `float`    | yes    | must be positive |\n",
    "| `marker_style`   | `str`      | yes    |         |\n",
    "| `marker_color`   | `str`      | yes    |         |\n",
    "| `marker_size`    | `float`    | yes    | must be positive |\n",
    "| `opacity`        | `float` | yes    | must be between 0 and 1 |\n",
    "| `order`          | `int`   | yes    | must be positive |\n",
    "| `visible`        | `bool`  | yes    |         |"
   ]
  },
  {
   "cell_type": "markdown",
   "id": "b007c4a7-4a5a-4392-b5bc-b84de5e4c4fd",
   "metadata": {},
   "source": [
    "## Methods"
   ]
  },
  {
   "cell_type": "markdown",
   "id": "a1e5b6de-2f6c-430c-bb47-99610ce1dc90",
   "metadata": {},
   "source": [
    "### area\n",
    "```python\n",
    "Corominas.area(self, kind=\"below\")\n",
    "```"
   ]
  },
  {
   "cell_type": "code",
   "execution_count": 3,
   "id": "7ae30d75-eabe-4ba4-8f06-13d9cd8e3311",
   "metadata": {},
   "outputs": [
    {
     "name": "stdout",
     "output_type": "stream",
     "text": [
      "Help on function area in module pyLong.toolbox.corominas:\n",
      "\n",
      "area(self, kind='below')\n",
      "    calculate the area below or above the corominas curve\n",
      "    \n",
      "    arguments:\n",
      "    - kind: \"below\" | \"above\" - str\n",
      "    \n",
      "    returns:\n",
      "    - area: area (m2) - float\n",
      "    or\n",
      "    - None - NoneType\n",
      "    \n",
      "    examples:\n",
      "    >>> area = corominas.area()\n",
      "    >>> area = corominas.area(kind=\"above\")\n",
      "\n"
     ]
    }
   ],
   "source": [
    "help(Corominas.area)"
   ]
  },
  {
   "cell_type": "markdown",
   "id": "34d51870-4795-412c-96d7-56013497ca7c",
   "metadata": {},
   "source": [
    "### copy style\n",
    "```python\n",
    "Corominas.copy_style(self, corominas)\n",
    "```"
   ]
  },
  {
   "cell_type": "code",
   "execution_count": 4,
   "id": "214e3202-9c9e-40c8-ba53-aa12cf3827d7",
   "metadata": {
    "tags": []
   },
   "outputs": [
    {
     "name": "stdout",
     "output_type": "stream",
     "text": [
      "Help on function copy_style in module pyLong.toolbox.corominas:\n",
      "\n",
      "copy_style(self, corominas)\n",
      "    copy the style of a corominas calculation\n",
      "    \n",
      "    arguments:\n",
      "    - corominas: corominas calculation whose style is to be copied - Corominas\n",
      "    \n",
      "    returns:\n",
      "    - True if success - bool\n",
      "    - False else - bool\n",
      "    \n",
      "    examples:\n",
      "    >>> new_corominas.copy_style(corominas)\n",
      "\n"
     ]
    }
   ],
   "source": [
    "help(Corominas.copy_style)"
   ]
  },
  {
   "cell_type": "markdown",
   "id": "75a357ba-268a-4069-98fa-c9338e6d4c13",
   "metadata": {},
   "source": [
    "### export\n",
    "```python\n",
    "Corominas.export(self, filename, delimiter=\"\\t\", separator=\".\", decimals=3, reverse=False)\n",
    "```"
   ]
  },
  {
   "cell_type": "code",
   "execution_count": 5,
   "id": "bc4861f1-efc7-4b1e-91c4-dad77d9cf8e7",
   "metadata": {},
   "outputs": [
    {
     "name": "stdout",
     "output_type": "stream",
     "text": [
      "Help on function export in module pyLong.toolbox.corominas:\n",
      "\n",
      "export(self, filename, delimiter='\\t', separator='.', decimals=3, reverse=False, header=['X', 'Z'])\n",
      "    export corominas curve points\n",
      "    \n",
      "    arguments:\n",
      "    - filename: file path - str\n",
      "    - delimiter: columns delimiter \"\\t\" | \" \" | \";\" | \",\" - str\n",
      "    - separator: decimal separator \".\" | \";\" - str\n",
      "    - decimals: number of decimals to export - int\n",
      "    - reverse: if True, export from end to start - bool\n",
      "    - header: header, empty list for no header - list of str\n",
      "    \n",
      "    returns:\n",
      "    - True if success - bool\n",
      "    - False else - bool\n",
      "    \n",
      "    examples:\n",
      "    >>> corominas.export(\"corominas.txt\")\n",
      "    >>> corominas.export(\"corominas.txt\", delimiter=\";\", separator=\".\", decimals=2, header=[])\n",
      "\n"
     ]
    }
   ],
   "source": [
    "help(Corominas.export)"
   ]
  },
  {
   "cell_type": "markdown",
   "id": "7b8fa47e-44b8-485b-917e-0f5fa0a60437",
   "metadata": {
    "tags": []
   },
   "source": [
    "### export style\n",
    "```python\n",
    "Corominas.export_style(self, filename)\n",
    "```"
   ]
  },
  {
   "cell_type": "code",
   "execution_count": 6,
   "id": "1176ac62-b352-47ad-91af-027e99b47c1f",
   "metadata": {},
   "outputs": [
    {
     "name": "stdout",
     "output_type": "stream",
     "text": [
      "Help on function export_style in module pyLong.toolbox.corominas:\n",
      "\n",
      "export_style(self, filename)\n",
      "    export corominas curve style to a .json file\n",
      "    \n",
      "    arguments:\n",
      "    - filename: .json file path - str\n",
      "    \n",
      "    returns:\n",
      "    - True if success - bool\n",
      "    - False else - bool\n",
      "    \n",
      "    examples:\n",
      "    >>> corominas.export_style(\"style.json\")\n",
      "\n"
     ]
    }
   ],
   "source": [
    "help(Corominas.export_style)"
   ]
  },
  {
   "cell_type": "markdown",
   "id": "b7baec49-1a62-4750-a0b9-6eaf79d765a5",
   "metadata": {},
   "source": [
    "### import style\n",
    "```python\n",
    "Corominas.import_style(filename)\n",
    "```"
   ]
  },
  {
   "cell_type": "code",
   "execution_count": 7,
   "id": "fe86d846-6261-430f-9ae2-1ca2fc0fdf27",
   "metadata": {},
   "outputs": [
    {
     "name": "stdout",
     "output_type": "stream",
     "text": [
      "Help on function import_style in module pyLong.toolbox.corominas:\n",
      "\n",
      "import_style(self, filename)\n",
      "    import corominas curve style from a .json file\n",
      "    \n",
      "    arguments:\n",
      "    - filename: .json file path - str\n",
      "    \n",
      "    returns:\n",
      "    - True if success - bool\n",
      "    - False else - bool\n",
      "    \n",
      "    examples:\n",
      "    >>> corominas.import_style(\"style.json\")\n",
      "\n"
     ]
    }
   ],
   "source": [
    "help(Corominas.import_style)"
   ]
  },
  {
   "cell_type": "markdown",
   "id": "0e8ea067-af79-4839-91c7-8fb910c36b18",
   "metadata": {
    "tags": []
   },
   "source": [
    "### interpolate\n",
    "```python\n",
    "Corominas.interpolate(self, x)\n",
    "```"
   ]
  },
  {
   "cell_type": "code",
   "execution_count": 8,
   "id": "68e695a6-7649-469c-a08c-1fee74dfc9e4",
   "metadata": {},
   "outputs": [
    {
     "name": "stdout",
     "output_type": "stream",
     "text": [
      "Help on function interpolate in module pyLong.toolbox.corominas:\n",
      "\n",
      "interpolate(self, x)\n",
      "    interpolate the corominas curve\n",
      "    \n",
      "    arguments:\n",
      "    - x: distance (m) - int | float\n",
      "    \n",
      "    returns:\n",
      "    - z: interpolated altitude (m) - float\n",
      "    or\n",
      "    - None - NoneType\n",
      "    \n",
      "    examples:\n",
      "    >>> z = corominas.interpolate(x=150.)\n",
      "\n"
     ]
    }
   ],
   "source": [
    "help(Corominas.interpolate)"
   ]
  },
  {
   "cell_type": "markdown",
   "id": "24c1865f-77f7-4f0c-acaa-d59917b159ef",
   "metadata": {},
   "source": [
    "### intersect\n",
    "```python\n",
    "Corominas.intersect(self, corominas)\n",
    "```"
   ]
  },
  {
   "cell_type": "code",
   "execution_count": 9,
   "id": "3844f6f9-b22d-4028-a1f6-eb71c3a133b9",
   "metadata": {},
   "outputs": [
    {
     "name": "stdout",
     "output_type": "stream",
     "text": [
      "Help on function intersect in module pyLong.toolbox.corominas:\n",
      "\n",
      "intersect(self, corominas)\n",
      "    calculate the intersections with another corominas curve\n",
      "    \n",
      "    arguments:\n",
      "    - corominas: corominas calculation - Corominas\n",
      "    \n",
      "    returns:\n",
      "    - intersections: intersections - list\n",
      "    or\n",
      "    - None - NoneType\n",
      "    \n",
      "    examples:\n",
      "    >>> intersections = corominas.intersect(new_corominas)\n",
      "\n"
     ]
    }
   ],
   "source": [
    "help(Corominas.intersect)"
   ]
  },
  {
   "cell_type": "markdown",
   "id": "353bc67f-b836-4607-ad31-191dafc0fbf0",
   "metadata": {
    "tags": []
   },
   "source": [
    "### length\n",
    "```python\n",
    "Corominas.length(self, dim=\"2D\")\n",
    "```"
   ]
  },
  {
   "cell_type": "code",
   "execution_count": 10,
   "id": "a98b1636-de19-44eb-a9a4-70d72b4d7449",
   "metadata": {},
   "outputs": [
    {
     "name": "stdout",
     "output_type": "stream",
     "text": [
      "Help on function length in module pyLong.toolbox.corominas:\n",
      "\n",
      "length(self, dim='2D')\n",
      "    calculate the corominas curve length\n",
      "    \n",
      "    arguments:\n",
      "    - dim: \"2D\" for plan length or \"3D\" for actual length - str\n",
      "    \n",
      "    returns:\n",
      "    - plan length (m) - float\n",
      "    or\n",
      "    - actual length (m) - float\n",
      "    or\n",
      "    - None - NoneType\n",
      "    \n",
      "    examples:\n",
      "    >>> length_2d = corominas.length()\n",
      "    >>> length_3d = corominas.length(dim=\"3D\")\n",
      "\n"
     ]
    }
   ],
   "source": [
    "help(Corominas.length)"
   ]
  },
  {
   "cell_type": "markdown",
   "id": "9faac6a2-2dd5-4c7e-96f8-5c06c4ff9123",
   "metadata": {
    "tags": []
   },
   "source": [
    "### listing\n",
    "```python\n",
    "Corominas.listing(self, decimals=3)\n",
    "```"
   ]
  },
  {
   "cell_type": "code",
   "execution_count": 11,
   "id": "a6afd071-3881-4487-89ee-025be1dd580b",
   "metadata": {},
   "outputs": [
    {
     "name": "stdout",
     "output_type": "stream",
     "text": [
      "Help on function listing in module pyLong.toolbox.corominas:\n",
      "\n",
      "listing(self, decimals=3)\n",
      "    print the list of the corominas curve points\n",
      "    \n",
      "    arguments:\n",
      "    - decimals: number of decimals to print - int\n",
      "    \n",
      "    returns:\n",
      "    - None - NoneType\n",
      "    \n",
      "    examples:\n",
      "    >>> corominas.listing()\n",
      "    >>> corominas.listing(decimals=2)\n",
      "\n"
     ]
    }
   ],
   "source": [
    "help(Corominas.listing)"
   ]
  },
  {
   "cell_type": "markdown",
   "id": "d2604e30-a212-4e86-ad5f-a2e2df411f9e",
   "metadata": {},
   "source": [
    "### plot\n",
    "```python\n",
    "Corominas.plot(self, ax)\n",
    "```"
   ]
  },
  {
   "cell_type": "code",
   "execution_count": 12,
   "id": "5938d718-de7f-453e-9dc8-009bbdf09390",
   "metadata": {},
   "outputs": [
    {
     "name": "stdout",
     "output_type": "stream",
     "text": [
      "Help on function plot in module pyLong.toolbox.corominas:\n",
      "\n",
      "plot(self, ax)\n",
      "    plot the corominas curve on a matplotlib subplot\n",
      "    \n",
      "    arguments:\n",
      "    - ax: matplotlib subplot - matplotlib.axes._subplots.AxesSubplot\n",
      "    \n",
      "    returns:\n",
      "    - None - NoneType\n",
      "    \n",
      "    examples:\n",
      "    >>> from matplotlib import pyplot as plt\n",
      "    >>> fig, ax = plt.subplots()\n",
      "    >>> corominas.plot(ax)\n",
      "    >>> plt.show()\n",
      "\n"
     ]
    }
   ],
   "source": [
    "help(Corominas.plot)"
   ]
  },
  {
   "cell_type": "markdown",
   "id": "c43d188c-7ff8-428b-9b63-54e16e851bd0",
   "metadata": {},
   "source": [
    "### run\n",
    "```python\n",
    "Corominas.run(self, zprofile, reverse=True, x_start=0., volume=1000., model=\"Debris flows - All\", step=1.)\n",
    "```"
   ]
  },
  {
   "cell_type": "code",
   "execution_count": 13,
   "id": "d4af739e-2c29-4a79-a98d-97768e4433c1",
   "metadata": {},
   "outputs": [
    {
     "name": "stdout",
     "output_type": "stream",
     "text": [
      "Help on function run in module pyLong.toolbox.corominas:\n",
      "\n",
      "run(self, zprofile, reverse=True, x_start=0.0, volume=1000.0, model='Debris flows - All', step=1.0)\n",
      "    run calculation\n",
      "    \n",
      "    arguments:\n",
      "    - zprofile: profile - zProfile\n",
      "    - reverse: reverse the profile - bool\n",
      "    - x_start: start distance (m) - int | float\n",
      "    - volume: volume (m3) - int | float\n",
      "    - model: model to be used - str\n",
      "        - \"Debris flows - All\" or\n",
      "        - \"Debris flows - Obstructed\" or\n",
      "        - \"Debris flows - Channelized\" or\n",
      "        - \"Debris flows - Unobstructed\" or\n",
      "        - \"Mud flows - All\" or\n",
      "        - \"Mud flows - Unobstructed\"\n",
      "    - step: altimetric calculation step (m) - int | float\n",
      "    \n",
      "    returns:\n",
      "    - True if succes - bool\n",
      "    - False else - bool\n",
      "    \n",
      "    examples:\n",
      "    >>> corominas.run(zprofile, reserve=True, x_start=1500., volume=10000., model=\"Debris flows - All\", step=1.)\n",
      "\n"
     ]
    }
   ],
   "source": [
    "help(Corominas.run)"
   ]
  },
  {
   "cell_type": "markdown",
   "id": "839a8b34-58fd-4e7e-9f7a-c42bbe7d2579",
   "metadata": {},
   "source": [
    "## Examples"
   ]
  },
  {
   "cell_type": "markdown",
   "id": "f9d79bd4-dab4-47af-bf39-169ac9e0131f",
   "metadata": {},
   "source": [
    "### example 1"
   ]
  },
  {
   "cell_type": "code",
   "execution_count": 14,
   "id": "60652121-bf40-489c-a5c0-2ff7087a61ce",
   "metadata": {},
   "outputs": [],
   "source": [
    "from matplotlib import pyplot as plt\n",
    "\n",
    "from pyLong.profiles.zprofile import zProfile\n",
    "from pyLong.toolbox.corominas import Corominas"
   ]
  },
  {
   "cell_type": "code",
   "execution_count": 15,
   "id": "a1010c18-a529-4b40-b83c-93d36c6f2ff9",
   "metadata": {},
   "outputs": [
    {
     "data": {
      "text/plain": [
       "True"
      ]
     },
     "execution_count": 15,
     "metadata": {},
     "output_type": "execute_result"
    }
   ],
   "source": [
    "zprofile = zProfile()\n",
    "zprofile.from_txt(\"profile.txt\")"
   ]
  },
  {
   "cell_type": "code",
   "execution_count": 16,
   "id": "18460eca-54bd-486a-a678-25bb69b421b4",
   "metadata": {},
   "outputs": [],
   "source": [
    "zprofile.label = \"terrain\"\n",
    "zprofile.line_color = \"Dark Green\""
   ]
  },
  {
   "cell_type": "code",
   "execution_count": 17,
   "id": "32b37f10-00b8-4366-8f00-7720bd96cd68",
   "metadata": {},
   "outputs": [
    {
     "data": {
      "text/plain": [
       "True"
      ]
     },
     "execution_count": 17,
     "metadata": {},
     "output_type": "execute_result"
    }
   ],
   "source": [
    "corominas = Corominas()\n",
    "corominas.run(zprofile,\n",
    "              reverse=True,\n",
    "              x_start=2950.,\n",
    "              volume=10000,\n",
    "              step=1.,\n",
    "              model=\"Debris flows - All\")"
   ]
  },
  {
   "cell_type": "code",
   "execution_count": 18,
   "id": "52bbc339-8f47-470f-888e-9448ad78fdce",
   "metadata": {},
   "outputs": [
    {
     "data": {
      "text/plain": [
       "{'zprofile': new zprofile,\n",
       " 'reverse': True,\n",
       " 'x_start': 2950.0,\n",
       " 'z_start': 972.0262152854013,\n",
       " 'x_end': 1672.8235867271285,\n",
       " 'z_end': 499.69038710640626,\n",
       " 'volume': 10000,\n",
       " 'step': 1.0,\n",
       " 'model': 'Debris flows - All',\n",
       " 'success': True}"
      ]
     },
     "execution_count": 18,
     "metadata": {},
     "output_type": "execute_result"
    }
   ],
   "source": [
    "corominas.results"
   ]
  },
  {
   "cell_type": "code",
   "execution_count": 19,
   "id": "b13e4a11-6bbb-4193-ad3f-db8740e9ce9b",
   "metadata": {},
   "outputs": [],
   "source": [
    "corominas.label = \"Corominas (10 000 $m^3$)\"\n",
    "corominas.line_style = \"dashed\"\n",
    "corominas.line_color = \"Red\"\n",
    "corominas.line_thickness = 2"
   ]
  },
  {
   "cell_type": "code",
   "execution_count": 20,
   "id": "a10891d7-938e-4e3b-b1d2-545ee4bbd51d",
   "metadata": {},
   "outputs": [
    {
     "data": {
      "image/png": "[encoded data removed]",
      "text/plain": [
       "<Figure size 1169.29x420 with 1 Axes>"
      ]
     },
     "metadata": {},
     "output_type": "display_data"
    }
   ],
   "source": [
    "fig, ax = plt.subplots(figsize=(29.7/2.54, 21./5))\n",
    "\n",
    "ax.set_xlim((-50., 3050.))\n",
    "ax.set_ylim((250., 1050.))\n",
    "\n",
    "ax.set_aspect(\"equal\")\n",
    "\n",
    "zprofile.plot(ax)\n",
    "corominas.plot(ax)\n",
    "\n",
    "ax.legend(loc=\"best\")\n",
    "\n",
    "plt.tight_layout()\n",
    "plt.show()"
   ]
  }
 ],
 "metadata": {
  "kernelspec": {
   "display_name": "Python 3 (ipykernel)",
   "language": "python",
   "name": "python3"
  },
  "language_info": {
   "codemirror_mode": {
    "name": "ipython",
    "version": 3
   },
   "file_extension": ".py",
   "mimetype": "text/x-python",
   "name": "python",
   "nbconvert_exporter": "python",
   "pygments_lexer": "ipython3",
   "version": "3.9.15"
  }
 },
 "nbformat": 4,
 "nbformat_minor": 5
}
