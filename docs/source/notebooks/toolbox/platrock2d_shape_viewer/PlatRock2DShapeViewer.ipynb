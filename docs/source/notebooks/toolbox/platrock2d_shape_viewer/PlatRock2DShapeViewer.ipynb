{
 "cells": [
  {
   "cell_type": "code",
   "execution_count": 1,
   "id": "0cf812e6-b71f-4524-b93a-7b4f94213735",
   "metadata": {},
   "outputs": [],
   "source": [
    "# ignore these two following instructions...\n",
    "import os\n",
    "os.chdir(\"../../../../../src/main/python/\")"
   ]
  },
  {
   "cell_type": "code",
   "execution_count": 2,
   "id": "dc6ec239-dcf3-4c9d-a337-2ee43214e111",
   "metadata": {},
   "outputs": [
    {
     "name": "stdout",
     "output_type": "stream",
     "text": [
      "SQLalchemy is not installed. No support for SQL output.\n"
     ]
    }
   ],
   "source": [
    "import random\n",
    "\n",
    "from matplotlib import pyplot as plt\n",
    "import numpy as np\n",
    "\n",
    "from pyLong.dictionnaries.colors import colors as html_colors\n",
    "from pyLong.profiles.zprofile import zProfile"
   ]
  },
  {
   "cell_type": "markdown",
   "id": "f21b9f01-76b3-448f-9adc-d3d3fc4211f8",
   "metadata": {},
   "source": [
    "# PlatRock2DShapeViewer"
   ]
  },
  {
   "cell_type": "markdown",
   "id": "af18b8ff-9a64-4c92-9b26-59511c5c29fd",
   "metadata": {},
   "source": [
    "## Table of contents"
   ]
  },
  {
   "cell_type": "markdown",
   "id": "c28aa5cd-e2a5-4212-abef-dfd2daf9066c",
   "metadata": {},
   "source": [
    "- [Import PlatRock2DShapeViewer class](#Import-PlatRock2DShapeViewer-class)"
   ]
  },
  {
   "cell_type": "markdown",
   "id": "08f4d72a-5f4f-401a-8afc-1e0c77cdb64f",
   "metadata": {},
   "source": [
    "- [Constructor](#Constructor)"
   ]
  },
  {
   "cell_type": "markdown",
   "id": "21d64c87-dcc0-43e3-ae3f-ed0ab17e3aba",
   "metadata": {},
   "source": [
    "## Import PlatRock2DShapeViewer class"
   ]
  },
  {
   "cell_type": "code",
   "execution_count": 3,
   "id": "2e5f40a2-3473-4d77-a42e-28984c9f210e",
   "metadata": {},
   "outputs": [],
   "source": [
    "from pyLong.toolbox.platrock2d_shape_viewer import PlatRock2DShapeViewer"
   ]
  },
  {
   "cell_type": "markdown",
   "id": "0cc8a117-7962-4cc9-990e-d8f5cd9303c9",
   "metadata": {},
   "source": [
    "## Constructor"
   ]
  },
  {
   "cell_type": "code",
   "execution_count": 4,
   "id": "277a4a92-f9e3-4f01-8fda-6491edb257d5",
   "metadata": {},
   "outputs": [],
   "source": [
    "viewer = PlatRock2DShapeViewer()"
   ]
  },
  {
   "cell_type": "code",
   "execution_count": 5,
   "id": "7b325c2c-4d6b-422a-b6e5-8e7078585f38",
   "metadata": {},
   "outputs": [
    {
     "data": {
      "text/plain": [
       "True"
      ]
     },
     "execution_count": 5,
     "metadata": {},
     "output_type": "execute_result"
    }
   ],
   "source": [
    "output = \"C:\\\\Users\\\\cr26739\\Documents\\\\GitHub\\\\pyLong\\\\docs\\\\source\\\\notebooks\\\\toolbox\\\\platrock2d_shape_viewer\"\n",
    "output += \"\\\\full_output.hdf5\"\n",
    "viewer.from_hdf5(output)"
   ]
  },
  {
   "cell_type": "code",
   "execution_count": 6,
   "id": "b7369fd6-5f3f-4252-9fc0-33d1e91c4a44",
   "metadata": {},
   "outputs": [
    {
     "data": {
      "text/plain": [
       "100"
      ]
     },
     "execution_count": 6,
     "metadata": {},
     "output_type": "execute_result"
    }
   ],
   "source": [
    "viewer.rocks_number()"
   ]
  },
  {
   "cell_type": "code",
   "execution_count": 7,
   "id": "56c76b04-9423-4b84-9fa0-1ad93a23ef0a",
   "metadata": {},
   "outputs": [],
   "source": [
    "#viewer.start_data()"
   ]
  },
  {
   "cell_type": "code",
   "execution_count": 8,
   "id": "3c6eca9f-9b64-4451-80c7-e7d68c619d48",
   "metadata": {},
   "outputs": [],
   "source": [
    "#viewer.volumes()"
   ]
  },
  {
   "cell_type": "code",
   "execution_count": 9,
   "id": "b7702751-41ab-440e-b37a-4b8eaebc8038",
   "metadata": {},
   "outputs": [],
   "source": [
    "#viewer.densities()"
   ]
  },
  {
   "cell_type": "code",
   "execution_count": 10,
   "id": "9aa6818b-0cc6-4b46-a88c-cea8f4290635",
   "metadata": {},
   "outputs": [],
   "source": [
    "#viewer.inertias()"
   ]
  },
  {
   "cell_type": "code",
   "execution_count": 11,
   "id": "880c27d9-ad62-4d50-b80d-6fb46bd9f45e",
   "metadata": {},
   "outputs": [],
   "source": [
    "#viewer.get_contacts(99)"
   ]
  },
  {
   "cell_type": "code",
   "execution_count": 12,
   "id": "00697127-f355-4974-b958-fa26b5f45d39",
   "metadata": {},
   "outputs": [],
   "source": [
    "#viewer.x_starts()"
   ]
  },
  {
   "cell_type": "code",
   "execution_count": 13,
   "id": "ccc357ce-c6a7-42f3-ba28-35d857ee0a81",
   "metadata": {},
   "outputs": [],
   "source": [
    "#viewer.x_ends()"
   ]
  },
  {
   "cell_type": "code",
   "execution_count": 14,
   "id": "88d919b0-fc86-4687-971c-5e1ebfd9f3f6",
   "metadata": {},
   "outputs": [],
   "source": [
    "#viewer.get_z_at(30., 10)"
   ]
  },
  {
   "cell_type": "markdown",
   "id": "80cae896-3b05-4038-928d-0f7729fcc4eb",
   "metadata": {},
   "source": [
    "## Terrain profile\n",
    "\n",
    "Since a PlatRock-2D-shape simulation is based on a natural terrain profile, we create an instance of **zProfile** class and populate it by importing the points contained in the file *terrain.csv*."
   ]
  },
  {
   "cell_type": "code",
   "execution_count": 15,
   "id": "6c195bb2-8cc0-4dee-b51c-55d8e6d9f164",
   "metadata": {},
   "outputs": [
    {
     "data": {
      "text/plain": [
       "True"
      ]
     },
     "execution_count": 15,
     "metadata": {},
     "output_type": "execute_result"
    }
   ],
   "source": [
    "terrain = zProfile()\n",
    "filename = \"C:\\\\Users\\\\cr26739\\Documents\\\\GitHub\\\\pyLong\\\\docs\\\\source\\\\notebooks\\\\toolbox\\\\platrock2d_shape_viewer\\\\terrain.csv\"\n",
    "terrain.from_txt(filename)\n",
    "#terrain.name = \"natural terrain\""
   ]
  },
  {
   "cell_type": "code",
   "execution_count": 16,
   "id": "bd09e13a-6994-4a07-b3c8-64adc1eb0b00",
   "metadata": {},
   "outputs": [],
   "source": [
    "# print the list of points\n",
    "#terrain.listing()"
   ]
  },
  {
   "cell_type": "code",
   "execution_count": 17,
   "id": "f846a68d-9ff0-4daa-bb26-f9406f3773e1",
   "metadata": {},
   "outputs": [],
   "source": [
    "# set terrain profile style\n",
    "terrain.label = \"natural terrain\"\n",
    "terrain.line_color = \"Green\"\n",
    "terrain.line_thickness = 2\n",
    "terrain.order = 2"
   ]
  },
  {
   "cell_type": "code",
   "execution_count": 18,
   "id": "34c3e386-073d-4907-b69d-3e702510a302",
   "metadata": {},
   "outputs": [],
   "source": [
    "trajectories = []\n",
    "N = 100\n",
    "for i in random.sample(range(viewer.rocks_number()), N):\n",
    "    trajectory = viewer.get_trajectory(i, dx=1.)\n",
    "    if trajectory is not None:\n",
    "        trajectory.line_color = random.choice(list(html_colors.keys()))\n",
    "        trajectory.line_thickness = 0.5\n",
    "        trajectories.append(trajectory)"
   ]
  },
  {
   "cell_type": "code",
   "execution_count": 19,
   "id": "bdbb8ea7-a9a6-42a0-9ee6-1b33b939492a",
   "metadata": {},
   "outputs": [
    {
     "data": {
      "image/png": "[encoded data removed]",
      "text/plain": [
       "<Figure size 1000x1000 with 1 Axes>"
      ]
     },
     "metadata": {},
     "output_type": "display_data"
    }
   ],
   "source": [
    "# plot the natural terrain profile\n",
    "fig, ax = plt.subplots(figsize=(10, 10))\n",
    "\n",
    "ax.set_xlim((-5, 190))\n",
    "ax.set_xlabel(\"x [m]\")\n",
    "\n",
    "ax.set_ylim((245, 350))\n",
    "ax.set_ylabel(\"z [m]\")\n",
    "\n",
    "ax.set_aspect('equal')\n",
    "\n",
    "terrain.plot(ax)\n",
    "#trajectory.plot(ax)\n",
    "for trajectory in trajectories:\n",
    "    trajectory.plot(ax)\n",
    "\n",
    "ax.legend(loc='best')\n",
    "\n",
    "plt.show()"
   ]
  },
  {
   "cell_type": "code",
   "execution_count": 20,
   "id": "02d2c775-52ab-45de-a5df-51fca3cec3cf",
   "metadata": {},
   "outputs": [
    {
     "data": {
      "text/plain": [
       "100"
      ]
     },
     "execution_count": 20,
     "metadata": {},
     "output_type": "execute_result"
    }
   ],
   "source": [
    "len(trajectories)"
   ]
  },
  {
   "cell_type": "code",
   "execution_count": 21,
   "id": "877bbbb0-3425-4fea-97c6-cd4a7912190c",
   "metadata": {},
   "outputs": [],
   "source": [
    "trajectories[0].interpolate(x=16)"
   ]
  },
  {
   "cell_type": "code",
   "execution_count": 22,
   "id": "da98e255-8a30-4462-b78a-6d1d5847d215",
   "metadata": {},
   "outputs": [
    {
     "name": "stdout",
     "output_type": "stream",
     "text": [
      "point 0: x = 16.119 m ; z = 327.193 m\n",
      "point 1: x = 17.119 m ; z = 323.555 m\n",
      "point 2: x = 18.119 m ; z = 322.091 m\n",
      "point 3: x = 18.167 m ; z = 322.021 m\n"
     ]
    }
   ],
   "source": [
    "trajectories[0].listing()"
   ]
  },
  {
   "cell_type": "code",
   "execution_count": 44,
   "id": "12c2e4f7-19bb-4c8d-a782-6b074439006d",
   "metadata": {},
   "outputs": [],
   "source": [
    "x = 87\n",
    "dz = []\n",
    "for trajectory in trajectories:\n",
    "    z = trajectory.interpolate(x)\n",
    "    z_tn = terrain.interpolate(x)\n",
    "    if not (z is None or z_tn is None):\n",
    "        if z - z_tn >= 0:\n",
    "            dz.append(z - z_tn)\n",
    "        else:\n",
    "            dz.append(0.)"
   ]
  },
  {
   "cell_type": "code",
   "execution_count": 45,
   "id": "015c652a-48fa-4132-a570-c9784e1d63fa",
   "metadata": {},
   "outputs": [
    {
     "name": "stdout",
     "output_type": "stream",
     "text": [
      "0.8009706434369832\n",
      "1.4153043456256569\n",
      "1.2114610394805254\n",
      "0.8341639232146463\n",
      "0.6590472135297887\n",
      "0.1693995940221953\n",
      "0.294588428062184\n",
      "0.46929805222606547\n",
      "0.0\n",
      "0.26308924318891513\n",
      "0.21790273705528307\n",
      "0.0\n",
      "0.5045155880660559\n",
      "0.2746114594825144\n",
      "3.885728556304514\n",
      "0.39311090103922197\n",
      "0.008790109466474405\n",
      "0.37432800448033277\n",
      "0.0\n",
      "0.6789214064172029\n",
      "0.3164711396263442\n",
      "1.0627437076651063\n",
      "0.0\n",
      "0.8163847623047786\n",
      "0.0\n",
      "0.05437753337804452\n",
      "0.2112702447628294\n",
      "1.1792443960717378\n",
      "0.2205822811410485\n",
      "0.1153456200815981\n",
      "0.20275448905613302\n",
      "0.20125223358019184\n",
      "0.42295910816505966\n",
      "0.0\n",
      "0.0\n",
      "1.411268227050698\n",
      "0.012576705330900495\n",
      "5.860189431329388\n",
      "0.5493364142332666\n",
      "2.2632329897201657\n",
      "0.0\n",
      "0.2251333459256557\n",
      "0.5718499408307025\n",
      "0.0\n",
      "0.0\n",
      "0.807799206153561\n",
      "0.28919219795693607\n",
      "0.3625017922499296\n",
      "0.0\n",
      "0.0\n",
      "0.7265556455978412\n",
      "0.0\n",
      "0.46457925162621905\n",
      "0.0\n"
     ]
    }
   ],
   "source": [
    "for value in dz:\n",
    "    print(value)"
   ]
  },
  {
   "cell_type": "code",
   "execution_count": 41,
   "id": "11d677fd-90cd-48b4-9765-87a52cf5fec6",
   "metadata": {},
   "outputs": [
    {
     "data": {
      "text/plain": [
       "0.3963799914967491"
      ]
     },
     "execution_count": 41,
     "metadata": {},
     "output_type": "execute_result"
    }
   ],
   "source": [
    "np.std(dz)"
   ]
  },
  {
   "cell_type": "code",
   "execution_count": null,
   "id": "cdb8c115-59e0-4ca4-bad4-b75df1bec809",
   "metadata": {},
   "outputs": [],
   "source": []
  }
 ],
 "metadata": {
  "kernelspec": {
   "display_name": "Python 3 (ipykernel)",
   "language": "python",
   "name": "python3"
  },
  "language_info": {
   "codemirror_mode": {
    "name": "ipython",
    "version": 3
   },
   "file_extension": ".py",
   "mimetype": "text/x-python",
   "name": "python",
   "nbconvert_exporter": "python",
   "pygments_lexer": "ipython3",
   "version": "3.9.15"
  }
 },
 "nbformat": 4,
 "nbformat_minor": 5
}
