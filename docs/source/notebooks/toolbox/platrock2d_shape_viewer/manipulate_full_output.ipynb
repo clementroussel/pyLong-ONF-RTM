{
 "cells": [
  {
   "cell_type": "markdown",
   "id": "0b0e027f-3ca0-43f0-a400-175cea9f660d",
   "metadata": {},
   "source": [
    "# Manipulation du fichier de résultats en sortie de PlatRock2DShape"
   ]
  },
  {
   "cell_type": "markdown",
   "id": "67119a8f-4b7c-4ef4-b0a8-2c9b2e2ed2c1",
   "metadata": {},
   "source": [
    "**Dépendances:**\n",
    "- [tables](https://pypi.org/project/tables/)\n",
    "\n",
    "> PyTables is a package for managing hierarchical datasets and designed to efficiently cope with extremely large amounts of data. PyTables is built on top of the HDF5 library and the NumPy package and features an object-oriented interface that, combined with C-code generated from Cython sources, makes of it a fast, yet extremely easy to use tool for interactively save and retrieve large amounts of data."
   ]
  },
  {
   "cell_type": "code",
   "execution_count": 1,
   "id": "1dc16eaf-1fd7-4a8b-83fb-903dd943103f",
   "metadata": {},
   "outputs": [],
   "source": [
    "import tables"
   ]
  },
  {
   "cell_type": "markdown",
   "id": "8619838f-911c-4615-9201-bf0de24c668e",
   "metadata": {},
   "source": [
    "### Ouverture du fichier de résultats *full_output.hdf5*"
   ]
  },
  {
   "cell_type": "code",
   "execution_count": 2,
   "id": "cb30114f-645d-4d25-91da-107b9f81e8c8",
   "metadata": {},
   "outputs": [],
   "source": [
    "hdf5_file = tables.open_file(\"full_output.hdf5\")"
   ]
  },
  {
   "cell_type": "markdown",
   "id": "82cd9e22-9b5a-4684-9044-8eaf8de9828f",
   "metadata": {},
   "source": [
    "### Contenu du fichier"
   ]
  },
  {
   "cell_type": "code",
   "execution_count": 4,
   "id": "c8064faf-73b4-4713-9dec-0185baf432e9",
   "metadata": {
    "tags": []
   },
   "outputs": [],
   "source": [
    "#print(hdf5_file)"
   ]
  },
  {
   "cell_type": "code",
   "execution_count": 6,
   "id": "ffd85ee0-431f-4ef8-bcd3-ba64396f5181",
   "metadata": {
    "tags": []
   },
   "outputs": [],
   "source": [
    "#for node in hdf5_file:\n",
    "#    print(node)"
   ]
  },
  {
   "cell_type": "code",
   "execution_count": 8,
   "id": "c547a789-b2cd-4b30-a142-8cd72423f645",
   "metadata": {
    "tags": []
   },
   "outputs": [],
   "source": [
    "#for group in hdf5_file.walk_groups():\n",
    "#    print(group)"
   ]
  },
  {
   "cell_type": "code",
   "execution_count": 10,
   "id": "255ca783-d59d-4940-af58-2f11b219855f",
   "metadata": {},
   "outputs": [],
   "source": [
    "#rock = hdf5_file.get_node(\"/rocks/contacts/10\",\"\")\n",
    "#obj = h5file.get_node(\"/checkpoints/1400.0\",\"\")\n",
    "#obj = h5file.get_node(\"/rocks/start_data\",\"\")"
   ]
  },
  {
   "cell_type": "markdown",
   "id": "c0e9e8bc-daa0-4817-bed9-f2274bebb3a1",
   "metadata": {},
   "source": [
    "### Accéder au noeud *start_data*"
   ]
  },
  {
   "cell_type": "code",
   "execution_count": 11,
   "id": "1623c43f-c4c6-4670-8a48-80078cd81949",
   "metadata": {},
   "outputs": [],
   "source": [
    "start_data = hdf5_file.get_node(\"/rocks/start_data\", \"\")"
   ]
  },
  {
   "cell_type": "code",
   "execution_count": 26,
   "id": "6e619cf3-8138-477b-b908-aedd1f681d7d",
   "metadata": {},
   "outputs": [],
   "source": [
    "#start_data"
   ]
  },
  {
   "cell_type": "code",
   "execution_count": 27,
   "id": "38a6e919-8c5f-44c1-808e-6bbb085ac129",
   "metadata": {},
   "outputs": [],
   "source": [
    "#start_data.shape"
   ]
  },
  {
   "cell_type": "code",
   "execution_count": 33,
   "id": "3db1997e-a3d1-44e6-afcf-f52347eb9d5b",
   "metadata": {},
   "outputs": [],
   "source": [
    "#start_data.read()"
   ]
  },
  {
   "cell_type": "markdown",
   "id": "b96a9765-2b60-4847-8982-738e1b91a9e1",
   "metadata": {},
   "source": [
    "Les données d'entrée sont organisées de la manière suivante:\n",
    "- une ligne correspond à un bloc:\n",
    "    - la première colonne contient le volume du bloc ($m^3$);\n",
    "    - la deuxième colonne contient la densité du bloc;\n",
    "    - la troisième colonne contient l'inertie du bloc ($kg.m^2$).\n",
    "    \n",
    "Il y a donc autant de lignes que de blocs simulés. Ici 1000."
   ]
  },
  {
   "cell_type": "markdown",
   "id": "29b940ab-c5fc-490d-9172-b2c805afe88f",
   "metadata": {},
   "source": [
    "### Accéder aux points de contact d'un bloc"
   ]
  },
  {
   "cell_type": "code",
   "execution_count": 16,
   "id": "5a192f68-00c5-41ab-a09b-30130a5e4d6a",
   "metadata": {},
   "outputs": [],
   "source": [
    "contacts = hdf5_file.get_node(\"/rocks/contacts\", \"\") "
   ]
  },
  {
   "cell_type": "code",
   "execution_count": 28,
   "id": "f61b0610-7989-4d78-88c8-08732524e4c2",
   "metadata": {},
   "outputs": [],
   "source": [
    "#contacts._v_nchildren"
   ]
  },
  {
   "cell_type": "code",
   "execution_count": 23,
   "id": "1bb502cb-1507-4d1b-a745-6e5bc9956a5c",
   "metadata": {},
   "outputs": [],
   "source": [
    "#dir(contacts)"
   ]
  },
  {
   "cell_type": "code",
   "execution_count": 19,
   "id": "801a3cac-4135-4db8-a51d-de12ba998034",
   "metadata": {},
   "outputs": [],
   "source": [
    "bloc = hdf5_file.get_node(\"/rocks/contacts/0\", \"\")"
   ]
  },
  {
   "cell_type": "code",
   "execution_count": 25,
   "id": "bc806ffc-f46a-43af-863e-447bfff8f409",
   "metadata": {},
   "outputs": [],
   "source": [
    "#bloc"
   ]
  },
  {
   "cell_type": "code",
   "execution_count": 24,
   "id": "980f934e-cdae-49dc-a967-7ef0a5739a3b",
   "metadata": {},
   "outputs": [],
   "source": [
    "#bloc.shape"
   ]
  },
  {
   "cell_type": "code",
   "execution_count": 31,
   "id": "1924cedd-b7c7-4c09-b1d9-0f97f6afda0d",
   "metadata": {},
   "outputs": [],
   "source": [
    "#bloc.read()"
   ]
  },
  {
   "cell_type": "markdown",
   "id": "a60a2cf0-d9ce-4fee-be35-0988f8c92c2e",
   "metadata": {},
   "source": [
    "Ce tableau contient les points de contact du bloc avec le terrain naturel:\n",
    "- le nombre de ligne varie suivant le bloc sélectionné;\n",
    "- les 8 colonnes contiennent dans l'order:\n",
    "    - le type de contact:\n",
    "        - 0: start\n",
    "        - 1: soil\n",
    "        - 2: tree\n",
    "        - 3: roll tree\n",
    "        - 4: roll\n",
    "        - 5: stop\n",
    "        - 6: out\n",
    "        - 7: fly\n",
    "        - 8: motion\n",
    "    - la distance sur profil $x$ (m);\n",
    "    - l'altitude $z$ (m);\n",
    "    - la composante horizontale du vecteur vitesse $v_x$ (m/s);\n",
    "    - la composante verticale du vecteur vitesse $v_z$ (m/s);\n",
    "    - la vitesse de rotation $\\dot{\\theta}$ (rad/s);\n",
    "    - la composante horizontale de la normale au plan de contact $N_x$;\n",
    "    - la composante verticale de la normale au plan de contact $N_z$."
   ]
  }
 ],
 "metadata": {
  "kernelspec": {
   "display_name": "Python 3 (ipykernel)",
   "language": "python",
   "name": "python3"
  },
  "language_info": {
   "codemirror_mode": {
    "name": "ipython",
    "version": 3
   },
   "file_extension": ".py",
   "mimetype": "text/x-python",
   "name": "python",
   "nbconvert_exporter": "python",
   "pygments_lexer": "ipython3",
   "version": "3.9.15"
  }
 },
 "nbformat": 4,
 "nbformat_minor": 5
}
