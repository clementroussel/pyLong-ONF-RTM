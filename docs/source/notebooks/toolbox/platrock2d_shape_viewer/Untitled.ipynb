{
 "cells": [
  {
   "cell_type": "code",
   "execution_count": 1,
   "id": "dbb71d4a-b813-4bf2-9b2c-a990b723cee5",
   "metadata": {},
   "outputs": [],
   "source": [
    "import numpy as np"
   ]
  },
  {
   "cell_type": "code",
   "execution_count": 6,
   "id": "2df9cf7d-5c24-4e7e-b533-6a136a0aaa8f",
   "metadata": {},
   "outputs": [
    {
     "data": {
      "text/plain": [
       "array([ 0.        ,  0.33333333,  0.66666667,  1.        ,  1.33333333,\n",
       "        1.66666667,  2.        ,  2.33333333,  2.66666667,  3.        ,\n",
       "        3.33333333,  3.66666667,  4.        ,  4.33333333,  4.66666667,\n",
       "        5.        ,  5.33333333,  5.66666667,  6.        ,  6.33333333,\n",
       "        6.66666667,  7.        ,  7.33333333,  7.66666667,  8.        ,\n",
       "        8.33333333,  8.66666667,  9.        ,  9.33333333,  9.66666667,\n",
       "       10.        , 10.33333333])"
      ]
     },
     "execution_count": 6,
     "metadata": {},
     "output_type": "execute_result"
    }
   ],
   "source": [
    "np.arange(0, 10 + 1./3., 1./3.)"
   ]
  },
  {
   "cell_type": "code",
   "execution_count": null,
   "id": "78f09466-75a9-4fc6-b570-3099baecde82",
   "metadata": {},
   "outputs": [],
   "source": []
  }
 ],
 "metadata": {
  "kernelspec": {
   "display_name": "Python 3 (ipykernel)",
   "language": "python",
   "name": "python3"
  },
  "language_info": {
   "codemirror_mode": {
    "name": "ipython",
    "version": 3
   },
   "file_extension": ".py",
   "mimetype": "text/x-python",
   "name": "python",
   "nbconvert_exporter": "python",
   "pygments_lexer": "ipython3",
   "version": "3.9.15"
  }
 },
 "nbformat": 4,
 "nbformat_minor": 5
}
