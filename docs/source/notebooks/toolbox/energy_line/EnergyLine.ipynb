{
 "cells": [
  {
   "cell_type": "markdown",
   "id": "7fbf651c-5eee-46c2-83ce-635023c40747",
   "metadata": {
    "tags": []
   },
   "source": [
    "# EnergyLine"
   ]
  },
  {
   "cell_type": "markdown",
   "id": "a6fd1bf0-dd59-4e4f-8095-dd1c3f3d92cd",
   "metadata": {},
   "source": [
    "## Table of contents"
   ]
  },
  {
   "cell_type": "markdown",
   "id": "3b38fe49-647a-4237-ada4-fe27f2fafc32",
   "metadata": {},
   "source": [
    "- [Import EnergyLine class](#Import-EnergyLine-class)"
   ]
  },
  {
   "cell_type": "markdown",
   "id": "dfbad41a-12e8-4b03-b63c-249764131fe7",
   "metadata": {},
   "source": [
    "- [Constructor](#Constructor)"
   ]
  },
  {
   "cell_type": "markdown",
   "id": "6b50503b-e1a9-42d0-b186-2be53ef1bc60",
   "metadata": {},
   "source": [
    "- [Attributes](#Attributes)"
   ]
  },
  {
   "cell_type": "markdown",
   "id": "e49d377e-800a-43d5-977a-92968cac8131",
   "metadata": {},
   "source": [
    "- [Methods](#Methods)\n",
    "    - [copy style](#copy-style)\n",
    "    - [export style](#export-style)\n",
    "    - [import style](#import-style)\n",
    "    - [plot](#plot)\n",
    "    - [run](#run)"
   ]
  },
  {
   "cell_type": "markdown",
   "id": "54067962-14e2-4233-8662-45477cfc03e9",
   "metadata": {},
   "source": [
    "- [Examples](#Examples)\n",
    "    - [example 1](#example-1)\n",
    "    - [example 2](#example-2)\n",
    "    - [example 3](#example-3)"
   ]
  },
  {
   "cell_type": "markdown",
   "id": "05d1a9b9-a580-45cd-b23b-782f9a6b5a67",
   "metadata": {},
   "source": [
    "## Import EnergyLine class"
   ]
  },
  {
   "cell_type": "code",
   "execution_count": 1,
   "id": "e35d3bed-1a28-4bd3-835d-465f4910e571",
   "metadata": {},
   "outputs": [
    {
     "name": "stdout",
     "output_type": "stream",
     "text": [
      "SQLalchemy is not installed. No support for SQL output.\n"
     ]
    }
   ],
   "source": [
    "from pyLong.toolbox.energy_line import EnergyLine"
   ]
  },
  {
   "cell_type": "markdown",
   "id": "9d96f61d-a6ba-4137-987d-23991b0babfa",
   "metadata": {},
   "source": [
    "## Constructor"
   ]
  },
  {
   "cell_type": "code",
   "execution_count": 2,
   "id": "75a2587d-a4ec-4e6c-a26c-570752564034",
   "metadata": {},
   "outputs": [],
   "source": [
    "energy_line = EnergyLine()"
   ]
  },
  {
   "cell_type": "markdown",
   "id": "cb0074e1-2cca-40cc-93b5-62ea2e33466e",
   "metadata": {},
   "source": [
    "## Attributes"
   ]
  },
  {
   "cell_type": "markdown",
   "id": "02127e56-8406-4b1c-a69b-3b35264def90",
   "metadata": {},
   "source": [
    "| attribute        |  type      | setter | comment |\n",
    "| :---             | :----:     | :----: | :----   |\n",
    "| `name`           | `str`      | yes    |         |\n",
    "| `results`        | `dict`     | no     |         |\n",
    "| `label`          | `str`      | yes    |         |\n",
    "| `xy`             | `list`     | no     |         |\n",
    "| `line_style`     | `str`      | yes    |         |\n",
    "| `line_color`     | `str`      | yes    |         |\n",
    "| `line_thickness` | `float`    | yes    | must be positive |\n",
    "| `marker_style`   | `str`      | yes    |         |\n",
    "| `marker_color`   | `str`      | yes    |         |\n",
    "| `marker_size`    | `float`    | yes    | must be positive |\n",
    "| `opacity`        | `float` | yes    | must be between 0 and 1 |\n",
    "| `order`          | `int`   | yes    | must be positive |\n",
    "| `visible`        | `bool`  | yes    |         |"
   ]
  },
  {
   "cell_type": "markdown",
   "id": "da427fd7-ef8d-4061-ab2a-4f0d3e8e0cef",
   "metadata": {
    "tags": []
   },
   "source": [
    "## Methods"
   ]
  },
  {
   "cell_type": "markdown",
   "id": "cc0070f8-b886-45f5-8972-ad39048227f0",
   "metadata": {},
   "source": [
    "### copy style\n",
    "```python\n",
    "EnergyLine.copy_style(self, line)\n",
    "```"
   ]
  },
  {
   "cell_type": "code",
   "execution_count": 3,
   "id": "56dce50f-3136-4193-b592-5d9d6901db70",
   "metadata": {},
   "outputs": [
    {
     "name": "stdout",
     "output_type": "stream",
     "text": [
      "Help on function copy_style in module pyLong.toolbox.energy_line:\n",
      "\n",
      "copy_style(self, energy_line)\n",
      "    copy the style of an energy line\n",
      "    \n",
      "    arguments:\n",
      "    - energy_line: energy line whose style is to be copied - EnergyLine\n",
      "    \n",
      "    returns:\n",
      "    - True if success - bool\n",
      "    - False else - bool\n",
      "    \n",
      "    examples:\n",
      "    >>> new_energy_line.copy_style(energy_line)\n",
      "\n"
     ]
    }
   ],
   "source": [
    "help(EnergyLine.copy_style)"
   ]
  },
  {
   "cell_type": "markdown",
   "id": "5aa02779-f160-4b6b-bfc1-b45019ef014c",
   "metadata": {},
   "source": [
    "### export style\n",
    "```python\n",
    "EnergyLine.export_style(self, filename)\n",
    "```"
   ]
  },
  {
   "cell_type": "code",
   "execution_count": 4,
   "id": "9d0b14e7-8c0a-494a-9d7b-1bcdca18b4df",
   "metadata": {},
   "outputs": [
    {
     "name": "stdout",
     "output_type": "stream",
     "text": [
      "Help on function export_style in module pyLong.toolbox.energy_line:\n",
      "\n",
      "export_style(self, filename)\n",
      "    export energy line style to a .json file\n",
      "    \n",
      "    arguments:\n",
      "    - filename: .json file path - str\n",
      "    \n",
      "    returns:\n",
      "    - True if success - bool\n",
      "    - False else - bool\n",
      "    \n",
      "    examples:\n",
      "    >>> energy_line.export_style(\"style.json\")\n",
      "\n"
     ]
    }
   ],
   "source": [
    "help(EnergyLine.export_style)"
   ]
  },
  {
   "cell_type": "markdown",
   "id": "627c62f4-22fd-40c2-aeaa-0f6da6e52e8c",
   "metadata": {},
   "source": [
    "### import style\n",
    "```python\n",
    "EnergyLine.import_style(self, filename)\n",
    "```"
   ]
  },
  {
   "cell_type": "code",
   "execution_count": 5,
   "id": "594e1996-4c93-4cf5-9f49-1ffbd39c7e1d",
   "metadata": {},
   "outputs": [
    {
     "name": "stdout",
     "output_type": "stream",
     "text": [
      "Help on function import_style in module pyLong.toolbox.energy_line:\n",
      "\n",
      "import_style(self, filename)\n",
      "    import energy line style from a .json file\n",
      "    \n",
      "    arguments:\n",
      "    - filename: .json file path - str\n",
      "    \n",
      "    returns:\n",
      "    - True if success - bool\n",
      "    - False else - bool\n",
      "    \n",
      "    examples:\n",
      "    >>> energy_line.import_style(\"style.json\")\n",
      "\n"
     ]
    }
   ],
   "source": [
    "help(EnergyLine.import_style)"
   ]
  },
  {
   "cell_type": "markdown",
   "id": "72056c59-71ad-45c1-b0f8-01257247ec6d",
   "metadata": {},
   "source": [
    "### plot\n",
    "```python\n",
    "EnergyLine.plot(self, ax)\n",
    "```"
   ]
  },
  {
   "cell_type": "code",
   "execution_count": 6,
   "id": "b8e25f57-6033-4b82-a6ce-724dc0e4c5be",
   "metadata": {},
   "outputs": [
    {
     "name": "stdout",
     "output_type": "stream",
     "text": [
      "Help on function plot in module pyLong.toolbox.energy_line:\n",
      "\n",
      "plot(self, ax)\n",
      "    plot energy line on a matplotlib subplot\n",
      "    \n",
      "    arguments:\n",
      "    - ax: matplotlib subplot - matplotlib.axes._subplots.AxesSubplot\n",
      "    \n",
      "    returns:\n",
      "    - None - NoneType\n",
      "    \n",
      "    examples:\n",
      "    >>> from matplotlib import pyplot as plt\n",
      "    >>> fig, ax = plt.subplots()\n",
      "    >>> energy_line.plot(ax)\n",
      "    >>> plt.show()\n",
      "\n"
     ]
    }
   ],
   "source": [
    "help(EnergyLine.plot)"
   ]
  },
  {
   "cell_type": "markdown",
   "id": "5765a890-a9fc-4c54-9280-e49f4472ba87",
   "metadata": {},
   "source": [
    "### run\n",
    "```python\n",
    "EnergyLine.run(self, zprofile, reverse=False, **kwargs)\n",
    "```"
   ]
  },
  {
   "cell_type": "code",
   "execution_count": 7,
   "id": "5c166b24-ad8a-4c17-b2d9-b1b9fb77f8ba",
   "metadata": {},
   "outputs": [
    {
     "name": "stdout",
     "output_type": "stream",
     "text": [
      "Help on function run in module pyLong.toolbox.energy_line:\n",
      "\n",
      "run(self, zprofile, reverse=False, **kwargs)\n",
      "    run calculation\n",
      "    \n",
      "    arguments:\n",
      "    - zprofile: profile - zProfile\n",
      "    - reverse: reverse the profile - bool\n",
      "    - method: method \"x_start + x_end\" | \"x_start + angle\" | \"x_end + angle\" - str\n",
      "    - x_start: start distance (m) - int | float\n",
      "    - x_end: end distance (m) - int | float\n",
      "    - angle: angle (deg) - int | float\n",
      "    \n",
      "    returns:\n",
      "    - True if succes - bool\n",
      "    - False else - bool\n",
      "    \n",
      "    examples:\n",
      "    >>> energy_line.run(zprofile, method=\"start + end\", x_start=0., x_end=1000.)\n",
      "    >>> energy_line.run(zprofile, reverse=False, method=\"start + angle\", x_start=0., angle=35.)\n",
      "    >>> energy_line.run(zprofile, reverse=False, method=\"end + angle\", x_end=1000., angle=35.)\n",
      "\n"
     ]
    }
   ],
   "source": [
    "help(EnergyLine.run)"
   ]
  },
  {
   "cell_type": "markdown",
   "id": "1db962d2-e1fe-4313-a61e-c2e706539ec7",
   "metadata": {},
   "source": [
    "## Examples"
   ]
  },
  {
   "cell_type": "markdown",
   "id": "3b708a3e-7519-4628-80b4-6cc915749b27",
   "metadata": {},
   "source": [
    "### example 1"
   ]
  },
  {
   "cell_type": "code",
   "execution_count": 8,
   "id": "9c6a9003-8b2a-4516-96f7-c65c113a035b",
   "metadata": {},
   "outputs": [],
   "source": [
    "from matplotlib import pyplot as plt\n",
    "\n",
    "from pyLong.profiles.zprofile import zProfile\n",
    "from pyLong.toolbox.energy_line import EnergyLine"
   ]
  },
  {
   "cell_type": "code",
   "execution_count": 9,
   "id": "8d961e7c-fd11-4f6c-8f44-de2852844322",
   "metadata": {},
   "outputs": [],
   "source": [
    "zprofile = zProfile()\n",
    "zprofile.xz = [(0., 1000.),\n",
    "               (200., 500.),\n",
    "               (400., 300.),\n",
    "               (600., 200.),\n",
    "               (1000., 0.)]\n",
    "zprofile.label = \"terrain\"\n",
    "zprofile.line_color = \"Green\""
   ]
  },
  {
   "cell_type": "code",
   "execution_count": 10,
   "id": "12dbd993-323b-4e94-b4e4-bfa383e937b0",
   "metadata": {},
   "outputs": [
    {
     "data": {
      "text/plain": [
       "True"
      ]
     },
     "execution_count": 10,
     "metadata": {},
     "output_type": "execute_result"
    }
   ],
   "source": [
    "energy_line = EnergyLine()\n",
    "energy_line.run(zprofile,\n",
    "                method=\"x_start + x_end\",\n",
    "                x_start=100.,\n",
    "                x_end=900.)"
   ]
  },
  {
   "cell_type": "code",
   "execution_count": 11,
   "id": "ff88ea57-e48f-4a07-a524-d43bf4e0f93f",
   "metadata": {},
   "outputs": [
    {
     "data": {
      "text/plain": [
       "{'zprofile': new zprofile,\n",
       " 'reverse': False,\n",
       " 'method': 'x_start + x_end',\n",
       " 'x_start': 100.0,\n",
       " 'z_start': 750.0,\n",
       " 'x_end': 900.0,\n",
       " 'z_end': 50.0,\n",
       " 'angle': 41.18592516570965,\n",
       " 'success': True}"
      ]
     },
     "execution_count": 11,
     "metadata": {},
     "output_type": "execute_result"
    }
   ],
   "source": [
    "energy_line.results"
   ]
  },
  {
   "cell_type": "code",
   "execution_count": 12,
   "id": "44c0d8f4-f4b0-4648-9d66-37612c508323",
   "metadata": {},
   "outputs": [],
   "source": [
    "energy_line.name = \"an energy line\"\n",
    "energy_line.label = \"energy line\"\n",
    "energy_line.line_style = \"dashed\"\n",
    "energy_line.line_color = \"Red\"\n",
    "energy_line.line_thickness = 2.\n",
    "energy_line.marker_style = \"none\"\n",
    "energy_line.marker_color = \"None\"\n",
    "energy_line.marker_size = 0.\n",
    "energy_line.opacity = 1.\n",
    "energy_line.order = 1\n",
    "energy_line.visible = True"
   ]
  },
  {
   "cell_type": "code",
   "execution_count": 13,
   "id": "272226d9-6803-4948-96f2-df0371fbd9e0",
   "metadata": {},
   "outputs": [
    {
     "data": {
      "image/png": "[encoded data removed]",
      "text/plain": [
       "<Figure size 500x500 with 1 Axes>"
      ]
     },
     "metadata": {},
     "output_type": "display_data"
    }
   ],
   "source": [
    "fig, ax = plt.subplots(figsize=(5, 5))\n",
    "ax.set_xlim((-50., 1050.))\n",
    "ax.set_ylim((-50., 1050.))\n",
    "ax.set_aspect(\"equal\")\n",
    "\n",
    "zprofile.plot(ax)\n",
    "energy_line.plot(ax)\n",
    "\n",
    "ax.legend(loc=\"best\")\n",
    "plt.tight_layout()\n",
    "plt.show()"
   ]
  },
  {
   "cell_type": "markdown",
   "id": "12875c42-d950-4695-ae7c-6d1847d60097",
   "metadata": {},
   "source": [
    "### example 2"
   ]
  },
  {
   "cell_type": "code",
   "execution_count": 14,
   "id": "7185fe17-675e-4fa4-bb12-db46f34382fe",
   "metadata": {},
   "outputs": [],
   "source": [
    "from matplotlib import pyplot as plt\n",
    "\n",
    "from pyLong.profiles.zprofile import zProfile\n",
    "from pyLong.toolbox.energy_line import EnergyLine"
   ]
  },
  {
   "cell_type": "code",
   "execution_count": 15,
   "id": "12e551a8-b944-4bfe-8cb3-68125bd671e5",
   "metadata": {},
   "outputs": [],
   "source": [
    "zprofile = zProfile()\n",
    "zprofile.xz = [(0., 1000.),\n",
    "               (200., 500.),\n",
    "               (400., 300.),\n",
    "               (600., 200.),\n",
    "               (1000., 0.)]\n",
    "zprofile.label = \"terrain\"\n",
    "zprofile.line_color = \"Green\""
   ]
  },
  {
   "cell_type": "code",
   "execution_count": 16,
   "id": "094432d6-fd78-4646-af4c-6ae39037b8d5",
   "metadata": {},
   "outputs": [
    {
     "data": {
      "text/plain": [
       "True"
      ]
     },
     "execution_count": 16,
     "metadata": {},
     "output_type": "execute_result"
    }
   ],
   "source": [
    "energy_line = EnergyLine()\n",
    "energy_line.run(zprofile,\n",
    "                reverse=False,\n",
    "                method=\"x_start + angle\",\n",
    "                x_start=100.0,\n",
    "                angle=41.186)"
   ]
  },
  {
   "cell_type": "code",
   "execution_count": 17,
   "id": "0e8b056f-bee8-4f7f-a4f0-e440086bb716",
   "metadata": {},
   "outputs": [],
   "source": [
    "energy_line.name = \"an energy line\"\n",
    "energy_line.label = \"energy line\"\n",
    "energy_line.line_style = \"dashed\"\n",
    "energy_line.line_color = \"Red\"\n",
    "energy_line.line_thickness = 2.\n",
    "energy_line.marker_style = \"none\"\n",
    "energy_line.marker_color = \"None\"\n",
    "energy_line.marker_size = 0.\n",
    "energy_line.opacity = 1.\n",
    "energy_line.order = 1\n",
    "energy_line.visible = True"
   ]
  },
  {
   "cell_type": "code",
   "execution_count": 18,
   "id": "feac0f65-3b20-4780-bed2-cfe63b86e672",
   "metadata": {},
   "outputs": [
    {
     "data": {
      "text/plain": [
       "{'zprofile': new zprofile,\n",
       " 'reverse': False,\n",
       " 'method': 'x_start + angle',\n",
       " 'x_start': 100.0,\n",
       " 'z_start': 750.0,\n",
       " 'x_end': 899.9950803633681,\n",
       " 'z_end': 50.00245981831597,\n",
       " 'angle': 41.186,\n",
       " 'success': True}"
      ]
     },
     "execution_count": 18,
     "metadata": {},
     "output_type": "execute_result"
    }
   ],
   "source": [
    "energy_line.results"
   ]
  },
  {
   "cell_type": "code",
   "execution_count": 19,
   "id": "6b66a20d-a992-48a8-89c2-199b0db45801",
   "metadata": {},
   "outputs": [
    {
     "data": {
      "image/png": "[encoded data removed]",
      "text/plain": [
       "<Figure size 500x500 with 1 Axes>"
      ]
     },
     "metadata": {},
     "output_type": "display_data"
    }
   ],
   "source": [
    "fig, ax = plt.subplots(figsize=(5, 5))\n",
    "ax.set_xlim((-50., 1050.))\n",
    "ax.set_ylim((-50., 1050.))\n",
    "ax.set_aspect(\"equal\")\n",
    "\n",
    "zprofile.plot(ax)\n",
    "energy_line.plot(ax)\n",
    "\n",
    "ax.legend(loc=\"best\")\n",
    "plt.tight_layout()\n",
    "plt.show()"
   ]
  },
  {
   "cell_type": "markdown",
   "id": "6f02aa56-c394-4b62-b265-31df175a8594",
   "metadata": {},
   "source": [
    "### example 3"
   ]
  },
  {
   "cell_type": "code",
   "execution_count": 20,
   "id": "6e5deebe-4128-489b-8128-6f57c409cae7",
   "metadata": {},
   "outputs": [],
   "source": [
    "from matplotlib import pyplot as plt\n",
    "\n",
    "from pyLong.profiles.zprofile import zProfile\n",
    "from pyLong.toolbox.energy_line import EnergyLine"
   ]
  },
  {
   "cell_type": "code",
   "execution_count": 21,
   "id": "5f6fd2fe-1446-4c1e-bf53-4654bd9bbbd1",
   "metadata": {},
   "outputs": [],
   "source": [
    "zprofile = zProfile()\n",
    "zprofile.xz = [(0, 0.),\n",
    "               (400., 200.),\n",
    "               (600., 300.),\n",
    "               (800., 500.),\n",
    "               (1000., 1000.)]\n",
    "zprofile.label = \"terrain\"\n",
    "zprofile.line_color = \"Green\""
   ]
  },
  {
   "cell_type": "code",
   "execution_count": 22,
   "id": "49b36018-a6be-4dc0-8be4-c0d91a823100",
   "metadata": {},
   "outputs": [
    {
     "data": {
      "text/plain": [
       "True"
      ]
     },
     "execution_count": 22,
     "metadata": {},
     "output_type": "execute_result"
    }
   ],
   "source": [
    "energy_line = EnergyLine()\n",
    "energy_line.run(zprofile,\n",
    "                reverse=True,\n",
    "                method=\"x_end + angle\",\n",
    "                x_end=100.0,\n",
    "                angle=41.186)"
   ]
  },
  {
   "cell_type": "code",
   "execution_count": 23,
   "id": "660e0268-d6e1-4d29-9cd8-7820c85c919f",
   "metadata": {},
   "outputs": [
    {
     "data": {
      "text/plain": [
       "{'zprofile': new zprofile,\n",
       " 'reverse': True,\n",
       " 'method': 'x_end + angle',\n",
       " 'x_start': 900.0011353093539,\n",
       " 'z_start': 750.0028382733849,\n",
       " 'x_end': 100.0,\n",
       " 'z_end': 50.0,\n",
       " 'angle': 41.186,\n",
       " 'success': True}"
      ]
     },
     "execution_count": 23,
     "metadata": {},
     "output_type": "execute_result"
    }
   ],
   "source": [
    "energy_line.results"
   ]
  },
  {
   "cell_type": "code",
   "execution_count": 24,
   "id": "0a706a70-f68e-4e96-87cb-07cbed52e2ce",
   "metadata": {},
   "outputs": [],
   "source": [
    "energy_line.name = \"an energy line\"\n",
    "energy_line.label = \"energy line\"\n",
    "energy_line.line_style = \"dashed\"\n",
    "energy_line.line_color = \"Red\"\n",
    "energy_line.line_thickness = 2.\n",
    "energy_line.marker_style = \"none\"\n",
    "energy_line.marker_color = \"None\"\n",
    "energy_line.marker_size = 0.\n",
    "energy_line.opacity = 1.\n",
    "energy_line.order = 1\n",
    "energy_line.visible = True"
   ]
  },
  {
   "cell_type": "code",
   "execution_count": 25,
   "id": "4b2680ca-78c0-4a36-b3a5-b18abf2fd6ed",
   "metadata": {},
   "outputs": [
    {
     "data": {
      "image/png": "[encoded data removed]",
      "text/plain": [
       "<Figure size 500x500 with 1 Axes>"
      ]
     },
     "metadata": {},
     "output_type": "display_data"
    }
   ],
   "source": [
    "fig, ax = plt.subplots(figsize=(5, 5))\n",
    "ax.set_xlim((-50., 1050.))\n",
    "ax.set_ylim((-50., 1050.))\n",
    "ax.set_aspect(\"equal\")\n",
    "\n",
    "zprofile.plot(ax)\n",
    "energy_line.plot(ax)\n",
    "\n",
    "ax.legend(loc=\"best\")\n",
    "plt.tight_layout()\n",
    "plt.show()"
   ]
  }
 ],
 "metadata": {
  "kernelspec": {
   "display_name": "Python 3 (ipykernel)",
   "language": "python",
   "name": "python3"
  },
  "language_info": {
   "codemirror_mode": {
    "name": "ipython",
    "version": 3
   },
   "file_extension": ".py",
   "mimetype": "text/x-python",
   "name": "python",
   "nbconvert_exporter": "python",
   "pygments_lexer": "ipython3",
   "version": "3.9.15"
  }
 },
 "nbformat": 4,
 "nbformat_minor": 5
}
