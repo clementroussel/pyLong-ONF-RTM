{
 "cells": [
  {
   "cell_type": "code",
   "execution_count": 1,
   "id": "71101552-6a7b-4c72-8392-87adddb78f06",
   "metadata": {
    "tags": []
   },
   "outputs": [],
   "source": [
    "# ignore these two following instructions...\n",
    "import os\n",
    "os.chdir(\"../../../../../src/main/python/\")"
   ]
  },
  {
   "cell_type": "markdown",
   "id": "3445cf84-928a-4dfd-a6fe-32b292972643",
   "metadata": {},
   "source": [
    "# TimeSeries"
   ]
  },
  {
   "cell_type": "markdown",
   "id": "5e8380f5-59b2-4ac6-a947-e6cfcf137a1b",
   "metadata": {},
   "source": [
    "## Table of contents"
   ]
  },
  {
   "cell_type": "markdown",
   "id": "2477d1cb-8f6f-405d-9da1-d6d1406121f2",
   "metadata": {},
   "source": [
    "- [Import TimeSeries class](#Import-TimeSeries-class)"
   ]
  },
  {
   "cell_type": "markdown",
   "id": "70ca90ef-5dbf-4923-a6dd-21a72fa16320",
   "metadata": {},
   "source": [
    "- [Constructor](#Constructor)"
   ]
  },
  {
   "cell_type": "markdown",
   "id": "30b1d573-bbd8-4fc3-91a2-0e8f2bb7556e",
   "metadata": {},
   "source": [
    "- [Attributes](#Attributes)"
   ]
  },
  {
   "cell_type": "markdown",
   "id": "20012b01-6e2d-461e-aa67-ef159edcf522",
   "metadata": {},
   "source": [
    "- [Methods](#Methods)\n",
    "    - [area](#area)\n",
    "    - [copy style](#copy-style)\n",
    "    - [duplicate](#duplicate)\n",
    "    - [export](#export)\n",
    "    - [export style](#export-style)\n",
    "    - [from txt](#from-txt)\n",
    "    - [import style](#import-style)\n",
    "    - [interpolate](#interpolate)\n",
    "    - [plot](#plot)\n",
    "    - [resample](#resample)\n",
    "    - [reverse](#reverse)"
   ]
  },
  {
   "cell_type": "markdown",
   "id": "29ffba77-b1fe-44a3-964e-1aabd2c77962",
   "metadata": {},
   "source": [
    "- [Examples](#Examples)\n",
    "    - [example 1](#example-1)"
   ]
  },
  {
   "cell_type": "markdown",
   "id": "d37bfbaf-4cd6-48cf-80ed-29a2b1203878",
   "metadata": {},
   "source": [
    "## Import TimeSeries class"
   ]
  },
  {
   "cell_type": "code",
   "execution_count": 2,
   "id": "a448602a-7698-44ad-aeaa-65079caa27e9",
   "metadata": {
    "tags": []
   },
   "outputs": [],
   "source": [
    "from pyLong.toolbox.time_series import TimeSeries"
   ]
  },
  {
   "cell_type": "markdown",
   "id": "2eb7eb05-cbb0-4fb7-ad84-6854b6d25912",
   "metadata": {},
   "source": [
    "## Constructor"
   ]
  },
  {
   "cell_type": "code",
   "execution_count": 3,
   "id": "c8717d1a-92a1-4f07-8851-e9aa20c8f84e",
   "metadata": {
    "tags": []
   },
   "outputs": [],
   "source": [
    "time_series = TimeSeries()"
   ]
  },
  {
   "cell_type": "markdown",
   "id": "cc37f90b-315f-4353-9fc8-9be6bc3facb6",
   "metadata": {},
   "source": [
    "## Attributes"
   ]
  },
  {
   "cell_type": "markdown",
   "id": "c0cf8cd5-cc37-48f0-a85f-3df94ecbf065",
   "metadata": {},
   "source": [
    "| attribute          |  type   | setter | comment |\n",
    "| :---               | :----:  | :----: | :----   |\n",
    "| `name`             | `str`   | yes    |         |\n",
    "| `label`            | `str`   | yes    |         |\n",
    "| `data`             | `list`  | yes    |         |\n",
    "| `times`            | `list`  | no     |         |\n",
    "| `values`           | `list`  | no     |         |\n",
    "| `line_style`       | `str`   | yes    |         |\n",
    "| `line_color`       | `str`   | yes    |         |\n",
    "| `line_thickness`   | `float` | yes    | must be positive |\n",
    "| `marker_style`     | `str`   | yes    |         |\n",
    "| `marker_color`     | `str`   | yes    |         |\n",
    "| `marker_size`      | `float` | yes    | must be positive |\n",
    "| `opacity`          | `float` | yes    | must be between 0 and 1 |\n",
    "| `order`            | `int`   | yes    | must be positive |\n",
    "| `visible`          | `bool`  | yes    |         |"
   ]
  },
  {
   "cell_type": "markdown",
   "id": "8f2a694c-c315-4c6a-9756-ccfb51b11a33",
   "metadata": {
    "tags": []
   },
   "source": [
    "## Methods"
   ]
  },
  {
   "cell_type": "markdown",
   "id": "7e077b55-91aa-4691-bcdb-d3e333967e40",
   "metadata": {},
   "source": [
    "### area\n",
    "```python\n",
    "TimeSeries.area(self)\n",
    "```"
   ]
  },
  {
   "cell_type": "code",
   "execution_count": 4,
   "id": "35cfaa47-c9b4-4659-a833-3d9ec09d9622",
   "metadata": {
    "tags": []
   },
   "outputs": [
    {
     "name": "stdout",
     "output_type": "stream",
     "text": [
      "Help on function area in module pyLong.toolbox.time_series:\n",
      "\n",
      "area(self)\n",
      "    calculate the area below the time series curve\n",
      "    \n",
      "    returns:\n",
      "    - area: area - float\n",
      "    or\n",
      "    - None - NoneType\n",
      "    \n",
      "    examples:\n",
      "    >>> area = time_series.area()\n",
      "\n"
     ]
    }
   ],
   "source": [
    "help(TimeSeries.area)"
   ]
  },
  {
   "cell_type": "markdown",
   "id": "9c76bf7d-414d-4f55-a602-81f759e0bafc",
   "metadata": {},
   "source": [
    "### copy style\n",
    "```python\n",
    "TimeSeries.copy_style(self, time_series)\n",
    "```"
   ]
  },
  {
   "cell_type": "code",
   "execution_count": 5,
   "id": "8ce5ee7e-d4a3-4206-8438-e4aadbc1436f",
   "metadata": {
    "tags": []
   },
   "outputs": [
    {
     "name": "stdout",
     "output_type": "stream",
     "text": [
      "Help on function copy_style in module pyLong.toolbox.time_series:\n",
      "\n",
      "copy_style(self, time_series)\n",
      "    copy the style of a time series\n",
      "    \n",
      "    arguments:\n",
      "    - time_series: time series whose style is to be copied - TimeSeries\n",
      "    \n",
      "    returns:\n",
      "    - True if success - bool\n",
      "    - False else - bool\n",
      "    \n",
      "    examples:\n",
      "    >>> new_time_series.copy_style(time_series)\n",
      "\n"
     ]
    }
   ],
   "source": [
    "help(TimeSeries.copy_style)"
   ]
  },
  {
   "cell_type": "markdown",
   "id": "f8eda778-0f9b-4632-8195-9e0a56c14524",
   "metadata": {},
   "source": [
    "```python\n",
    "TimeSeries.duplicate(self)\n",
    "```"
   ]
  },
  {
   "cell_type": "code",
   "execution_count": 6,
   "id": "82b0cca8-ef8e-4e30-a9f8-edf101858fc7",
   "metadata": {
    "tags": []
   },
   "outputs": [
    {
     "name": "stdout",
     "output_type": "stream",
     "text": [
      "Help on function duplicate in module pyLong.toolbox.time_series:\n",
      "\n",
      "duplicate(self)\n",
      "    duplicate the time series\n",
      "    \n",
      "    returns:\n",
      "    - new_time_series: duplicated time series - TimeSeries\n",
      "    \n",
      "    examples:\n",
      "    >>> new_time_series = time_series.duplicate()\n",
      "\n"
     ]
    }
   ],
   "source": [
    "help(TimeSeries.duplicate)"
   ]
  },
  {
   "cell_type": "markdown",
   "id": "54e8aa06-7fed-4bcc-9c85-c3d8afc1f4de",
   "metadata": {},
   "source": [
    "### export\n",
    "```python\n",
    "TimeSeries.export(self, filename)\n",
    "```"
   ]
  },
  {
   "cell_type": "code",
   "execution_count": 7,
   "id": "5c74a56e-4931-463e-8ccd-955d58dc865c",
   "metadata": {
    "tags": []
   },
   "outputs": [
    {
     "name": "stdout",
     "output_type": "stream",
     "text": [
      "Help on function export in module pyLong.toolbox.time_series:\n",
      "\n",
      "export(self, filename, delimiter='\\t', separator='.', decimals=3, reverse=False, header=['time', 'value'])\n",
      "    export time series data\n",
      "    \n",
      "    arguments:\n",
      "    - filename: file path - str\n",
      "    - delimiter: columns delimiter \"\\t\" | \" \" | \";\" | \",\" - str\n",
      "    - separator: decimal separator \".\" | \";\" - str\n",
      "    - decimals: number of decimals to export - int\n",
      "    - reverse: if True, export from end to start - bool\n",
      "    - header: header, empty list for no header - list of str\n",
      "    \n",
      "    returns:\n",
      "    - True if success - bool\n",
      "    - False else - bool\n",
      "    \n",
      "    examples:\n",
      "    >>> time_series.export(\"time_series.txt\")\n",
      "    >>> time_series.export(\"time_series.txt\", delimiter=\";\", separator=\".\", decimals=2, header=[])\n",
      "\n"
     ]
    }
   ],
   "source": [
    "help(TimeSeries.export)"
   ]
  },
  {
   "cell_type": "markdown",
   "id": "a6e8994e-1a3d-4173-9b57-046a234e6462",
   "metadata": {},
   "source": [
    "### export style\n",
    "```python\n",
    "TimeSeries.export_style(self, filename)\n",
    "```"
   ]
  },
  {
   "cell_type": "code",
   "execution_count": 8,
   "id": "3c128062-6a47-4ecc-ac49-8515a6383c3c",
   "metadata": {},
   "outputs": [
    {
     "name": "stdout",
     "output_type": "stream",
     "text": [
      "Help on function export_style in module pyLong.toolbox.time_series:\n",
      "\n",
      "export_style(self, filename)\n",
      "    export time series style to a .json file\n",
      "    \n",
      "    arguments:\n",
      "    - filename: .json file path - str\n",
      "    \n",
      "    returns:\n",
      "    - True if success - bool\n",
      "    - False else - bool\n",
      "    \n",
      "    examples:\n",
      "    >>> time_series.export_style(\"style.json\")\n",
      "\n"
     ]
    }
   ],
   "source": [
    "help(TimeSeries.export_style)"
   ]
  },
  {
   "cell_type": "markdown",
   "id": "5a96d5b5-6da9-45ba-b40f-ed271c4b7926",
   "metadata": {},
   "source": [
    "### from txt\n",
    "```python\n",
    "TimeSeries.from_txt(self, filename)\n",
    "```"
   ]
  },
  {
   "cell_type": "code",
   "execution_count": 9,
   "id": "22f57bc9-40da-4c52-a981-e45cb00ecc6b",
   "metadata": {
    "tags": []
   },
   "outputs": [
    {
     "name": "stdout",
     "output_type": "stream",
     "text": [
      "Help on function from_txt in module pyLong.toolbox.time_series:\n",
      "\n",
      "from_txt(self, filename, time_field='time', value_field='value', delimiter='\\t', decimal='.')\n",
      "    import data from a .txt file\n",
      "    \n",
      "    arguments:\n",
      "    - filename: .txt file path - str\n",
      "    - time_field: time field name - str\n",
      "    - value_field: value field name - str\n",
      "    - delimiter: column delimiter \"\\t\" | \" \" | \";\" | \",\" - str\n",
      "    - decimal: decimal separator \".\" |\",\" - str\n",
      "    \n",
      "    returns:\n",
      "    - True if success - bool\n",
      "    - False else - bool\n",
      "    \n",
      "    examples:\n",
      "    >>> time_series.from_txt(\"time_series.txt\")\n",
      "    >>> time_series.from_txt(\"time_series.txt\", time_field=\"time\", value_field=\"discharge\", delimiter=\";\", decimal=\",\")\n",
      "\n"
     ]
    }
   ],
   "source": [
    "help(TimeSeries.from_txt)"
   ]
  },
  {
   "cell_type": "markdown",
   "id": "978f9eda-71ea-4e4b-8514-3202e1c8d29a",
   "metadata": {},
   "source": [
    "### import style\n",
    "```python\n",
    "TimeSeries.import_style(self, filename)\n",
    "```"
   ]
  },
  {
   "cell_type": "code",
   "execution_count": 10,
   "id": "ce76b5d5-b4b2-4075-8df6-20fe9a5109c5",
   "metadata": {},
   "outputs": [
    {
     "name": "stdout",
     "output_type": "stream",
     "text": [
      "Help on function import_style in module pyLong.toolbox.time_series:\n",
      "\n",
      "import_style(self, filename)\n",
      "    import time series style from a .json file\n",
      "    \n",
      "    arguments:\n",
      "    - filename: .json file path - str\n",
      "    \n",
      "    returns:\n",
      "    - True if success - bool\n",
      "    - False else - bool\n",
      "    \n",
      "    examples:\n",
      "    >>> time_series.import_style(\"style.json\")\n",
      "\n"
     ]
    }
   ],
   "source": [
    "help(TimeSeries.import_style)"
   ]
  },
  {
   "cell_type": "markdown",
   "id": "9bf89c25-78c4-4789-9d00-b723ea26b44d",
   "metadata": {},
   "source": [
    "### Interpolate\n",
    "```python\n",
    "TimeSeries.interpolate(self, t)\n",
    "```"
   ]
  },
  {
   "cell_type": "code",
   "execution_count": 11,
   "id": "6ce6868e-8776-4cfd-90b4-2b74cc5e6f93",
   "metadata": {
    "tags": []
   },
   "outputs": [
    {
     "name": "stdout",
     "output_type": "stream",
     "text": [
      "Help on function interpolate in module pyLong.toolbox.time_series:\n",
      "\n",
      "interpolate(self, t)\n",
      "    interpolate the time series\n",
      "    \n",
      "    arguments:\n",
      "    - t: time (h, m, s) - tupe\n",
      "        - h: hours - int | float\n",
      "        - m: minutes - int | float\n",
      "        - s: seconds - int | float\n",
      "    \n",
      "    returns:\n",
      "    - v: interpolated value - float\n",
      "    or\n",
      "    - None - NoneType\n",
      "    \n",
      "    examples:\n",
      "    >>> v = time_series.interpolate(t=(1., 25., 15.))\n",
      "\n"
     ]
    }
   ],
   "source": [
    "help(TimeSeries.interpolate)"
   ]
  },
  {
   "cell_type": "markdown",
   "id": "975d60be-19f9-427d-8be4-3c0adffa9e10",
   "metadata": {},
   "source": [
    "### plot\n",
    "```python\n",
    "TimeSeries.plot(self, ax)\n",
    "```"
   ]
  },
  {
   "cell_type": "code",
   "execution_count": 12,
   "id": "17533087-a0c7-4a98-b94d-535691aebaaa",
   "metadata": {},
   "outputs": [
    {
     "name": "stdout",
     "output_type": "stream",
     "text": [
      "Help on function plot in module pyLong.toolbox.time_series:\n",
      "\n",
      "plot(self, ax)\n",
      "    plot time series on a matplotlib subplot\n",
      "    \n",
      "    arguments:\n",
      "    - ax: matplotlib subplot - matplotlib.axes._subplots.AxesSubplot\n",
      "    \n",
      "    returns:\n",
      "    - None - NoneType\n",
      "    \n",
      "    examples:\n",
      "    >>> from matplotlib import pyplot as plt\n",
      "    >>> fig, ax = plt.subplots()\n",
      "    >>> time_series.plot(ax)\n",
      "    >>> plt.show()\n",
      "\n"
     ]
    }
   ],
   "source": [
    "help(TimeSeries.plot)"
   ]
  },
  {
   "cell_type": "markdown",
   "id": "677c3633-b225-4c66-9783-40fc6378eaf0",
   "metadata": {},
   "source": [
    "### resample\n",
    "```python\n",
    "TimeSeries.resample(self, dt)\n",
    "```"
   ]
  },
  {
   "cell_type": "code",
   "execution_count": 13,
   "id": "b0f0c95a-eb3f-4fda-a184-6d286246cebd",
   "metadata": {
    "tags": []
   },
   "outputs": [
    {
     "name": "stdout",
     "output_type": "stream",
     "text": [
      "Help on function resample in module pyLong.toolbox.time_series:\n",
      "\n",
      "resample(self, dt)\n",
      "    resample the time series\n",
      "    \n",
      "    arguments:\n",
      "    - dt: duration (h, m, s) - tuple\n",
      "        - h: hours - int | float\n",
      "        - m: minutes - int | float\n",
      "        - s: seconds - int | float\n",
      "    \n",
      "    returns:\n",
      "    - new_time_series: resampled time series - TimeSeries\n",
      "    or\n",
      "    - None - NoneType\n",
      "    \n",
      "    examples:\n",
      "    >>> new_time_series = time_series.resample(dt=(0., 1., 0.))\n",
      "\n"
     ]
    }
   ],
   "source": [
    "help(TimeSeries.resample)"
   ]
  },
  {
   "cell_type": "markdown",
   "id": "64ccc029-0e9d-4327-aa60-7eaec89badd8",
   "metadata": {},
   "source": [
    "### reverse\n",
    "```python\n",
    "TimeSeries.reverse(self)\n",
    "```"
   ]
  },
  {
   "cell_type": "code",
   "execution_count": 14,
   "id": "34240949-9e3b-4f48-8af4-9686ef5c812e",
   "metadata": {},
   "outputs": [
    {
     "name": "stdout",
     "output_type": "stream",
     "text": [
      "Help on function reverse in module pyLong.toolbox.time_series:\n",
      "\n",
      "reverse(self)\n",
      "    reverse the time series\n",
      "    \n",
      "    returns:\n",
      "    - new_time_series: reversed time series - TimeSeries\n",
      "    or\n",
      "    - None - NoneType\n",
      "    \n",
      "    examples:\n",
      "    >>> new_time_series = time_series.reverse()\n",
      "\n"
     ]
    }
   ],
   "source": [
    "help(TimeSeries.reverse)"
   ]
  },
  {
   "cell_type": "markdown",
   "id": "d902f66d-db67-4073-8ecf-bbb8eac2e9e7",
   "metadata": {},
   "source": [
    "## Examples"
   ]
  },
  {
   "cell_type": "markdown",
   "id": "a881b320-7ad6-4b3e-9941-6808ff0565b2",
   "metadata": {},
   "source": [
    "### example 1"
   ]
  },
  {
   "cell_type": "code",
   "execution_count": 15,
   "id": "150680a0-f4ba-4a7a-a7ab-79a67d676bb3",
   "metadata": {
    "tags": []
   },
   "outputs": [
    {
     "data": {
      "image/png": "[encoded data removed]",
      "text/plain": [
       "<Figure size 500x500 with 1 Axes>"
      ]
     },
     "metadata": {},
     "output_type": "display_data"
    }
   ],
   "source": [
    "from math import cos, pi\n",
    "\n",
    "from matplotlib import pyplot as plt\n",
    "import numpy as np\n",
    "\n",
    "from pyLong.toolbox.time_series import TimeSeries\n",
    "\n",
    "time_series = TimeSeries()\n",
    "time_series.name = \"a time series\"\n",
    "time_series.label = \"a simple cosinus\"\n",
    "time_series.data = [(t, cos((2 * pi / 60.) * t)) for t in np.linspace(0, 180, 1000)]\n",
    "time_series.line_style = \"dashed\"\n",
    "time_series.line_color = \"Green\"\n",
    "time_series.line_thickness = 1.5\n",
    "time_series.marker_style = \"none\"\n",
    "time_series.marker_color = \"None\"\n",
    "time_series.marker_size = 0.\n",
    "time_series.opacity = 1.\n",
    "time_series.order = 1\n",
    "time_series.visible = True\n",
    "\n",
    "fig, ax = plt.subplots(figsize=(5, 5))\n",
    "ax.set_xlim((-5., 185.))\n",
    "ax.set_ylim((-1.2, 1.2))\n",
    "\n",
    "time_series.plot(ax)\n",
    "\n",
    "ax.legend(loc=\"best\")\n",
    "plt.tight_layout()\n",
    "plt.show()"
   ]
  }
 ],
 "metadata": {
  "kernelspec": {
   "display_name": "Python 3 (ipykernel)",
   "language": "python",
   "name": "python3"
  },
  "language_info": {
   "codemirror_mode": {
    "name": "ipython",
    "version": 3
   },
   "file_extension": ".py",
   "mimetype": "text/x-python",
   "name": "python",
   "nbconvert_exporter": "python",
   "pygments_lexer": "ipython3",
   "version": "3.9.16"
  }
 },
 "nbformat": 4,
 "nbformat_minor": 5
}
