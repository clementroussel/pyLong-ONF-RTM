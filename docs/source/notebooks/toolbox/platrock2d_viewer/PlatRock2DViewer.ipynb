{
 "cells": [
  {
   "cell_type": "code",
   "execution_count": 1,
   "id": "0cf812e6-b71f-4524-b93a-7b4f94213735",
   "metadata": {},
   "outputs": [],
   "source": [
    "# ignore these two following instructions...\n",
    "import os\n",
    "os.chdir(\"../../../../../src/main/python/\")"
   ]
  },
  {
   "cell_type": "code",
   "execution_count": 2,
   "id": "dc6ec239-dcf3-4c9d-a337-2ee43214e111",
   "metadata": {},
   "outputs": [
    {
     "name": "stdout",
     "output_type": "stream",
     "text": [
      "SQLalchemy is not installed. No support for SQL output.\n"
     ]
    }
   ],
   "source": [
    "import random\n",
    "\n",
    "from matplotlib import pyplot as plt\n",
    "\n",
    "from pyLong.dictionnaries.colors import colors as html_colors\n",
    "from pyLong.profiles.zprofile import zProfile"
   ]
  },
  {
   "cell_type": "markdown",
   "id": "f21b9f01-76b3-448f-9adc-d3d3fc4211f8",
   "metadata": {},
   "source": [
    "# PlatRock2DViewer"
   ]
  },
  {
   "cell_type": "markdown",
   "id": "af18b8ff-9a64-4c92-9b26-59511c5c29fd",
   "metadata": {},
   "source": [
    "## Table of contents"
   ]
  },
  {
   "cell_type": "markdown",
   "id": "c28aa5cd-e2a5-4212-abef-dfd2daf9066c",
   "metadata": {},
   "source": [
    "- [Import PlatRock2DViewer class](#Import-PlatRock2DViewer-class)"
   ]
  },
  {
   "cell_type": "markdown",
   "id": "08f4d72a-5f4f-401a-8afc-1e0c77cdb64f",
   "metadata": {},
   "source": [
    "- [Constructor](#Constructor)"
   ]
  },
  {
   "cell_type": "markdown",
   "id": "21d64c87-dcc0-43e3-ae3f-ed0ab17e3aba",
   "metadata": {},
   "source": [
    "## Import PlatRock2DViewer class"
   ]
  },
  {
   "cell_type": "code",
   "execution_count": 3,
   "id": "2e5f40a2-3473-4d77-a42e-28984c9f210e",
   "metadata": {},
   "outputs": [],
   "source": [
    "from pyLong.toolbox.platrock2d_viewer import PlatRock2DViewer"
   ]
  },
  {
   "cell_type": "markdown",
   "id": "0cc8a117-7962-4cc9-990e-d8f5cd9303c9",
   "metadata": {},
   "source": [
    "## Constructor"
   ]
  },
  {
   "cell_type": "code",
   "execution_count": 4,
   "id": "277a4a92-f9e3-4f01-8fda-6491edb257d5",
   "metadata": {},
   "outputs": [],
   "source": [
    "viewer = PlatRock2DViewer()"
   ]
  },
  {
   "cell_type": "code",
   "execution_count": 5,
   "id": "7b325c2c-4d6b-422a-b6e5-8e7078585f38",
   "metadata": {},
   "outputs": [
    {
     "data": {
      "text/plain": [
       "True"
      ]
     },
     "execution_count": 5,
     "metadata": {},
     "output_type": "execute_result"
    }
   ],
   "source": [
    "output = \"C:\\\\Users\\\\cr26739\\Documents\\\\GitHub\\\\pyLong\\\\docs\\\\source\\\\notebooks\\\\toolbox\\\\platrock2d_viewer\"\n",
    "output += \"\\\\full_output.hdf5\"\n",
    "viewer.from_hdf5(output)"
   ]
  },
  {
   "cell_type": "code",
   "execution_count": 6,
   "id": "b7369fd6-5f3f-4252-9fc0-33d1e91c4a44",
   "metadata": {},
   "outputs": [
    {
     "data": {
      "text/plain": [
       "1000"
      ]
     },
     "execution_count": 6,
     "metadata": {},
     "output_type": "execute_result"
    }
   ],
   "source": [
    "viewer.rocks_number()"
   ]
  },
  {
   "cell_type": "code",
   "execution_count": 7,
   "id": "56c76b04-9423-4b84-9fa0-1ad93a23ef0a",
   "metadata": {},
   "outputs": [],
   "source": [
    "#viewer.start_data()"
   ]
  },
  {
   "cell_type": "code",
   "execution_count": 8,
   "id": "3c6eca9f-9b64-4451-80c7-e7d68c619d48",
   "metadata": {},
   "outputs": [],
   "source": [
    "#viewer.volumes()"
   ]
  },
  {
   "cell_type": "code",
   "execution_count": 9,
   "id": "b7702751-41ab-440e-b37a-4b8eaebc8038",
   "metadata": {},
   "outputs": [],
   "source": [
    "#viewer.densities()"
   ]
  },
  {
   "cell_type": "code",
   "execution_count": 10,
   "id": "9aa6818b-0cc6-4b46-a88c-cea8f4290635",
   "metadata": {},
   "outputs": [],
   "source": [
    "#viewer.inertias()"
   ]
  },
  {
   "cell_type": "code",
   "execution_count": 11,
   "id": "880c27d9-ad62-4d50-b80d-6fb46bd9f45e",
   "metadata": {},
   "outputs": [],
   "source": [
    "#viewer.contacts(0)"
   ]
  },
  {
   "cell_type": "code",
   "execution_count": 12,
   "id": "00697127-f355-4974-b958-fa26b5f45d39",
   "metadata": {},
   "outputs": [],
   "source": [
    "#viewer.x_starts()"
   ]
  },
  {
   "cell_type": "code",
   "execution_count": 13,
   "id": "ccc357ce-c6a7-42f3-ba28-35d857ee0a81",
   "metadata": {},
   "outputs": [],
   "source": [
    "#viewer.x_ends()"
   ]
  },
  {
   "cell_type": "code",
   "execution_count": 15,
   "id": "88d919b0-fc86-4687-971c-5e1ebfd9f3f6",
   "metadata": {},
   "outputs": [
    {
     "data": {
      "text/plain": [
       "694.0380859375"
      ]
     },
     "execution_count": 15,
     "metadata": {},
     "output_type": "execute_result"
    }
   ],
   "source": [
    "viewer.get_z_at(300, 50)"
   ]
  },
  {
   "cell_type": "markdown",
   "id": "65c1e9a9-8e73-4599-b418-19ead968abaf",
   "metadata": {},
   "source": [
    "1. création du profil en long du terrain naturel utilisé en entrée de la simulation --> terrain.csv\n",
    "\n",
    "2. lecture du fichier full_output.hdf5 avec la méthode from_dbf5(filename, zprofile, isTwoDShape=False)"
   ]
  },
  {
   "cell_type": "markdown",
   "id": "80cae896-3b05-4038-928d-0f7729fcc4eb",
   "metadata": {},
   "source": [
    "## Terrain profile\n",
    "\n",
    "Since a PlatRock 2D simulation is based on a natural terrain profile, we first create an instance of **zProfile** class and populate it by importing the points contained in the file *terrain.txt*."
   ]
  },
  {
   "cell_type": "code",
   "execution_count": 6,
   "id": "6c195bb2-8cc0-4dee-b51c-55d8e6d9f164",
   "metadata": {},
   "outputs": [],
   "source": [
    "terrain = zProfile()\n",
    "filename = \"../../../notebooks/toolbox/platrock2d_viewer/terrain.txt\"\n",
    "terrain.from_txt(filename)\n",
    "terrain.name = \"natural terrain\""
   ]
  },
  {
   "cell_type": "code",
   "execution_count": 7,
   "id": "bd09e13a-6994-4a07-b3c8-64adc1eb0b00",
   "metadata": {},
   "outputs": [],
   "source": [
    "# print the list of points\n",
    "#terrain.listing()"
   ]
  },
  {
   "cell_type": "code",
   "execution_count": 8,
   "id": "f846a68d-9ff0-4daa-bb26-f9406f3773e1",
   "metadata": {},
   "outputs": [],
   "source": [
    "# set terrain profile style\n",
    "terrain.label = \"natural terrain\"\n",
    "terrain.line_color = \"Green\"\n",
    "terrain.line_thickness = 2\n",
    "terrain.order = 2"
   ]
  },
  {
   "cell_type": "code",
   "execution_count": 9,
   "id": "bdbb8ea7-a9a6-42a0-9ee6-1b33b939492a",
   "metadata": {},
   "outputs": [
    {
     "data": {
      "image/png": "[encoded data removed]",
      "text/plain": [
       "<Figure size 1000x1000 with 1 Axes>"
      ]
     },
     "metadata": {},
     "output_type": "display_data"
    }
   ],
   "source": [
    "# plot the natural terrain profile\n",
    "fig, ax = plt.subplots(figsize=(10, 10))\n",
    "\n",
    "ax.set_xlim((-50, 1000))\n",
    "ax.set_xlabel(\"x [m]\")\n",
    "\n",
    "ax.set_ylim((450, 1100))\n",
    "ax.set_ylabel(\"z [m]\")\n",
    "\n",
    "ax.set_aspect('equal')\n",
    "\n",
    "terrain.plot(ax)\n",
    "\n",
    "ax.legend(loc='best')\n",
    "\n",
    "plt.show()"
   ]
  },
  {
   "cell_type": "markdown",
   "id": "337c94d0-f3ea-4c69-8585-97db7a7b07a3",
   "metadata": {},
   "source": [
    "## Simulation\n",
    "\n",
    "We now create an instance of **PlatRock2DViewer** class and use the *from_hdf5* method to import data contained in the file *full_output.hdf5*."
   ]
  },
  {
   "cell_type": "code",
   "execution_count": 10,
   "id": "781da569-d8cf-4be2-89cc-48a0601ab372",
   "metadata": {},
   "outputs": [
    {
     "ename": "TypeError",
     "evalue": "from_hdf5() got an unexpected keyword argument 'dx'",
     "output_type": "error",
     "traceback": [
      "\u001b[1;31m---------------------------------------------------------------------------\u001b[0m",
      "\u001b[1;31mTypeError\u001b[0m                                 Traceback (most recent call last)",
      "Cell \u001b[1;32mIn[10], line 3\u001b[0m\n\u001b[0;32m      1\u001b[0m viewer \u001b[38;5;241m=\u001b[39m PlatRock2DViewer()\n\u001b[0;32m      2\u001b[0m filename \u001b[38;5;241m=\u001b[39m \u001b[38;5;124m\"\u001b[39m\u001b[38;5;124m../../../notebooks/toolbox/platrock2d_viewer/full_output.hdf5\u001b[39m\u001b[38;5;124m\"\u001b[39m\n\u001b[1;32m----> 3\u001b[0m \u001b[43mviewer\u001b[49m\u001b[38;5;241;43m.\u001b[39;49m\u001b[43mfrom_hdf5\u001b[49m\u001b[43m(\u001b[49m\u001b[43mfilename\u001b[49m\u001b[43m,\u001b[49m\n\u001b[0;32m      4\u001b[0m \u001b[43m                 \u001b[49m\u001b[43mterrain\u001b[49m\u001b[43m,\u001b[49m\n\u001b[0;32m      5\u001b[0m \u001b[43m                 \u001b[49m\u001b[43mdx\u001b[49m\u001b[38;5;241;43m=\u001b[39;49m\u001b[38;5;241;43m1.\u001b[39;49m\u001b[43m)\u001b[49m\n",
      "\u001b[1;31mTypeError\u001b[0m: from_hdf5() got an unexpected keyword argument 'dx'"
     ]
    }
   ],
   "source": [
    "viewer = PlatRock2DViewer()\n",
    "filename = \"../../../notebooks/toolbox/platrock2d_viewer/full_output.hdf5\"\n",
    "viewer.from_hdf5(filename,\n",
    "                 terrain,\n",
    "                 dx=1.)"
   ]
  },
  {
   "cell_type": "markdown",
   "id": "9683c72d-72f1-41e7-949c-f0094804a511",
   "metadata": {},
   "source": [
    "Loading data consists of:\n",
    "- get start data: start distance of each rock;\n",
    "- get end data: end distance of each rock;\n",
    "- generate the trajectories for each rock: depends on distance step argument *dx*;\n",
    "- generate the heights above natural terrain for each trajectory.\n",
    "\n",
    "This step can be time-consuming. Please be patient and don't complain."
   ]
  },
  {
   "cell_type": "markdown",
   "id": "c3fee123-83ce-487b-b8cd-5ebb274e9b64",
   "metadata": {},
   "source": [
    "### equations\n",
    "\n",
    "Free fall equations used to retrieve mouvement equation $z = f(x)$ lead to:"
   ]
  },
  {
   "cell_type": "markdown",
   "id": "de4d6889-55ec-4afb-b3c8-c62eaf4d0ea9",
   "metadata": {},
   "source": [
    "$$x(t) = v_{x,0} . t + x_0$$\n",
    "\n",
    "$$z(t) = - \\frac{1}{2} . g . t^{2} + v_{z,0} . t + z_0$$"
   ]
  },
  {
   "cell_type": "markdown",
   "id": "4dda0332-e998-4350-9f11-b9388e99a58b",
   "metadata": {},
   "source": [
    "$$t = \\frac{x - x_0}{v_{x,0}}$$"
   ]
  },
  {
   "cell_type": "markdown",
   "id": "0e8d53fb-bd18-4f0c-b947-d731e6c5b4d9",
   "metadata": {},
   "source": [
    "$$z(x) = - \\frac{1}{2} . g . \\left( \\frac{x - x_0}{v_{x,0}} \\right)^2 + v_{z,0} .  \\left( \\frac{x - x_0}{v_{x,0}} \\right) + z_0$$"
   ]
  },
  {
   "cell_type": "markdown",
   "id": "a194e8aa-94f9-4152-ae88-803eda443318",
   "metadata": {},
   "source": [
    "## Plot **n** randomly chosen trajectories"
   ]
  },
  {
   "cell_type": "code",
   "execution_count": null,
   "id": "45b53da7-c686-4684-9da9-e61ba8e7aed4",
   "metadata": {},
   "outputs": [],
   "source": [
    "n = 1000\n",
    "\n",
    "fig, ax = plt.subplots(figsize=(10, 10))\n",
    "\n",
    "ax.set_xlim((-50, 1000))\n",
    "ax.set_xlabel(\"x [m]\")\n",
    "ax.set_ylim((450, 1100))\n",
    "ax.set_ylabel(\"z [m]\")\n",
    "\n",
    "ax.set_aspect('equal')\n",
    "\n",
    "terrain.plot(ax)\n",
    "\n",
    "for i, c in zip(random.choices(range(viewer._n), k=n),\n",
    "                random.choices(list(html_colors.keys()), k=n)):\n",
    "    \n",
    "    trajectory = viewer.trajectory(i)\n",
    "    \n",
    "    trajectory.line_style = 'solid'\n",
    "    trajectory.line_thickness = 1\n",
    "    trajectory.line_color = c\n",
    "    \n",
    "    trajectory.plot(ax)\n",
    "\n",
    "ax.legend(loc='best')\n",
    "\n",
    "plt.tight_layout()\n",
    "plt.show()"
   ]
  },
  {
   "cell_type": "markdown",
   "id": "d3cab8b6-ad51-4768-8c42-028e24743c8a",
   "metadata": {
    "tags": []
   },
   "source": [
    "## Plot **n** randomly chosen heights above natural terrain"
   ]
  },
  {
   "cell_type": "code",
   "execution_count": null,
   "id": "a31633d7-7e44-4b61-ba3b-f7f9486ffb15",
   "metadata": {
    "jupyter": {
     "source_hidden": true
    },
    "tags": []
   },
   "outputs": [],
   "source": [
    "n = 1000\n",
    "\n",
    "fig, ax = plt.subplots(figsize=(10, 10))\n",
    "\n",
    "ax.set_xlim((-50, 1000))\n",
    "ax.set_xlabel(\"x [m]\")\n",
    "ax.set_ylim((0, 110))\n",
    "ax.set_ylabel(\"z [m]\")\n",
    "\n",
    "ax.set_aspect('equal')\n",
    "\n",
    "for i, c in zip(random.choices(range(viewer._n), k=n),\n",
    "                random.choices(list(html_colors.keys()), k=n)):\n",
    "    \n",
    "    height = viewer.height(i)\n",
    "    \n",
    "    height.line_style = 'solid'\n",
    "    height.line_thickness = 1\n",
    "    height.line_color = c\n",
    "    \n",
    "    height.plot(ax)\n",
    "\n",
    "plt.tight_layout()\n",
    "plt.show()"
   ]
  },
  {
   "cell_type": "markdown",
   "id": "7cdd581d-bc0a-401f-85b8-04bfdde8f188",
   "metadata": {},
   "source": [
    "## Start points distribution"
   ]
  },
  {
   "cell_type": "code",
   "execution_count": null,
   "id": "323e0565-720d-4b03-a61c-d1ae3e41ddbc",
   "metadata": {},
   "outputs": [],
   "source": [
    "min(viewer._starts)"
   ]
  },
  {
   "cell_type": "code",
   "execution_count": null,
   "id": "f5675b8d-05e7-4575-b1a6-c60877d91bdc",
   "metadata": {},
   "outputs": [],
   "source": [
    "max(viewer._starts)"
   ]
  },
  {
   "cell_type": "code",
   "execution_count": null,
   "id": "1d90872b-0a9f-4f8e-b0d8-017abb604904",
   "metadata": {},
   "outputs": [],
   "source": [
    "fig, ax = plt.subplots(figsize=(10, 10))\n",
    "\n",
    "ax.set_xlim((0, 215))\n",
    "ax.set_xlabel(\"x [m]\")\n",
    "\n",
    "ax.hist(viewer._starts, bins=50, range=(5,210), density=True, cumulative=True, stacked=True)\n",
    "\n",
    "plt.tight_layout()\n",
    "plt.show()"
   ]
  },
  {
   "cell_type": "markdown",
   "id": "bb0a72d2-ac3e-40d6-9702-93568daf2ba2",
   "metadata": {},
   "source": [
    "## End points distribution"
   ]
  },
  {
   "cell_type": "code",
   "execution_count": null,
   "id": "6d20dc3b-19ac-40c5-9376-0e7e0c107840",
   "metadata": {},
   "outputs": [],
   "source": [
    "min(viewer._ends)"
   ]
  },
  {
   "cell_type": "code",
   "execution_count": null,
   "id": "6cc7a95b-05fa-40a4-a0b6-5c16c53ea7b9",
   "metadata": {},
   "outputs": [],
   "source": [
    "max(viewer._ends)"
   ]
  },
  {
   "cell_type": "code",
   "execution_count": null,
   "id": "f8c4ccc5-b42e-419d-a492-d56ba9bcad3b",
   "metadata": {},
   "outputs": [],
   "source": [
    "fig, ax = plt.subplots(figsize=(10, 10))\n",
    "\n",
    "ax.set_xlim((450, 750))\n",
    "ax.set_xlabel(\"x [m]\")\n",
    "\n",
    "ax.hist(viewer._ends, bins=100, range=(455, 736), density=True, cumulative=True, stacked=True, histtype=\"stepfilled\")\n",
    "#x.hist(viewer._ends, bins=20, range=(450, 750), density=True)\n",
    "\n",
    "plt.tight_layout()\n",
    "plt.show()"
   ]
  },
  {
   "cell_type": "code",
   "execution_count": null,
   "id": "489ed79b-f041-4b42-ad8a-a0e76ff380e8",
   "metadata": {},
   "outputs": [],
   "source": [
    "heights, statistics = viewer.heights_between(100, 105, 1)"
   ]
  },
  {
   "cell_type": "code",
   "execution_count": null,
   "id": "f16ee124-55cb-4323-b6a7-0b08dcd6cb1a",
   "metadata": {},
   "outputs": [],
   "source": [
    "statistics"
   ]
  },
  {
   "cell_type": "code",
   "execution_count": null,
   "id": "dfb78fdb-7250-4691-8693-f7c087b4276f",
   "metadata": {},
   "outputs": [],
   "source": []
  }
 ],
 "metadata": {
  "kernelspec": {
   "display_name": "Python 3 (ipykernel)",
   "language": "python",
   "name": "python3"
  },
  "language_info": {
   "codemirror_mode": {
    "name": "ipython",
    "version": 3
   },
   "file_extension": ".py",
   "mimetype": "text/x-python",
   "name": "python",
   "nbconvert_exporter": "python",
   "pygments_lexer": "ipython3",
   "version": "3.9.15"
  }
 },
 "nbformat": 4,
 "nbformat_minor": 5
}
