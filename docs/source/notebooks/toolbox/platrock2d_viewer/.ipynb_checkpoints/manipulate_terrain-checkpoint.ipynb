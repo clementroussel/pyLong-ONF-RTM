{
 "cells": [
  {
   "cell_type": "markdown",
   "id": "491f5229-d379-4a05-9ddf-0c3c58f65fd1",
   "metadata": {},
   "source": [
    "# Manipulation du fichier en entrée de PlatRock2D"
   ]
  },
  {
   "cell_type": "markdown",
   "id": "005df62e-4f8c-4f76-b549-c407871a7389",
   "metadata": {},
   "source": [
    "Le fichier *terrain.csv* peut être utilisé pour extraire le profil en long du terrain naturel."
   ]
  },
  {
   "cell_type": "code",
   "execution_count": 2,
   "id": "f667ed9e-e9d7-4dbf-8e0e-4505c5d8847f",
   "metadata": {},
   "outputs": [],
   "source": [
    "from pyLong.profiles.zprofile import zProfile"
   ]
  },
  {
   "cell_type": "markdown",
   "id": "4e58cbcb-dff8-4504-9046-f4a95d3aa11f",
   "metadata": {},
   "source": [
    "### Création d'un profil en long"
   ]
  },
  {
   "cell_type": "code",
   "execution_count": 3,
   "id": "8037fbb4-0eee-4868-8b09-628a7dabe687",
   "metadata": {},
   "outputs": [],
   "source": [
    "terrain = zProfile()"
   ]
  },
  {
   "cell_type": "markdown",
   "id": "ecbcb880-fc9c-47ea-8091-7f66eab7c48d",
   "metadata": {},
   "source": [
    "### Chargement des valeurs du profil du terrain naturel"
   ]
  },
  {
   "cell_type": "code",
   "execution_count": 6,
   "id": "adc6f2ce-97f6-4397-80ec-790cd8c62e50",
   "metadata": {},
   "outputs": [
    {
     "data": {
      "text/plain": [
       "True"
      ]
     },
     "execution_count": 6,
     "metadata": {},
     "output_type": "execute_result"
    }
   ],
   "source": [
    "terrain.from_txt(\"terrain.csv\")"
   ]
  },
  {
   "cell_type": "code",
   "execution_count": 8,
   "id": "43753cbc-fb58-4bb4-894c-702940cdbd4d",
   "metadata": {},
   "outputs": [],
   "source": [
    "#terrain.listing()"
   ]
  }
 ],
 "metadata": {
  "kernelspec": {
   "display_name": "Python 3 (ipykernel)",
   "language": "python",
   "name": "python3"
  },
  "language_info": {
   "codemirror_mode": {
    "name": "ipython",
    "version": 3
   },
   "file_extension": ".py",
   "mimetype": "text/x-python",
   "name": "python",
   "nbconvert_exporter": "python",
   "pygments_lexer": "ipython3",
   "version": "3.9.15"
  }
 },
 "nbformat": 4,
 "nbformat_minor": 5
}
