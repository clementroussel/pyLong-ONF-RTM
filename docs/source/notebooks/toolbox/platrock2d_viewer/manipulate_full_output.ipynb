{
 "cells": [
  {
   "cell_type": "markdown",
   "id": "0b0e027f-3ca0-43f0-a400-175cea9f660d",
   "metadata": {},
   "source": [
    "# Manipulation du fichier de résultats en sortie de PlatRock2D"
   ]
  },
  {
   "cell_type": "markdown",
   "id": "67119a8f-4b7c-4ef4-b0a8-2c9b2e2ed2c1",
   "metadata": {},
   "source": [
    "**Dépendances:**\n",
    "- [tables](https://pypi.org/project/tables/)\n",
    "\n",
    "> PyTables is a package for managing hierarchical datasets and designed to efficiently cope with extremely large amounts of data. PyTables is built on top of the HDF5 library and the NumPy package and features an object-oriented interface that, combined with C-code generated from Cython sources, makes of it a fast, yet extremely easy to use tool for interactively save and retrieve large amounts of data."
   ]
  },
  {
   "cell_type": "code",
   "execution_count": 1,
   "id": "1dc16eaf-1fd7-4a8b-83fb-903dd943103f",
   "metadata": {},
   "outputs": [],
   "source": [
    "import tables"
   ]
  },
  {
   "cell_type": "markdown",
   "id": "8619838f-911c-4615-9201-bf0de24c668e",
   "metadata": {},
   "source": [
    "### Ouverture du fichier de résultats *full_output.hdf5*"
   ]
  },
  {
   "cell_type": "code",
   "execution_count": 2,
   "id": "cb30114f-645d-4d25-91da-107b9f81e8c8",
   "metadata": {},
   "outputs": [],
   "source": [
    "hdf5_file = tables.open_file(\"full_output.hdf5\")"
   ]
  },
  {
   "cell_type": "markdown",
   "id": "82cd9e22-9b5a-4684-9044-8eaf8de9828f",
   "metadata": {},
   "source": [
    "### Contenu du fichier"
   ]
  },
  {
   "cell_type": "code",
   "execution_count": 3,
   "id": "c8064faf-73b4-4713-9dec-0185baf432e9",
   "metadata": {
    "tags": []
   },
   "outputs": [],
   "source": [
    "#print(hdf5_file)"
   ]
  },
  {
   "cell_type": "code",
   "execution_count": 4,
   "id": "ffd85ee0-431f-4ef8-bcd3-ba64396f5181",
   "metadata": {
    "tags": []
   },
   "outputs": [],
   "source": [
    "#for node in hdf5_file:\n",
    "#    print(node)"
   ]
  },
  {
   "cell_type": "code",
   "execution_count": 5,
   "id": "c547a789-b2cd-4b30-a142-8cd72423f645",
   "metadata": {
    "tags": []
   },
   "outputs": [],
   "source": [
    "#for group in hdf5_file.walk_groups():\n",
    "#    print(group)"
   ]
  },
  {
   "cell_type": "code",
   "execution_count": 6,
   "id": "255ca783-d59d-4940-af58-2f11b219855f",
   "metadata": {},
   "outputs": [],
   "source": [
    "rock = hdf5_file.get_node(\"/rocks/contacts/100\",\"\")\n",
    "#obj = h5file.get_node(\"/checkpoints/1400.0\",\"\")\n",
    "#obj = h5file.get_node(\"/rocks/start_data\",\"\")"
   ]
  },
  {
   "cell_type": "markdown",
   "id": "c0e9e8bc-daa0-4817-bed9-f2274bebb3a1",
   "metadata": {},
   "source": [
    "### Accéder au noeud *start_data*"
   ]
  },
  {
   "cell_type": "code",
   "execution_count": 7,
   "id": "1623c43f-c4c6-4670-8a48-80078cd81949",
   "metadata": {},
   "outputs": [],
   "source": [
    "start_data = hdf5_file.get_node(\"/rocks/start_data\", \"\")"
   ]
  },
  {
   "cell_type": "code",
   "execution_count": 8,
   "id": "6e619cf3-8138-477b-b908-aedd1f681d7d",
   "metadata": {},
   "outputs": [
    {
     "data": {
      "text/plain": [
       "/rocks/start_data (Array(1000, 3)) ''\n",
       "  atom := Float32Atom(shape=(), dflt=0.0)\n",
       "  maindim := 0\n",
       "  flavor := 'numpy'\n",
       "  byteorder := 'little'\n",
       "  chunkshape := None"
      ]
     },
     "execution_count": 8,
     "metadata": {},
     "output_type": "execute_result"
    }
   ],
   "source": [
    "start_data"
   ]
  },
  {
   "cell_type": "code",
   "execution_count": 9,
   "id": "38a6e919-8c5f-44c1-808e-6bbb085ac129",
   "metadata": {},
   "outputs": [
    {
     "data": {
      "text/plain": [
       "(1000, 3)"
      ]
     },
     "execution_count": 9,
     "metadata": {},
     "output_type": "execute_result"
    }
   ],
   "source": [
    "start_data.shape"
   ]
  },
  {
   "cell_type": "code",
   "execution_count": 10,
   "id": "3db1997e-a3d1-44e6-afcf-f52347eb9d5b",
   "metadata": {},
   "outputs": [
    {
     "data": {
      "text/plain": [
       "array([[1.9195553e+00, 2.6500000e+03, 1.2094312e+03],\n",
       "       [2.1112261e+00, 2.6500000e+03, 1.4173313e+03],\n",
       "       [1.4325264e+00, 2.6500000e+03, 7.4259351e+02],\n",
       "       ...,\n",
       "       [1.2650884e+00, 2.6500000e+03, 6.0364496e+02],\n",
       "       [1.6974916e+00, 2.6500000e+03, 9.8535535e+02],\n",
       "       [1.6813984e+00, 2.6500000e+03, 9.6983496e+02]], dtype=float32)"
      ]
     },
     "execution_count": 10,
     "metadata": {},
     "output_type": "execute_result"
    }
   ],
   "source": [
    "start_data.read()"
   ]
  },
  {
   "cell_type": "markdown",
   "id": "b96a9765-2b60-4847-8982-738e1b91a9e1",
   "metadata": {},
   "source": [
    "Les données d'entrée sont organisées de la manière suivante:\n",
    "- une ligne correspond à un bloc:\n",
    "    - la première colonne contient le volume du bloc ($m^3$);\n",
    "    - la deuxième colonne contient la densité du bloc;\n",
    "    - la troisième colonne contient l'inertie du bloc ($kg.m^2$).\n",
    "    \n",
    "Il y a donc autant de lignes que de blocs simulés. Ici 1000."
   ]
  },
  {
   "cell_type": "markdown",
   "id": "29b940ab-c5fc-490d-9172-b2c805afe88f",
   "metadata": {},
   "source": [
    "### Accéder aux points de contact d'un bloc"
   ]
  },
  {
   "cell_type": "code",
   "execution_count": 4,
   "id": "5a192f68-00c5-41ab-a09b-30130a5e4d6a",
   "metadata": {},
   "outputs": [],
   "source": [
    "contacts = hdf5_file.get_node(\"/rocks/contacts\", \"\") "
   ]
  },
  {
   "cell_type": "code",
   "execution_count": 7,
   "id": "f61b0610-7989-4d78-88c8-08732524e4c2",
   "metadata": {},
   "outputs": [
    {
     "data": {
      "text/plain": [
       "1000"
      ]
     },
     "execution_count": 7,
     "metadata": {},
     "output_type": "execute_result"
    }
   ],
   "source": [
    "contacts._v_nchildren"
   ]
  },
  {
   "cell_type": "code",
   "execution_count": 6,
   "id": "1bb502cb-1507-4d1b-a745-6e5bc9956a5c",
   "metadata": {},
   "outputs": [
    {
     "data": {
      "text/plain": [
       "['_AttributeSet',\n",
       " '__class__',\n",
       " '__contains__',\n",
       " '__del__',\n",
       " '__delattr__',\n",
       " '__dict__',\n",
       " '__dir__',\n",
       " '__doc__',\n",
       " '__eq__',\n",
       " '__format__',\n",
       " '__ge__',\n",
       " '__getattr__',\n",
       " '__getattribute__',\n",
       " '__getitem__',\n",
       " '__gt__',\n",
       " '__hash__',\n",
       " '__init__',\n",
       " '__init_subclass__',\n",
       " '__iter__',\n",
       " '__le__',\n",
       " '__lt__',\n",
       " '__members__',\n",
       " '__module__',\n",
       " '__ne__',\n",
       " '__new__',\n",
       " '__reduce__',\n",
       " '__reduce_ex__',\n",
       " '__repr__',\n",
       " '__setattr__',\n",
       " '__setstate__',\n",
       " '__sizeof__',\n",
       " '__str__',\n",
       " '__subclasshook__',\n",
       " '__weakref__',\n",
       " '_c_classid',\n",
       " '_c_lazy_children_attrs',\n",
       " '_f_close',\n",
       " '_f_copy',\n",
       " '_f_copy_children',\n",
       " '_f_delattr',\n",
       " '_f_flush',\n",
       " '_f_get_child',\n",
       " '_f_getattr',\n",
       " '_f_isvisible',\n",
       " '_f_iter_nodes',\n",
       " '_f_list_nodes',\n",
       " '_f_move',\n",
       " '_f_remove',\n",
       " '_f_rename',\n",
       " '_f_setattr',\n",
       " '_f_walk_groups',\n",
       " '_f_walknodes',\n",
       " '_g_add_children_names',\n",
       " '_g_check_group',\n",
       " '_g_check_has_child',\n",
       " '_g_check_name',\n",
       " '_g_check_not_contains',\n",
       " '_g_check_open',\n",
       " '_g_close',\n",
       " '_g_close_descendents',\n",
       " '_g_close_group',\n",
       " '_g_copy',\n",
       " '_g_copy_as_child',\n",
       " '_g_copy_children',\n",
       " '_g_create',\n",
       " '_g_del_location',\n",
       " '_g_delete',\n",
       " '_g_delfilters',\n",
       " '_g_flush_group',\n",
       " '_g_get_child_group_class',\n",
       " '_g_get_child_leaf_class',\n",
       " '_g_get_gchild_attr',\n",
       " '_g_get_lchild_attr',\n",
       " '_g_get_objinfo',\n",
       " '_g_getfilters',\n",
       " '_g_getnchildren',\n",
       " '_g_getparent',\n",
       " '_g_gettitle',\n",
       " '_g_join',\n",
       " '_g_list_group',\n",
       " '_g_log_create',\n",
       " '_g_log_move',\n",
       " '_g_maybe_remove',\n",
       " '_g_move',\n",
       " '_g_move_node',\n",
       " '_g_new',\n",
       " '_g_open',\n",
       " '_g_post_init_hook',\n",
       " '_g_pre_kill_hook',\n",
       " '_g_refnode',\n",
       " '_g_remove',\n",
       " '_g_remove_and_log',\n",
       " '_g_set_location',\n",
       " '_g_setfilters',\n",
       " '_g_settitle',\n",
       " '_g_unrefnode',\n",
       " '_g_update_dependent',\n",
       " '_g_update_location',\n",
       " '_g_width_warning',\n",
       " '_get_obj_info',\n",
       " '_get_obj_timestamps',\n",
       " '_v__deleting',\n",
       " '_v_attrs',\n",
       " '_v_children',\n",
       " '_v_depth',\n",
       " '_v_file',\n",
       " '_v_filters',\n",
       " '_v_groups',\n",
       " '_v_hidden',\n",
       " '_v_isopen',\n",
       " '_v_leaves',\n",
       " '_v_links',\n",
       " '_v_max_group_width',\n",
       " '_v_maxtreedepth',\n",
       " '_v_name',\n",
       " '_v_nchildren',\n",
       " '_v_new',\n",
       " '_v_new_filters',\n",
       " '_v_new_title',\n",
       " '_v_objectid',\n",
       " '_v_parent',\n",
       " '_v_pathname',\n",
       " '_v_title',\n",
       " '_v_unknown',\n",
       " '_v_version']"
      ]
     },
     "execution_count": 6,
     "metadata": {},
     "output_type": "execute_result"
    }
   ],
   "source": [
    "dir(contacts)"
   ]
  },
  {
   "cell_type": "code",
   "execution_count": 11,
   "id": "801a3cac-4135-4db8-a51d-de12ba998034",
   "metadata": {},
   "outputs": [],
   "source": [
    "bloc = hdf5_file.get_node(\"/rocks/contacts/0\", \"\")"
   ]
  },
  {
   "cell_type": "code",
   "execution_count": 12,
   "id": "bc806ffc-f46a-43af-863e-447bfff8f409",
   "metadata": {},
   "outputs": [
    {
     "data": {
      "text/plain": [
       "/rocks/contacts/0 (Array(24, 8)) ''\n",
       "  atom := Float32Atom(shape=(), dflt=0.0)\n",
       "  maindim := 0\n",
       "  flavor := 'numpy'\n",
       "  byteorder := 'little'\n",
       "  chunkshape := None"
      ]
     },
     "execution_count": 12,
     "metadata": {},
     "output_type": "execute_result"
    }
   ],
   "source": [
    "bloc"
   ]
  },
  {
   "cell_type": "code",
   "execution_count": 13,
   "id": "980f934e-cdae-49dc-a967-7ef0a5739a3b",
   "metadata": {},
   "outputs": [
    {
     "data": {
      "text/plain": [
       "(24, 8)"
      ]
     },
     "execution_count": 13,
     "metadata": {},
     "output_type": "execute_result"
    }
   ],
   "source": [
    "bloc.shape"
   ]
  },
  {
   "cell_type": "code",
   "execution_count": 14,
   "id": "1924cedd-b7c7-4c09-b1d9-0f97f6afda0d",
   "metadata": {},
   "outputs": [
    {
     "data": {
      "text/plain": [
       "array([[ 0.0000000e+00,  1.8319208e+02,  8.2024243e+02,  1.0000000e+00,\n",
       "         0.0000000e+00,  0.0000000e+00,  0.0000000e+00,  1.0000000e+00],\n",
       "       [ 1.0000000e+00,  1.8362599e+02,  8.1931989e+02,  2.7099938e+00,\n",
       "        -2.4042645e+00,  0.0000000e+00,  7.8616792e-01,  6.1801291e-01],\n",
       "       [ 1.0000000e+00,  1.8637325e+02,  8.1184686e+02,  5.3144612e+00,\n",
       "        -9.8325043e+00,  0.0000000e+00,  9.1444468e-01,  4.0471095e-01],\n",
       "       [ 1.0000000e+00,  1.8927380e+02,  8.0502081e+02,  8.0587730e+00,\n",
       "        -1.1760017e+01,  0.0000000e+00,  8.6467397e-01,  5.0233346e-01],\n",
       "       [ 1.0000000e+00,  1.9502774e+02,  7.9412622e+02,  1.3195305e+01,\n",
       "        -1.1659126e+01,  0.0000000e+00,  7.5115025e-01,  6.6013128e-01],\n",
       "       [ 1.0000000e+00,  2.1882196e+02,  7.5716901e+02,  1.7082283e+01,\n",
       "        -2.3001467e+01,  0.0000000e+00,  8.3755755e-01,  5.4634911e-01],\n",
       "       [ 1.0000000e+00,  2.2718950e+02,  7.4472632e+02,  2.2950733e+01,\n",
       "        -1.0418615e+01,  0.0000000e+00,  5.3789860e-01,  8.4300953e-01],\n",
       "       [ 1.0000000e+00,  2.5933249e+02,  7.2052368e+02,  2.2216974e+01,\n",
       "        -1.7273474e+01,  0.0000000e+00,  6.4040899e-01,  7.6803404e-01],\n",
       "       [ 1.0000000e+00,  2.6096799e+02,  7.1922552e+02,  2.2304121e+01,\n",
       "        -7.0378327e+00,  0.0000000e+00,  3.8260549e-01,  9.2391181e-01],\n",
       "       [ 1.0000000e+00,  3.0068921e+02,  6.9115118e+02,  2.4057943e+01,\n",
       "        -1.2853467e+01,  0.0000000e+00,  5.3926271e-01,  8.4213758e-01],\n",
       "       [ 1.0000000e+00,  3.2417358e+02,  6.7393500e+02,  2.4546524e+01,\n",
       "        -1.1906124e+01,  0.0000000e+00,  4.9715829e-01,  8.6765987e-01],\n",
       "       [ 1.0000000e+00,  3.5207962e+02,  6.5406635e+02,  2.3213755e+01,\n",
       "        -1.6491919e+01,  0.0000000e+00,  6.0417891e-01,  7.9684871e-01],\n",
       "       [ 1.0000000e+00,  3.5561093e+02,  6.5144421e+02,  2.2541359e+01,\n",
       "        -9.6588802e+00,  0.0000000e+00,  4.4676301e-01,  8.9465237e-01],\n",
       "       [ 1.0000000e+00,  3.7938330e+02,  6.3580804e+02,  2.2738668e+01,\n",
       "        -1.0401797e+01,  0.0000000e+00,  4.7702685e-01,  8.7888873e-01],\n",
       "       [ 1.0000000e+00,  3.9292947e+02,  6.2787231e+02,  2.2187477e+01,\n",
       "        -5.1495290e+00,  0.0000000e+00,  3.1373739e-01,  9.4950980e-01],\n",
       "       [ 1.0000000e+00,  4.1776624e+02,  6.1596790e+02,  1.7424845e+01,\n",
       "        -1.6695120e+00,  0.0000000e+00,  1.9324562e-01,  9.8115039e-01],\n",
       "       [ 1.0000000e+00,  4.4321432e+02,  6.0307837e+02,  1.4838089e+01,\n",
       "        -4.6197782e+00,  0.0000000e+00,  3.7305549e-01,  9.2780900e-01],\n",
       "       [ 4.0000000e+00,  4.5010233e+02,  5.9987793e+02,  1.1493436e+01,\n",
       "        -2.5582187e+00,  0.0000000e+00,  2.9899937e-01,  9.5425332e-01],\n",
       "       [ 4.0000000e+00,  4.5150000e+02,  5.9944000e+02,  8.1006908e+00,\n",
       "        -8.6498356e-01, -1.5286947e+01,  1.4095882e-01,  9.9001545e-01],\n",
       "       [ 1.0000000e+00,  4.6048999e+02,  5.9815997e+02,  6.7532830e+00,\n",
       "        -9.6153533e-01, -8.8478069e+00,  0.0000000e+00,  1.0000000e+00],\n",
       "       [ 1.0000000e+00,  4.6652744e+02,  5.9338416e+02,  6.5640397e+00,\n",
       "        -4.4507422e+00, -8.8478069e+00,  6.1497140e-01,  7.8854942e-01],\n",
       "       [ 1.0000000e+00,  4.6761685e+02,  5.9251050e+02,  4.8072834e+00,\n",
       "         6.6123974e-01, -8.8478069e+00,  4.3183025e-02,  9.9906719e-01],\n",
       "       [ 4.0000000e+00,  4.6893823e+02,  5.9232202e+02,  3.4643283e+00,\n",
       "         1.6246038e-02, -8.8478069e+00,  1.4119017e-01,  9.8998249e-01],\n",
       "       [ 5.0000000e+00,  4.7438535e+02,  5.9154517e+02,  0.0000000e+00,\n",
       "         0.0000000e+00, -0.0000000e+00,  0.0000000e+00,  0.0000000e+00]],\n",
       "      dtype=float32)"
      ]
     },
     "execution_count": 14,
     "metadata": {},
     "output_type": "execute_result"
    }
   ],
   "source": [
    "bloc.read()"
   ]
  },
  {
   "cell_type": "markdown",
   "id": "a60a2cf0-d9ce-4fee-be35-0988f8c92c2e",
   "metadata": {},
   "source": [
    "Ce tableau contient les points de contact du bloc avec le terrain naturel:\n",
    "- le nombre de ligne varie suivant le bloc sélectionné;\n",
    "- les 8 colonnes contiennent dans l'order:\n",
    "    - le type de contact:\n",
    "        - 0: start\n",
    "        - 1: soil\n",
    "        - 2: tree\n",
    "        - 3: roll tree\n",
    "        - 4: roll\n",
    "        - 5: stop\n",
    "        - 6: out\n",
    "        - 7: fly\n",
    "        - 8: motion\n",
    "    - la distance sur profil $x$ (m);\n",
    "    - l'altitude $z$ (m);\n",
    "    - la composante horizontale du vecteur vitesse $v_x$ (m/s);\n",
    "    - la composante verticale du vecteur vitesse $v_z$ (m/s);\n",
    "    - la vitesse de rotation $\\dot{\\theta}$ (rad/s);\n",
    "    - la composante horizontale de la normale au plan de contact $N_x$;\n",
    "    - la composante verticale de la normale au plan de contact $N_z$."
   ]
  }
 ],
 "metadata": {
  "kernelspec": {
   "display_name": "Python 3 (ipykernel)",
   "language": "python",
   "name": "python3"
  },
  "language_info": {
   "codemirror_mode": {
    "name": "ipython",
    "version": 3
   },
   "file_extension": ".py",
   "mimetype": "text/x-python",
   "name": "python",
   "nbconvert_exporter": "python",
   "pygments_lexer": "ipython3",
   "version": "3.9.15"
  }
 },
 "nbformat": 4,
 "nbformat_minor": 5
}
