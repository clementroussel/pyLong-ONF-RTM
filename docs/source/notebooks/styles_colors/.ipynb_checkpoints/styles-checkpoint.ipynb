{
 "cells": [
  {
   "cell_type": "markdown",
   "id": "7c82d98d-20d2-4836-8b49-5b11ad615ead",
   "metadata": {},
   "source": [
    "# Styles"
   ]
  },
  {
   "cell_type": "markdown",
   "id": "d9c5da76-f4b3-4468-808d-89463c6366b6",
   "metadata": {},
   "source": [
    "## Tables of contents\n",
    "\n",
    "- [Line styles](#Line-styles)\n",
    "- [Marker styles](#Marker-styles)\n",
    "- [Arrow styles](#Arrow-styles)\n",
    "- [Font styles](#Font-styles)\n",
    "- [Font weights](#Font-weights)\n",
    "- [Hatch styles](#Hatch-styles)\n",
    "- [Legend locations](#Legend-locations)"
   ]
  },
  {
   "cell_type": "markdown",
   "id": "a439cccc-7542-411b-aa38-8a6c8ceafbaa",
   "metadata": {},
   "source": [
    "## Line styles\n",
    "\n",
    "![\"line styles\"](line_styles.png \"line styles\")"
   ]
  },
  {
   "cell_type": "markdown",
   "id": "46c54fcb-3215-47a5-9ffc-7ff29e047399",
   "metadata": {},
   "source": [
    "## Marker styles\n",
    "\n",
    "| value | preview | value | preview |\n",
    "| :---: | :-----: | :---: | :-----: |\n",
    "| ```\"pixel\"``` | ![\"pixel\"](./markers/pixel.png \"pixel\") |```\"hexagon 2\"``` | ![\"hexagon 1\"](./markers/hexagon_2.png \"hexagon 2\") |\n",
    "| ```\"point\"``` | ![\"point\"](./markers/point.png \"point\") |```\"octagon\"``` | ![\"octagon\"](./markers/octagon.png \"octagon\") |\n",
    "| ```\"circle\"``` | ![\"circle\"](./markers/circle.png \"circle\") |```\"diamond\"``` | ![\"diamond\"](./markers/diamond.png \"diamond\") |\n",
    "| ```\"plus\"``` | ![\"plus\"](./markers/plus.png \"plus\") |```\"thin diamond\"``` | ![\"thin diamond\"](./markers/thin_diamond.png \"thin diamond\") |\n",
    "| ```\"plus filled\"``` | ![\"plus filled\"](./markers/plus_filled.png \"plus filled\") |```\"vertical line\"``` | ![\"vertical line\"](./markers/vline.png \"vertical line\") |\n",
    "| ```\"cross\"``` | ![\"cross\"](./markers/cross.png \"cross\") |```\"horizontal line\"``` | ![\"horizontal line\"](./markers/hline.png \"horizontal line\") |\n",
    "| ```\"cross filled\"``` | ![\"cross filled\"](./markers/cross_filled.png \"cross filled\") |```\"tick left\"```  | ![\"tick left\"](./markers/tick_left.png \"tick left\") |\n",
    "| ```\"star\"``` | ![\"star\"](./markers/star.png \"star\") |```\"tick right\"```  | ![\"tick right\"](./markers/tick_right.png \"tick right\") |\n",
    "| ```\"triangle left\"``` | ![\"triangle left\"](./markers/triangle_left.png \"triangle left\") |```\"tick up\"```  | ![\"tick up\"](./markers/tick_up.png \"tick up\") |\n",
    "| ```\"triangle right\"``` | ![\"triangle right\"](./markers/triangle_right.png \"triangle right\") |```\"tick down\"```  | ![\"tick down\"](./markers/tick_down.png \"tick down\") |\n",
    "| ```\"triangle up\"``` | ![\"triangle up\"](./markers/triangle_up.png \"triangle up\") |```\"caret left\"```  | ![\"caret left\"](./markers/caret_left.png \"caret left\") |\n",
    "| ```\"triangle down\"``` | ![\"triangle down\"](./markers/triangle_down.png \"triangle down\") |```\"caret right\"```  | ![\"caret right\"](./markers/caret_right.png \"caret right\") |\n",
    "| ```\"tri left\"``` | ![\"tri left\"](./markers/tri_left.png \"tri left\") |```\"caret up\"```  | ![\"caret up\"](./markers/caret_up.png \"caret up\") |\n",
    "| ```\"tri right\"``` | ![\"tri right\"](./markers/tri_right.png \"tri right\") |```\"caret down\"```  | ![\"caret down\"](./markers/caret_down.png \"caret down\") |\n",
    "| ```\"tri up\"``` | ![\"tri up\"](./markers/tri_up.png \"tri up\") |```\"caret left base\"```  | ![\"caret left base\"](./markers/caret_left_base.png \"caret left base\") |\n",
    "| ```\"tri down\"``` | ![\"tri down\"](./markers/tri_down.png \"tri down\") |```\"caret right base\"```  | ![\"caret right base\"](./markers/caret_right_base.png \"caret right base\") |\n",
    "| ```\"square\"``` | ![\"square\"](./markers/square.png \"square\") |```\"caret up base\"```  | ![\"caret up base\"](./markers/caret_up_base.png \"caret up base\") |\n",
    "| ```\"pentagon\"``` | ![\"pentagon\"](./markers/pentagon.png \"pentagon\") |```\"caret down base\"```  | ![\"caret down base\"](./markers/caret_down_base.png \"caret down base\") |\n",
    "| ```\"hexagon 1\"``` | ![\"hexagon 1\"](./markers/hexagon_1.png \"hexagon 1\") | ```\"none\"``` | |"
   ]
  },
  {
   "cell_type": "markdown",
   "id": "a9706407-3007-4f10-8469-8368a27aee78",
   "metadata": {},
   "source": [
    "## Arrow styles\n",
    "\n",
    "![\"arrow styles\"](arrow_styles.png \"arrow styles\")"
   ]
  },
  {
   "cell_type": "markdown",
   "id": "4a7fa988-e491-4038-8aa5-3d4e26f83569",
   "metadata": {},
   "source": [
    "## Font styles\n",
    "\n",
    "![\"font styles\"](font_styles.png \"font styles\")"
   ]
  },
  {
   "cell_type": "markdown",
   "id": "e466ac03-39cc-4f5e-ae7e-302b56c91c71",
   "metadata": {},
   "source": [
    "## Font weights\n",
    "\n",
    "![\"font weights\"](font_weights.png \"font weights\")"
   ]
  },
  {
   "cell_type": "markdown",
   "id": "93180f76-440f-4c2a-a0c0-746d7a5bb29e",
   "metadata": {},
   "source": [
    "## Hatch styles\n",
    "\n",
    "![\"hatch styles\"](hatch_styles.png \"hatch styles\")"
   ]
  },
  {
   "cell_type": "markdown",
   "id": "7ace29da-bc83-45a8-bfcf-1404797105e2",
   "metadata": {},
   "source": [
    "## Legend locations\n",
    "\n",
    "![\"legend locations\"](legend_locations.png \"legend locations\")"
   ]
  }
 ],
 "metadata": {
  "kernelspec": {
   "display_name": "Python 3 (ipykernel)",
   "language": "python",
   "name": "python3"
  },
  "language_info": {
   "codemirror_mode": {
    "name": "ipython",
    "version": 3
   },
   "file_extension": ".py",
   "mimetype": "text/x-python",
   "name": "python",
   "nbconvert_exporter": "python",
   "pygments_lexer": "ipython3",
   "version": "3.9.15"
  }
 },
 "nbformat": 4,
 "nbformat_minor": 5
}
