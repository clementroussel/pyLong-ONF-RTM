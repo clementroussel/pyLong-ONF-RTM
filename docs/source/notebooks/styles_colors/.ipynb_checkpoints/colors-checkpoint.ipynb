{
 "cells": [
  {
   "cell_type": "markdown",
   "id": "08f53e7a-a1a0-4106-92a5-46aa8087511f",
   "metadata": {},
   "source": [
    "# Colors"
   ]
  },
  {
   "cell_type": "markdown",
   "id": "fb6741f2-b57c-4d19-8713-522d75f848a9",
   "metadata": {},
   "source": [
    "## Table of contents\n",
    "\n",
    "- [Red color names](#Red-color-names)\n",
    "- [Pink color names](#Pink-color-names)\n",
    "- [Orange color names](#Orange-color-names)\n",
    "- [Yellow color names](#Yellow-color-names)\n",
    "- [Purple color names](#Purple-color-names)\n",
    "- [Green color names](#Green-color-names)\n",
    "- [Blue color names](#Blue-color-names)\n",
    "- [Brown color names](#Brown-color-names)\n",
    "- [White color names](#White-color-names)\n",
    "- [Gray color names](#Gray-color-names)"
   ]
  },
  {
   "cell_type": "markdown",
   "id": "32dba3f6-7e19-4ce7-9ea1-a5faeaf4fbd5",
   "metadata": {},
   "source": [
    "## Red color names"
   ]
  },
  {
   "cell_type": "markdown",
   "id": "30588eb6-e1b7-4953-a281-f8e48d7a27f6",
   "metadata": {
    "tags": []
   },
   "source": [
    "<h3 style=\"color:#CD5C5C\";>Indian Red</h3>\n",
    "<h3 style=\"color:#F08080\";>Light Coral</h3>\n",
    "<h3 style=\"color:#FA8072\";>Salmon</h3>\n",
    "<h3 style=\"color:#E9967A\";>Dark Salmon</h3>\n",
    "<h3 style=\"color:#FFA07A\";>Light Salmon</h3>\n",
    "<h3 style=\"color:#DC143C\";>Crimson</h3>\n",
    "<h3 style=\"color:#FF0000\";>Red</h3>\n",
    "<h3 style=\"color:#B22222\";>Fire Brick</h3>\n",
    "<h3 style=\"color:#8B0000\";>Dark Red</h3>"
   ]
  },
  {
   "cell_type": "markdown",
   "id": "57f473b8-0571-47b2-9b8f-6116e630212d",
   "metadata": {},
   "source": [
    "## Pink color names"
   ]
  },
  {
   "cell_type": "markdown",
   "id": "6bc93607-ac04-4b1b-b58f-0af51f7b188f",
   "metadata": {},
   "source": [
    "<h3 style=\"color:#FFC0CB\";>Pink</h3>\n",
    "<h3 style=\"color:#FFB6C1\";>Light Pink</h3>\n",
    "<h3 style=\"color:#FF69B4\";>Hot Pink</h3>\n",
    "<h3 style=\"color:#FF1493\";>Deep Pink</h3>\n",
    "<h3 style=\"color:#C71585\";>Medium Violet Red</h3>\n",
    "<h3 style=\"color:#DB7093\";>Pale Violet Red</h3>"
   ]
  },
  {
   "cell_type": "markdown",
   "id": "fab7d1b0-3277-4c1a-973d-ae228bc5e834",
   "metadata": {},
   "source": [
    "## Orange color names\n"
   ]
  },
  {
   "cell_type": "markdown",
   "id": "63b82a58-b58c-43ee-bb56-5a2b559509d8",
   "metadata": {},
   "source": [
    "<h3 style=\"color:#FFA07A\";>Light Salmon</h3>\n",
    "<h3 style=\"color:#FF7F50\";>Coral</h3>\n",
    "<h3 style=\"color:#FF6347\";>Tomato</h3>\n",
    "<h3 style=\"color:#FF4500\";>Orange Red</h3>\n",
    "<h3 style=\"color:#FF8C00\";>Dark Orange</h3>\n",
    "<h3 style=\"color:#FFA500\";>Orange</h3>"
   ]
  },
  {
   "cell_type": "markdown",
   "id": "444a72ab-61e5-4d93-af79-6beb41e81be8",
   "metadata": {},
   "source": [
    "## Yellow color names"
   ]
  },
  {
   "cell_type": "markdown",
   "id": "e8930c90-485b-417f-96ca-302406ae83b1",
   "metadata": {},
   "source": [
    "<h3 style=\"color:#FFD700\";>Gold</h3>\n",
    "<h3 style=\"color:#FFFF00\";>Yellow</h3>\n",
    "<h3 style=\"color:#FFFFE0\";>Light Yellow</h3>\n",
    "<h3 style=\"color:#FFFACD\";>Lemon Chiffon</h3>\n",
    "<h3 style=\"color:#FAFAD2\";>Light Goldenrod Yellow</h3>\n",
    "<h3 style=\"color:#FFEFD5\";>Papaya Whip</h3>\n",
    "<h3 style=\"color:#FFE4B5\";>Moccasin</h3>\n",
    "<h3 style=\"color:#FFDAB9\";>Peach Puff</h3>\n",
    "<h3 style=\"color:#EEE8AA\";>Pale Goldenrod</h3>\n",
    "<h3 style=\"color:#F0E68C\";>Khaki</h3>\n",
    "<h3 style=\"color:#BDB76B\";>Dark Khaki</h3>"
   ]
  },
  {
   "cell_type": "markdown",
   "id": "225b48c1-5c65-4efc-8802-f6459d6a1045",
   "metadata": {},
   "source": [
    "## Purple color names"
   ]
  },
  {
   "cell_type": "markdown",
   "id": "f6f0d460-f8b5-4951-b74d-a77869f45879",
   "metadata": {},
   "source": [
    "<h3 style=\"color:#E6E6FA\";>Lavender</h3>\n",
    "<h3 style=\"color:#D8BFD8\";>Thistle</h3>\n",
    "<h3 style=\"color:#DDA0DD\";>Plum</h3>\n",
    "<h3 style=\"color:#EE82EE\";>Violet</h3>\n",
    "<h3 style=\"color:#DA70D6\";>Orchid</h3>\n",
    "<h3 style=\"color:#FF00FF\";>Fuchsia</h3>\n",
    "<h3 style=\"color:#FF00FF\";>Magenta</h3>\n",
    "<h3 style=\"color:#BA55D3\";>Medium Orchid</h3>\n",
    "<h3 style=\"color:#9370DB\";>Medium Purple</h3>\n",
    "<h3 style=\"color:#663399\";>Rebecca Purple</h3>\n",
    "<h3 style=\"color:#8A2BE2\";>Blue Violet</h3>\n",
    "<h3 style=\"color:#9400D3\";>Dark Violet</h3>\n",
    "<h3 style=\"color:#9932CC\";>Dark Orchid</h3>\n",
    "<h3 style=\"color:#8B008B\";>Dark Magenta</h3>\n",
    "<h3 style=\"color:#800080\";>Purple</h3>\n",
    "<h3 style=\"color:#4B0082\";>Indigo</h3>\n",
    "<h3 style=\"color:#6A5ACD\";>Slate Blue</h3>\n",
    "<h3 style=\"color:#483D8B\";>Dark Slate Blue</h3>\n",
    "<h3 style=\"color:#7B68EE\";>Medium Slate Blue</h3>"
   ]
  },
  {
   "cell_type": "markdown",
   "id": "27fe6334-31b4-4f07-9995-449bcaa16965",
   "metadata": {},
   "source": [
    "## Green color names"
   ]
  },
  {
   "cell_type": "markdown",
   "id": "e89e8973-e0bc-4402-9d96-7d07183f56b3",
   "metadata": {},
   "source": [
    "<h3 style=\"color:#ADFF2F\";>Green Yellow</h3>\n",
    "<h3 style=\"color:#7FFF00\";>Chartreuse</h3>\n",
    "<h3 style=\"color:#7CFC00\";>Lawn Green</h3>\n",
    "<h3 style=\"color:#00FF00\";>Lime</h3>\n",
    "<h3 style=\"color:#32CD32\";>Lime Green</h3>\n",
    "<h3 style=\"color:#98FB98\";>Pale Green</h3>\n",
    "<h3 style=\"color:#90EE90\";>Light Green</h3>\n",
    "<h3 style=\"color:#00FA9A\";>Medium Spring Green</h3>\n",
    "<h3 style=\"color:#00FF7F\";>Spring Green</h3>\n",
    "<h3 style=\"color:#3CB371\";>Medium Sea Green</h3>\n",
    "<h3 style=\"color:#2E8B57\";>Sea Green</h3>\n",
    "<h3 style=\"color:#228B22\";>Forest Green</h3>\n",
    "<h3 style=\"color:#008000\";>Green</h3>\n",
    "<h3 style=\"color:#006400\";>Dark Green</h3>\n",
    "<h3 style=\"color:#9ACD32\";>Yellow Green</h3>\n",
    "<h3 style=\"color:#6B8E23\";>Olive Drab</h3>\n",
    "<h3 style=\"color:#808000\";>Olive</h3>\n",
    "<h3 style=\"color:#556B2F\";>Dark Olive Green</h3>\n",
    "<h3 style=\"color:#66CDAA\";>Medium Aquamarine</h3>\n",
    "<h3 style=\"color:#8FBC8B\";>Dark Sea Green</h3>\n",
    "<h3 style=\"color:#20B2AA\";>Light Sea Green</h3>\n",
    "<h3 style=\"color:#008B8B\";>Dark Cyan</h3>\n",
    "<h3 style=\"color:#008080\";>Teal</h3>"
   ]
  },
  {
   "cell_type": "markdown",
   "id": "7621d369-e72f-4b54-a0e4-8b1752c49c3a",
   "metadata": {},
   "source": [
    "## Blue color names"
   ]
  },
  {
   "cell_type": "markdown",
   "id": "1af8dd59-7cc5-448d-88df-bda47c8fa4ad",
   "metadata": {},
   "source": [
    "<h3 style=\"color:#00FFFF\";>Aqua</h3>\n",
    "<h3 style=\"color:#00FFFF\";>Cyan</h3>\n",
    "<h3 style=\"color:#E0FFFF\";>Light Cyan</h3>\n",
    "<h3 style=\"color:#AFEEEE\";>Pale Turquoise</h3>\n",
    "<h3 style=\"color:#7FFFD4\";>Aquamarine</h3>\n",
    "<h3 style=\"color:#40E0D0\";>Turquoise</h3>\n",
    "<h3 style=\"color:#48D1CC\";>Medium Turquoise</h3>\n",
    "<h3 style=\"color:#00CED1\";>Dark Turquoise</h3>\n",
    "<h3 style=\"color:#5F9EA0\";>Cadet Blue</h3>\n",
    "<h3 style=\"color:#4682B4\";>Steel Blue</h3>\n",
    "<h3 style=\"color:#B0C4DE\";>Light Steel Blue</h3>\n",
    "<h3 style=\"color:#B0E0E6\";>Powder Blue</h3>\n",
    "<h3 style=\"color:#ADD8E6\";>Light Blue</h3>\n",
    "<h3 style=\"color:#87CEEB\";>Sky Blue</h3>\n",
    "<h3 style=\"color:#87CEFA\";>Light Sky Blue</h3>\n",
    "<h3 style=\"color:#00BFFF\";>Deep Sky Blue</h3>\n",
    "<h3 style=\"color:#1E90FF\";>Dodger Blue</h3>\n",
    "<h3 style=\"color:#6495ED\";>Cornflower Blue</h3>\n",
    "<h3 style=\"color:#7B68EE\";>Medium Slate Blue</h3>\n",
    "<h3 style=\"color:#4169E1\";>Royal Blue</h3>\n",
    "<h3 style=\"color:#0000FF\";>Blue</h3>\n",
    "<h3 style=\"color:#0000CD\";>Medium Blue</h3>\n",
    "<h3 style=\"color:#00008B\";>Dark Blue</h3>\n",
    "<h3 style=\"color:#000080\";>Navy</h3>\n",
    "<h3 style=\"color:#191970\";>Midnight Blue</h3>"
   ]
  },
  {
   "cell_type": "markdown",
   "id": "8df431d7-0de5-49f3-a469-877468e6d0e9",
   "metadata": {},
   "source": [
    "## Brown color names"
   ]
  },
  {
   "cell_type": "markdown",
   "id": "5c36cc89-2af5-4025-b4f9-5c0255f30645",
   "metadata": {},
   "source": [
    "<h3 style=\"color:#FFF8DC\";>Cornsilk</h3>\n",
    "<h3 style=\"color:#FFEBCD\";>Blanched Almond</h3>\n",
    "<h3 style=\"color:#FFE4C4\";>Bisque</h3>\n",
    "<h3 style=\"color:#FFDEAD\";>Navajo White</h3>\n",
    "<h3 style=\"color:#F5DEB3\";>Wheat</h3>\n",
    "<h3 style=\"color:#DEB887\";>Burly Wood</h3>\n",
    "<h3 style=\"color:#D2B48C\";>Tan</h3>\n",
    "<h3 style=\"color:#BC8F8F\";>Rosy Brown</h3>\n",
    "<h3 style=\"color:#F4A460\";>Sandy Brown</h3>\n",
    "<h3 style=\"color:#DAA520\";>Goldenrod</h3>\n",
    "<h3 style=\"color:#B8860B\";>Dark Goldenrod</h3>\n",
    "<h3 style=\"color:#CD853F\";>Peru</h3>\n",
    "<h3 style=\"color:#D2691E\";>Chocolate</h3>\n",
    "<h3 style=\"color:#8B4513\";>Saddle Brown</h3>\n",
    "<h3 style=\"color:#A0522D\";>Sienna</h3>\n",
    "<h3 style=\"color:#A52A2A\";>Brown</h3>\n",
    "<h3 style=\"color:#800000\";>Maroon</h3>"
   ]
  },
  {
   "cell_type": "markdown",
   "id": "b001a1da-e5d4-49e9-9803-92119d039a54",
   "metadata": {},
   "source": [
    "## White color names"
   ]
  },
  {
   "cell_type": "markdown",
   "id": "0e738646-fdb9-4f81-b35f-4ba2d682d75a",
   "metadata": {},
   "source": [
    "<h3 style=\"color:#FFFFFF\";>White</h3>\n",
    "<h3 style=\"color:#FFFAFA\";>Snow</h3>\n",
    "<h3 style=\"color:#F0FFF0\";>Honey Dew</h3>\n",
    "<h3 style=\"color:#F5FFFA\";>Mint Cream</h3>\n",
    "<h3 style=\"color:#F0FFFF\";>Azure</h3>\n",
    "<h3 style=\"color:#F0F8FF\";>Alice Blue</h3>\n",
    "<h3 style=\"color:#F8F8FF\";>Ghost White</h3>\n",
    "<h3 style=\"color:#F5F5F5\";>White Smoke</h3>\n",
    "<h3 style=\"color:#FFF5EE\";>Sea Shell</h3>\n",
    "<h3 style=\"color:#F5F5DC\";>Beige</h3>\n",
    "<h3 style=\"color:#FDF5E6\";>Old Lace</h3>\n",
    "<h3 style=\"color:#FFFAF0\";>Floral White</h3>\n",
    "<h3 style=\"color:#FFFFF0\";>Ivory</h3>\n",
    "<h3 style=\"color:#FAEBD7\";>Antique White</h3>\n",
    "<h3 style=\"color:#FAF0E6\";>Linen</h3>\n",
    "<h3 style=\"color:#FFF0F5\";>Lavender Blush</h3>\n",
    "<h3 style=\"color:#FFE4E1\";>Misty Rose</h3>"
   ]
  },
  {
   "cell_type": "markdown",
   "id": "01687987-af86-42ac-a9c8-5d7f0835de96",
   "metadata": {},
   "source": [
    "## Gray color names"
   ]
  },
  {
   "cell_type": "markdown",
   "id": "70d131cd-918f-474e-ac75-27de225fef65",
   "metadata": {},
   "source": [
    "<h3 style=\"color:#DCDCDC\";>Gainsboro</h3>\n",
    "<h3 style=\"color:#D3D3D3\";>Light Gray</h3>\n",
    "<h3 style=\"color:#C0C0C0\";>Silver</h3>\n",
    "<h3 style=\"color:#A9A9A9\";>Dark Gray</h3>\n",
    "<h3 style=\"color:#808080\";>Gray</h3>\n",
    "<h3 style=\"color:#696969\";>Dim Gray</h3>\n",
    "<h3 style=\"color:#778899\";>Light Slate Gray</h3>\n",
    "<h3 style=\"color:#708090\";>Slate Gray</h3>\n",
    "<h3 style=\"color:#2F4F4F\";>Dark Slate Gray</h3>\n",
    "<h3 style=\"color:#000000\";>Black</h3>"
   ]
  }
 ],
 "metadata": {
  "kernelspec": {
   "display_name": "Python 3 (ipykernel)",
   "language": "python",
   "name": "python3"
  },
  "language_info": {
   "codemirror_mode": {
    "name": "ipython",
    "version": 3
   },
   "file_extension": ".py",
   "mimetype": "text/x-python",
   "name": "python",
   "nbconvert_exporter": "python",
   "pygments_lexer": "ipython3",
   "version": "3.9.15"
  },
  "toc-autonumbering": false
 },
 "nbformat": 4,
 "nbformat_minor": 5
}
