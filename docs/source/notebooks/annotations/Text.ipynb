{
 "cells": [
  {
   "cell_type": "markdown",
   "id": "4f89abda-51ea-45a9-a9b2-8c67e7330a5d",
   "metadata": {
    "tags": []
   },
   "source": [
    "# Text\n",
    "\n",
    "> An instance of **Text** class represents a text annotation."
   ]
  },
  {
   "cell_type": "markdown",
   "id": "95565f63-0755-42b0-8f3f-dd79527f9192",
   "metadata": {},
   "source": [
    "## Table of contents"
   ]
  },
  {
   "cell_type": "markdown",
   "id": "6ba8da2b-d57f-4a09-af76-e7cef65ace7e",
   "metadata": {},
   "source": [
    "- [Import Text class](#Import-Text-class)"
   ]
  },
  {
   "cell_type": "markdown",
   "id": "00ca2cd7-f557-4b45-ac35-cfaa9676c60c",
   "metadata": {},
   "source": [
    "- [Constructor](#Constructor)"
   ]
  },
  {
   "cell_type": "markdown",
   "id": "967673c4-febe-43c9-9ff5-4c472ba57304",
   "metadata": {},
   "source": [
    "- [Attributes](#Attributes)"
   ]
  },
  {
   "cell_type": "markdown",
   "id": "fb1f55c5-e90c-4b0a-8d3c-c12b73f341a3",
   "metadata": {},
   "source": [
    "- [Methods](#Methods)\n",
    "    - [copy style](#copy-style)\n",
    "    - [duplicate](#duplicate)\n",
    "    - [export style](#export-style)\n",
    "    - [import style](#import-style)\n",
    "    - [plot](#plot)\n",
    "    - [reverse](#reverse)"
   ]
  },
  {
   "cell_type": "markdown",
   "id": "3923392d-f0aa-411c-8356-783a405da3c2",
   "metadata": {},
   "source": [
    "- [Examples](#Examples)\n",
    "    - [example 1](#example-1)\n",
    "    - [example 2](#example-2)"
   ]
  },
  {
   "cell_type": "markdown",
   "id": "b948cdbc-e2c6-49f8-9294-10374695705a",
   "metadata": {},
   "source": [
    "## Import Text class"
   ]
  },
  {
   "cell_type": "code",
   "execution_count": 1,
   "id": "c95be798-eb56-42da-a981-0502e657c087",
   "metadata": {},
   "outputs": [
    {
     "name": "stdout",
     "output_type": "stream",
     "text": [
      "SQLalchemy is not installed. No support for SQL output.\n"
     ]
    }
   ],
   "source": [
    "from pyLong.annotations.text import Text"
   ]
  },
  {
   "cell_type": "markdown",
   "id": "6dea94d7-593c-4486-906c-f24381f4238f",
   "metadata": {},
   "source": [
    "## Constructor"
   ]
  },
  {
   "cell_type": "code",
   "execution_count": 2,
   "id": "fb8d9272-b1cd-4434-af4c-edcc78543c4c",
   "metadata": {},
   "outputs": [],
   "source": [
    "annotation = Text()"
   ]
  },
  {
   "cell_type": "markdown",
   "id": "08ef5637-5591-4a7c-92ca-c65bdd0a965d",
   "metadata": {},
   "source": [
    "## Attributes"
   ]
  },
  {
   "cell_type": "markdown",
   "id": "ee2d3ffb-4d05-40c5-879b-2b9fbf943966",
   "metadata": {},
   "source": [
    "| attribute              |  type   | setter | comment |\n",
    "| :---                   | :----:  | :----: | :----   |\n",
    "| `name`                 | `str`   | yes    |         |\n",
    "| `text`                 | `str`   | yes    |         |\n",
    "| `xy`                   | `tuple` | yes    |         |\n",
    "| `x`                    | `float` | yes    |         |\n",
    "| `y`                    | `float` | yes    |         |\n",
    "| `horizontal_alignment` | `str`   | yes    |         |\n",
    "| `vertical_alignment`   | `str`   | yes    |         |\n",
    "| `rotation`             | `float` | yes    | must be between 0 and 360 |\n",
    "| `font_size`        | `float` | yes    | must be positive |\n",
    "| `font_color`       | `float` | yes    |         |\n",
    "| `font_style`       | `str`   | yes    |         |\n",
    "| `font_weight`      | `str`   | yes    |         |\n",
    "| `opacity`          | `float` | yes    | must be between 0 and 1 |\n",
    "| `order`            | `int`   | yes    | must be positive |\n",
    "| `visible`          | `bool`  | yes    |         |"
   ]
  },
  {
   "cell_type": "markdown",
   "id": "a522e81d-9b0d-4415-9f7d-e152d08a1972",
   "metadata": {},
   "source": [
    "## Methods"
   ]
  },
  {
   "cell_type": "markdown",
   "id": "7e4d1f5d-2eb3-4aae-aa90-05a067163a68",
   "metadata": {},
   "source": [
    "### copy style\n",
    "```python\n",
    "Text.copy_style(self, annotation)\n",
    "```"
   ]
  },
  {
   "cell_type": "code",
   "execution_count": 3,
   "id": "24e6fbae-1d36-4e5a-a437-50f86069ed78",
   "metadata": {},
   "outputs": [
    {
     "name": "stdout",
     "output_type": "stream",
     "text": [
      "Help on function copy_style in module pyLong.annotations.text:\n",
      "\n",
      "copy_style(self, annotation)\n",
      "    copy the style of a text annotation\n",
      "    \n",
      "    arguments:\n",
      "    - annotation: annotation whose style is to be copied - Text\n",
      "    \n",
      "    returns:\n",
      "    - True if success - bool\n",
      "    - False else - bool\n",
      "    \n",
      "    examples:\n",
      "    >>> new_annotation.copy_style(annotation)\n",
      "\n"
     ]
    }
   ],
   "source": [
    "help(Text.copy_style)"
   ]
  },
  {
   "cell_type": "markdown",
   "id": "53126968-77b8-4b11-93c5-a04db159abec",
   "metadata": {},
   "source": [
    "### duplicate\n",
    "```python\n",
    "Text.duplicate(self)\n",
    "```"
   ]
  },
  {
   "cell_type": "code",
   "execution_count": 4,
   "id": "dbcbb64f-338c-45fa-9070-2133a11ae1dd",
   "metadata": {},
   "outputs": [
    {
     "name": "stdout",
     "output_type": "stream",
     "text": [
      "Help on function duplicate in module pyLong.annotations.text:\n",
      "\n",
      "duplicate(self)\n",
      "    duplicate the annotation\n",
      "    \n",
      "    returns:\n",
      "    - new_annotation: duplicated annotation - Text\n",
      "    \n",
      "    examples:\n",
      "    >>> new_annotation = annotation.duplicate()\n",
      "\n"
     ]
    }
   ],
   "source": [
    "help(Text.duplicate)"
   ]
  },
  {
   "cell_type": "markdown",
   "id": "3b3a4b0a-a42d-452e-8647-73475681d136",
   "metadata": {},
   "source": [
    "### export style\n",
    "```python\n",
    "Text.export_style(self, filename)\n",
    "```"
   ]
  },
  {
   "cell_type": "code",
   "execution_count": 5,
   "id": "59fb0c83-0e9a-4f4e-bddc-38c2da427141",
   "metadata": {},
   "outputs": [
    {
     "name": "stdout",
     "output_type": "stream",
     "text": [
      "Help on function export_style in module pyLong.annotations.text:\n",
      "\n",
      "export_style(self, filename)\n",
      "    export annotation style to a .json file\n",
      "    \n",
      "    arguments:\n",
      "    - filename: .json file path - str\n",
      "    \n",
      "    returns:\n",
      "    - True if success - bool\n",
      "    - False else - bool\n",
      "    \n",
      "    examples:\n",
      "    >>> annotation.export_style(\"style.json\")\n",
      "\n"
     ]
    }
   ],
   "source": [
    "help(Text.export_style)"
   ]
  },
  {
   "cell_type": "markdown",
   "id": "593059c6-0aca-43b9-a896-a1fb7bd5e61d",
   "metadata": {},
   "source": [
    "### import style\n",
    "```python\n",
    "Text.import_style(self, filename)\n",
    "```"
   ]
  },
  {
   "cell_type": "code",
   "execution_count": 6,
   "id": "7a18b9f4-752e-4eb7-ae38-0048a09f93dd",
   "metadata": {},
   "outputs": [
    {
     "name": "stdout",
     "output_type": "stream",
     "text": [
      "Help on function import_style in module pyLong.annotations.text:\n",
      "\n",
      "import_style(self, filename)\n",
      "    import annotation style from a .json file\n",
      "    \n",
      "    arguments:\n",
      "    - filename: .json file path - str\n",
      "    \n",
      "    returns:\n",
      "    - True if success - bool\n",
      "    - False else - bool\n",
      "    \n",
      "    examples:\n",
      "    >>> annotation.import_style(\"style.json\")\n",
      "\n"
     ]
    }
   ],
   "source": [
    "help(Text.import_style)"
   ]
  },
  {
   "cell_type": "markdown",
   "id": "0334e288-525c-48dd-b4b2-b1d10abc8cd5",
   "metadata": {},
   "source": [
    "### plot\n",
    "```python\n",
    "Text.plot(self, ax)\n",
    "```"
   ]
  },
  {
   "cell_type": "code",
   "execution_count": 7,
   "id": "dbb5fade-e03b-4172-b144-d74fc39b7043",
   "metadata": {},
   "outputs": [
    {
     "name": "stdout",
     "output_type": "stream",
     "text": [
      "Help on function plot in module pyLong.annotations.text:\n",
      "\n",
      "plot(self, ax)\n",
      "    plot annotation on a matplotlib subplot\n",
      "    \n",
      "    arguments:\n",
      "    - ax: matplotlib subplot - matplotlib.axes._subplots.AxesSubplot\n",
      "    \n",
      "    returns:\n",
      "    - None - NoneType\n",
      "    \n",
      "    examples:\n",
      "    >>> from matplotlib import pyplot as plt\n",
      "    >>> fig, ax = plt.subplots()\n",
      "    >>> annotation.plot(ax)\n",
      "    >>> plt.show()\n",
      "\n"
     ]
    }
   ],
   "source": [
    "help(Text.plot)"
   ]
  },
  {
   "cell_type": "markdown",
   "id": "46efcac8-a25f-42fd-8636-ada43d36c54f",
   "metadata": {},
   "source": [
    "### reverse\n",
    "```python\n",
    "Text.reverse(self, profile)\n",
    "```"
   ]
  },
  {
   "cell_type": "code",
   "execution_count": 8,
   "id": "1e038e43-5d88-4f22-97f5-73afe5ec3b7a",
   "metadata": {},
   "outputs": [
    {
     "name": "stdout",
     "output_type": "stream",
     "text": [
      "Help on function reverse in module pyLong.annotations.text:\n",
      "\n",
      "reverse(self, profile)\n",
      "    reverse the annotation according to a reference profile\n",
      "    \n",
      "    arguments:\n",
      "    - profile: reference profile to perform the reversing - zProfile | yProfile\n",
      "    \n",
      "    returns:\n",
      "    - new_annotation: reversed annotation - Text\n",
      "    or\n",
      "    - None - NoneType\n",
      "    \n",
      "    examples:\n",
      "    >>> new_annotation = annotation.reverse(profile)\n",
      "\n"
     ]
    }
   ],
   "source": [
    "help(Text.reverse)"
   ]
  },
  {
   "cell_type": "markdown",
   "id": "743c60ef-5913-4aed-8e1b-a41d41544a9b",
   "metadata": {},
   "source": [
    "## Examples"
   ]
  },
  {
   "cell_type": "markdown",
   "id": "aebf3530-fc67-4687-9e6f-c49774b6c419",
   "metadata": {},
   "source": [
    "### example 1"
   ]
  },
  {
   "cell_type": "code",
   "execution_count": 9,
   "id": "b5f2c9b5-6b9e-4b3c-ac3d-bad1c6bb4eea",
   "metadata": {},
   "outputs": [
    {
     "data": {
      "image/png": "[encoded data removed]",
      "text/plain": [
       "<Figure size 500x500 with 1 Axes>"
      ]
     },
     "metadata": {},
     "output_type": "display_data"
    }
   ],
   "source": [
    "from matplotlib import pyplot as plt\n",
    "\n",
    "from pyLong.annotations.text import Text\n",
    "\n",
    "text = Text()\n",
    "text.name = \"a new text\"\n",
    "text.text = \"A quite beautiful equation...\\n\" + \"$e^{i\\pi} = -1$\" + \"\\n...don't you think ?\"\n",
    "text.xy = (250., 430.)\n",
    "text.horizontal_alignment = \"left\"\n",
    "text.vertical_alignment = \"baseline\"\n",
    "text.rotation = 10.\n",
    "text.font_size = 12.\n",
    "text.font_color = \"Crimson\"\n",
    "text.font_style = \"italic\"\n",
    "text.font_weight = \"normal\"\n",
    "text.opacity = 1.\n",
    "text.order = 1\n",
    "text.visible = True\n",
    "\n",
    "fig, ax = plt.subplots(figsize=(5, 5))\n",
    "ax.set_xlim((0., 1000.))\n",
    "ax.set_ylim((0., 1000.))\n",
    "ax.set_aspect(\"equal\")\n",
    "\n",
    "text.plot(ax)\n",
    "\n",
    "plt.tight_layout()\n",
    "plt.show()"
   ]
  },
  {
   "cell_type": "markdown",
   "id": "d06f777a-a774-4abc-969c-ce4e6985c86a",
   "metadata": {},
   "source": [
    "### example 2"
   ]
  },
  {
   "cell_type": "code",
   "execution_count": 10,
   "id": "356a84e4-dd9b-4de1-a288-cdb188b2467b",
   "metadata": {},
   "outputs": [
    {
     "data": {
      "image/png": "[encoded data removed]",
      "text/plain": [
       "<Figure size 500x500 with 1 Axes>"
      ]
     },
     "metadata": {},
     "output_type": "display_data"
    }
   ],
   "source": [
    "from matplotlib import pyplot as plt\n",
    "\n",
    "from pyLong.annotations.text import Text\n",
    "\n",
    "text = Text()\n",
    "text.name = \"another text\"\n",
    "text.text = \"Just a few words...\"\n",
    "text.xy = (500., 500.)\n",
    "text.horizontal_alignment = \"center\"\n",
    "text.vertical_alignment = \"center\"\n",
    "text.rotation = 0.\n",
    "text.font_size = 16.\n",
    "text.font_color = \"Black\"\n",
    "text.font_style = \"normal\"\n",
    "text.font_weight = \"bold\"\n",
    "text.opacity = 1.\n",
    "text.order = 1\n",
    "text.visible = True\n",
    "\n",
    "fig, ax = plt.subplots(figsize=(5, 5))\n",
    "ax.set_xlim((0., 1000.))\n",
    "ax.set_ylim((0., 1000.))\n",
    "ax.set_aspect(\"equal\")\n",
    "\n",
    "text.plot(ax)\n",
    "\n",
    "plt.tight_layout()\n",
    "plt.show()"
   ]
  }
 ],
 "metadata": {
  "kernelspec": {
   "display_name": "Python 3 (ipykernel)",
   "language": "python",
   "name": "python3"
  },
  "language_info": {
   "codemirror_mode": {
    "name": "ipython",
    "version": 3
   },
   "file_extension": ".py",
   "mimetype": "text/x-python",
   "name": "python",
   "nbconvert_exporter": "python",
   "pygments_lexer": "ipython3",
   "version": "3.9.15"
  },
  "toc-autonumbering": false
 },
 "nbformat": 4,
 "nbformat_minor": 5
}
