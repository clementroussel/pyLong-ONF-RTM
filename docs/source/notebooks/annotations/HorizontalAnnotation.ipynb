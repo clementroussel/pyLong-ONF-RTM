{
 "cells": [
  {
   "cell_type": "markdown",
   "id": "6a8b808c-229a-4206-876f-18c4a889f57a",
   "metadata": {},
   "source": [
    "# HorizontalAnnotation\n",
    "\n",
    "> An instance of **HorizontalAnnotation** class represents a horizontal annotation."
   ]
  },
  {
   "cell_type": "markdown",
   "id": "4f542ced-57ab-4645-9f6a-87678dc11bae",
   "metadata": {},
   "source": [
    "## Table of contents"
   ]
  },
  {
   "cell_type": "markdown",
   "id": "75c090fc-025f-40dc-ac9b-fe48a12dab81",
   "metadata": {},
   "source": [
    "- [Import HorizontalAnnotation class](#Import-HorizontalAnnotation-class)"
   ]
  },
  {
   "cell_type": "markdown",
   "id": "27dd5f62-c993-4c8e-beaf-df1271d3c087",
   "metadata": {},
   "source": [
    "- [Constructor](#Constructor)"
   ]
  },
  {
   "cell_type": "markdown",
   "id": "ae36fd7c-8422-4d7e-bb2f-01b148eb3cb3",
   "metadata": {},
   "source": [
    "- [Attributes](#Attributes)"
   ]
  },
  {
   "cell_type": "markdown",
   "id": "af055151-3c93-41b7-b221-f226f5265ae5",
   "metadata": {},
   "source": [
    "- [Methods](#Methods)\n",
    "    - [copy style](#copy-style)\n",
    "    - [duplicate](#duplicate)\n",
    "    - [export style](#export-style)\n",
    "    - [import style](#import-style)\n",
    "    - [plot](#plot)\n",
    "    - [reverse](#reverse)"
   ]
  },
  {
   "cell_type": "markdown",
   "id": "05413fac-542b-49fa-aaed-edbfb027e8c1",
   "metadata": {},
   "source": [
    "- [Examples](#Examples)\n",
    "    - [example 1](#example-1)\n",
    "    - [example 2](#example-2)"
   ]
  },
  {
   "cell_type": "markdown",
   "id": "c818b6da-914c-4fff-9cb9-17c8eee25374",
   "metadata": {},
   "source": [
    "## Import HorizontalAnnotation class"
   ]
  },
  {
   "cell_type": "code",
   "execution_count": 1,
   "id": "56818782-d9a7-42c4-bc8c-a509eb9a83df",
   "metadata": {},
   "outputs": [
    {
     "name": "stdout",
     "output_type": "stream",
     "text": [
      "SQLalchemy is not installed. No support for SQL output.\n"
     ]
    }
   ],
   "source": [
    "from pyLong.annotations.horizontal_annotation import HorizontalAnnotation"
   ]
  },
  {
   "cell_type": "markdown",
   "id": "dd09d3bb-2473-4d1e-b85e-f0cec605ea00",
   "metadata": {},
   "source": [
    "## Constructor"
   ]
  },
  {
   "cell_type": "code",
   "execution_count": 2,
   "id": "d764d6cd-d74b-4aa4-8bda-1ed51bc15737",
   "metadata": {},
   "outputs": [],
   "source": [
    "annotation = HorizontalAnnotation()"
   ]
  },
  {
   "cell_type": "markdown",
   "id": "f02355ba-56d6-455c-ba4a-67b1caf1a59f",
   "metadata": {
    "tags": []
   },
   "source": [
    "## Attributes"
   ]
  },
  {
   "cell_type": "markdown",
   "id": "d7e15125-5142-4153-b9d9-4bc5c9fa5d2b",
   "metadata": {},
   "source": [
    "| attribute          |  type   | setter | comment |\n",
    "| :---               | :----:  | :----: | :----   |\n",
    "| `name`             | `str`   | yes    |         |\n",
    "| `text`             | `str`   | yes    |         |\n",
    "| `position`         | `tuple` | yes    |         |\n",
    "| `x_start`          | `float` | yes    |         |\n",
    "| `x_end`            | `float` | yes    |         |\n",
    "| `y`                | `float` | yes    |         |\n",
    "| `vertical_shift`   | `float` | yes    |         |\n",
    "| `font_size`        | `float` | yes    | must be positive |\n",
    "| `font_color`       | `float` | yes    |         |\n",
    "| `font_style`       | `str`   | yes    |         |\n",
    "| `font_weight`      | `str`   | yes    |         |\n",
    "| `arrow_style`      | `str`   | yes    |         |\n",
    "| `arrow_line_style` | `str`   | yes    |         |\n",
    "| `arrow_color`      | `str`   | yes    |         |\n",
    "| `arrow_thickness`  | `float` | yes    | must be positive |\n",
    "| `opacity`          | `float` | yes    | must be between 0 and 1 |\n",
    "| `order`            | `int`   | yes    | must be positive |\n",
    "| `visible`          | `bool`  | yes    |         |"
   ]
  },
  {
   "cell_type": "markdown",
   "id": "39125cab-2f1f-4177-bf90-f5a7696969e8",
   "metadata": {
    "toc-hr-collapsed": true
   },
   "source": [
    "## Methods"
   ]
  },
  {
   "cell_type": "markdown",
   "id": "1d9d83df-88d0-46b1-9981-71b7e56f0ba5",
   "metadata": {},
   "source": [
    "### copy style\n",
    "```python\n",
    "HorizontalAnnotation.copy_style(self, annotation)\n",
    "```"
   ]
  },
  {
   "cell_type": "code",
   "execution_count": 3,
   "id": "f10758c7-28a3-4e1a-b9bc-a604b32dcf64",
   "metadata": {},
   "outputs": [
    {
     "name": "stdout",
     "output_type": "stream",
     "text": [
      "Help on function copy_style in module pyLong.annotations.horizontal_annotation:\n",
      "\n",
      "copy_style(self, annotation)\n",
      "    copy the style of a horizontal annotation\n",
      "    \n",
      "    arguments:\n",
      "    - annotation: annotation whose style is to be copied - HorizontalAnnotation\n",
      "    \n",
      "    returns:\n",
      "    - True if success - bool\n",
      "    - False else - bool\n",
      "    \n",
      "    examples:\n",
      "    >>> new_annotation.copy_style(annotation)\n",
      "\n"
     ]
    }
   ],
   "source": [
    "help(HorizontalAnnotation.copy_style)"
   ]
  },
  {
   "cell_type": "markdown",
   "id": "cc9a716b-8438-4baa-b3a2-038905add840",
   "metadata": {},
   "source": [
    "### duplicate\n",
    "```python\n",
    "HorizontalAnnotation.duplicate(self)\n",
    "```"
   ]
  },
  {
   "cell_type": "code",
   "execution_count": 4,
   "id": "c88d138c-65de-449c-a74c-13c8c3c5c882",
   "metadata": {},
   "outputs": [
    {
     "name": "stdout",
     "output_type": "stream",
     "text": [
      "Help on function duplicate in module pyLong.annotations.horizontal_annotation:\n",
      "\n",
      "duplicate(self)\n",
      "    duplicate the annotation\n",
      "    \n",
      "    returns:\n",
      "    - new_annotation: duplicated annotation - HorizontalAnnotation\n",
      "    \n",
      "    examples:\n",
      "    >>> new_annotation = annotation.duplicate()\n",
      "\n"
     ]
    }
   ],
   "source": [
    "help(HorizontalAnnotation.duplicate)"
   ]
  },
  {
   "cell_type": "markdown",
   "id": "9f64e51c-9a92-49b1-a06d-4d0a9d058c96",
   "metadata": {},
   "source": [
    "### export style\n",
    "```python\n",
    "HorizontalAnnotation.export_style(self, filename)\n",
    "```"
   ]
  },
  {
   "cell_type": "code",
   "execution_count": 5,
   "id": "84692976-d900-4806-9a95-c8daaa05f8c9",
   "metadata": {},
   "outputs": [
    {
     "name": "stdout",
     "output_type": "stream",
     "text": [
      "Help on function export_style in module pyLong.annotations.horizontal_annotation:\n",
      "\n",
      "export_style(self, filename)\n",
      "    export annotation style to a .json file\n",
      "    \n",
      "    arguments:\n",
      "    - filename: .json file path - str\n",
      "    \n",
      "    returns:\n",
      "    - True if success - bool\n",
      "    - False else - bool\n",
      "    \n",
      "    examples:\n",
      "    >>> annotation.export_style(\"style.json\")\n",
      "\n"
     ]
    }
   ],
   "source": [
    "help(HorizontalAnnotation.export_style)"
   ]
  },
  {
   "cell_type": "markdown",
   "id": "66ab5ce6-ea15-465f-ae0d-5697ad151051",
   "metadata": {},
   "source": [
    "### import style\n",
    "```python\n",
    "HorizontalAnnotation.import_style(self, filename)\n",
    "```"
   ]
  },
  {
   "cell_type": "code",
   "execution_count": 6,
   "id": "2cfc08da-7e08-402b-a87d-59320d0db94b",
   "metadata": {},
   "outputs": [
    {
     "name": "stdout",
     "output_type": "stream",
     "text": [
      "Help on function import_style in module pyLong.annotations.horizontal_annotation:\n",
      "\n",
      "import_style(self, filename)\n",
      "    import annotation style from a .json file\n",
      "    \n",
      "    arguments:\n",
      "    - filename: .json file path - str\n",
      "    \n",
      "    returns:\n",
      "    - True if success - bool\n",
      "    - False else - bool\n",
      "    \n",
      "    examples:\n",
      "    >>> annotation.import_style(\"style.json\")\n",
      "\n"
     ]
    }
   ],
   "source": [
    "help(HorizontalAnnotation.import_style)"
   ]
  },
  {
   "cell_type": "markdown",
   "id": "00ab9452-1ab4-40e9-9a23-ea441b184184",
   "metadata": {},
   "source": [
    "### plot\n",
    "```python\n",
    "HorizontalAnnotation.plot(self, ax)\n",
    "```"
   ]
  },
  {
   "cell_type": "code",
   "execution_count": 7,
   "id": "e262123a-65c2-4b12-a4a9-90a368b67c39",
   "metadata": {},
   "outputs": [
    {
     "name": "stdout",
     "output_type": "stream",
     "text": [
      "Help on function plot in module pyLong.annotations.horizontal_annotation:\n",
      "\n",
      "plot(self, ax)\n",
      "    plot annotation on a matplotlib subplot\n",
      "    \n",
      "    arguments:\n",
      "    - ax: matplotlib subplot - matplotlib.axes._subplots.AxesSubplot\n",
      "    \n",
      "    returns:\n",
      "    - None - NoneType\n",
      "    \n",
      "    examples:\n",
      "    >>> from matplotlib import pyplot as plt\n",
      "    >>> fig, ax = plt.subplots()\n",
      "    >>> annotation.plot(ax)\n",
      "    >>> plt.show()\n",
      "\n"
     ]
    }
   ],
   "source": [
    "help(HorizontalAnnotation.plot)"
   ]
  },
  {
   "cell_type": "markdown",
   "id": "74360042-0b41-4688-9a81-c6a80fee4484",
   "metadata": {},
   "source": [
    "### reverse\n",
    "```python\n",
    "HorizontalAnnotation.reverse(self, profile)\n",
    "```"
   ]
  },
  {
   "cell_type": "code",
   "execution_count": 8,
   "id": "374da2d9-d3c0-4a93-bfe7-a145a9d1dbeb",
   "metadata": {},
   "outputs": [
    {
     "name": "stdout",
     "output_type": "stream",
     "text": [
      "Help on function reverse in module pyLong.annotations.horizontal_annotation:\n",
      "\n",
      "reverse(self, profile)\n",
      "    reverse the annotation according to a reference profile\n",
      "    \n",
      "    arguments:\n",
      "    - profile: reference profile to perform the reversing - zProfile | yProfile\n",
      "    \n",
      "    returns:\n",
      "    - new_annotation: reversed annotation - HorizontalAnnotation\n",
      "    or\n",
      "    - None - NoneType\n",
      "    \n",
      "    examples:\n",
      "    >>> new_annotation = annotation.reverse(profile)\n",
      "\n"
     ]
    }
   ],
   "source": [
    "help(HorizontalAnnotation.reverse)"
   ]
  },
  {
   "cell_type": "markdown",
   "id": "a97a0ada-1c3f-4961-ac17-dfd4bbb5166f",
   "metadata": {
    "tags": []
   },
   "source": [
    "## Examples"
   ]
  },
  {
   "cell_type": "markdown",
   "id": "59ddc917-771e-481b-9c31-ca994b31f2e2",
   "metadata": {},
   "source": [
    "### example 1"
   ]
  },
  {
   "cell_type": "code",
   "execution_count": 9,
   "id": "18bbc0fd-3a00-4aec-8170-0a4ac9a21e20",
   "metadata": {},
   "outputs": [
    {
     "data": {
      "image/png": "[encoded data removed]",
      "text/plain": [
       "<Figure size 500x500 with 1 Axes>"
      ]
     },
     "metadata": {},
     "output_type": "display_data"
    }
   ],
   "source": [
    "from matplotlib import pyplot as plt\n",
    "\n",
    "from pyLong.annotations.horizontal_annotation import HorizontalAnnotation\n",
    "\n",
    "annotation = HorizontalAnnotation()\n",
    "annotation.name = \"a horizontal annotation\"\n",
    "annotation.text = \"A long time ago in a galaxy far, far away....\"\n",
    "annotation.position = (100., 900., 500.)\n",
    "annotation.vertical_shift = 50.\n",
    "annotation.font_size = 10.\n",
    "annotation.font_color = \"Dark Blue\"\n",
    "annotation.font_style = \"normal\"\n",
    "annotation.font_weight = \"normal\"\n",
    "annotation.arrow_style = \"]-[\"\n",
    "annotation.arrow_line_style = \"solid\"\n",
    "annotation.arrow_color = \"Steel Blue\"\n",
    "annotation.arrow_thickness = 1.5\n",
    "annotation.opacity = 1.\n",
    "annotation.order = 1\n",
    "annotation.visible = True\n",
    "\n",
    "fig, ax = plt.subplots(figsize=(5, 5))\n",
    "ax.set_xlim((0., 1000.))\n",
    "ax.set_ylim((0., 1000.))\n",
    "ax.set_aspect(\"equal\")\n",
    "\n",
    "annotation.plot(ax)\n",
    "\n",
    "plt.tight_layout()\n",
    "plt.show()"
   ]
  },
  {
   "cell_type": "markdown",
   "id": "270bcda6-1181-43b7-9855-ef10682cf56e",
   "metadata": {},
   "source": [
    "### example 2"
   ]
  },
  {
   "cell_type": "code",
   "execution_count": 10,
   "id": "f6d1e5f3-8a0e-4b38-b275-eed552442849",
   "metadata": {},
   "outputs": [
    {
     "data": {
      "image/png": "[encoded data removed]",
      "text/plain": [
       "<Figure size 500x500 with 1 Axes>"
      ]
     },
     "metadata": {},
     "output_type": "display_data"
    }
   ],
   "source": [
    "from matplotlib import pyplot as plt\n",
    "\n",
    "from pyLong.annotations.horizontal_annotation import HorizontalAnnotation\n",
    "\n",
    "annotation = HorizontalAnnotation()\n",
    "annotation.name = \"another horizontal annotation\"\n",
    "annotation.text = \"From here...to here\"\n",
    "annotation.position = (250., 750., 500.)\n",
    "annotation.vertical_shift = 50.\n",
    "annotation.font_size = 12.\n",
    "annotation.font_color = \"Crimson\"\n",
    "annotation.font_style = \"normal\"\n",
    "annotation.font_weight = \"bold\"\n",
    "annotation.arrow_style = \"|-|\"\n",
    "annotation.arrow_line_style = \"solid\"\n",
    "annotation.arrow_color = \"Dark Red\"\n",
    "annotation.arrow_thickness = 2.5\n",
    "annotation.opacity = 1.\n",
    "annotation.order = 1\n",
    "annotation.visible = True\n",
    "\n",
    "fig, ax = plt.subplots(figsize=(5, 5))\n",
    "ax.set_xlim((0., 1000.))\n",
    "ax.set_ylim((0., 1000.))\n",
    "ax.set_aspect(\"equal\")\n",
    "\n",
    "annotation.plot(ax)\n",
    "\n",
    "plt.tight_layout()\n",
    "plt.show()"
   ]
  }
 ],
 "metadata": {
  "kernelspec": {
   "display_name": "Python 3 (ipykernel)",
   "language": "python",
   "name": "python3"
  },
  "language_info": {
   "codemirror_mode": {
    "name": "ipython",
    "version": 3
   },
   "file_extension": ".py",
   "mimetype": "text/x-python",
   "name": "python",
   "nbconvert_exporter": "python",
   "pygments_lexer": "ipython3",
   "version": "3.9.15"
  },
  "toc-autonumbering": false
 },
 "nbformat": 4,
 "nbformat_minor": 5
}
