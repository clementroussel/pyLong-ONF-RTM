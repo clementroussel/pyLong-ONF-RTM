{
 "cells": [
  {
   "cell_type": "markdown",
   "id": "5536c300-07ea-44e8-8477-7418fe98b379",
   "metadata": {},
   "source": [
    "# Line\n",
    "\n",
    "> An instance of **Line** class represents a line annotation."
   ]
  },
  {
   "cell_type": "markdown",
   "id": "f50b0f76-76b4-4efb-b6ce-3998c4340e85",
   "metadata": {},
   "source": [
    "## Table of contents"
   ]
  },
  {
   "cell_type": "markdown",
   "id": "aa1a71d3-b8e5-4349-b5cf-c93839b6c3bd",
   "metadata": {},
   "source": [
    "- [Import Line class](#Import-Line-class)"
   ]
  },
  {
   "cell_type": "markdown",
   "id": "54da4f32-97dd-4a63-bc58-0072fbeb636a",
   "metadata": {},
   "source": [
    "- [Constructor](#Constructor)"
   ]
  },
  {
   "cell_type": "markdown",
   "id": "f4d0d1ca-6b56-4923-96c5-9fc8ac45837b",
   "metadata": {},
   "source": [
    "- [Attributes](#Attributes)"
   ]
  },
  {
   "cell_type": "markdown",
   "id": "911a8af3-e80d-4464-9939-7e20cff93924",
   "metadata": {},
   "source": [
    "- [Methods](#Methods)\n",
    "    - [copy style](#copy-style)\n",
    "    - [duplicate](#duplicate)\n",
    "    - [export style](#export-style)\n",
    "    - [import style](#import-style)\n",
    "    - [plot](#plot)\n",
    "    - [reverse](#reverse)"
   ]
  },
  {
   "cell_type": "markdown",
   "id": "2e091381-aefc-4c3c-8ba1-fe087d988f60",
   "metadata": {},
   "source": [
    "- [Examples](#Examples)\n",
    "    - [example 1](#example-1)"
   ]
  },
  {
   "cell_type": "markdown",
   "id": "5a4d2e3b-a70a-4d18-b52f-ccc515a3f299",
   "metadata": {},
   "source": [
    "## Import Line class"
   ]
  },
  {
   "cell_type": "code",
   "execution_count": 1,
   "id": "1bcf2bba-4c6f-46ab-a87a-33c07f55c0df",
   "metadata": {},
   "outputs": [
    {
     "name": "stdout",
     "output_type": "stream",
     "text": [
      "SQLalchemy is not installed. No support for SQL output.\n"
     ]
    }
   ],
   "source": [
    "from pyLong.annotations.line import Line"
   ]
  },
  {
   "cell_type": "markdown",
   "id": "9cff1572-42ea-4d5c-9651-86cedfd44aa0",
   "metadata": {},
   "source": [
    "## Constructor"
   ]
  },
  {
   "cell_type": "code",
   "execution_count": 2,
   "id": "9ad74359-b04b-472f-9ce9-983b6f664d7e",
   "metadata": {},
   "outputs": [],
   "source": [
    "annotation = Line()"
   ]
  },
  {
   "cell_type": "markdown",
   "id": "a23597f6-0e44-40c1-b0f7-ded7b18bd9f3",
   "metadata": {},
   "source": [
    "## Attributes"
   ]
  },
  {
   "cell_type": "markdown",
   "id": "b02a63e6-ea29-4fcf-bda8-e4e99869a99a",
   "metadata": {},
   "source": [
    "| attribute          |  type   | setter | comment |\n",
    "| :---               | :----:  | :----: | :----   |\n",
    "| `name`             | `str`   | yes    |         |\n",
    "| `label`            | `str`   | yes    |         |\n",
    "| `xy`               | `list`  | yes    |         |\n",
    "| `x`                | `list`  | no     |         |\n",
    "| `y`                | `list`  | no     |         |\n",
    "| `line_style`       | `str`   | yes    |         |\n",
    "| `line_color`       | `str`   | yes    |         |\n",
    "| `line_thickness`   | `float` | yes    | must be positive |\n",
    "| `marker_style`     | `str`   | yes    |         |\n",
    "| `marker_color`     | `str`   | yes    |         |\n",
    "| `marker_size`      | `float` | yes    | must be positive |\n",
    "| `opacity`          | `float` | yes    | must be between 0 and 1 |\n",
    "| `order`            | `int`   | yes    | must be positive |\n",
    "| `visible`          | `bool`  | yes    |         |"
   ]
  },
  {
   "cell_type": "markdown",
   "id": "adf3dd3e-0657-4317-a249-528d1214eb14",
   "metadata": {
    "tags": []
   },
   "source": [
    "## Methods"
   ]
  },
  {
   "cell_type": "markdown",
   "id": "a3e7bf0b-3c83-435a-a1d4-f475f6f91bc3",
   "metadata": {},
   "source": [
    "### copy style\n",
    "```python\n",
    "Line.copy_style(self, annotation)\n",
    "```"
   ]
  },
  {
   "cell_type": "code",
   "execution_count": 3,
   "id": "920d63ef-2b77-4833-86ce-70b9bec38026",
   "metadata": {},
   "outputs": [
    {
     "name": "stdout",
     "output_type": "stream",
     "text": [
      "Help on function copy_style in module pyLong.annotations.line:\n",
      "\n",
      "copy_style(self, annotation)\n",
      "    copy the style of a line annotation\n",
      "    \n",
      "    arguments:\n",
      "    - annotation: annotation whose style is to be copied - Line\n",
      "    \n",
      "    returns:\n",
      "    - True if success - bool\n",
      "    - False else - bool\n",
      "    \n",
      "    examples:\n",
      "    >>> new_annotation.copy_style(annotation)\n",
      "\n"
     ]
    }
   ],
   "source": [
    "help(Line.copy_style)"
   ]
  },
  {
   "cell_type": "markdown",
   "id": "04bac600-c292-4b14-bdaf-62669f5c5908",
   "metadata": {},
   "source": [
    "### duplicate\n",
    "```python\n",
    "Line.duplicate(self)\n",
    "```"
   ]
  },
  {
   "cell_type": "code",
   "execution_count": 4,
   "id": "52d782f1-bc80-422e-a4ea-f64b9ef66a14",
   "metadata": {},
   "outputs": [
    {
     "name": "stdout",
     "output_type": "stream",
     "text": [
      "Help on function duplicate in module pyLong.annotations.line:\n",
      "\n",
      "duplicate(self)\n",
      "    duplicate the annotation\n",
      "    \n",
      "    returns:\n",
      "    - new_annotation: duplicated annotation - Line\n",
      "    \n",
      "    examples:\n",
      "    >>> new_annotation = annotation.duplicate()\n",
      "\n"
     ]
    }
   ],
   "source": [
    "help(Line.duplicate)"
   ]
  },
  {
   "cell_type": "markdown",
   "id": "49ac7553-a45f-4bc3-8aa2-5ba1e2063ce4",
   "metadata": {},
   "source": [
    "### export style\n",
    "```python\n",
    "Line.export_style(self, filename)\n",
    "```"
   ]
  },
  {
   "cell_type": "code",
   "execution_count": 5,
   "id": "2dcfaa1f-2d2e-40ef-a38f-1ba591941768",
   "metadata": {},
   "outputs": [
    {
     "name": "stdout",
     "output_type": "stream",
     "text": [
      "Help on function export_style in module pyLong.annotations.line:\n",
      "\n",
      "export_style(self, filename)\n",
      "    export annotation style to a .json file\n",
      "    \n",
      "    arguments:\n",
      "    - filename: .json file path - str\n",
      "    \n",
      "    returns:\n",
      "    - True if success - bool\n",
      "    - False else - bool\n",
      "    \n",
      "    examples:\n",
      "    >>> annotation.export_style(\"style.json\")\n",
      "\n"
     ]
    }
   ],
   "source": [
    "help(Line.export_style)"
   ]
  },
  {
   "cell_type": "markdown",
   "id": "8a240b38-2686-4284-b1aa-cb36e2cef6e0",
   "metadata": {},
   "source": [
    "### import style\n",
    "```python\n",
    "Line.import_style(self, filename)\n",
    "```"
   ]
  },
  {
   "cell_type": "code",
   "execution_count": 6,
   "id": "0e477303-9411-4cef-a7ae-62d1f2a850f8",
   "metadata": {},
   "outputs": [
    {
     "name": "stdout",
     "output_type": "stream",
     "text": [
      "Help on function import_style in module pyLong.annotations.line:\n",
      "\n",
      "import_style(self, filename)\n",
      "    import annotation style from a .json file\n",
      "    \n",
      "    arguments:\n",
      "    - filename: .json file path - str\n",
      "    \n",
      "    returns:\n",
      "    - True if success - bool\n",
      "    - False else - bool\n",
      "    \n",
      "    examples:\n",
      "    >>> annotation.import_style(\"style.json\")\n",
      "\n"
     ]
    }
   ],
   "source": [
    "help(Line.import_style)"
   ]
  },
  {
   "cell_type": "markdown",
   "id": "cf2ea217-40b8-4110-8a6e-7350ba411271",
   "metadata": {},
   "source": [
    "### plot\n",
    "```python\n",
    "Line.plot(self, ax)\n",
    "```"
   ]
  },
  {
   "cell_type": "code",
   "execution_count": 7,
   "id": "9a2b3186-e3a0-481a-8296-0a6c59360dc8",
   "metadata": {},
   "outputs": [
    {
     "name": "stdout",
     "output_type": "stream",
     "text": [
      "Help on function plot in module pyLong.annotations.line:\n",
      "\n",
      "plot(self, ax)\n",
      "    plot annotation on a matplotlib subplot\n",
      "    \n",
      "    arguments:\n",
      "    - ax: matplotlib subplot - matplotlib.axes._subplots.AxesSubplot\n",
      "    \n",
      "    returns:\n",
      "    - None - NoneType\n",
      "    \n",
      "    examples:\n",
      "    >>> from matplotlib import pyplot as plt\n",
      "    >>> fig, ax = plt.subplots()\n",
      "    >>> annotation.plot(ax)\n",
      "    >>> plt.show()\n",
      "\n"
     ]
    }
   ],
   "source": [
    "help(Line.plot)"
   ]
  },
  {
   "cell_type": "markdown",
   "id": "dc0d19ee-689e-4c01-8aa9-dc2287defa53",
   "metadata": {},
   "source": [
    "### reverse\n",
    "```python\n",
    "Line.reverse(self, profile)\n",
    "```"
   ]
  },
  {
   "cell_type": "code",
   "execution_count": 8,
   "id": "6a37afaa-352e-49ed-b646-77f05dd4dbee",
   "metadata": {},
   "outputs": [
    {
     "name": "stdout",
     "output_type": "stream",
     "text": [
      "Help on function reverse in module pyLong.annotations.line:\n",
      "\n",
      "reverse(self, profile)\n",
      "    reverse the annotation according to a reference profile\n",
      "    \n",
      "    arguments:\n",
      "    - profile: reference profile to perform the reversing - zProfile | yProfile\n",
      "    \n",
      "    returns:\n",
      "    - new_annotation: reversed annotation - Line\n",
      "    or\n",
      "    - None - NoneType\n",
      "    \n",
      "    examples:\n",
      "    >>> new_annotation = annotation.reverse(profile)\n",
      "\n"
     ]
    }
   ],
   "source": [
    "help(Line.reverse)"
   ]
  },
  {
   "cell_type": "markdown",
   "id": "5c47da5c-8cda-48ec-a23b-b3a9c9b93148",
   "metadata": {},
   "source": [
    "## Examples"
   ]
  },
  {
   "cell_type": "markdown",
   "id": "232902cf-663c-402d-8a41-c56626070f96",
   "metadata": {},
   "source": [
    "### example 1"
   ]
  },
  {
   "cell_type": "code",
   "execution_count": 9,
   "id": "12a72b74-37f8-4b6a-af49-3c7afc0e746c",
   "metadata": {},
   "outputs": [
    {
     "data": {
      "image/png": "[encoded data removed]",
      "text/plain": [
       "<Figure size 500x500 with 1 Axes>"
      ]
     },
     "metadata": {},
     "output_type": "display_data"
    }
   ],
   "source": [
    "from matplotlib import pyplot as plt\n",
    "\n",
    "from pyLong.annotations.line import Line\n",
    "\n",
    "line = Line()\n",
    "line.name = \"a line\"\n",
    "line.label = \"a simple line\"\n",
    "line.xy = [(100., 200.), (900., 800.)]\n",
    "line.line_style = \"dashed\"\n",
    "line.line_color = \"Dark Green\"\n",
    "line.line_thickness = 3.\n",
    "line.marker_style = \"circle\"\n",
    "line.marker_color = \"Black\"\n",
    "line.marker_size = 8.\n",
    "line.opacity = 1.\n",
    "line.order = 1\n",
    "line.visible = True\n",
    "\n",
    "fig, ax = plt.subplots(figsize=(5, 5))\n",
    "ax.set_xlim((0., 1000.))\n",
    "ax.set_ylim((0., 1000.))\n",
    "ax.set_aspect(\"equal\")\n",
    "\n",
    "line.plot(ax)\n",
    "\n",
    "ax.legend(loc=\"best\")\n",
    "plt.tight_layout()\n",
    "plt.show()"
   ]
  }
 ],
 "metadata": {
  "kernelspec": {
   "display_name": "Python 3 (ipykernel)",
   "language": "python",
   "name": "python3"
  },
  "language_info": {
   "codemirror_mode": {
    "name": "ipython",
    "version": 3
   },
   "file_extension": ".py",
   "mimetype": "text/x-python",
   "name": "python",
   "nbconvert_exporter": "python",
   "pygments_lexer": "ipython3",
   "version": "3.9.16"
  }
 },
 "nbformat": 4,
 "nbformat_minor": 5
}
