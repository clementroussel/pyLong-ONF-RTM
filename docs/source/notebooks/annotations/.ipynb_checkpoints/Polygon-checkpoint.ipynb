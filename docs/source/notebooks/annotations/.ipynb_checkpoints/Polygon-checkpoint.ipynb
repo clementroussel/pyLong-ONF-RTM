{
 "cells": [
  {
   "cell_type": "markdown",
   "id": "8766ee10-d36c-48eb-8e84-0b225e1deab9",
   "metadata": {},
   "source": [
    "# Polygon\n",
    "\n",
    "> An instance of **Polygon** class represents a polygon annotation."
   ]
  },
  {
   "cell_type": "markdown",
   "id": "d172ec4b-60d3-4194-8bf5-d20fd92fe21d",
   "metadata": {},
   "source": [
    "## Table of contents"
   ]
  },
  {
   "cell_type": "markdown",
   "id": "bd45aa66-35ca-4b58-9538-9c4c22a81067",
   "metadata": {},
   "source": [
    "- [Import Polygon class](#Import-Polygon-class)"
   ]
  },
  {
   "cell_type": "markdown",
   "id": "e725c0c4-8362-4b5b-b19e-4bd4aaac76eb",
   "metadata": {},
   "source": [
    "- [Constructor](#Constructor)"
   ]
  },
  {
   "cell_type": "markdown",
   "id": "16971356-8527-4a02-9832-08e6a0ae42f2",
   "metadata": {},
   "source": [
    "- [Attributes](#Attributes)"
   ]
  },
  {
   "cell_type": "markdown",
   "id": "acf5d602-3454-4ce7-8d68-69d9e7b4bb93",
   "metadata": {},
   "source": [
    "- [Methods](#Methods)\n",
    "    - [area](#area)\n",
    "    - [copy style](#copy-style)\n",
    "    - [duplicate](#duplicate)\n",
    "    - [export style](#export-style)\n",
    "    - [from profile](#from-profile)\n",
    "    - [from profiles](#from-profiles)\n",
    "    - [import style](#import-style)\n",
    "    - [plot](#plot)\n",
    "    - [reverse](#reverse)"
   ]
  },
  {
   "cell_type": "markdown",
   "id": "cab4ab80-681d-42e6-a143-f39bd9a6b21b",
   "metadata": {},
   "source": [
    "- [Examples](#Examples)\n",
    "    - [example 1](#example-1)\n",
    "    - [example 2](#example-2)"
   ]
  },
  {
   "cell_type": "markdown",
   "id": "2aa16b72-58f5-447f-88cd-930d5fcdf409",
   "metadata": {},
   "source": [
    "## Import Polygon class"
   ]
  },
  {
   "cell_type": "code",
   "execution_count": 1,
   "id": "ffb0ce3a-8ca0-44a6-be35-d14994f11181",
   "metadata": {},
   "outputs": [
    {
     "name": "stdout",
     "output_type": "stream",
     "text": [
      "SQLalchemy is not installed. No support for SQL output.\n"
     ]
    }
   ],
   "source": [
    "from pyLong.annotations.polygon import Polygon"
   ]
  },
  {
   "cell_type": "markdown",
   "id": "3f572f2f-d707-4356-aea0-e75b80c0e25e",
   "metadata": {},
   "source": [
    "## Constructor"
   ]
  },
  {
   "cell_type": "code",
   "execution_count": 2,
   "id": "4ef740bc-8e99-46cf-b21a-5a7ad31fc7ed",
   "metadata": {},
   "outputs": [],
   "source": [
    "annotation = Polygon()"
   ]
  },
  {
   "cell_type": "markdown",
   "id": "336c32aa-36d3-4541-9a90-62ca51b21e54",
   "metadata": {},
   "source": [
    "## Attributes"
   ]
  },
  {
   "cell_type": "markdown",
   "id": "7b9574f9-1d55-4b9e-b4f4-b3f3fbb050bf",
   "metadata": {},
   "source": [
    "| attribute          |  type   | setter | comment |\n",
    "| :---               | :----:  | :----: | :----   |\n",
    "| `name`             | `str`   | yes    |         |\n",
    "| `label`            | `str`   | yes    |         |\n",
    "| `xy`               | `list`  | yes    |         |\n",
    "| `x`                | `list`  | no     |         |\n",
    "| `y`                | `list`  | no     |         |\n",
    "| `line_style`       | `str`   | yes    |         |\n",
    "| `line_color`       | `str`   | yes    |         |\n",
    "| `line_thickness`   | `float` | yes    | must be positive |\n",
    "| `hatch_style`      | `str`   | yes    |         |\n",
    "| `hatch_density`    | `int`   | yes    | must be positive |\n",
    "| `fill_color`       | `str`   | yes    |         |\n",
    "| `opacity`          | `float` | yes    | must be between 0 and 1 |\n",
    "| `order`            | `int`   | yes    | must be positive |\n",
    "| `visible`          | `bool`  | yes    |         |"
   ]
  },
  {
   "cell_type": "markdown",
   "id": "b1f6f348-6e4a-44e7-9804-27c54b4490f7",
   "metadata": {
    "tags": []
   },
   "source": [
    "## Methods"
   ]
  },
  {
   "cell_type": "markdown",
   "id": "469bfc5d-759b-41d8-a172-eb0d1cb3b9e0",
   "metadata": {},
   "source": [
    "### area\n",
    "```python\n",
    "Polygon.area(self)\n",
    "```"
   ]
  },
  {
   "cell_type": "code",
   "execution_count": 3,
   "id": "7b3a4cd8-468d-42a9-8500-81aa10f3308a",
   "metadata": {},
   "outputs": [
    {
     "name": "stdout",
     "output_type": "stream",
     "text": [
      "Help on function area in module pyLong.annotations.polygon:\n",
      "\n",
      "area(self)\n",
      "    calculate the polygon area\n",
      "    \n",
      "    returns:\n",
      "    area: polygon area - float\n",
      "    \n",
      "    examples:\n",
      "    >>> area = annotation.area()\n",
      "\n"
     ]
    }
   ],
   "source": [
    "help(Polygon.area)"
   ]
  },
  {
   "cell_type": "markdown",
   "id": "97bce2f8-0810-46ef-94bb-0de1fa91852b",
   "metadata": {},
   "source": [
    "### copy style\n",
    "```python\n",
    "Polygon.copy_style(self, annotation)\n",
    "```"
   ]
  },
  {
   "cell_type": "code",
   "execution_count": 4,
   "id": "7cb70a8d-4c1c-4896-9e7d-d0cd1b93d75f",
   "metadata": {},
   "outputs": [
    {
     "name": "stdout",
     "output_type": "stream",
     "text": [
      "Help on function copy_style in module pyLong.annotations.polygon:\n",
      "\n",
      "copy_style(self, annotation)\n",
      "    copy the style of a polygon annotation\n",
      "    \n",
      "    arguments:\n",
      "    - annotation: annotation whose style is to be copied - Polygon\n",
      "    \n",
      "    returns:\n",
      "    - True if success - bool\n",
      "    - False else - bool\n",
      "    \n",
      "    examples:\n",
      "    >>> new_annotation.copy_style(annotation)\n",
      "\n"
     ]
    }
   ],
   "source": [
    "help(Polygon.copy_style)"
   ]
  },
  {
   "cell_type": "markdown",
   "id": "c18a8ef4-55d9-49d7-91d7-afa5f979a0f9",
   "metadata": {},
   "source": [
    "### duplicate\n",
    "```python\n",
    "Polygon.duplicate(self)\n",
    "```"
   ]
  },
  {
   "cell_type": "code",
   "execution_count": 5,
   "id": "d0e24e94-c0e6-46d3-b579-caa77c62c639",
   "metadata": {},
   "outputs": [
    {
     "name": "stdout",
     "output_type": "stream",
     "text": [
      "Help on function duplicate in module pyLong.annotations.polygon:\n",
      "\n",
      "duplicate(self)\n",
      "    duplicate the annotation\n",
      "    \n",
      "    returns:\n",
      "    - new_annotation: duplicated annotation - Polygon\n",
      "    \n",
      "    examples:\n",
      "    >>> new_annotation = annotation.duplicate()\n",
      "\n"
     ]
    }
   ],
   "source": [
    "help(Polygon.duplicate)"
   ]
  },
  {
   "cell_type": "markdown",
   "id": "0544444d-c24e-4ad4-9f2c-8f27a41f8283",
   "metadata": {},
   "source": [
    "### export style\n",
    "```python\n",
    "Polygon.export_style(self, filename)\n",
    "```"
   ]
  },
  {
   "cell_type": "code",
   "execution_count": 6,
   "id": "b4fc5064-92b8-4fc2-b3f0-053283ee0f99",
   "metadata": {},
   "outputs": [
    {
     "name": "stdout",
     "output_type": "stream",
     "text": [
      "Help on function export_style in module pyLong.annotations.polygon:\n",
      "\n",
      "export_style(self, filename)\n",
      "    export annotation style to a .json file\n",
      "    \n",
      "    arguments:\n",
      "    - filename: .json file path - str\n",
      "    \n",
      "    returns:\n",
      "    - True if success - bool\n",
      "    - False else - bool\n",
      "    \n",
      "    examples:\n",
      "    >>> annotation.export_style(\"style.json\")\n",
      "\n"
     ]
    }
   ],
   "source": [
    "help(Polygon.export_style)"
   ]
  },
  {
   "cell_type": "markdown",
   "id": "3364b058-df01-45db-bc16-b22ecf51da85",
   "metadata": {},
   "source": [
    "### from profile\n",
    "```python\n",
    "Polygon.from_profile(self, profile, ref)\n",
    "```"
   ]
  },
  {
   "cell_type": "code",
   "execution_count": 7,
   "id": "3c8e2f55-c7c5-4080-947f-0c7329fce859",
   "metadata": {},
   "outputs": [
    {
     "name": "stdout",
     "output_type": "stream",
     "text": [
      "Help on function from_profile in module pyLong.annotations.polygon:\n",
      "\n",
      "from_profile(self, profile, ref)\n",
      "    fill in between a profile and a reference altitude or value\n",
      "    \n",
      "    arguments:\n",
      "    - profile: profile - zProfile | yProfile\n",
      "    - ref: reference altitude or value - int | float\n",
      "    \n",
      "    returns:\n",
      "    - True if success - bool\n",
      "    - False else - bool\n",
      "    \n",
      "    examples:\n",
      "    >>> polygon.from_profile(profile, 0.)\n",
      "\n"
     ]
    }
   ],
   "source": [
    "help(Polygon.from_profile)"
   ]
  },
  {
   "cell_type": "markdown",
   "id": "630de529-bfc5-43be-9164-e6b2ec8193b6",
   "metadata": {},
   "source": [
    "### from profiles\n",
    "```python\n",
    "Polygon.from_profiles(self, profile1, profile2)\n",
    "```"
   ]
  },
  {
   "cell_type": "code",
   "execution_count": 8,
   "id": "26fdd917-1703-4bca-ba96-805e34430de0",
   "metadata": {},
   "outputs": [
    {
     "name": "stdout",
     "output_type": "stream",
     "text": [
      "Help on function from_profiles in module pyLong.annotations.polygon:\n",
      "\n",
      "from_profiles(self, profile1, profile2)\n",
      "    fill in between two profiles\n",
      "    \n",
      "    arguments:\n",
      "    - profile1: profile - zProfile | yProfile\n",
      "    - profile2: profile - zProfile | yProfile\n",
      "    \n",
      "    returns:\n",
      "    - True if success - bool\n",
      "    - False else - bool\n",
      "    \n",
      "    examples:\n",
      "    >>> polygon.from_profiles(profile1, profile2)\n",
      "\n"
     ]
    }
   ],
   "source": [
    "help(Polygon.from_profiles)"
   ]
  },
  {
   "cell_type": "markdown",
   "id": "7f4618ca-407e-4a23-81cf-8019ea913b03",
   "metadata": {},
   "source": [
    "### import style\n",
    "```python\n",
    "Polygon.import_style(self, filename)\n",
    "```"
   ]
  },
  {
   "cell_type": "code",
   "execution_count": 9,
   "id": "dff59db6-3ad4-4717-a333-85b2eb5f9568",
   "metadata": {},
   "outputs": [
    {
     "name": "stdout",
     "output_type": "stream",
     "text": [
      "Help on function import_style in module pyLong.annotations.polygon:\n",
      "\n",
      "import_style(self, filename)\n",
      "    import annotation style from a .json file\n",
      "    \n",
      "    arguments:\n",
      "    - filename: .json file path - str\n",
      "    \n",
      "    returns:\n",
      "    - True if success - bool\n",
      "    - False else - bool\n",
      "    \n",
      "    examples:\n",
      "    >>> annotation.import_style(\"style.json\")\n",
      "\n"
     ]
    }
   ],
   "source": [
    "help(Polygon.import_style)"
   ]
  },
  {
   "cell_type": "markdown",
   "id": "e8ca3e67-b7b1-4d1e-88ea-dea536f04f0a",
   "metadata": {},
   "source": [
    "### plot\n",
    "```python\n",
    "Polygon.plot(self, ax)\n",
    "```"
   ]
  },
  {
   "cell_type": "code",
   "execution_count": 10,
   "id": "d9e6022d-cf5c-4ec6-9011-a2c07fc46524",
   "metadata": {},
   "outputs": [
    {
     "name": "stdout",
     "output_type": "stream",
     "text": [
      "Help on function plot in module pyLong.annotations.polygon:\n",
      "\n",
      "plot(self, ax)\n",
      "    plot annotation on a matplotlib subplot\n",
      "    \n",
      "    arguments:\n",
      "    - ax: matplotlib subplot - matplotlib.axes._subplots.AxesSubplot\n",
      "    \n",
      "    returns:\n",
      "    - None - NoneType\n",
      "    \n",
      "    examples:\n",
      "    >>> from matplotlib import pyplot as plt\n",
      "    >>> fig, ax = plt.subplots()\n",
      "    >>> annotation.plot(ax)\n",
      "    >>> plt.show()\n",
      "\n"
     ]
    }
   ],
   "source": [
    "help(Polygon.plot)"
   ]
  },
  {
   "cell_type": "markdown",
   "id": "644db780-2a86-4074-878c-ad28e457e52f",
   "metadata": {},
   "source": [
    "### reverse\n",
    "```python\n",
    "Polygon.reverse(self, profile)\n",
    "```"
   ]
  },
  {
   "cell_type": "code",
   "execution_count": 11,
   "id": "2b1bfb36-e9ce-4d27-8832-ce977f67def6",
   "metadata": {},
   "outputs": [
    {
     "name": "stdout",
     "output_type": "stream",
     "text": [
      "Help on function reverse in module pyLong.annotations.polygon:\n",
      "\n",
      "reverse(self, profile)\n",
      "    reverse the annotation according to a reference profile\n",
      "    \n",
      "    arguments:\n",
      "    - profile: reference profile to perform the reversing - zProfile | yProfile\n",
      "    \n",
      "    returns:\n",
      "    - new_annotation: reversed annotation - Polygon\n",
      "    or\n",
      "    - None - NoneType\n",
      "    \n",
      "    examples:\n",
      "    >>> new_annotation = annotation.reverse(profile)\n",
      "\n"
     ]
    }
   ],
   "source": [
    "help(Polygon.reverse)"
   ]
  },
  {
   "cell_type": "markdown",
   "id": "d68a1b97-96fa-4e56-bf1d-b8e82a45da64",
   "metadata": {},
   "source": [
    "## Examples"
   ]
  },
  {
   "cell_type": "markdown",
   "id": "2e6a800b-d32a-44c9-bad4-fbc36e79f25d",
   "metadata": {},
   "source": [
    "### example 1"
   ]
  },
  {
   "cell_type": "code",
   "execution_count": 12,
   "id": "528777f2-6158-496b-88e6-3cfee0641991",
   "metadata": {},
   "outputs": [
    {
     "data": {
      "image/png": "[encoded data removed]",
      "text/plain": [
       "<Figure size 500x500 with 1 Axes>"
      ]
     },
     "metadata": {},
     "output_type": "display_data"
    }
   ],
   "source": [
    "from matplotlib import pyplot as plt\n",
    "\n",
    "from pyLong.annotations.polygon import Polygon\n",
    "\n",
    "polygon = Polygon()\n",
    "polygon.name = \"a polygon\"\n",
    "polygon.label = \"a blue octogon\"\n",
    "polygon.xy = [(400, 200),\n",
    "              (200, 400),\n",
    "              (200, 600),\n",
    "              (400, 800),\n",
    "              (600, 800),\n",
    "              (800, 600),\n",
    "              (800, 400),\n",
    "              (600, 200)]\n",
    "polygon.line_style = \"dashed\"\n",
    "polygon.line_color = \"Dark Blue\"\n",
    "polygon.line_thickness = 2.\n",
    "polygon.hatch_style = \"/\"\n",
    "polygon.hatch_density = 3\n",
    "polygon.fill_color = \"None\"\n",
    "polygon.opacity = 1.\n",
    "polygon.order = 1\n",
    "polygon.visible = True\n",
    "\n",
    "fig, ax = plt.subplots(figsize=(5, 5))\n",
    "ax.set_xlim((0., 1000.))\n",
    "ax.set_ylim((0., 1000.))\n",
    "ax.set_aspect(\"equal\")\n",
    "\n",
    "polygon.plot(ax)\n",
    "\n",
    "ax.legend(loc=\"best\")\n",
    "plt.tight_layout()\n",
    "plt.show()"
   ]
  },
  {
   "cell_type": "markdown",
   "id": "802b2a2a-337e-4491-a6f1-260fba85dae4",
   "metadata": {},
   "source": [
    "### example 2"
   ]
  },
  {
   "cell_type": "code",
   "execution_count": 13,
   "id": "7788b878-6fd0-4747-b2d9-15f619c39993",
   "metadata": {},
   "outputs": [
    {
     "data": {
      "image/png": "[encoded data removed]",
      "text/plain": [
       "<Figure size 500x500 with 1 Axes>"
      ]
     },
     "metadata": {},
     "output_type": "display_data"
    }
   ],
   "source": [
    "from matplotlib import pyplot as plt\n",
    "\n",
    "from pyLong.annotations.polygon import Polygon\n",
    "\n",
    "polygon = Polygon()\n",
    "polygon.name = \"a polygon\"\n",
    "polygon.label = \"an orange polygon\"\n",
    "polygon.xy = [(200, 400),\n",
    "              (200, 600),\n",
    "              (400, 800),\n",
    "              (600, 800),\n",
    "              (800, 600)]\n",
    "polygon.line_style = \"solid\"\n",
    "polygon.line_color = \"None\"\n",
    "polygon.line_thickness = 0.\n",
    "polygon.hatch_style = \"\"\n",
    "polygon.hatch_density = 1\n",
    "polygon.fill_color = \"Dark Orange\"\n",
    "polygon.opacity = 0.5\n",
    "polygon.order = 1\n",
    "polygon.visible = True\n",
    "\n",
    "fig, ax = plt.subplots(figsize=(5, 5))\n",
    "ax.set_xlim((0., 1000.))\n",
    "ax.set_ylim((0., 1000.))\n",
    "ax.set_aspect(\"equal\")\n",
    "\n",
    "polygon.plot(ax)\n",
    "\n",
    "ax.legend(loc=\"best\")\n",
    "plt.tight_layout()\n",
    "plt.show()"
   ]
  }
 ],
 "metadata": {
  "kernelspec": {
   "display_name": "Python 3 (ipykernel)",
   "language": "python",
   "name": "python3"
  },
  "language_info": {
   "codemirror_mode": {
    "name": "ipython",
    "version": 3
   },
   "file_extension": ".py",
   "mimetype": "text/x-python",
   "name": "python",
   "nbconvert_exporter": "python",
   "pygments_lexer": "ipython3",
   "version": "3.9.15"
  }
 },
 "nbformat": 4,
 "nbformat_minor": 5
}
