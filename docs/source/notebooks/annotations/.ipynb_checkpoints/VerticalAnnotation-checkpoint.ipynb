{
 "cells": [
  {
   "cell_type": "markdown",
   "id": "5c058c9f-85d1-4076-a7ae-815d76116232",
   "metadata": {
    "tags": []
   },
   "source": [
    "# VerticalAnnotation\n",
    "\n",
    "> An instance of **VerticalAnnotation** class represents a vertical annotation."
   ]
  },
  {
   "cell_type": "markdown",
   "id": "e7756702-946c-4db8-a173-d28f30da87fe",
   "metadata": {},
   "source": [
    "## Table of contents"
   ]
  },
  {
   "cell_type": "markdown",
   "id": "50893707-62e5-4e63-bf7b-91760e4d47a1",
   "metadata": {},
   "source": [
    "- [Import VerticalAnnotation class](#Import-VerticalAnnotation-class)"
   ]
  },
  {
   "cell_type": "markdown",
   "id": "c635b7b9-0a44-4537-9e06-0aa5428ac86d",
   "metadata": {},
   "source": [
    "- [Constructor](#Constructor)"
   ]
  },
  {
   "cell_type": "markdown",
   "id": "6fefada0-2975-4648-b18b-9b5b78d1c187",
   "metadata": {},
   "source": [
    "- [Attributes](#Attributes)"
   ]
  },
  {
   "cell_type": "markdown",
   "id": "9b95bb96-018c-4cbc-9ef7-513a323dbc5b",
   "metadata": {},
   "source": [
    "- [Methods](#Methods)\n",
    "    - [adjust](#adjust)\n",
    "    - [copy style](#copy-style)\n",
    "    - [duplicate](#duplicate)\n",
    "    - [export style](#export-style)\n",
    "    - [from txt](#from-txt)\n",
    "    - [from dbf](#from-dbf)\n",
    "    - [import style](#import-style)\n",
    "    - [plot](#plot)\n",
    "    - [reverse](#reverse)"
   ]
  },
  {
   "cell_type": "markdown",
   "id": "de98c8f8-db6f-453c-bfe3-c55d9ffdf4a7",
   "metadata": {},
   "source": [
    "- [Examples](#Examples)\n",
    "    - [example 1](#example-1)\n",
    "    - [example 2](#example-2)"
   ]
  },
  {
   "cell_type": "markdown",
   "id": "d5340624-88db-4946-b401-35cfed689988",
   "metadata": {},
   "source": [
    "## Import VerticalAnnotation class"
   ]
  },
  {
   "cell_type": "code",
   "execution_count": 1,
   "id": "68b560a8-21e0-4367-a0d5-7099ec22f96f",
   "metadata": {},
   "outputs": [
    {
     "name": "stdout",
     "output_type": "stream",
     "text": [
      "SQLalchemy is not installed. No support for SQL output.\n"
     ]
    }
   ],
   "source": [
    "from pyLong.annotations.vertical_annotation import VerticalAnnotation"
   ]
  },
  {
   "cell_type": "markdown",
   "id": "0540a5b8-6ea8-4d3a-9ea2-ad4e1708ef0a",
   "metadata": {},
   "source": [
    "## Constructor"
   ]
  },
  {
   "cell_type": "code",
   "execution_count": 2,
   "id": "e737433e-20d1-45eb-aa8d-3ebf47688d2e",
   "metadata": {},
   "outputs": [],
   "source": [
    "annotation = VerticalAnnotation()"
   ]
  },
  {
   "cell_type": "markdown",
   "id": "1ace1da4-215a-4f6f-bb2a-e2bc1d82c35f",
   "metadata": {},
   "source": [
    "## Attributes"
   ]
  },
  {
   "cell_type": "markdown",
   "id": "39b356a0-3268-4f6d-a967-320363cc30fd",
   "metadata": {},
   "source": [
    "| attribute          |  type   | setter | comment |\n",
    "| :---               | :----:  | :----: | :----   |\n",
    "| `name`             | `str`   | yes    |         |\n",
    "| `text`             | `str`   | yes    |         |\n",
    "| `xy`               | `tuple` | yes    |         |\n",
    "| `x`                | `float` | yes    |         |\n",
    "| `y`                | `float` | yes    |         |\n",
    "| `text_rotation`    | `int`   | yes    | must be 0 or 90 |\n",
    "| `vertical_shift`   | `float` | yes    |         |\n",
    "| `arrow_length`     | `float` | yes    |         |\n",
    "| `font_size`        | `float` | yes    | must be positive |\n",
    "| `font_color`       | `float` | yes    |         |\n",
    "| `font_style`       | `str`   | yes    |         |\n",
    "| `font_weight`      | `str`   | yes    |         |\n",
    "| `arrow_style`      | `str`   | yes    |         |\n",
    "| `arrow_line_style` | `str`   | yes    |         |\n",
    "| `arrow_color`      | `str`   | yes    |         |\n",
    "| `arrow_thickness`  | `float` | yes    | must be positive |\n",
    "| `opacity`          | `float` | yes    | must be between 0 and 1 |\n",
    "| `order`            | `int`   | yes    | must be positive |\n",
    "| `visible`          | `bool`  | yes    |         |"
   ]
  },
  {
   "cell_type": "markdown",
   "id": "97143f3e-f4de-40ee-b746-ed153faca00b",
   "metadata": {
    "tags": []
   },
   "source": [
    "## Methods"
   ]
  },
  {
   "cell_type": "markdown",
   "id": "dfe65cbc-3843-47c1-ab2d-de0f2b221312",
   "metadata": {},
   "source": [
    "### adjust\n",
    "```python\n",
    "VerticalAnnotation.adjust(self, profile)\n",
    "```"
   ]
  },
  {
   "cell_type": "code",
   "execution_count": 3,
   "id": "cf9fee7f-85a5-423c-bd24-672b709ff0ff",
   "metadata": {},
   "outputs": [
    {
     "name": "stdout",
     "output_type": "stream",
     "text": [
      "Help on function adjust in module pyLong.annotations.vertical_annotation:\n",
      "\n",
      "adjust(self, profile)\n",
      "    adjust the annotation position on a profile\n",
      "    \n",
      "    arguments:\n",
      "    - profile: profile on which the annotation is to be adjusted - zProfile | yProfile\n",
      "    \n",
      "    returns:\n",
      "    - True if success - bool\n",
      "    - False else - bool\n",
      "    \n",
      "    examples:\n",
      "    >>> annotation.adjust(profile)\n",
      "\n"
     ]
    }
   ],
   "source": [
    "help(VerticalAnnotation.adjust)"
   ]
  },
  {
   "cell_type": "markdown",
   "id": "3b8dec7e-a9a9-486c-9e30-a6a663f17c50",
   "metadata": {},
   "source": [
    "### copy style\n",
    "```python\n",
    "VerticalAnnotation.copy_style(self, annotation)\n",
    "```"
   ]
  },
  {
   "cell_type": "code",
   "execution_count": 4,
   "id": "f5c1dbfc-2b1f-4794-957c-1aa84f1b633c",
   "metadata": {},
   "outputs": [
    {
     "name": "stdout",
     "output_type": "stream",
     "text": [
      "Help on function copy_style in module pyLong.annotations.vertical_annotation:\n",
      "\n",
      "copy_style(self, annotation)\n",
      "    copy the style of a vertical annotation\n",
      "    \n",
      "    arguments:\n",
      "    - annotation: annotation whose style is to be copied - VerticalAnnotation\n",
      "    \n",
      "    returns:\n",
      "    - True if success - bool\n",
      "    - False else - bool\n",
      "    \n",
      "    examples:\n",
      "    >>> new_annotation.copy_style(annotation)\n",
      "\n"
     ]
    }
   ],
   "source": [
    "help(VerticalAnnotation.copy_style)"
   ]
  },
  {
   "cell_type": "markdown",
   "id": "c236d76b-23a5-408e-950a-d061f9bee392",
   "metadata": {},
   "source": [
    "### duplicate\n",
    "```python\n",
    "VerticalAnnotation.duplicate(self)\n",
    "```"
   ]
  },
  {
   "cell_type": "code",
   "execution_count": 5,
   "id": "8a62b16c-0769-4cb9-bc6d-4e69e848aedc",
   "metadata": {},
   "outputs": [
    {
     "name": "stdout",
     "output_type": "stream",
     "text": [
      "Help on function duplicate in module pyLong.annotations.vertical_annotation:\n",
      "\n",
      "duplicate(self)\n",
      "    duplicate the annotation\n",
      "    \n",
      "    returns:\n",
      "    - new_annotation: duplicated annotation - VerticalAnnotation\n",
      "    \n",
      "    examples:\n",
      "    >>> new_annotation = annotation.duplicate()\n",
      "\n"
     ]
    }
   ],
   "source": [
    "help(VerticalAnnotation.duplicate)"
   ]
  },
  {
   "cell_type": "markdown",
   "id": "9018d837-337a-46ee-b06b-ed6134ccf964",
   "metadata": {},
   "source": [
    "### export style\n",
    "```python\n",
    "VerticalAnnotation.export_style(self, filename)\n",
    "```"
   ]
  },
  {
   "cell_type": "code",
   "execution_count": 6,
   "id": "62ab8867-d017-4f30-8c2c-5384dfdcc643",
   "metadata": {},
   "outputs": [
    {
     "name": "stdout",
     "output_type": "stream",
     "text": [
      "Help on function export_style in module pyLong.annotations.vertical_annotation:\n",
      "\n",
      "export_style(self, filename)\n",
      "    export annotation style to a .json file\n",
      "    \n",
      "    arguments:\n",
      "    - filename: .json file path - str\n",
      "    \n",
      "    returns:\n",
      "    - True if success - bool\n",
      "    - False else - bool\n",
      "    \n",
      "    examples:\n",
      "    >>> annotation.export_style(\"style.json\")\n",
      "\n"
     ]
    }
   ],
   "source": [
    "help(VerticalAnnotation.export_style)"
   ]
  },
  {
   "cell_type": "markdown",
   "id": "0ec80ac3-d7c9-4768-8cbd-a75f23e68b44",
   "metadata": {},
   "source": [
    "### from dbf\n",
    "```python\n",
    "VerticalAnnotation.from_dbf(filename, x_field=\"X\", y_field=\"Z\", txt_field=\"ANNOTATION\", delimiter=\"\\t\", decimal=\".\")\n",
    "```"
   ]
  },
  {
   "cell_type": "code",
   "execution_count": 7,
   "id": "9c06022b-8ebb-471e-9b76-bde342870520",
   "metadata": {},
   "outputs": [
    {
     "name": "stdout",
     "output_type": "stream",
     "text": [
      "Help on function from_dbf in module pyLong.annotations.vertical_annotation:\n",
      "\n",
      "from_dbf(filename, x_field='dist', y_field='Z', txt_field='ANNOTATION')\n",
      "    import vertical annotations from a .dbf file\n",
      "    \n",
      "    arguments:\n",
      "    - filename: .dbf file path - str\n",
      "    - x_field: distance field name - str\n",
      "    - z_field: altitude field name - str\n",
      "    - txt_field: text field name - str\n",
      "    \n",
      "    returns:\n",
      "    - annoations - list of VerticalAnnotation\n",
      "    or\n",
      "    - None - NoneType\n",
      "    \n",
      "    examples:\n",
      "    >>> VerticalAnnotation.from_dbf(\"annotations.dbf\")\n",
      "\n"
     ]
    }
   ],
   "source": [
    "help(VerticalAnnotation.from_dbf)"
   ]
  },
  {
   "cell_type": "markdown",
   "id": "1c68166f-b1c6-41ac-8305-3b8e05258bdd",
   "metadata": {},
   "source": [
    "### from txt\n",
    "```python\n",
    "VerticalAnnotation.from_txt(filename, y_field=\"X\", y_field=\"Z\", txt_field=\"ANNOTATION\", delimiter=\"\\t\", decimal=\".\")\n",
    "```"
   ]
  },
  {
   "cell_type": "code",
   "execution_count": 8,
   "id": "d247c1f7-7a9a-4f27-a27f-ae228b31ac1f",
   "metadata": {},
   "outputs": [
    {
     "name": "stdout",
     "output_type": "stream",
     "text": [
      "Help on function from_txt in module pyLong.annotations.vertical_annotation:\n",
      "\n",
      "from_txt(filename, x_field='X', y_field='Z', txt_field='ANNOTATION', delimiter='\\t', decimal='.')\n",
      "    import vertical annotations from a .txt file\n",
      "    \n",
      "    arguments:\n",
      "    - filename: .txt file path - str\n",
      "    - x_field: distance field name - str\n",
      "    - z_field: altitude field name - str\n",
      "    - txt_field: text field name - str\n",
      "    - delimiter: column delimiter \"\\t\" | \" \" | \";\" | \",\" - str\n",
      "    - decimal: decimal separator \".\" |\",\" - str\n",
      "    \n",
      "    returns:\n",
      "    - annoations - list of VerticalAnnotation\n",
      "    or\n",
      "    - None - NoneType\n",
      "    \n",
      "    examples:\n",
      "    >>> annotations = VerticalAnnotation.from_txt(\"annotations.txt\")\n",
      "\n"
     ]
    }
   ],
   "source": [
    "help(VerticalAnnotation.from_txt)"
   ]
  },
  {
   "cell_type": "markdown",
   "id": "6da705e1-dc72-406e-a0b6-ae4f492cdd14",
   "metadata": {},
   "source": [
    "### import style\n",
    "```python\n",
    "VerticalAnnotation.import_style(self, filename)\n",
    "```"
   ]
  },
  {
   "cell_type": "code",
   "execution_count": 9,
   "id": "0426036c-bd85-4d46-aa37-99a64e31becd",
   "metadata": {},
   "outputs": [
    {
     "name": "stdout",
     "output_type": "stream",
     "text": [
      "Help on function import_style in module pyLong.annotations.vertical_annotation:\n",
      "\n",
      "import_style(self, filename)\n",
      "    import annotation style from a .json file\n",
      "    \n",
      "    arguments:\n",
      "    - filename: .json file path - str\n",
      "    \n",
      "    returns:\n",
      "    - True if success - bool\n",
      "    - False else - bool\n",
      "    \n",
      "    examples:\n",
      "    >>> annotation.import_style(\"style.json\")\n",
      "\n"
     ]
    }
   ],
   "source": [
    "help(VerticalAnnotation.import_style)"
   ]
  },
  {
   "cell_type": "markdown",
   "id": "913c06f2-29e2-47d0-a79f-0b313c35d935",
   "metadata": {},
   "source": [
    "### plot\n",
    "```python\n",
    "VerticalAnnotation.plot(self, ax)\n",
    "```"
   ]
  },
  {
   "cell_type": "code",
   "execution_count": 10,
   "id": "b46a7e1b-4e4e-4ba1-a7c1-8152b65ac34e",
   "metadata": {},
   "outputs": [
    {
     "name": "stdout",
     "output_type": "stream",
     "text": [
      "Help on function plot in module pyLong.annotations.vertical_annotation:\n",
      "\n",
      "plot(self, ax)\n",
      "    plot annotation on a matplotlib subplot\n",
      "    \n",
      "    arguments:\n",
      "    - ax: matplotlib subplot - matplotlib.axes._subplots.AxesSubplot\n",
      "    \n",
      "    returns:\n",
      "    - None - NoneType\n",
      "    \n",
      "    examples:\n",
      "    >>> from matplotlib import pyplot as plt\n",
      "    >>> fig, ax = plt.subplots()\n",
      "    >>> annotation.plot(ax)\n",
      "    >>> plt.show()\n",
      "\n"
     ]
    }
   ],
   "source": [
    "help(VerticalAnnotation.plot)"
   ]
  },
  {
   "cell_type": "markdown",
   "id": "baf989fd-e3cb-4518-8586-fe865235810a",
   "metadata": {},
   "source": [
    "### reverse\n",
    "```python\n",
    "VerticalAnnotation.reverse(self, profile)\n",
    "```"
   ]
  },
  {
   "cell_type": "code",
   "execution_count": 11,
   "id": "7b381f01-69d0-4917-9d90-f068f0b2ca97",
   "metadata": {},
   "outputs": [
    {
     "name": "stdout",
     "output_type": "stream",
     "text": [
      "Help on function reverse in module pyLong.annotations.vertical_annotation:\n",
      "\n",
      "reverse(self, profile)\n",
      "    reverse the annotation according to a reference profile\n",
      "    \n",
      "    arguments:\n",
      "    - zprofile: reference profile to perform the reversing - zProfile | yProfile\n",
      "    \n",
      "    returns:\n",
      "    - new_annotation: reversed annotation - VerticalAnnotation\n",
      "    or\n",
      "    - None - NoneType\n",
      "    \n",
      "    examples:\n",
      "    >>> new_annotation = annotation.reverse(profile)\n",
      "\n"
     ]
    }
   ],
   "source": [
    "help(VerticalAnnotation.reverse)"
   ]
  },
  {
   "cell_type": "markdown",
   "id": "c08f99e2-ce1d-4253-a7bb-b720960ccb85",
   "metadata": {},
   "source": [
    "## Examples"
   ]
  },
  {
   "cell_type": "markdown",
   "id": "1865af4b-e30b-4123-9262-c8f362c06846",
   "metadata": {},
   "source": [
    "### example 1"
   ]
  },
  {
   "cell_type": "code",
   "execution_count": 12,
   "id": "c7e4bcda-7a4d-4f37-9f24-1328328009b5",
   "metadata": {},
   "outputs": [
    {
     "data": {
      "image/png": "[encoded data removed]",
      "text/plain": [
       "<Figure size 500x500 with 1 Axes>"
      ]
     },
     "metadata": {},
     "output_type": "display_data"
    }
   ],
   "source": [
    "from matplotlib import pyplot as plt\n",
    "\n",
    "from pyLong.annotations.vertical_annotation import VerticalAnnotation\n",
    "\n",
    "annotation = VerticalAnnotation()\n",
    "annotation.name = \"a vertical annotation\"\n",
    "annotation.text = \"Hello World!\"\n",
    "annotation.xy = (500., 200.)\n",
    "annotation.text_rotation = 0\n",
    "annotation.arrow_length = 500.\n",
    "annotation.vertical_shift = 0.\n",
    "annotation.font_size = 15.\n",
    "annotation.font_color = \"Dark Magenta\"\n",
    "annotation.font_style = \"normal\"\n",
    "annotation.font_weight = \"bold\"\n",
    "annotation.arrow_style = \"-|>\"\n",
    "annotation.arrow_line_stye = \"solid\"\n",
    "annotation.arrow_color = \"Magenta\"\n",
    "annotation.arrow_thickness = 0.8\n",
    "annotation.opacity = 1.\n",
    "annotation.order = 1\n",
    "annotation.visible = True\n",
    "\n",
    "fig, ax = plt.subplots(figsize=(5, 5))\n",
    "ax.set_xlim((0., 1000.))\n",
    "ax.set_ylim((0., 1000.))\n",
    "ax.set_aspect(\"equal\")\n",
    "\n",
    "annotation.plot(ax)\n",
    "\n",
    "plt.tight_layout()\n",
    "plt.show()"
   ]
  },
  {
   "cell_type": "markdown",
   "id": "4dd8c068-ab20-4ffc-a134-dc4ab277b4de",
   "metadata": {},
   "source": [
    "### example 2"
   ]
  },
  {
   "cell_type": "code",
   "execution_count": 13,
   "id": "67da2aa5-4187-4117-b143-994abb645e4c",
   "metadata": {},
   "outputs": [
    {
     "data": {
      "image/png": "[encoded data removed]",
      "text/plain": [
       "<Figure size 500x500 with 1 Axes>"
      ]
     },
     "metadata": {},
     "output_type": "display_data"
    }
   ],
   "source": [
    "from matplotlib import pyplot as plt\n",
    "\n",
    "from pyLong.annotations.vertical_annotation import VerticalAnnotation\n",
    "\n",
    "annotation = VerticalAnnotation()\n",
    "annotation.name = \"another vertical annotation\"\n",
    "annotation.text = \"There\"\n",
    "annotation.xy = (500., 950.)\n",
    "annotation.text_rotation = 90\n",
    "annotation.arrow_length = -500.\n",
    "annotation.vertical_shift = 0.\n",
    "annotation.font_size = 32.\n",
    "annotation.font_color = \"Dark Cyan\"\n",
    "annotation.font_style = \"italic\"\n",
    "annotation.font_weight = \"bold\"\n",
    "annotation.arrow_style = \"->\"\n",
    "annotation.arrow_line_stye = \"solid\"\n",
    "annotation.arrow_color = \"Cyan\"\n",
    "annotation.arrow_thickness = 2.\n",
    "annotation.opacity = 1.\n",
    "annotation.order = 1\n",
    "annotation.visible = True\n",
    "\n",
    "fig, ax = plt.subplots(figsize=(5, 5))\n",
    "ax.set_xlim((0., 1000.))\n",
    "ax.set_ylim((0., 1000.))\n",
    "ax.set_aspect(\"equal\")\n",
    "\n",
    "annotation.plot(ax)\n",
    "\n",
    "plt.tight_layout()\n",
    "plt.show()"
   ]
  }
 ],
 "metadata": {
  "kernelspec": {
   "display_name": "Python 3 (ipykernel)",
   "language": "python",
   "name": "python3"
  },
  "language_info": {
   "codemirror_mode": {
    "name": "ipython",
    "version": 3
   },
   "file_extension": ".py",
   "mimetype": "text/x-python",
   "name": "python",
   "nbconvert_exporter": "python",
   "pygments_lexer": "ipython3",
   "version": "3.9.15"
  },
  "toc-autonumbering": false,
  "toc-showcode": false,
  "toc-showmarkdowntxt": false,
  "toc-showtags": false
 },
 "nbformat": 4,
 "nbformat_minor": 5
}
