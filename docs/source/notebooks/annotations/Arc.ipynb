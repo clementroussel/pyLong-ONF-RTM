{
 "cells": [
  {
   "cell_type": "markdown",
   "id": "18285c8c-98dc-4b40-8f0c-40d873dd9a03",
   "metadata": {},
   "source": [
    "# Arc\n",
    "\n",
    "> An instance of **Arc** class represents an arc annotation."
   ]
  },
  {
   "cell_type": "markdown",
   "id": "9766dacd-f69f-44db-a185-a57a86dbb374",
   "metadata": {},
   "source": [
    "## Table of contents"
   ]
  },
  {
   "cell_type": "markdown",
   "id": "505af17a-e1f0-4da3-a7ca-6ff6d94b4e92",
   "metadata": {},
   "source": [
    "- [Import Arc class](#Import-Arc-class)"
   ]
  },
  {
   "cell_type": "markdown",
   "id": "5722ebe1-1a71-4f44-9c71-2e63ef6db3b5",
   "metadata": {},
   "source": [
    "- [Constructor](#Constructor)"
   ]
  },
  {
   "cell_type": "markdown",
   "id": "1fd6fc52-5bab-4397-8f20-62ae4f005bad",
   "metadata": {},
   "source": [
    "- [Attributes](#Attributes)"
   ]
  },
  {
   "cell_type": "markdown",
   "id": "36811fc4-32a0-4626-a22a-603d52ecdbf6",
   "metadata": {},
   "source": [
    "- [Methods](#Methods)\n",
    "    - [copy style](#copy-style)\n",
    "    - [duplicate](#duplicate)\n",
    "    - [export style](#export-style)\n",
    "    - [import style](#import-style)\n",
    "    - [plot](#plot)\n",
    "    - [reverse](#reverse)"
   ]
  },
  {
   "cell_type": "markdown",
   "id": "56a12f38-9f42-43cd-b07a-dfec0cb0c630",
   "metadata": {},
   "source": [
    "- [Examples](#Examples)\n",
    "    - [example 1](#example-1)\n",
    "    - [example 2](#example-2)"
   ]
  },
  {
   "cell_type": "markdown",
   "id": "0ad58f24-46b5-47a4-b93b-123f0532b6a3",
   "metadata": {},
   "source": [
    "## Import Arc class"
   ]
  },
  {
   "cell_type": "code",
   "execution_count": 1,
   "id": "84da3afc-10ed-4a6b-9ef8-5936456e0923",
   "metadata": {},
   "outputs": [
    {
     "name": "stdout",
     "output_type": "stream",
     "text": [
      "SQLalchemy is not installed. No support for SQL output.\n"
     ]
    }
   ],
   "source": [
    "from pyLong.annotations.arc import Arc"
   ]
  },
  {
   "cell_type": "markdown",
   "id": "474894eb-18b0-4790-be59-846a008e2c73",
   "metadata": {},
   "source": [
    "## Constructor"
   ]
  },
  {
   "cell_type": "code",
   "execution_count": 2,
   "id": "679f5209-94be-46c8-8951-4e4bd3b74d53",
   "metadata": {},
   "outputs": [],
   "source": [
    "annotation = Arc()"
   ]
  },
  {
   "cell_type": "markdown",
   "id": "667b6aaf-d66b-4b20-bcbc-edf8f427c440",
   "metadata": {},
   "source": [
    "## Attributes"
   ]
  },
  {
   "cell_type": "markdown",
   "id": "a63d5d6b-a404-4e99-a08e-54bf8e35ebc3",
   "metadata": {},
   "source": [
    "| attribute        |  type   | setter | comment |\n",
    "| :---             | :----:  | :----: | :----   |\n",
    "| `name`           | `str`   | yes    |         |\n",
    "| `label`          | `str`   | yes    |         |\n",
    "| `xy`             | `tuple` | yes    |         |\n",
    "| `x`              | `float` | yes    |         |\n",
    "| `y`              | `float` | yes    |         |\n",
    "| `width`          | `float` | yes    | must be positive |\n",
    "| `height`         | `float` | yes    | must be positive |\n",
    "| `rotation`       | `float` | yes    | must be between 0 and 360 |\n",
    "| `theta_1`        | `float` | yes    | must be between 0 and 360 |\n",
    "| `theta_2`        | `float` | yes    | must be between 0 and 360 |\n",
    "| `line_style`     | `str`   | yes    |         |\n",
    "| `line_color`     | `str`   | yes    |         |\n",
    "| `line_thickness` | `float` | yes    | must be positive |\n",
    "| `hatch_style`    | `str`   | yes    |         |\n",
    "| `hatch_density`  | `int`   | yes    | must be positive |\n",
    "| `fill_color`     | `str`   | yes    |         |\n",
    "| `opacity`        | `float` | yes    | must be between 0 and 1 |\n",
    "| `order`          | `int`   | yes    | must be positive |\n",
    "| `visible`        | `bool`  | yes    |         |"
   ]
  },
  {
   "cell_type": "markdown",
   "id": "0c9107e6-8fde-4fda-8ad6-2089334d9727",
   "metadata": {
    "tags": []
   },
   "source": [
    "## Methods"
   ]
  },
  {
   "cell_type": "markdown",
   "id": "9d5e3cc5-d9e5-4b9a-8c87-f3571ce4c4d7",
   "metadata": {},
   "source": [
    "### copy style\n",
    "```python\n",
    "Arc.copy_style(self, annotation)\n",
    "```"
   ]
  },
  {
   "cell_type": "code",
   "execution_count": 3,
   "id": "7e1e3716-a071-4c7a-868f-37b2efa4d863",
   "metadata": {},
   "outputs": [
    {
     "name": "stdout",
     "output_type": "stream",
     "text": [
      "Help on function copy_style in module pyLong.annotations.arc:\n",
      "\n",
      "copy_style(self, annotation)\n",
      "    copy the style of an arc annotation\n",
      "    \n",
      "    arguments:\n",
      "    - annotation: annotation whose style is to be copied - Arc\n",
      "    \n",
      "    returns:\n",
      "    - True if success - bool\n",
      "    - False else - bool\n",
      "    \n",
      "    examples:\n",
      "    >>> new_annotation.copy_style(annotation)\n",
      "\n"
     ]
    }
   ],
   "source": [
    "help(Arc.copy_style)"
   ]
  },
  {
   "cell_type": "markdown",
   "id": "a25fabdf-2c53-4321-b817-cdd366d54932",
   "metadata": {},
   "source": [
    "### duplicate\n",
    "```python\n",
    "Arc.duplicate(self)\n",
    "```"
   ]
  },
  {
   "cell_type": "code",
   "execution_count": 4,
   "id": "8eb2b852-8271-4be4-a41d-94cffcd71c20",
   "metadata": {},
   "outputs": [
    {
     "name": "stdout",
     "output_type": "stream",
     "text": [
      "Help on function duplicate in module pyLong.annotations.arc:\n",
      "\n",
      "duplicate(self)\n",
      "    duplicate the annotation\n",
      "    \n",
      "    returns:\n",
      "    - new_annotation: duplicated annotation - Arc\n",
      "    \n",
      "    examples:\n",
      "    >>> new_annotation = annotation.duplicate()\n",
      "\n"
     ]
    }
   ],
   "source": [
    "help(Arc.duplicate)"
   ]
  },
  {
   "cell_type": "markdown",
   "id": "022368a9-d485-42bf-b521-15ccc01f5582",
   "metadata": {},
   "source": [
    "### export style\n",
    "```python\n",
    "Arc.export_style(self, filename)\n",
    "```"
   ]
  },
  {
   "cell_type": "code",
   "execution_count": 5,
   "id": "61288c4b-08dd-445c-9526-bce309842dd1",
   "metadata": {},
   "outputs": [
    {
     "name": "stdout",
     "output_type": "stream",
     "text": [
      "Help on function export_style in module pyLong.annotations.arc:\n",
      "\n",
      "export_style(self, filename)\n",
      "    export annotation style to a .json file\n",
      "    \n",
      "    arguments:\n",
      "    - filename: .json file path - str\n",
      "    \n",
      "    returns:\n",
      "    - True if success - bool\n",
      "    - False else - bool\n",
      "    \n",
      "    examples:\n",
      "    >>> annotation.export_style(\"style.json\")\n",
      "\n"
     ]
    }
   ],
   "source": [
    "help(Arc.export_style)"
   ]
  },
  {
   "cell_type": "markdown",
   "id": "0d98915c-5bfe-4fe2-828f-3702961287e9",
   "metadata": {},
   "source": [
    "### import style\n",
    "```python\n",
    "Arc.import_style(self, filename)\n",
    "```"
   ]
  },
  {
   "cell_type": "code",
   "execution_count": 6,
   "id": "10b9fc43-5a6f-4282-8579-35ca3ce90963",
   "metadata": {},
   "outputs": [
    {
     "name": "stdout",
     "output_type": "stream",
     "text": [
      "Help on function import_style in module pyLong.annotations.arc:\n",
      "\n",
      "import_style(self, filename)\n",
      "    import annotation style from a .json file\n",
      "    \n",
      "    arguments:\n",
      "    - filename: .json file path - str\n",
      "    \n",
      "    returns:\n",
      "    - True if success - bool\n",
      "    - False else - bool\n",
      "    \n",
      "    examples:\n",
      "    >>> annotation.import_style(\"style.json\")\n",
      "\n"
     ]
    }
   ],
   "source": [
    "help(Arc.import_style)"
   ]
  },
  {
   "cell_type": "markdown",
   "id": "7c40c5dc-3ee6-4cfa-b6b6-4e3577afe3fa",
   "metadata": {},
   "source": [
    "### plot\n",
    "```python\n",
    "Arc.plot(self, ax)\n",
    "```"
   ]
  },
  {
   "cell_type": "code",
   "execution_count": 7,
   "id": "1df84470-001c-45f4-8805-49355e594119",
   "metadata": {},
   "outputs": [
    {
     "name": "stdout",
     "output_type": "stream",
     "text": [
      "Help on function plot in module pyLong.annotations.arc:\n",
      "\n",
      "plot(self, ax)\n",
      "    plot annotation on a matplotlib subplot\n",
      "    \n",
      "    arguments:\n",
      "    - ax: matplotlib subplot - matplotlib.axes._subplots.AxesSubplot\n",
      "    \n",
      "    returns:\n",
      "    - None - NoneType\n",
      "    \n",
      "    examples:\n",
      "    >>> from matplotlib import pyplot as plt\n",
      "    >>> fig, ax = plt.subplots()\n",
      "    >>> annotation.plot(ax)\n",
      "    >>> plt.show()\n",
      "\n"
     ]
    }
   ],
   "source": [
    "help(Arc.plot)"
   ]
  },
  {
   "cell_type": "markdown",
   "id": "23468d00-23ab-45cc-98c7-6aaa5888e45c",
   "metadata": {},
   "source": [
    "### reverse\n",
    "```python\n",
    "Arc.reverse(self, profile)\n",
    "```"
   ]
  },
  {
   "cell_type": "code",
   "execution_count": 8,
   "id": "d65ad800-87c1-4a9c-8108-e36c26e07633",
   "metadata": {},
   "outputs": [
    {
     "name": "stdout",
     "output_type": "stream",
     "text": [
      "Help on function reverse in module pyLong.annotations.arc:\n",
      "\n",
      "reverse(self, profile)\n",
      "    reverse the annotation according to a reference profile\n",
      "    \n",
      "    arguments:\n",
      "    - profile: reference profile to perform the reversing - zProfile | yProfile\n",
      "    \n",
      "    returns:\n",
      "    - new_annotation: reversed annotation - Arc\n",
      "    or\n",
      "    - None - NoneType\n",
      "    \n",
      "    examples:\n",
      "    >>> new_annotation = annotation.reverse(profile)\n",
      "\n"
     ]
    }
   ],
   "source": [
    "help(Arc.reverse)"
   ]
  },
  {
   "cell_type": "markdown",
   "id": "b79bbb54-8a50-4eeb-88d9-e5f11deb86af",
   "metadata": {},
   "source": [
    "## Examples"
   ]
  },
  {
   "cell_type": "markdown",
   "id": "8b5c3c33-6d49-46d1-a7c4-773f5aef5a0e",
   "metadata": {},
   "source": [
    "### example 1"
   ]
  },
  {
   "cell_type": "code",
   "execution_count": 9,
   "id": "5dac2cd3-727d-44f3-a4de-d9b245970e98",
   "metadata": {},
   "outputs": [
    {
     "data": {
      "image/png": "[encoded data removed]",
      "text/plain": [
       "<Figure size 500x500 with 1 Axes>"
      ]
     },
     "metadata": {},
     "output_type": "display_data"
    }
   ],
   "source": [
    "from matplotlib import pyplot as plt\n",
    "\n",
    "from pyLong.annotations.arc import Arc\n",
    "\n",
    "circle = Arc()\n",
    "\n",
    "circle.name = \"a circle\"\n",
    "circle.label = \"a red circle\"\n",
    "circle.xy = (500., 500.)\n",
    "circle.width = 800.\n",
    "circle.height = 800.\n",
    "circle.rotation = 0.\n",
    "circle.theta_1 = 0.\n",
    "circle.theta_2 = 360.\n",
    "circle.line_style = \"dashed\"\n",
    "circle.line_color = \"Red\"\n",
    "circle.line_thickness = 2.\n",
    "circle.hatch_style = \"\"\n",
    "circle.hatch_density = 1\n",
    "circle.fill_color = \"Light Salmon\"\n",
    "circle.opacity = 1.\n",
    "circle.order = 1\n",
    "circle.visible = True\n",
    "\n",
    "fig, ax = plt.subplots(figsize=(5, 5))\n",
    "ax.set_xlim((0., 1000.))\n",
    "ax.set_ylim((0., 1000.))\n",
    "ax.set_aspect(\"equal\")\n",
    "\n",
    "circle.plot(ax)\n",
    "\n",
    "ax.legend(loc=\"best\")\n",
    "plt.tight_layout()\n",
    "plt.show()"
   ]
  },
  {
   "cell_type": "markdown",
   "id": "d3e1fb40-79f7-4018-a961-531d073ed741",
   "metadata": {},
   "source": [
    "### example 2"
   ]
  },
  {
   "cell_type": "code",
   "execution_count": 10,
   "id": "bfb7b884-df64-4e38-a7e4-77de7edcc5fc",
   "metadata": {},
   "outputs": [
    {
     "data": {
      "image/png": "[encoded data removed]",
      "text/plain": [
       "<Figure size 500x500 with 1 Axes>"
      ]
     },
     "metadata": {},
     "output_type": "display_data"
    }
   ],
   "source": [
    "from matplotlib import pyplot as plt\n",
    "\n",
    "from pyLong.annotations.arc import Arc\n",
    "\n",
    "arc = Arc()\n",
    "arc.name = \"another arc\"\n",
    "arc.label = \"a green arc\"\n",
    "arc.xy = (500., 500.)\n",
    "arc.width = 800.\n",
    "arc.height = 800.\n",
    "arc.rotation = 45.\n",
    "arc.theta_1 = 270.\n",
    "arc.theta_2 = 90.\n",
    "arc.line_style = \"dash-dotted\"\n",
    "arc.line_color = \"Green\"\n",
    "arc.line_thickness = 1.\n",
    "arc.hatch_style = \"x\"\n",
    "arc.hatch_density = 3\n",
    "arc.fill_color = \"None\"\n",
    "arc.opacity = 1.\n",
    "arc.order = 1\n",
    "arc.visible = True\n",
    "\n",
    "fig, ax = plt.subplots(figsize=(5, 5))\n",
    "ax.set_xlim((0., 1000.))\n",
    "ax.set_ylim((0., 1000.))\n",
    "ax.set_aspect(\"equal\")\n",
    "\n",
    "arc.plot(ax)\n",
    "\n",
    "ax.legend(loc=\"best\")\n",
    "plt.tight_layout()\n",
    "plt.show()"
   ]
  }
 ],
 "metadata": {
  "kernelspec": {
   "display_name": "Python 3 (ipykernel)",
   "language": "python",
   "name": "python3"
  },
  "language_info": {
   "codemirror_mode": {
    "name": "ipython",
    "version": 3
   },
   "file_extension": ".py",
   "mimetype": "text/x-python",
   "name": "python",
   "nbconvert_exporter": "python",
   "pygments_lexer": "ipython3",
   "version": "3.9.16"
  }
 },
 "nbformat": 4,
 "nbformat_minor": 5
}
