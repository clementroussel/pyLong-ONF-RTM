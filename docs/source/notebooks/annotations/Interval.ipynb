{
 "cells": [
  {
   "cell_type": "markdown",
   "id": "44931c73-5304-406c-8431-e0b0996988d2",
   "metadata": {},
   "source": [
    "# Interval\n",
    "\n",
    "> An instance of **Interval** class represents an interval annotation."
   ]
  },
  {
   "cell_type": "markdown",
   "id": "1188b75c-412b-4fd1-ad5b-6815f34b682d",
   "metadata": {},
   "source": [
    "## Table of contents"
   ]
  },
  {
   "cell_type": "markdown",
   "id": "f67091a6-f5f1-4421-8c9a-4db82a91f150",
   "metadata": {},
   "source": [
    "- [Import Interval class](#Import-Interval-class)"
   ]
  },
  {
   "cell_type": "markdown",
   "id": "69a25fbf-a373-4ea4-9dbb-bb0437e724f2",
   "metadata": {},
   "source": [
    "- [Constructor](#Constructor)"
   ]
  },
  {
   "cell_type": "markdown",
   "id": "0f75faa3-50e2-42be-8160-846d0922e7e0",
   "metadata": {},
   "source": [
    "- [Attributes](#Attributes)"
   ]
  },
  {
   "cell_type": "markdown",
   "id": "050587d4-8048-4272-95d1-95c3a4e54fba",
   "metadata": {},
   "source": [
    "- [Methods](#Methods)\n",
    "    - [adjust](#adjust)\n",
    "    - [copy style](#copy-style)\n",
    "    - [duplicate](#duplicate)\n",
    "    - [export style](#export-style)\n",
    "    - [import style](#import-style)\n",
    "    - [plot](#plot)\n",
    "    - [reverse](#reverse)"
   ]
  },
  {
   "cell_type": "markdown",
   "id": "b9baaff1-3b76-42a1-88cc-b1a35dc52f63",
   "metadata": {},
   "source": [
    "- [Examples](#Examples)\n",
    "    - [example 1](#example-1)\n",
    "    - [example 2](#example-2)"
   ]
  },
  {
   "cell_type": "markdown",
   "id": "0bbfaf87-8102-46e0-888a-8bac6a711912",
   "metadata": {},
   "source": [
    "## Import Interval class"
   ]
  },
  {
   "cell_type": "code",
   "execution_count": 1,
   "id": "3e510778-c27b-471b-9954-d594041dcec5",
   "metadata": {},
   "outputs": [
    {
     "name": "stdout",
     "output_type": "stream",
     "text": [
      "SQLalchemy is not installed. No support for SQL output.\n"
     ]
    }
   ],
   "source": [
    "from pyLong.annotations.interval import Interval"
   ]
  },
  {
   "cell_type": "markdown",
   "id": "c3e65f65-bf0c-4190-8cb7-e86f2c544d3b",
   "metadata": {},
   "source": [
    "## Constructor"
   ]
  },
  {
   "cell_type": "code",
   "execution_count": 2,
   "id": "966053f6-fad7-4902-a794-f739ffe40df2",
   "metadata": {},
   "outputs": [],
   "source": [
    "annotation = Interval()"
   ]
  },
  {
   "cell_type": "markdown",
   "id": "ac57edf1-69a1-4ad9-9a11-f91fd4135f8f",
   "metadata": {},
   "source": [
    "## Attributes"
   ]
  },
  {
   "cell_type": "markdown",
   "id": "1f5c7dd0-93fe-4c25-9dce-4993e9528c65",
   "metadata": {},
   "source": [
    "| attribute          |  type   | setter | comment |\n",
    "| :---               | :----:  | :----: | :----   |\n",
    "| `name`             | `str`   | yes    |         |\n",
    "| `text`             | `str`   | yes    |         |\n",
    "| `limits`           | `tuple` | yes    |         |\n",
    "| `x_start`          | `float` | yes    |         |\n",
    "| `y_start`          | `float` | yes    |         |\n",
    "| `x_end`            | `float` | yes    |         |\n",
    "| `y_end`            | `float` | yes    |         |\n",
    "| `y_ref`            | `float` | yes    | reference value |\n",
    "| `text_y`           | `float` | yes    |         |\n",
    "| `text_rotation`    | `int`   | yes    | must be 0 or 90  |\n",
    "| `font_size`        | `float` | yes    | must be positive |\n",
    "| `font_color`       | `float` | yes    |         |\n",
    "| `font_style`       | `str`   | yes    |         |\n",
    "| `font_weight`      | `str`   | yes    |         |\n",
    "| `frame_style`      | `str`   | yes    |         |\n",
    "| `frame_thickness`  | `float` | yes    | must be positive |\n",
    "| `frame_color`      | `str`   | yes    |         |\n",
    "| `fill_color`       | `str`   | yes    |         |\n",
    "| `limits_style`     | `str`   | yes    |         |\n",
    "| `limits_thickness` | `float` | yes    | must be positive |\n",
    "| `limits_color`     | `str`   | yes    |         |\n",
    "| `opacity`          | `float` | yes    | must be between 0 and 1 |\n",
    "| `order`            | `int`   | yes    | must be positive |\n",
    "| `visible`          | `bool`  | yes    |         |"
   ]
  },
  {
   "cell_type": "markdown",
   "id": "400bb0aa-640f-4def-a170-36d675ac20c2",
   "metadata": {
    "tags": []
   },
   "source": [
    "## Methods"
   ]
  },
  {
   "cell_type": "markdown",
   "id": "6a51b270-b54d-49d2-99a0-b8c5a92d0b3a",
   "metadata": {},
   "source": [
    "### adjust\n",
    "```python\n",
    "Interval.adjust(self, profile)\n",
    "```"
   ]
  },
  {
   "cell_type": "code",
   "execution_count": 3,
   "id": "8d3308e8-8b15-4c25-a6c2-7aa776e93361",
   "metadata": {},
   "outputs": [
    {
     "name": "stdout",
     "output_type": "stream",
     "text": [
      "Help on function adjust in module pyLong.annotations.interval:\n",
      "\n",
      "adjust(self, profile)\n",
      "    adjust the annotation position on a profile\n",
      "    \n",
      "    arguments:\n",
      "    - profile: profile on which the annotation is to be adjusted - zProfile | yProfile\n",
      "    \n",
      "    returns:\n",
      "    - True if success - bool\n",
      "    - False else - bool\n",
      "    \n",
      "    examples:\n",
      "    >>> annotation.adjust(profile)\n",
      "\n"
     ]
    }
   ],
   "source": [
    "help(Interval.adjust)"
   ]
  },
  {
   "cell_type": "markdown",
   "id": "53e018ba-bf56-470e-a8ed-34574fe5dc69",
   "metadata": {},
   "source": [
    "### copy style\n",
    "```python\n",
    "Interval.copy_style(self, annotation)\n",
    "```"
   ]
  },
  {
   "cell_type": "code",
   "execution_count": 4,
   "id": "611d8895-ddf1-4d22-be29-ddaad204d6bb",
   "metadata": {},
   "outputs": [
    {
     "name": "stdout",
     "output_type": "stream",
     "text": [
      "Help on function copy_style in module pyLong.annotations.interval:\n",
      "\n",
      "copy_style(self, annotation)\n",
      "    copy the style of a interval annotation\n",
      "    \n",
      "    arguments:\n",
      "    - annotation: annotation whose style is to be copied - Interval\n",
      "    \n",
      "    returns:\n",
      "    - True if success - bool\n",
      "    - False else - bool\n",
      "    \n",
      "    examples:\n",
      "    >>> new_annotation.copy_style(annotation)\n",
      "\n"
     ]
    }
   ],
   "source": [
    "help(Interval.copy_style)"
   ]
  },
  {
   "cell_type": "markdown",
   "id": "5c5518f6-104d-4f56-92be-af6e07221117",
   "metadata": {},
   "source": [
    "### duplicate\n",
    "```python\n",
    "Interval.duplicate(self)\n",
    "```"
   ]
  },
  {
   "cell_type": "code",
   "execution_count": 5,
   "id": "cb758367-01c6-480a-9b0d-24e57160979f",
   "metadata": {},
   "outputs": [
    {
     "name": "stdout",
     "output_type": "stream",
     "text": [
      "Help on function duplicate in module pyLong.annotations.interval:\n",
      "\n",
      "duplicate(self)\n",
      "    duplicate the annotation\n",
      "    \n",
      "    returns:\n",
      "    - new_annotation: duplicated annotation - Interval\n",
      "    \n",
      "    examples:\n",
      "    >>> new_annotation = annotation.duplicate()\n",
      "\n"
     ]
    }
   ],
   "source": [
    "help(Interval.duplicate)"
   ]
  },
  {
   "cell_type": "markdown",
   "id": "841bb981-83e8-46ed-b569-1701fd438d1a",
   "metadata": {},
   "source": [
    "### export style\n",
    "```python\n",
    "Interval.export_style(self, filename)\n",
    "```"
   ]
  },
  {
   "cell_type": "code",
   "execution_count": 6,
   "id": "30373a7d-22bf-4b88-a845-69a871289d2c",
   "metadata": {},
   "outputs": [
    {
     "name": "stdout",
     "output_type": "stream",
     "text": [
      "Help on function export_style in module pyLong.annotations.interval:\n",
      "\n",
      "export_style(self, filename)\n",
      "    export annotation style to a .json file\n",
      "    \n",
      "    arguments:\n",
      "    - filename: .json file path - str\n",
      "    \n",
      "    returns:\n",
      "    - True if success - bool\n",
      "    - False else - bool\n",
      "    \n",
      "    examples:\n",
      "    >>> annotation.export_style(\"style.json\")\n",
      "\n"
     ]
    }
   ],
   "source": [
    "help(Interval.export_style)"
   ]
  },
  {
   "cell_type": "markdown",
   "id": "c80d9450-5f10-43fd-8cd8-d4a89e5cf711",
   "metadata": {},
   "source": [
    "### import style\n",
    "```python\n",
    "Interval.import_style(self, filename)\n",
    "```"
   ]
  },
  {
   "cell_type": "code",
   "execution_count": 7,
   "id": "8cb887ce-b262-4f28-a369-d29ce037ddf6",
   "metadata": {},
   "outputs": [
    {
     "name": "stdout",
     "output_type": "stream",
     "text": [
      "Help on function import_style in module pyLong.annotations.interval:\n",
      "\n",
      "import_style(self, filename)\n",
      "    import annotation style from a .json file\n",
      "    \n",
      "    arguments:\n",
      "    - filename: .json file path - str\n",
      "    \n",
      "    returns:\n",
      "    - True if success - bool\n",
      "    - False else - bool\n",
      "    \n",
      "    examples:\n",
      "    >>> annotation.import_style(\"style.json\")\n",
      "\n"
     ]
    }
   ],
   "source": [
    "help(Interval.import_style)"
   ]
  },
  {
   "cell_type": "markdown",
   "id": "47a01e90-73a4-49cd-9d5d-ecefdd672828",
   "metadata": {},
   "source": [
    "### plot\n",
    "```python\n",
    "Interval.plot(self, ax)\n",
    "```"
   ]
  },
  {
   "cell_type": "code",
   "execution_count": 8,
   "id": "92df5490-9643-4633-a741-bcadc505cea3",
   "metadata": {},
   "outputs": [
    {
     "name": "stdout",
     "output_type": "stream",
     "text": [
      "Help on function plot in module pyLong.annotations.interval:\n",
      "\n",
      "plot(self, ax)\n",
      "    plot annotation on a matplotlib subplot\n",
      "    \n",
      "    arguments:\n",
      "    - ax: matplotlib subplot - matplotlib.axes._subplots.AxesSubplot\n",
      "    \n",
      "    returns:\n",
      "    - None - NoneType\n",
      "    \n",
      "    examples:\n",
      "    >>> from matplotlib import pyplot as plt\n",
      "    >>> fig, ax = plt.subplots()\n",
      "    >>> annotation.plot(ax)\n",
      "    >>> plt.show()\n",
      "\n"
     ]
    }
   ],
   "source": [
    "help(Interval.plot)"
   ]
  },
  {
   "cell_type": "markdown",
   "id": "6835bd9c-5654-4ba2-920e-206e5d7e09ee",
   "metadata": {},
   "source": [
    "### reverse\n",
    "```python\n",
    "Interval.reverse(self, profile)\n",
    "```"
   ]
  },
  {
   "cell_type": "code",
   "execution_count": 9,
   "id": "c25e8790-82df-4fec-a5bf-e6cb7e850095",
   "metadata": {},
   "outputs": [
    {
     "name": "stdout",
     "output_type": "stream",
     "text": [
      "Help on function reverse in module pyLong.annotations.interval:\n",
      "\n",
      "reverse(self, profile)\n",
      "    reverse the annotation according to a reference profile\n",
      "    \n",
      "    arguments:\n",
      "    - profile: reference profile to perform the reversing - zProfile | yProfile\n",
      "    \n",
      "    returns:\n",
      "    - new_annotation: reversed annotation - Interval\n",
      "    or\n",
      "    - None - NoneType\n",
      "    \n",
      "    examples:\n",
      "    >>> new_annotation = annotation.reverse(profile)\n",
      "\n"
     ]
    }
   ],
   "source": [
    "help(Interval.reverse)"
   ]
  },
  {
   "cell_type": "markdown",
   "id": "6b63e9f2-3014-4cda-a3aa-50c6334e8ec1",
   "metadata": {
    "tags": []
   },
   "source": [
    "## Examples"
   ]
  },
  {
   "cell_type": "markdown",
   "id": "40d9c803-bbb2-4bc6-831d-a8a06669f20d",
   "metadata": {},
   "source": [
    "### example 1"
   ]
  },
  {
   "cell_type": "code",
   "execution_count": 10,
   "id": "56c7af59-198d-4e0d-9ce7-7660fc9ea1ef",
   "metadata": {},
   "outputs": [
    {
     "data": {
      "image/png": "[encoded data removed]",
      "text/plain": [
       "<Figure size 500x500 with 1 Axes>"
      ]
     },
     "metadata": {},
     "output_type": "display_data"
    }
   ],
   "source": [
    "from matplotlib import pyplot as plt\n",
    "\n",
    "from pyLong.annotations.interval import Interval\n",
    "\n",
    "annotation = Interval()\n",
    "annotation.name = \"an interval\"\n",
    "annotation.text = \"You shall not pass!\"\n",
    "annotation.limits = ((100., 500.), (900., 900.), 0.)\n",
    "annotation.text_y = 350.\n",
    "annotation.text_rotation = 0\n",
    "annotation.font_size = 14.\n",
    "annotation.font_color = \"Crimson\"\n",
    "annotation.font_style = \"normal\"\n",
    "annotation.font_weight = \"bold\"\n",
    "annotation.frame_style = \"solid\"\n",
    "annotation.frame_color = \"Red\"\n",
    "annotation.frame_thickness = 1.\n",
    "annotation.fill_color = \"None\"\n",
    "annotation.limits_style = \"dashed\"\n",
    "annotation.limits_color = \"Dark Red\"\n",
    "annotation.limits_thickness = 2.\n",
    "annotation.opacity = 1.\n",
    "annotation.order = 1\n",
    "annotation.visible = True\n",
    "\n",
    "fig, ax = plt.subplots(figsize=(5, 5))\n",
    "ax.set_xlim((0., 1000.))\n",
    "ax.set_ylim((0., 1000.))\n",
    "ax.set_aspect(\"equal\")\n",
    "\n",
    "annotation.plot(ax)\n",
    "\n",
    "plt.tight_layout()\n",
    "plt.show()"
   ]
  },
  {
   "cell_type": "markdown",
   "id": "c3e72ab6-13e4-452a-afa0-994d03481dd6",
   "metadata": {},
   "source": [
    "### example 2"
   ]
  },
  {
   "cell_type": "code",
   "execution_count": 11,
   "id": "cb761b34-4616-4480-932c-33281dd73e7f",
   "metadata": {},
   "outputs": [
    {
     "data": {
      "image/png": "[encoded data removed]",
      "text/plain": [
       "<Figure size 500x500 with 1 Axes>"
      ]
     },
     "metadata": {},
     "output_type": "display_data"
    }
   ],
   "source": [
    "from matplotlib import pyplot as plt\n",
    "\n",
    "from pyLong.annotations.interval import Interval\n",
    "\n",
    "annotation = Interval()\n",
    "annotation.name = \"another interval\"\n",
    "annotation.text = \"a very tight one!\"\n",
    "annotation.limits = ((500., 200.), (600., 200.), 800.)\n",
    "annotation.text_y = 500.\n",
    "annotation.text_rotation = 90\n",
    "annotation.font_size = 11.\n",
    "annotation.font_color = \"Purple\"\n",
    "annotation.font_style = \"normal\"\n",
    "annotation.font_weight = \"normal\"\n",
    "annotation.frame_style = \"solid\"\n",
    "annotation.frame_color = \"None\"\n",
    "annotation.frame_thickness = 1.\n",
    "annotation.fill_color = \"None\"\n",
    "annotation.limits_style = \"solid\"\n",
    "annotation.limits_color = \"Red\"\n",
    "annotation.limits_thickness = 0.5\n",
    "annotation.opacity = 1.\n",
    "annotation.order = 1\n",
    "annotation.visible = True\n",
    "\n",
    "fig, ax = plt.subplots(figsize=(5, 5))\n",
    "ax.set_xlim((0., 1000.))\n",
    "ax.set_ylim((0., 1000.))\n",
    "ax.set_aspect(\"equal\")\n",
    "\n",
    "annotation.plot(ax)\n",
    "\n",
    "plt.tight_layout()\n",
    "plt.show()"
   ]
  }
 ],
 "metadata": {
  "kernelspec": {
   "display_name": "Python 3 (ipykernel)",
   "language": "python",
   "name": "python3"
  },
  "language_info": {
   "codemirror_mode": {
    "name": "ipython",
    "version": 3
   },
   "file_extension": ".py",
   "mimetype": "text/x-python",
   "name": "python",
   "nbconvert_exporter": "python",
   "pygments_lexer": "ipython3",
   "version": "3.9.15"
  }
 },
 "nbformat": 4,
 "nbformat_minor": 5
}
