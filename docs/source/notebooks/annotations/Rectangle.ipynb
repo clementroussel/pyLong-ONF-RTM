{
 "cells": [
  {
   "cell_type": "markdown",
   "id": "18285c8c-98dc-4b40-8f0c-40d873dd9a03",
   "metadata": {},
   "source": [
    "# Rectangle\n",
    "\n",
    "> An instance of **Rectangle** class represents a rectangle annotation."
   ]
  },
  {
   "cell_type": "markdown",
   "id": "271f7ebd-1652-4a02-aec2-9e8012d067dd",
   "metadata": {},
   "source": [
    "## Table of contents"
   ]
  },
  {
   "cell_type": "markdown",
   "id": "867838db-3f26-460b-980c-343783b46da1",
   "metadata": {},
   "source": [
    "- [Import Rectangle class](#Import-Rectangle-class)"
   ]
  },
  {
   "cell_type": "markdown",
   "id": "6e2a14dd-b935-4249-8c13-579537defbc9",
   "metadata": {},
   "source": [
    "- [Constructor](#Constructor)"
   ]
  },
  {
   "cell_type": "markdown",
   "id": "73855bd6-a256-4ab6-b52f-c27551409d4a",
   "metadata": {},
   "source": [
    "- [Attributes](#Attributes)"
   ]
  },
  {
   "cell_type": "markdown",
   "id": "400bdedf-f84b-4f29-939f-38a7fb773973",
   "metadata": {},
   "source": [
    "- [Methods](#Methods)\n",
    "    - [area](#area)\n",
    "    - [copy style](#copy-style)\n",
    "    - [duplicate](#duplicate)\n",
    "    - [export style](#export-style)\n",
    "    - [import style](#import-style)\n",
    "    - [plot](#plot)\n",
    "    - [reverse](#reverse)"
   ]
  },
  {
   "cell_type": "markdown",
   "id": "c33cec48-a6dd-453d-8ca5-61faca260623",
   "metadata": {},
   "source": [
    "- [Examples](#Examples)\n",
    "    - [example 1](#example-1)\n",
    "    - [example 2](#example-2)"
   ]
  },
  {
   "cell_type": "markdown",
   "id": "0ad58f24-46b5-47a4-b93b-123f0532b6a3",
   "metadata": {},
   "source": [
    "## Import Rectangle class"
   ]
  },
  {
   "cell_type": "code",
   "execution_count": 1,
   "id": "84da3afc-10ed-4a6b-9ef8-5936456e0923",
   "metadata": {},
   "outputs": [
    {
     "name": "stdout",
     "output_type": "stream",
     "text": [
      "SQLalchemy is not installed. No support for SQL output.\n"
     ]
    }
   ],
   "source": [
    "from pyLong.annotations.rectangle import Rectangle"
   ]
  },
  {
   "cell_type": "markdown",
   "id": "312d5698-d3dd-4ae8-8a83-dec5af6be69a",
   "metadata": {},
   "source": [
    "## Constructor"
   ]
  },
  {
   "cell_type": "code",
   "execution_count": 2,
   "id": "679f5209-94be-46c8-8951-4e4bd3b74d53",
   "metadata": {},
   "outputs": [],
   "source": [
    "annotation = Rectangle()"
   ]
  },
  {
   "cell_type": "markdown",
   "id": "252870fd-388a-4569-98e9-20b76b75cdca",
   "metadata": {},
   "source": [
    "## Attributes"
   ]
  },
  {
   "cell_type": "markdown",
   "id": "529fdfb3-cb79-4721-9121-dc55d542c144",
   "metadata": {},
   "source": [
    "| attribute          |  type   | setter | comment |\n",
    "| :---               | :----:  | :----: | :----   |\n",
    "| `name`             | `str`   | yes    |         |\n",
    "| `label`            | `str`   | yes    |         |\n",
    "| `xy`               | `tuple` | yes    |         |\n",
    "| `x`                | `float` | yes    |         |\n",
    "| `y`                | `float` | yes    |         |\n",
    "| `width`            | `float` | yes    | must be positive |\n",
    "| `height`           | `float` | yes    | must be positive |\n",
    "| `rotation`         | `float` | yes    | must be between 0 and 360 |\n",
    "| `line_style`       | `str`   | yes    |         |\n",
    "| `line_color`       | `str`   | yes    |         |\n",
    "| `line_thickness`   | `float` | yes    | must be positive |\n",
    "| `hatch_style`      | `str`   | yes    |         |\n",
    "| `hatch_density`    | `int`   | yes    | must be positive |\n",
    "| `fill_color`       | `str`   | yes    |         |\n",
    "| `opacity`          | `float` | yes    | must be between 0 and 1 |\n",
    "| `order`            | `int`   | yes    | must be positive |\n",
    "| `visible`          | `bool`  | yes    |         |"
   ]
  },
  {
   "cell_type": "markdown",
   "id": "0c9107e6-8fde-4fda-8ad6-2089334d9727",
   "metadata": {
    "tags": []
   },
   "source": [
    "## Methods"
   ]
  },
  {
   "cell_type": "markdown",
   "id": "2deb37ef-845d-43cd-b494-293c5dcaf9bb",
   "metadata": {},
   "source": [
    "### area\n",
    "```python\n",
    "Rectangle.area(self)\n",
    "```"
   ]
  },
  {
   "cell_type": "code",
   "execution_count": 3,
   "id": "9c59eaef-bec6-417f-ae4b-c9a25e101b39",
   "metadata": {},
   "outputs": [
    {
     "name": "stdout",
     "output_type": "stream",
     "text": [
      "Help on function area in module pyLong.annotations.rectangle:\n",
      "\n",
      "area(self)\n",
      "    calculate the rectangle area\n",
      "    \n",
      "    returns:\n",
      "    area: rectangle area - float\n",
      "    \n",
      "    examples:\n",
      "    >>> area = annotation.area()\n",
      "\n"
     ]
    }
   ],
   "source": [
    "help(Rectangle.area)"
   ]
  },
  {
   "cell_type": "markdown",
   "id": "af595860-87c5-4353-9426-1615c30d4f0e",
   "metadata": {},
   "source": [
    "### copy style\n",
    "```python\n",
    "Rectangle.copy_style(self, annotation)\n",
    "```"
   ]
  },
  {
   "cell_type": "code",
   "execution_count": 4,
   "id": "49fb8803-f880-4f29-9f14-003a4338ab0e",
   "metadata": {},
   "outputs": [
    {
     "name": "stdout",
     "output_type": "stream",
     "text": [
      "Help on function copy_style in module pyLong.annotations.rectangle:\n",
      "\n",
      "copy_style(self, annotation)\n",
      "    copy the style of a rectangle annotation\n",
      "    \n",
      "    arguments:\n",
      "    - annotation: annotation whose style is to be copied - Rectangle\n",
      "    \n",
      "    returns:\n",
      "    - True if success - bool\n",
      "    - False else - bool\n",
      "    \n",
      "    examples:\n",
      "    >>> new_annotation.copy_style(annotation)\n",
      "\n"
     ]
    }
   ],
   "source": [
    "help(Rectangle.copy_style)"
   ]
  },
  {
   "cell_type": "markdown",
   "id": "b028fee2-59dc-4e81-af34-ed8b05abafa4",
   "metadata": {},
   "source": [
    "### duplicate\n",
    "```python\n",
    "Rectangle.duplicate(self)\n",
    "```"
   ]
  },
  {
   "cell_type": "code",
   "execution_count": 5,
   "id": "fe594438-8026-4f31-80ba-a66e379ecb69",
   "metadata": {},
   "outputs": [
    {
     "name": "stdout",
     "output_type": "stream",
     "text": [
      "Help on function duplicate in module pyLong.annotations.rectangle:\n",
      "\n",
      "duplicate(self)\n",
      "    duplicate the annotation\n",
      "    \n",
      "    returns:\n",
      "    - new_annotation: duplicated annotation - Rectangle\n",
      "    \n",
      "    examples:\n",
      "    >>> new_annotation = annotation.duplicate()\n",
      "\n"
     ]
    }
   ],
   "source": [
    "help(Rectangle.duplicate)"
   ]
  },
  {
   "cell_type": "markdown",
   "id": "340fbf27-61cd-4c46-9eac-ac68af86db9b",
   "metadata": {},
   "source": [
    "### export style\n",
    "```python\n",
    "Rectangle.export_style(self, filename)\n",
    "```"
   ]
  },
  {
   "cell_type": "code",
   "execution_count": 6,
   "id": "19bff8e0-7e1f-4376-ae4e-553317d5180f",
   "metadata": {},
   "outputs": [
    {
     "name": "stdout",
     "output_type": "stream",
     "text": [
      "Help on function export_style in module pyLong.annotations.rectangle:\n",
      "\n",
      "export_style(self, filename)\n",
      "    export annotation style to a .json file\n",
      "    \n",
      "    arguments:\n",
      "    - filename: .json file path - str\n",
      "    \n",
      "    returns:\n",
      "    - True if success - bool\n",
      "    - False else - bool\n",
      "    \n",
      "    examples:\n",
      "    >>> annotation.export_style(\"style.json\")\n",
      "\n"
     ]
    }
   ],
   "source": [
    "help(Rectangle.export_style)"
   ]
  },
  {
   "cell_type": "markdown",
   "id": "f44a0829-00cc-4a37-ad39-9a2f894257ef",
   "metadata": {},
   "source": [
    "### import style\n",
    "```python\n",
    "Rectangle.import_style(self, filename)\n",
    "```"
   ]
  },
  {
   "cell_type": "code",
   "execution_count": 7,
   "id": "c6bb275c-3fe1-43fa-ac8f-cf2e69b14dec",
   "metadata": {},
   "outputs": [
    {
     "name": "stdout",
     "output_type": "stream",
     "text": [
      "Help on function import_style in module pyLong.annotations.rectangle:\n",
      "\n",
      "import_style(self, filename)\n",
      "    import annotation style from a .json file\n",
      "    \n",
      "    arguments:\n",
      "    - filename: .json file path - str\n",
      "    \n",
      "    returns:\n",
      "    - True if success - bool\n",
      "    - False else - bool\n",
      "    \n",
      "    examples:\n",
      "    >>> annotation.import_style(\"style.json\")\n",
      "\n"
     ]
    }
   ],
   "source": [
    "help(Rectangle.import_style)"
   ]
  },
  {
   "cell_type": "markdown",
   "id": "8c489de1-2c65-43b1-878f-192b5d70a117",
   "metadata": {},
   "source": [
    "### plot\n",
    "```python\n",
    "Rectangle.plot(self, ax)\n",
    "```"
   ]
  },
  {
   "cell_type": "code",
   "execution_count": 8,
   "id": "878dc66e-fe60-40bf-ada7-dab61d6fc2a3",
   "metadata": {},
   "outputs": [
    {
     "name": "stdout",
     "output_type": "stream",
     "text": [
      "Help on function plot in module pyLong.annotations.rectangle:\n",
      "\n",
      "plot(self, ax)\n",
      "    plot annotation on a matplotlib subplot\n",
      "    \n",
      "    arguments:\n",
      "    - ax: matplotlib subplot - matplotlib.axes._subplots.AxesSubplot\n",
      "    \n",
      "    returns:\n",
      "    - None - NoneType\n",
      "    \n",
      "    examples:\n",
      "    >>> from matplotlib import pyplot as plt\n",
      "    >>> fig, ax = plt.subplots()\n",
      "    >>> annotation.plot(ax)\n",
      "    >>> plt.show()\n",
      "\n"
     ]
    }
   ],
   "source": [
    "help(Rectangle.plot)"
   ]
  },
  {
   "cell_type": "markdown",
   "id": "5736eeab-3514-4b48-b5ca-3f99833b83f1",
   "metadata": {},
   "source": [
    "### reverse\n",
    "```python\n",
    "Rectangle.reverse(self, profile)\n",
    "```"
   ]
  },
  {
   "cell_type": "code",
   "execution_count": 9,
   "id": "01145bd1-20c1-4e89-87aa-c9ee1e7b5556",
   "metadata": {},
   "outputs": [
    {
     "name": "stdout",
     "output_type": "stream",
     "text": [
      "Help on function reverse in module pyLong.annotations.rectangle:\n",
      "\n",
      "reverse(self, profile)\n",
      "    reverse the annotation according to a reference profile\n",
      "    \n",
      "    arguments:\n",
      "    - profile: reference profile to perform the reversing - zProfile | yProfile\n",
      "    \n",
      "    returns:\n",
      "    - new_annotation: reversed annotation - Rectangle\n",
      "    or\n",
      "    - None - NoneType\n",
      "    \n",
      "    examples:\n",
      "    >>> new_annotation = annotation.reverse(profile)\n",
      "\n"
     ]
    }
   ],
   "source": [
    "help(Rectangle.reverse)"
   ]
  },
  {
   "cell_type": "markdown",
   "id": "13a5f39b-ad98-4185-a9bb-cc29a30dedbc",
   "metadata": {},
   "source": [
    "## Examples"
   ]
  },
  {
   "cell_type": "markdown",
   "id": "28dfd3d6-cb40-4449-bfb8-f9ed7e26f439",
   "metadata": {},
   "source": [
    "### example 1"
   ]
  },
  {
   "cell_type": "code",
   "execution_count": 10,
   "id": "53f72b9f-4205-4a91-bce1-4203cb97070e",
   "metadata": {},
   "outputs": [
    {
     "data": {
      "image/png": "[encoded data removed]",
      "text/plain": [
       "<Figure size 500x500 with 1 Axes>"
      ]
     },
     "metadata": {},
     "output_type": "display_data"
    }
   ],
   "source": [
    "from matplotlib import pyplot as plt\n",
    "\n",
    "from pyLong.annotations.rectangle import Rectangle\n",
    "\n",
    "rectangle = Rectangle()\n",
    "rectangle.name = \"a rectangle\"\n",
    "rectangle.label = \"a green rectangle\"\n",
    "rectangle.xy = (500., 500.)\n",
    "rectangle.width = 800.\n",
    "rectangle.height = 600.\n",
    "rectangle.rotation = 0.\n",
    "rectangle.line_style = \"solid\"\n",
    "rectangle.line_color = \"Dark Green\"\n",
    "rectangle.line_thickness = 2.5\n",
    "rectangle.hatch_style = \"\"\n",
    "rectangle.hatch_density = 1\n",
    "rectangle.fill_color = \"Pale Green\"\n",
    "rectangle.opacity = 1.\n",
    "rectangle.order = 1\n",
    "rectangle.visible = True\n",
    "\n",
    "fig, ax = plt.subplots(figsize=(5, 5))\n",
    "ax.set_xlim((0., 1000.))\n",
    "ax.set_ylim((0., 1000.))\n",
    "ax.set_aspect(\"equal\")\n",
    "\n",
    "rectangle.plot(ax)\n",
    "\n",
    "ax.legend(loc=\"best\")\n",
    "plt.tight_layout()\n",
    "plt.show()"
   ]
  },
  {
   "cell_type": "markdown",
   "id": "c2a7c4c2-5b72-4bc5-baa0-5faac589e67f",
   "metadata": {},
   "source": [
    "### example 2"
   ]
  },
  {
   "cell_type": "code",
   "execution_count": 11,
   "id": "45cb9d61-fd56-4ebd-9a02-7a74e6ff07d7",
   "metadata": {},
   "outputs": [
    {
     "data": {
      "image/png": "[encoded data removed]",
      "text/plain": [
       "<Figure size 500x500 with 1 Axes>"
      ]
     },
     "metadata": {},
     "output_type": "display_data"
    }
   ],
   "source": [
    "from matplotlib import pyplot as plt\n",
    "\n",
    "from pyLong.annotations.rectangle import Rectangle\n",
    "\n",
    "rectangle = Rectangle()\n",
    "rectangle.name = \"another rectangle\"\n",
    "rectangle.label = \"a gray rectangle\"\n",
    "rectangle.xy = (500., 500.)\n",
    "rectangle.width = 700.\n",
    "rectangle.height = 500.\n",
    "rectangle.rotation = 45.\n",
    "rectangle.line_style = \"dashed\"\n",
    "rectangle.line_color = \"Dark Gray\"\n",
    "rectangle.line_thickness = 2.\n",
    "rectangle.hatch_style = \"x\"\n",
    "rectangle.hatch_density = 2\n",
    "rectangle.fill_color = \"None\"\n",
    "rectangle.opacity = 1.\n",
    "rectangle.order = 1\n",
    "rectangle.visible = True\n",
    "\n",
    "fig, ax = plt.subplots(figsize=(5, 5))\n",
    "ax.set_xlim((0., 1000.))\n",
    "ax.set_ylim((0., 1000.))\n",
    "ax.set_aspect(\"equal\")\n",
    "\n",
    "rectangle.plot(ax)\n",
    "\n",
    "ax.legend(loc=\"best\")\n",
    "plt.tight_layout()\n",
    "plt.show()"
   ]
  }
 ],
 "metadata": {
  "kernelspec": {
   "display_name": "Python 3 (ipykernel)",
   "language": "python",
   "name": "python3"
  },
  "language_info": {
   "codemirror_mode": {
    "name": "ipython",
    "version": 3
   },
   "file_extension": ".py",
   "mimetype": "text/x-python",
   "name": "python",
   "nbconvert_exporter": "python",
   "pygments_lexer": "ipython3",
   "version": "3.9.15"
  }
 },
 "nbformat": 4,
 "nbformat_minor": 5
}
