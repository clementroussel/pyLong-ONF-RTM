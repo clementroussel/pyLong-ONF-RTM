{
 "cells": [
  {
   "cell_type": "markdown",
   "id": "f1d097fe-b272-4d51-a6dd-8ae506e6bde7",
   "metadata": {},
   "source": [
    "# zAxis\n",
    "\n",
    "> An instance of **zAxis** class represents an altitude axis."
   ]
  },
  {
   "cell_type": "markdown",
   "id": "876c4f93-3130-4b8c-9afb-df6aae3948c8",
   "metadata": {},
   "source": [
    "## Table of contents"
   ]
  },
  {
   "cell_type": "markdown",
   "id": "d558aaf3-9fc5-474a-83f0-a84ab39d7144",
   "metadata": {},
   "source": [
    "- [Import zAxis class](#Import-zAxis-class)"
   ]
  },
  {
   "cell_type": "markdown",
   "id": "83f62c3d-9468-41b3-8422-cd6903163483",
   "metadata": {},
   "source": [
    "- [Constructor](#Constructor)    "
   ]
  },
  {
   "cell_type": "markdown",
   "id": "2064fcaf-1976-4aa3-90f9-ea864e1971f8",
   "metadata": {},
   "source": [
    "- [Attributes](#Attributes)"
   ]
  },
  {
   "cell_type": "markdown",
   "id": "499025ff-cf77-437f-96d8-107fd7786b7b",
   "metadata": {},
   "source": [
    "- [Methods](#Methods)\n",
    "    - [copy style](#copy-style)\n",
    "    - [duplicate](#duplicate)\n",
    "    - [export style](#expot-style)\n",
    "    - [import style](#import-style)"
   ]
  },
  {
   "cell_type": "markdown",
   "id": "c3f0f9a7-ef45-47a5-9c39-a338c1ab7c1b",
   "metadata": {},
   "source": [
    "- [Examples](#Examples)\n",
    "    - [example 1](#example-1)"
   ]
  },
  {
   "cell_type": "markdown",
   "id": "b2ae8aa1-1415-412c-be64-49dce19b7bc1",
   "metadata": {},
   "source": [
    "## Import zAxis class"
   ]
  },
  {
   "cell_type": "code",
   "execution_count": 1,
   "id": "3404133b-d21c-4698-91af-0a7522e7850e",
   "metadata": {},
   "outputs": [],
   "source": [
    "from pyLong.layouts.z_axis import zAxis"
   ]
  },
  {
   "cell_type": "markdown",
   "id": "a9bc208c-4105-4c9a-9f8a-ddc07d9ddf1d",
   "metadata": {},
   "source": [
    "## Constructor"
   ]
  },
  {
   "cell_type": "code",
   "execution_count": 2,
   "id": "a97c5420-7358-4969-9bfe-c04c7d63e70b",
   "metadata": {},
   "outputs": [],
   "source": [
    "z_axis = zAxis()"
   ]
  },
  {
   "cell_type": "markdown",
   "id": "df4e73db-b8a7-4159-8b75-5923bf16a047",
   "metadata": {},
   "source": [
    "## Attributes"
   ]
  },
  {
   "cell_type": "markdown",
   "id": "e318c8a7-706b-4d09-af80-5e884161b062",
   "metadata": {},
   "source": [
    "| attribute     |  type   | setter | comment |\n",
    "| :---          | :----:  | :----: | :----   |\n",
    "| `min`         | `float` | yes    |         |\n",
    "| `max`         | `float` | yes    |         |\n",
    "| `label`       | `str`   | yes    |         |\n",
    "| `intervals`   | `int`   | yes    | must be positive |\n",
    "| `label_size`  | `int`   | yes    | must be positive |\n",
    "| `label_color` | `str`   | yes    |         |\n",
    "| `value_size`  | `int`   | yes    | must be positive |\n",
    "| `value_color` | `str`   | yes    |         |\n",
    "| `lower_shift` | `float` | yes    | must be positive |\n",
    "| `upper_shift` | `float` | yes    | must be positive |"
   ]
  },
  {
   "cell_type": "markdown",
   "id": "81893305-a6f6-4d3b-83fb-c82e73627aab",
   "metadata": {},
   "source": [
    "## Methods"
   ]
  },
  {
   "cell_type": "markdown",
   "id": "77fb424d-516c-4489-a568-14c6e11c9993",
   "metadata": {},
   "source": [
    "### copy style\n",
    "```python\n",
    "zAxis.copy_style(self, z_axis)\n",
    "```"
   ]
  },
  {
   "cell_type": "code",
   "execution_count": 3,
   "id": "72deb36e-b72f-43b8-804b-f2c711fd72a2",
   "metadata": {},
   "outputs": [
    {
     "name": "stdout",
     "output_type": "stream",
     "text": [
      "Help on function copy_style in module pyLong.layouts.z_axis:\n",
      "\n",
      "copy_style(self, z_axis)\n",
      "    copy the style of an altitude axis\n",
      "    \n",
      "    arguments:\n",
      "    - z_axis: axis whose style is to be copied - zAxis\n",
      "    \n",
      "    returns:\n",
      "    - True if success - bool\n",
      "    - False else - bool\n",
      "    \n",
      "    examples:\n",
      "    >>> new_z_axis.copy_style(z_axis)\n",
      "\n"
     ]
    }
   ],
   "source": [
    "help(zAxis.copy_style)"
   ]
  },
  {
   "cell_type": "markdown",
   "id": "9130ca4b-2b5e-4264-9d76-237edf52ae29",
   "metadata": {},
   "source": [
    "### duplicate\n",
    "```python\n",
    "zAxis.duplicate(self)\n",
    "```"
   ]
  },
  {
   "cell_type": "code",
   "execution_count": 4,
   "id": "e9514b22-8b80-483c-af07-dca1da5f7b09",
   "metadata": {},
   "outputs": [
    {
     "name": "stdout",
     "output_type": "stream",
     "text": [
      "Help on function duplicate in module pyLong.layouts.z_axis:\n",
      "\n",
      "duplicate(self)\n",
      "    duplicate the axis\n",
      "    \n",
      "    returns:\n",
      "    - new_z_axis: duplicated axis - zAxis\n",
      "    \n",
      "    examples:\n",
      "    >>> new_z_axis = z_axis.duplicate()\n",
      "\n"
     ]
    }
   ],
   "source": [
    "help(zAxis.duplicate)"
   ]
  },
  {
   "cell_type": "markdown",
   "id": "4bbd5783-2d52-4fdf-ac96-01819129282c",
   "metadata": {},
   "source": [
    "### export style\n",
    "```python\n",
    "zAxis.export_style(self, filename)\n",
    "```"
   ]
  },
  {
   "cell_type": "code",
   "execution_count": 5,
   "id": "0555f795-4f6b-47d9-9d9d-069c4cb3f760",
   "metadata": {},
   "outputs": [
    {
     "name": "stdout",
     "output_type": "stream",
     "text": [
      "Help on function export_style in module pyLong.layouts.z_axis:\n",
      "\n",
      "export_style(self, filename)\n",
      "    export axis style to a .json file\n",
      "    \n",
      "    arguments:\n",
      "    - filename: .json file path - str\n",
      "    \n",
      "    returns:\n",
      "    - True if success - bool\n",
      "    - False else - bool\n",
      "    \n",
      "    examples:\n",
      "    >>> z_axis.export_style(\"style.json\")\n",
      "\n"
     ]
    }
   ],
   "source": [
    "help(zAxis.export_style)"
   ]
  },
  {
   "cell_type": "markdown",
   "id": "be100a0a-e4dc-4137-aada-0e5584fa4af3",
   "metadata": {},
   "source": [
    "### import style\n",
    "```python\n",
    "zAxis.import_style(self, filename)\n",
    "```"
   ]
  },
  {
   "cell_type": "code",
   "execution_count": 6,
   "id": "9723a387-d98c-462c-b334-0993d8fbbb93",
   "metadata": {},
   "outputs": [
    {
     "name": "stdout",
     "output_type": "stream",
     "text": [
      "Help on function import_style in module pyLong.layouts.z_axis:\n",
      "\n",
      "import_style(self, filename)\n",
      "    import axis style from a .json file\n",
      "    \n",
      "    arguments:\n",
      "    - filename: .json file path - str\n",
      "    \n",
      "    returns:\n",
      "    - True if success - bool\n",
      "    - False else - bool\n",
      "    \n",
      "    examples:\n",
      "    >>> z_axis.import_style(\"style.json\")\n",
      "\n"
     ]
    }
   ],
   "source": [
    "help(zAxis.import_style)"
   ]
  },
  {
   "cell_type": "markdown",
   "id": "3f6e5fac-d11c-4958-b148-c7b21418daaa",
   "metadata": {},
   "source": [
    "## Examples"
   ]
  },
  {
   "cell_type": "markdown",
   "id": "3c6a161b-5026-4672-b23d-5436c915ca9d",
   "metadata": {},
   "source": [
    "### example 1"
   ]
  },
  {
   "cell_type": "code",
   "execution_count": 7,
   "id": "7cd1aa20-6177-42d1-a850-19c7446ee322",
   "metadata": {},
   "outputs": [
    {
     "data": {
      "image/png": "[encoded data removed]",
      "text/plain": [
       "<Figure size 1169.29x826.772 with 2 Axes>"
      ]
     },
     "execution_count": 7,
     "metadata": {},
     "output_type": "execute_result"
    }
   ],
   "source": [
    "from pyLong.layouts.layout import Layout\n",
    "\n",
    "layout = Layout()\n",
    "\n",
    "layout.z_axis.min = 100.\n",
    "layout.z_axis.max = 900.\n",
    "layout.z_axis.label = \"z [m]\"\n",
    "layout.z_axis.intervals = 8\n",
    "layout.z_axis.label_size = 10.\n",
    "layout.z_axis.label_color = \"Black\"\n",
    "layout.z_axis.value_size = 9.\n",
    "layout.z_axis.value_color = \"Gray\"\n",
    "layout.z_axis.lower_shift = 100.\n",
    "layout.z_axis.upper_shift = 100.\n",
    "\n",
    "ax_z, ax_s, subaxs, figure = layout.new_figure()\n",
    "figure"
   ]
  }
 ],
 "metadata": {
  "kernelspec": {
   "display_name": "Python 3 (ipykernel)",
   "language": "python",
   "name": "python3"
  },
  "language_info": {
   "codemirror_mode": {
    "name": "ipython",
    "version": 3
   },
   "file_extension": ".py",
   "mimetype": "text/x-python",
   "name": "python",
   "nbconvert_exporter": "python",
   "pygments_lexer": "ipython3",
   "version": "3.9.15"
  }
 },
 "nbformat": 4,
 "nbformat_minor": 5
}
