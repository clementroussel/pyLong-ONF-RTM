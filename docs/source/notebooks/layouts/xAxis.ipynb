{
 "cells": [
  {
   "cell_type": "markdown",
   "id": "3adcf054-fb21-48d1-9e25-c041aac454de",
   "metadata": {},
   "source": [
    "# xAxis\n",
    "\n",
    "> An instance of **xAxis** class represents a distance axis."
   ]
  },
  {
   "cell_type": "markdown",
   "id": "93248fec-dd00-45a1-92df-f2df2fb71312",
   "metadata": {},
   "source": [
    "## Table of contents"
   ]
  },
  {
   "cell_type": "markdown",
   "id": "55045324-c6e4-48ae-9f66-966a14ff951f",
   "metadata": {},
   "source": [
    "- [Import xAxis class](#Import-xAxis-class)"
   ]
  },
  {
   "cell_type": "markdown",
   "id": "84179c6e-1f76-4632-9ec2-b10c38e0269f",
   "metadata": {},
   "source": [
    "- [Constructor](#Constructor)    "
   ]
  },
  {
   "cell_type": "markdown",
   "id": "ae61c2c4-b940-423c-b149-b7335a94de4a",
   "metadata": {},
   "source": [
    "- [Attributes](#Attributes)"
   ]
  },
  {
   "cell_type": "markdown",
   "id": "7f9fc9fe-809f-4970-9aa1-a01af88a9300",
   "metadata": {},
   "source": [
    "- [Methods](#Methods)\n",
    "    - [copy style](#copy-style)\n",
    "    - [duplicate](#duplicate)\n",
    "    - [export style](#expot-style)\n",
    "    - [import style](#import-style)"
   ]
  },
  {
   "cell_type": "markdown",
   "id": "238ff641-2424-43dd-ae5e-5af8280b7fa8",
   "metadata": {},
   "source": [
    "- [Examples](#Examples)\n",
    "    - [example 1](#example-1)"
   ]
  },
  {
   "cell_type": "markdown",
   "id": "b5beb04d-9222-4845-ade6-d6e7b5b197c6",
   "metadata": {},
   "source": [
    "## Import xAxis class"
   ]
  },
  {
   "cell_type": "code",
   "execution_count": 1,
   "id": "dd82a069-68b5-449f-a6d7-890a2f617008",
   "metadata": {},
   "outputs": [],
   "source": [
    "from pyLong.layouts.x_axis import xAxis"
   ]
  },
  {
   "cell_type": "markdown",
   "id": "7288cf54-034a-4752-8658-98f6413c021b",
   "metadata": {},
   "source": [
    "## Constructor"
   ]
  },
  {
   "cell_type": "code",
   "execution_count": 2,
   "id": "90562d20-d18b-4ee3-89d1-5d38190a445e",
   "metadata": {},
   "outputs": [],
   "source": [
    "x_axis = xAxis()"
   ]
  },
  {
   "cell_type": "markdown",
   "id": "fc630c36-7b21-48e3-a57f-852b27c765fe",
   "metadata": {},
   "source": [
    "## Attributes"
   ]
  },
  {
   "cell_type": "markdown",
   "id": "4148a8dc-de6c-4e06-9b18-3787f2f239bd",
   "metadata": {},
   "source": [
    "| attribute     |  type   | setter | comment |\n",
    "| :---          | :----:  | :----: | :----   |\n",
    "| `min`         | `float` | yes    |         |\n",
    "| `max`         | `float` | yes    |         |\n",
    "| `label`       | `str`   | yes    |         |\n",
    "| `intervals`   | `int`   | yes    | must be positive |\n",
    "| `label_size`  | `int`   | yes    | must be positive |\n",
    "| `label_color` | `str`   | yes    |         |\n",
    "| `value_size`  | `int`   | yes    | must be positive |\n",
    "| `value_color` | `str`   | yes    |         |\n",
    "| `left_shift`  | `float` | yes    | must be positive |\n",
    "| `right_shift` | `float` | yes    | must be positive |"
   ]
  },
  {
   "cell_type": "markdown",
   "id": "cf67cfc7-e659-452b-916d-207f9a1786b0",
   "metadata": {},
   "source": [
    "## Methods"
   ]
  },
  {
   "cell_type": "markdown",
   "id": "6b02b346-2e81-44d8-a006-6c2b62d4f3dc",
   "metadata": {},
   "source": [
    "### copy style\n",
    "```python\n",
    "xAxis.copy_style(self, x_axis)\n",
    "```"
   ]
  },
  {
   "cell_type": "code",
   "execution_count": 3,
   "id": "896c26af-cfce-4e32-a35b-0eea5ced8cce",
   "metadata": {},
   "outputs": [
    {
     "name": "stdout",
     "output_type": "stream",
     "text": [
      "Help on function copy_style in module pyLong.layouts.x_axis:\n",
      "\n",
      "copy_style(self, x_axis)\n",
      "    copy the style of a distance axis\n",
      "    \n",
      "    arguments:\n",
      "    - x_axis: axis whose style is to be copied - xAxis\n",
      "    \n",
      "    returns:\n",
      "    - True if success - bool\n",
      "    - False else - bool\n",
      "    \n",
      "    examples:\n",
      "    >>> new_x_axis.copy_style(x_axis)\n",
      "\n"
     ]
    }
   ],
   "source": [
    "help(xAxis.copy_style)"
   ]
  },
  {
   "cell_type": "markdown",
   "id": "0c05348d-edb3-458c-98fe-716c140de114",
   "metadata": {},
   "source": [
    "### duplicate\n",
    "```python\n",
    "xAxis.duplicate(self)\n",
    "```"
   ]
  },
  {
   "cell_type": "code",
   "execution_count": 4,
   "id": "4f1b3680-e42c-46eb-8138-9b082ea62d3f",
   "metadata": {},
   "outputs": [
    {
     "name": "stdout",
     "output_type": "stream",
     "text": [
      "Help on function duplicate in module pyLong.layouts.x_axis:\n",
      "\n",
      "duplicate(self)\n",
      "    duplicate the axis\n",
      "    \n",
      "    returns:\n",
      "    - new_x_axis: duplicated axis - xAxis\n",
      "    \n",
      "    examples:\n",
      "    >>> new_x_axis = x_axis.duplicate()\n",
      "\n"
     ]
    }
   ],
   "source": [
    "help(xAxis.duplicate)"
   ]
  },
  {
   "cell_type": "markdown",
   "id": "f70d7271-6f66-419f-b660-8d7ae3736454",
   "metadata": {},
   "source": [
    "### export style\n",
    "```python\n",
    "xAxis.export_style(self, filename)\n",
    "```"
   ]
  },
  {
   "cell_type": "code",
   "execution_count": 5,
   "id": "9510d6c0-549b-4893-98ad-f1c458be7d89",
   "metadata": {},
   "outputs": [
    {
     "name": "stdout",
     "output_type": "stream",
     "text": [
      "Help on function export_style in module pyLong.layouts.x_axis:\n",
      "\n",
      "export_style(self, filename)\n",
      "    export axis style to a .json file\n",
      "    \n",
      "    arguments:\n",
      "    - filename: .json file path - str\n",
      "    \n",
      "    returns:\n",
      "    - True if success - bool\n",
      "    - False else - bool\n",
      "    \n",
      "    examples:\n",
      "    >>> x_axis.export_style(\"style.json\")\n",
      "\n"
     ]
    }
   ],
   "source": [
    "help(xAxis.export_style)"
   ]
  },
  {
   "cell_type": "markdown",
   "id": "b60ac8f4-3090-45f7-8ac6-dd870d0119fb",
   "metadata": {},
   "source": [
    "### import style\n",
    "```python\n",
    "xAxis.import_style(self, filename)\n",
    "```"
   ]
  },
  {
   "cell_type": "code",
   "execution_count": 6,
   "id": "c7d98ff3-142a-4e18-9c75-1d3d8f955ad0",
   "metadata": {},
   "outputs": [
    {
     "name": "stdout",
     "output_type": "stream",
     "text": [
      "Help on function import_style in module pyLong.layouts.x_axis:\n",
      "\n",
      "import_style(self, filename)\n",
      "    import axis style from a .json file\n",
      "    \n",
      "    arguments:\n",
      "    - filename: .json file path - str\n",
      "    \n",
      "    returns:\n",
      "    - True if success - bool\n",
      "    - False else - bool\n",
      "    \n",
      "    examples:\n",
      "    >>> x_axis.import_style(\"style.json\")\n",
      "\n"
     ]
    }
   ],
   "source": [
    "help(xAxis.import_style)"
   ]
  },
  {
   "cell_type": "markdown",
   "id": "3510911e-1b4a-4202-b8ac-4ff20b6ae3b0",
   "metadata": {},
   "source": [
    "## Examples"
   ]
  },
  {
   "cell_type": "markdown",
   "id": "93796eab-858b-445e-8e72-d4857a3c910e",
   "metadata": {},
   "source": [
    "### example 1"
   ]
  },
  {
   "cell_type": "code",
   "execution_count": 7,
   "id": "6aa01668-8919-4345-88f6-1afe342f8971",
   "metadata": {},
   "outputs": [
    {
     "data": {
      "image/png": "[encoded data removed]",
      "text/plain": [
       "<Figure size 1169.29x826.772 with 2 Axes>"
      ]
     },
     "execution_count": 7,
     "metadata": {},
     "output_type": "execute_result"
    }
   ],
   "source": [
    "from pyLong.layouts.layout import Layout\n",
    "\n",
    "layout = Layout()\n",
    "\n",
    "layout.x_axis.min = 100.\n",
    "layout.x_axis.max = 900.\n",
    "layout.x_axis.label = \"x [m]\"\n",
    "layout.x_axis.intervals = 8\n",
    "layout.x_axis.label_size = 10.\n",
    "layout.x_axis.label_color = \"Black\"\n",
    "layout.x_axis.value_size = 9.\n",
    "layout.x_axis.value_color = \"Gray\"\n",
    "layout.x_axis.left_shift = 100.\n",
    "layout.x_axis.right_shift = 100.\n",
    "\n",
    "ax_z, ax_s, subaxs, figure = layout.new_figure()\n",
    "figure"
   ]
  }
 ],
 "metadata": {
  "kernelspec": {
   "display_name": "Python 3 (ipykernel)",
   "language": "python",
   "name": "python3"
  },
  "language_info": {
   "codemirror_mode": {
    "name": "ipython",
    "version": 3
   },
   "file_extension": ".py",
   "mimetype": "text/x-python",
   "name": "python",
   "nbconvert_exporter": "python",
   "pygments_lexer": "ipython3",
   "version": "3.9.15"
  }
 },
 "nbformat": 4,
 "nbformat_minor": 5
}
