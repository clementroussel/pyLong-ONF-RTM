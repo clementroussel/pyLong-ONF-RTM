{
 "cells": [
  {
   "cell_type": "markdown",
   "id": "561e5778-3662-4e09-bf0f-7cf3fcfb6a01",
   "metadata": {},
   "source": [
    "# Legend"
   ]
  },
  {
   "cell_type": "markdown",
   "id": "b462cdb7-3682-4208-9ac3-eae7900823a1",
   "metadata": {},
   "source": [
    "## Table of contents"
   ]
  },
  {
   "cell_type": "markdown",
   "id": "efb443d3-efc2-4704-8312-86d1af643cf8",
   "metadata": {},
   "source": [
    "- [Import Legend class](#Import-Legend-class)"
   ]
  },
  {
   "cell_type": "markdown",
   "id": "66a41c00-1bef-4a6c-97a8-c4335295fa1c",
   "metadata": {},
   "source": [
    "- [Constructor](#Constructor)    "
   ]
  },
  {
   "cell_type": "markdown",
   "id": "0ab3205a-32f0-45ea-824e-9436ab1d8c23",
   "metadata": {},
   "source": [
    "- [Attributes](#Attributes)"
   ]
  },
  {
   "cell_type": "markdown",
   "id": "f719b305-2a33-44aa-a6e3-b02477846419",
   "metadata": {},
   "source": [
    "- [Methods](#Methods)\n",
    "    - [copy style](#copy-style)\n",
    "    - [duplicate](#duplicate)\n",
    "    - [export style](#expot-style)\n",
    "    - [import style](#import-style)"
   ]
  },
  {
   "cell_type": "markdown",
   "id": "0596148b-3f0a-4eb1-8fce-4a41d96fa4ed",
   "metadata": {},
   "source": [
    "## Import Legend class"
   ]
  },
  {
   "cell_type": "code",
   "execution_count": 1,
   "id": "d503a34f-2bf9-4b28-af6e-f58897ed19a6",
   "metadata": {},
   "outputs": [],
   "source": [
    "from pyLong.layouts.legend import Legend"
   ]
  },
  {
   "cell_type": "markdown",
   "id": "473ff744-025c-4243-99ab-5c668da383bb",
   "metadata": {},
   "source": [
    "## Constructor"
   ]
  },
  {
   "cell_type": "code",
   "execution_count": 2,
   "id": "ec39ead7-b434-4a1f-80da-181d389a895e",
   "metadata": {},
   "outputs": [],
   "source": [
    "legend = Legend()"
   ]
  },
  {
   "cell_type": "markdown",
   "id": "fa4e89d4-6a3c-46d8-b388-bac4aac9cd35",
   "metadata": {},
   "source": [
    "## Attributes"
   ]
  },
  {
   "cell_type": "markdown",
   "id": "05f55e9a-13f8-418a-af8d-d49ea950ab82",
   "metadata": {},
   "source": [
    "| attribute        |  type   | setter | comment |\n",
    "| :---             | :----:  | :----: | :----   |\n",
    "| `position`       | `str`   | yes    |         |\n",
    "| `columns`        | `int`   | yes    | must be greater than or equal to 1 |\n",
    "| `font_size`      | `float` | yes    | must be positive |\n",
    "| `font_color`     | `str`   | yes    |         |\n",
    "| `font_style`     | `str`   | yes    |         |\n",
    "| `font_weight`    | `str`   | yes    |         |\n",
    "| `frame`          | `bool`  | yes    |         |\n",
    "| `opacity`        | `float` | yes    | must be between 0 and 1 |\n",
    "| `visible`        | `bool`  | yes    |         |"
   ]
  },
  {
   "cell_type": "markdown",
   "id": "64ad18ae-2cd4-4fe4-8bd5-aabf8e789390",
   "metadata": {},
   "source": [
    "## Methods"
   ]
  },
  {
   "cell_type": "markdown",
   "id": "3c178577-c990-4843-a942-93491210fd95",
   "metadata": {},
   "source": [
    "### copy style\n",
    "```python\n",
    "Legend.copy_style(self, legend)\n",
    "```"
   ]
  },
  {
   "cell_type": "code",
   "execution_count": 3,
   "id": "d0bbff06-c6b4-4f02-b2da-c94de2f109d9",
   "metadata": {},
   "outputs": [
    {
     "name": "stdout",
     "output_type": "stream",
     "text": [
      "Help on function copy_style in module pyLong.layouts.legend:\n",
      "\n",
      "copy_style(self, legend)\n",
      "    copy the style of a legend\n",
      "    \n",
      "    arguments:\n",
      "    - legend: legend whose style is to be copied - Legend\n",
      "    \n",
      "    returns:\n",
      "    - True if success - bool\n",
      "    - False else - bool\n",
      "    \n",
      "    examples:\n",
      "    >>> new_legend.copy_style(legend)\n",
      "\n"
     ]
    }
   ],
   "source": [
    "help(Legend.copy_style)"
   ]
  },
  {
   "cell_type": "markdown",
   "id": "43565436-ed1b-4225-bea7-f1d09698bc00",
   "metadata": {},
   "source": [
    "### duplicate\n",
    "```python\n",
    "Legend.duplicate(self)\n",
    "```"
   ]
  },
  {
   "cell_type": "code",
   "execution_count": 4,
   "id": "c004ac97-652d-492f-9469-cb344f2146a4",
   "metadata": {},
   "outputs": [
    {
     "name": "stdout",
     "output_type": "stream",
     "text": [
      "Help on function duplicate in module pyLong.layouts.legend:\n",
      "\n",
      "duplicate(self)\n",
      "    duplicate the legend\n",
      "    \n",
      "    returns:\n",
      "    - new_legend: duplicated legend - Legend\n",
      "    \n",
      "    examples:\n",
      "    >>> new_legend = legend.duplicate()\n",
      "\n"
     ]
    }
   ],
   "source": [
    "help(Legend.duplicate)"
   ]
  },
  {
   "cell_type": "markdown",
   "id": "b70872f2-09b5-4b0a-bbdd-9f34daed95c0",
   "metadata": {},
   "source": [
    "### export style\n",
    "```python\n",
    "Legend.export_style(self, filename)\n",
    "```"
   ]
  },
  {
   "cell_type": "code",
   "execution_count": 5,
   "id": "a6ed887d-7270-42ac-8d1d-18d6d4d15690",
   "metadata": {},
   "outputs": [
    {
     "name": "stdout",
     "output_type": "stream",
     "text": [
      "Help on function export_style in module pyLong.layouts.legend:\n",
      "\n",
      "export_style(self, filename)\n",
      "    export legend style to a .json file\n",
      "    \n",
      "    arguments:\n",
      "    - filename: .json file path - str\n",
      "    \n",
      "    returns:\n",
      "    - True if success - bool\n",
      "    - False else - bool\n",
      "    \n",
      "    examples:\n",
      "    >>> legend.export_style(\"style.json\")\n",
      "\n"
     ]
    }
   ],
   "source": [
    "help(Legend.export_style)"
   ]
  },
  {
   "cell_type": "markdown",
   "id": "a2bb56d0-7bec-4061-9875-00e857e072b8",
   "metadata": {},
   "source": [
    "### import style\n",
    "```python\n",
    "Legend.import_style(self, filename)\n",
    "```"
   ]
  },
  {
   "cell_type": "code",
   "execution_count": 6,
   "id": "ff68e1ac-4116-4964-82f5-186a72bd6663",
   "metadata": {},
   "outputs": [
    {
     "name": "stdout",
     "output_type": "stream",
     "text": [
      "Help on function import_style in module pyLong.layouts.legend:\n",
      "\n",
      "import_style(self, filename)\n",
      "    import legend style from a .json file\n",
      "    \n",
      "    arguments:\n",
      "    - filename: .json file path - str\n",
      "    \n",
      "    returns:\n",
      "    - True if success - bool\n",
      "    - False else - bool\n",
      "    \n",
      "    examples:\n",
      "    >>> legend.import_style(\"style.json\")\n",
      "\n"
     ]
    }
   ],
   "source": [
    "help(Legend.import_style)"
   ]
  }
 ],
 "metadata": {
  "kernelspec": {
   "display_name": "Python 3 (ipykernel)",
   "language": "python",
   "name": "python3"
  },
  "language_info": {
   "codemirror_mode": {
    "name": "ipython",
    "version": 3
   },
   "file_extension": ".py",
   "mimetype": "text/x-python",
   "name": "python",
   "nbconvert_exporter": "python",
   "pygments_lexer": "ipython3",
   "version": "3.9.15"
  }
 },
 "nbformat": 4,
 "nbformat_minor": 5
}
