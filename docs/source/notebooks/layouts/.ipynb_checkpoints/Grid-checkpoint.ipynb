{
 "cells": [
  {
   "cell_type": "markdown",
   "id": "0ac9c263-a357-4464-914a-b56df6b5dd58",
   "metadata": {},
   "source": [
    "# Grid"
   ]
  },
  {
   "cell_type": "markdown",
   "id": "e036188d-ad12-45be-8a4e-359e3f64a3cc",
   "metadata": {},
   "source": [
    "## Table of contents"
   ]
  },
  {
   "cell_type": "markdown",
   "id": "c6a9b2d3-5774-4ba3-8611-1403c01c529e",
   "metadata": {},
   "source": [
    "- [Import Grid class](#Import-Grid-class)"
   ]
  },
  {
   "cell_type": "markdown",
   "id": "8f480d9f-034d-4906-a3be-396eaf452d9d",
   "metadata": {},
   "source": [
    "- [Constructor](#Constructor)    "
   ]
  },
  {
   "cell_type": "markdown",
   "id": "55c429dc-c9a6-4b1e-9f1d-ee70d503913d",
   "metadata": {},
   "source": [
    "- [Attributes](#Attributes)"
   ]
  },
  {
   "cell_type": "markdown",
   "id": "70ca0cbc-7aad-4aee-bc63-96372c2dcefd",
   "metadata": {},
   "source": [
    "- [Methods](#Methods)\n",
    "    - [copy style](#copy-style)\n",
    "    - [duplicate](#duplicate)\n",
    "    - [export style](#expot-style)\n",
    "    - [import style](#import-style)"
   ]
  },
  {
   "cell_type": "markdown",
   "id": "7d4918fc-96b4-4de2-8adb-2421b5534866",
   "metadata": {},
   "source": [
    "- [Examples](#Examples)\n",
    "    - [example 1](#example-1)"
   ]
  },
  {
   "cell_type": "markdown",
   "id": "1ce6e34b-f1f3-4f9b-a246-801cf0ce9d3e",
   "metadata": {},
   "source": [
    "## Import Grid class"
   ]
  },
  {
   "cell_type": "code",
   "execution_count": 1,
   "id": "77dc5d98-121a-46b0-8f12-1f4c79fe3141",
   "metadata": {},
   "outputs": [],
   "source": [
    "from pyLong.layouts.grid import Grid"
   ]
  },
  {
   "cell_type": "markdown",
   "id": "bc09dd18-6446-405a-8158-de6aadf39fb3",
   "metadata": {},
   "source": [
    "## Constructor"
   ]
  },
  {
   "cell_type": "code",
   "execution_count": 2,
   "id": "9ce496c4-67c8-4717-978d-544f4873f385",
   "metadata": {},
   "outputs": [],
   "source": [
    "grid = Grid()"
   ]
  },
  {
   "cell_type": "markdown",
   "id": "449cb8e7-f540-4f40-a109-7dd9d0579d2d",
   "metadata": {},
   "source": [
    "## Attributes"
   ]
  },
  {
   "cell_type": "markdown",
   "id": "49251b11-7711-4314-b157-a400bcf929e7",
   "metadata": {},
   "source": [
    "| attribute        |  type   | setter | comment |\n",
    "| :---             | :----:  | :----: | :----   |\n",
    "| `line_style`     | `str`   | yes    |         |\n",
    "| `line_color`     | `str`   | yes    |         |\n",
    "| `line_thickness` | `float` | yes    | must be positive |\n",
    "| `opacity`        | `float` | yes    | must be between 0 and 1 |\n",
    "| `order`          | `int`   | yes    | must be positive |\n",
    "| `visible`        | `bool`  | yes    |         |"
   ]
  },
  {
   "cell_type": "markdown",
   "id": "f1272f94-cf22-48f4-9e9f-b9f5d69cd660",
   "metadata": {},
   "source": [
    "## Methods"
   ]
  },
  {
   "cell_type": "markdown",
   "id": "5192dd70-c0b6-4e50-a77e-98962f14a68e",
   "metadata": {},
   "source": [
    "### copy style\n",
    "```python\n",
    "Grid.copy_style(self, grid)\n",
    "```"
   ]
  },
  {
   "cell_type": "code",
   "execution_count": 3,
   "id": "2feb4eaa-2015-46cb-9181-9cccc472689f",
   "metadata": {},
   "outputs": [
    {
     "name": "stdout",
     "output_type": "stream",
     "text": [
      "Help on function copy_style in module pyLong.layouts.grid:\n",
      "\n",
      "copy_style(self, grid)\n",
      "    copy the style of a grid\n",
      "    \n",
      "    arguments:\n",
      "    - grid: grid whose style is to be copied - Grid\n",
      "    \n",
      "    returns:\n",
      "    - True if success - bool\n",
      "    - False else - bool\n",
      "    \n",
      "    examples:\n",
      "    >>> new_grid.copy_style(grid)\n",
      "\n"
     ]
    }
   ],
   "source": [
    "help(Grid.copy_style)"
   ]
  },
  {
   "cell_type": "markdown",
   "id": "7e71ccae-1801-4141-87e5-178c00b3f175",
   "metadata": {},
   "source": [
    "### duplicate\n",
    "```python\n",
    "Grid.duplicate(self)\n",
    "```"
   ]
  },
  {
   "cell_type": "code",
   "execution_count": 4,
   "id": "460309d2-6def-4847-b15d-8715c2c52d57",
   "metadata": {},
   "outputs": [
    {
     "name": "stdout",
     "output_type": "stream",
     "text": [
      "Help on function duplicate in module pyLong.layouts.grid:\n",
      "\n",
      "duplicate(self)\n",
      "    duplicate the grid\n",
      "    \n",
      "    returns:\n",
      "    - new_grid: duplicated grid - Grid\n",
      "    \n",
      "    examples:\n",
      "    >>> new_grid = grid.duplicate()\n",
      "\n"
     ]
    }
   ],
   "source": [
    "help(Grid.duplicate)"
   ]
  },
  {
   "cell_type": "markdown",
   "id": "dd97ea0f-7bc9-40ba-bde0-f72371685c40",
   "metadata": {},
   "source": [
    "### export style\n",
    "```python\n",
    "Grid.export_style(self, filename)\n",
    "```"
   ]
  },
  {
   "cell_type": "code",
   "execution_count": 5,
   "id": "96fc14e9-ee42-4c9e-8b98-cb9bdd077208",
   "metadata": {},
   "outputs": [
    {
     "name": "stdout",
     "output_type": "stream",
     "text": [
      "Help on function export_style in module pyLong.layouts.grid:\n",
      "\n",
      "export_style(self, filename)\n",
      "    export grid style to a .json file\n",
      "    \n",
      "    arguments:\n",
      "    - filename: .json file path - str\n",
      "    \n",
      "    returns:\n",
      "    - True if success - bool\n",
      "    - False else - bool\n",
      "    \n",
      "    examples:\n",
      "    >>> grid.export_style(\"style.json\")\n",
      "\n"
     ]
    }
   ],
   "source": [
    "help(Grid.export_style)"
   ]
  },
  {
   "cell_type": "markdown",
   "id": "667a38ac-fda6-4761-ab22-271bb9ada235",
   "metadata": {},
   "source": [
    "### import style\n",
    "```python\n",
    "Grid.import_style(self, filename)\n",
    "```"
   ]
  },
  {
   "cell_type": "code",
   "execution_count": 6,
   "id": "a8fcef12-dcad-487e-a067-dde31d90d6e2",
   "metadata": {},
   "outputs": [
    {
     "name": "stdout",
     "output_type": "stream",
     "text": [
      "Help on function import_style in module pyLong.layouts.grid:\n",
      "\n",
      "import_style(self, filename)\n",
      "    import grid style from a .json file\n",
      "    \n",
      "    arguments:\n",
      "    - filename: .json file path - str\n",
      "    \n",
      "    returns:\n",
      "    - True if success - bool\n",
      "    - False else - bool\n",
      "    \n",
      "    examples:\n",
      "    >>> grid.import_style(\"style.json\")\n",
      "\n"
     ]
    }
   ],
   "source": [
    "help(Grid.import_style)"
   ]
  },
  {
   "cell_type": "markdown",
   "id": "9f26a805-028b-4941-aea8-0f4e2af84e29",
   "metadata": {},
   "source": [
    "## Examples"
   ]
  },
  {
   "cell_type": "markdown",
   "id": "1e3a8541-8214-4878-9c95-cac2f0b0d384",
   "metadata": {},
   "source": [
    "### example 1"
   ]
  },
  {
   "cell_type": "code",
   "execution_count": 7,
   "id": "b48bac5d-c860-43b9-9f34-082e7452272a",
   "metadata": {},
   "outputs": [
    {
     "data": {
      "image/png": "[encoded data removed]",
      "text/plain": [
       "<Figure size 1169.29x826.772 with 2 Axes>"
      ]
     },
     "execution_count": 7,
     "metadata": {},
     "output_type": "execute_result"
    }
   ],
   "source": [
    "from pyLong.layouts.layout import Layout\n",
    "\n",
    "layout = Layout()\n",
    "layout.grid.line_style = \"solid\"\n",
    "layout.grid.line_color = \"Black\"\n",
    "layout.grid.line_thickness = 1.\n",
    "layout.grid.opacity = 1.\n",
    "layout.grid.order = 1\n",
    "layout.grid.visible = True\n",
    "\n",
    "ax_z, ax_s, subaxs, figure = layout.new_figure()\n",
    "figure"
   ]
  }
 ],
 "metadata": {
  "kernelspec": {
   "display_name": "Python 3 (ipykernel)",
   "language": "python",
   "name": "python3"
  },
  "language_info": {
   "codemirror_mode": {
    "name": "ipython",
    "version": 3
   },
   "file_extension": ".py",
   "mimetype": "text/x-python",
   "name": "python",
   "nbconvert_exporter": "python",
   "pygments_lexer": "ipython3",
   "version": "3.9.15"
  }
 },
 "nbformat": 4,
 "nbformat_minor": 5
}
